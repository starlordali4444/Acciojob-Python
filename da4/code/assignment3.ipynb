{
 "cells": [
  {
   "cell_type": "markdown",
   "metadata": {},
   "source": [
    "    Loops\n",
    "        For\n",
    "        While\n",
    "        List COmprehension\n",
    "    Functions\n",
    "\n",
    "    random\n",
    "    string\n",
    "\n",
    "    Lambda\n",
    "    map\n",
    "    filter"
   ]
  },
  {
   "cell_type": "markdown",
   "metadata": {},
   "source": [
    "    You're digitizing a library catalog. Loop through a list of book titles and print out each title along with its position in the alphabetical order."
   ]
  },
  {
   "cell_type": "code",
   "execution_count": 6,
   "metadata": {},
   "outputs": [],
   "source": [
    "book_list=['Atomic Habits','Notebook','One Piece','12th Fail','Dunki','Hanuman']\n",
    "alpha_book_list=book_list.copy()\n",
    "alpha_book_list.sort()"
   ]
  },
  {
   "cell_type": "code",
   "execution_count": 7,
   "metadata": {},
   "outputs": [
    {
     "data": {
      "text/plain": [
       "['12th Fail', 'Atomic Habits', 'Dunki', 'Hanuman', 'Notebook', 'One Piece']"
      ]
     },
     "execution_count": 7,
     "metadata": {},
     "output_type": "execute_result"
    }
   ],
   "source": [
    "alpha_book_list"
   ]
  },
  {
   "cell_type": "code",
   "execution_count": 10,
   "metadata": {},
   "outputs": [
    {
     "name": "stdout",
     "output_type": "stream",
     "text": [
      "Title: Atomic Habits\t\tPosition: 2\n",
      "Title: Notebook\t\tPosition: 5\n",
      "Title: One Piece\t\tPosition: 6\n",
      "Title: 12th Fail\t\tPosition: 1\n",
      "Title: Dunki\t\tPosition: 3\n",
      "Title: Hanuman\t\tPosition: 4\n"
     ]
    }
   ],
   "source": [
    "for title in book_list:\n",
    "    print(f'Title: {title}\\t\\tPosition: {alpha_book_list.index(title)+1}')"
   ]
  },
  {
   "cell_type": "code",
   "execution_count": 18,
   "metadata": {},
   "outputs": [
    {
     "data": {
      "text/plain": [
       "['q', 'g', 'g', 'h']"
      ]
     },
     "execution_count": 18,
     "metadata": {},
     "output_type": "execute_result"
    }
   ],
   "source": [
    "zip_list=[['q','g'],['g','h']]\n",
    "lst1,lst2=zip(*zip_list)\n",
    "list(lst1+lst2)"
   ]
  },
  {
   "cell_type": "code",
   "execution_count": 25,
   "metadata": {},
   "outputs": [],
   "source": [
    "zip_list=[['q','g','3',['abc','3',[1,2,3]]],['g','h'],'a']"
   ]
  },
  {
   "cell_type": "code",
   "execution_count": null,
   "metadata": {},
   "outputs": [],
   "source": [
    "['a']"
   ]
  },
  {
   "cell_type": "markdown",
   "metadata": {},
   "source": [
    "    append\n",
    "    extend"
   ]
  },
  {
   "cell_type": "code",
   "execution_count": 26,
   "metadata": {},
   "outputs": [],
   "source": [
    "def unzip(data):\n",
    "    if type(data)=='list':\n",
    "        return data\n",
    "    else:\n",
    "        return list(data)      "
   ]
  },
  {
   "cell_type": "code",
   "execution_count": 27,
   "metadata": {},
   "outputs": [
    {
     "data": {
      "text/plain": [
       "['q', 'g', '3', ['abc'], 'g', 'h', 'a']"
      ]
     },
     "execution_count": 27,
     "metadata": {},
     "output_type": "execute_result"
    }
   ],
   "source": [
    "unzip_lst=[]\n",
    "for data in  zip_list:\n",
    "    unzip_lst.extend(unzip(data))\n",
    "    \n",
    "unzip_lst"
   ]
  },
  {
   "cell_type": "markdown",
   "metadata": {},
   "source": [
    "    Right Rotate List by One: Write a function to right rotate a list by one position.\n",
    "\n",
    "    take a input from the user and on the basis of input rotate the list\n",
    "        direction\n",
    "            right, left\n",
    "            clockwise , anticlockwise\n",
    "        how many rotation"
   ]
  },
  {
   "cell_type": "code",
   "execution_count": 28,
   "metadata": {},
   "outputs": [],
   "source": [
    "import random as rd"
   ]
  },
  {
   "cell_type": "code",
   "execution_count": 30,
   "metadata": {},
   "outputs": [
    {
     "data": {
      "text/plain": [
       "[49, 97, 22, 91, 25, 13, 94, 43, 4, 67]"
      ]
     },
     "execution_count": 30,
     "metadata": {},
     "output_type": "execute_result"
    }
   ],
   "source": [
    "lst1=[rd.randrange(1,99,3) for i in range(10)]\n",
    "lst1"
   ]
  },
  {
   "cell_type": "code",
   "execution_count": 39,
   "metadata": {},
   "outputs": [
    {
     "data": {
      "text/plain": [
       "[97, 22, 91, 25, 13, 94, 43, 4, 67, 49]"
      ]
     },
     "execution_count": 39,
     "metadata": {},
     "output_type": "execute_result"
    }
   ],
   "source": [
    "lst1[1:]+[lst1[0]]"
   ]
  },
  {
   "cell_type": "code",
   "execution_count": 34,
   "metadata": {},
   "outputs": [
    {
     "data": {
      "text/plain": [
       "67"
      ]
     },
     "execution_count": 34,
     "metadata": {},
     "output_type": "execute_result"
    }
   ],
   "source": [
    "lst1[-1]"
   ]
  },
  {
   "cell_type": "code",
   "execution_count": 35,
   "metadata": {},
   "outputs": [
    {
     "data": {
      "text/plain": [
       "[49, 97, 22, 91, 25, 13, 94, 43, 4]"
      ]
     },
     "execution_count": 35,
     "metadata": {},
     "output_type": "execute_result"
    }
   ],
   "source": [
    "lst1[:-1]"
   ]
  },
  {
   "cell_type": "code",
   "execution_count": 36,
   "metadata": {},
   "outputs": [
    {
     "data": {
      "text/plain": [
       "[67, 49, 97, 22, 91, 25, 13, 94, 43, 4]"
      ]
     },
     "execution_count": 36,
     "metadata": {},
     "output_type": "execute_result"
    }
   ],
   "source": [
    "rotated_list=[lst1[-1]]+lst1[:-1]\n",
    "rotated_list"
   ]
  },
  {
   "cell_type": "markdown",
   "metadata": {},
   "source": [
    "    Recursive function"
   ]
  },
  {
   "cell_type": "markdown",
   "metadata": {},
   "source": [
    "    If the time is before 12 PM, print \"Good Morning\", between 12 PM and 6 PM, print \"Good Afternoon\", otherwise, print \"Good Evening\"."
   ]
  },
  {
   "cell_type": "code",
   "execution_count": null,
   "metadata": {},
   "outputs": [],
   "source": [
    "time = input('Enter time in 24 Hour Format')\n",
    "if time<=12:\n",
    "    print('Good Morning')\n",
    "elif time<=18:\n",
    "    print('Good Afternoon')\n",
    "else:\n",
    "    print('Good Evening')"
   ]
  },
  {
   "cell_type": "code",
   "execution_count": 65,
   "metadata": {},
   "outputs": [
    {
     "name": "stdout",
     "output_type": "stream",
     "text": [
      "     *\n",
      "    **\n",
      "   ***\n",
      "  ****\n",
      " *****\n"
     ]
    }
   ],
   "source": [
    "rows=int(input())\n",
    "for row in range(rows):\n",
    "    for space in range(rows-row):\n",
    "        print(\" \",end=\"\")\n",
    "    for col in range(row+1):\n",
    "        print('*',end='')\n",
    "    print()\n",
    "    "
   ]
  },
  {
   "cell_type": "code",
   "execution_count": 66,
   "metadata": {},
   "outputs": [
    {
     "name": "stdout",
     "output_type": "stream",
     "text": [
      "    *\n",
      "   **\n",
      "  ***\n",
      " ****\n",
      "*****\n"
     ]
    }
   ],
   "source": [
    "rows=int(input())\n",
    "for row in range(rows):\n",
    "    for space in range(rows-row-1):\n",
    "        print(\" \",end=\"\")\n",
    "    for col in range(row+1):\n",
    "        print('*',end='')\n",
    "    print()  "
   ]
  },
  {
   "cell_type": "code",
   "execution_count": 72,
   "metadata": {},
   "outputs": [
    {
     "name": "stdout",
     "output_type": "stream",
     "text": [
      "          *\n",
      "        **\n",
      "      ***\n",
      "    ****\n",
      "  *****\n",
      "******\n"
     ]
    }
   ],
   "source": [
    "rows=int(input())\n",
    "for row in range(rows):\n",
    "    for space in range(rows-row-1):\n",
    "        print(\" \",end=\" \")\n",
    "    for col in range(row+1):\n",
    "        print('*',end='')\n",
    "    print() "
   ]
  },
  {
   "cell_type": "code",
   "execution_count": 81,
   "metadata": {},
   "outputs": [
    {
     "name": "stdout",
     "output_type": "stream",
     "text": [
      "* * * * \n",
      "* * * \n",
      "* * \n",
      "* \n",
      "\n"
     ]
    }
   ],
   "source": [
    "for row in range(5):\n",
    "    for col in range(5-row-1):\n",
    "        print('*',end=' ')\n",
    "    print()"
   ]
  },
  {
   "cell_type": "code",
   "execution_count": 88,
   "metadata": {},
   "outputs": [
    {
     "name": "stdout",
     "output_type": "stream",
     "text": [
      "    * \n",
      "   * * \n",
      "  * * * \n",
      " * * * * \n",
      "* * * * * \n",
      " * * * * \n",
      "  * * * \n",
      "   * * \n",
      "    * \n",
      "     \n"
     ]
    }
   ],
   "source": [
    "rows=int(input())\n",
    "for row in range(rows):\n",
    "    for space in range(rows-row-1):\n",
    "        print(\" \",end=\"\")\n",
    "    for col in range(row+1):\n",
    "        print('*',end=' ')\n",
    "    print() \n",
    "\n",
    "for row in range(rows):\n",
    "    for space in range(row+1):\n",
    "        print(\" \",end=\"\")\n",
    "    for col in range(rows-row-1):\n",
    "        print('*',end=' ')\n",
    "    print() "
   ]
  },
  {
   "cell_type": "markdown",
   "metadata": {},
   "source": [
    "        *\n",
    "       * *\n",
    "      * * *\n",
    "     * * * *\n",
    "    * * * * *"
   ]
  },
  {
   "cell_type": "markdown",
   "metadata": {},
   "source": [
    "    [[q,g],[g,h]] how to convert this into a single list [q,g,g,h]"
   ]
  },
  {
   "cell_type": "markdown",
   "metadata": {},
   "source": [
    "    1. *The Bakery Problem:* A bakery sells cookies at $2 each and cakes at $10 each. Write a function total_cost(cookies, cakes) that calculates the total cost of a customer's order."
   ]
  },
  {
   "cell_type": "code",
   "execution_count": 96,
   "metadata": {},
   "outputs": [
    {
     "data": {
      "text/plain": [
       "[1, 2, 3, 4]"
      ]
     },
     "execution_count": 96,
     "metadata": {},
     "output_type": "execute_result"
    }
   ],
   "source": [
    "list(map(int,'1 2 3 4'.split()))"
   ]
  },
  {
   "cell_type": "code",
   "execution_count": 97,
   "metadata": {},
   "outputs": [
    {
     "data": {
      "text/plain": [
       "(1, 2, 3, 4)"
      ]
     },
     "execution_count": 97,
     "metadata": {},
     "output_type": "execute_result"
    }
   ],
   "source": [
    "tuple(map(int,'1 2 3 4'.split()))"
   ]
  },
  {
   "cell_type": "markdown",
   "metadata": {},
   "source": [
    "    rd.randint(10,15) => 10,11,12,13,14,15\n",
    "    rd.randrange(10,20,2) => 10,12,14,16,18"
   ]
  },
  {
   "cell_type": "code",
   "execution_count": 107,
   "metadata": {},
   "outputs": [
    {
     "data": {
      "text/plain": [
       "12"
      ]
     },
     "execution_count": 107,
     "metadata": {},
     "output_type": "execute_result"
    }
   ],
   "source": [
    "rd.randint(10,15)"
   ]
  },
  {
   "cell_type": "code",
   "execution_count": 94,
   "metadata": {},
   "outputs": [
    {
     "name": "stdout",
     "output_type": "stream",
     "text": [
      "For 2 cookies and 5 cakes we have to pay $54\n"
     ]
    }
   ],
   "source": [
    "def total_cost(cookies,cake):\n",
    "    return cookies*2+cake*10\n",
    "\n",
    "no_of_cookies,no_of_cakes=list(map(int,input('Enter no of cookies and cakes separated by space').split()))\n",
    "print(f'For {no_of_cookies} cookies and {no_of_cakes} cakes we have to pay ${total_cost(no_of_cookies,no_of_cakes)}')"
   ]
  },
  {
   "cell_type": "markdown",
   "metadata": {},
   "source": [
    "    speed = distance /time\n",
    "    distance = speed*time\n",
    "    time = distance/speed"
   ]
  },
  {
   "cell_type": "code",
   "execution_count": 100,
   "metadata": {},
   "outputs": [
    {
     "name": "stdout",
     "output_type": "stream",
     "text": [
      "Speed => 1.25\n"
     ]
    }
   ],
   "source": [
    "distance= 50\n",
    "speed=40\n",
    "def trip_time(distance, speed):\n",
    "    return distance/speed\n",
    "\n",
    "print(f'Speed => {trip_time(distance, speed)}')"
   ]
  },
  {
   "cell_type": "markdown",
   "metadata": {},
   "source": [
    "    Write a function solve_quadratic(a, b, c) that solves the quadratic equation ax^2 + bx + c = 0 and returns both solutions."
   ]
  },
  {
   "cell_type": "markdown",
   "metadata": {},
   "source": [
    "    Certainly! Here are three more sets of complex word problem questions related to lambda functions in Python:\n",
    "\n",
    "    **Set 2: Complex Lambda Function Problems**\n",
    "\n",
    "    41. **Question:** You have a list of dictionaries representing employees, each with attributes like \"name,\" \"salary,\" and \"years_of_service.\" Write a lambda function to find the employee with the highest salary per year of service.\n",
    "\n",
    "    42. **Question:** Create a lambda function to find the median of a list of numbers without using the built-in median function.\n",
    "\n",
    "    43. **Question:** You are given a list of strings representing sentences. Write a lambda function to find the sentence with the most unique words (words that appear only once in the entire list).\n",
    "\n",
    "    44. **Question:** Define a lambda function that takes a list of integers and returns the sum of the squares of all even numbers in the list.\n",
    "\n",
    "    45. **Question:** You have a list of book titles and their corresponding authors. Write a lambda function to find the author with the most books in the list.\n",
    "\n",
    "    46. **Question:** Create a lambda function to find the longest common subsequence (LCS) of two strings.\n",
    "\n",
    "    47. **Question:** You are given a list of timestamps in string format (e.g., \"2022-01-15 10:30:00\"). Write a lambda function to find the time interval between the earliest and latest timestamps.\n",
    "\n",
    "    48. **Question:** Define a lambda function that calculates the integral of a function represented as a lambda expression over a specified range.\n",
    "\n",
    "    49. **Question:** You have a list of company sales data, each represented as a dictionary with attributes like \"product,\" \"revenue,\" and \"quarter.\" Write a lambda function to find the total revenue for each product for a specific quarter.\n",
    "\n",
    "    50. **Question:** Create a lambda function to generate a list of all possible anagrams of a given word.\n",
    "\n",
    "    **Set 3: Advanced Lambda Function Problems**\n",
    "\n",
    "    51. **Question:** You have a list of student records with attributes like \"name,\" \"grades,\" and \"attendance.\" Write a lambda function to find the top-performing student based on a weighted score considering both grades and attendance.\n",
    "\n",
    "    52. **Question:** Define a lambda function that takes a list of points in 3D space and finds the pair of points with the shortest Euclidean distance.\n",
    "\n",
    "    53. **Question:** You are given a list of text documents. Write a lambda function to find the document with the highest similarity to a given query document using cosine similarity.\n",
    "\n",
    "    54. **Question:** Create a lambda function to calculate the definite integral of a function over a specified range using numerical methods like the trapezoidal rule.\n",
    "\n",
    "    55. **Question:** You have a list of customer orders with attributes like \"order_date,\" \"product,\" and \"quantity.\" Write a lambda function to find the total quantity of each product sold in a specific month.\n",
    "\n",
    "    56. **Question:** Define a lambda function that takes a list of 2D points and returns the convex hull of the points using a computational geometry algorithm.\n",
    "\n",
    "    57. **Question:** You are given a list of stock prices over time. Write a lambda function to find the maximum profit that can be obtained by buying and selling at most once.\n",
    "\n",
    "    58. **Question:** Create a lambda function to perform sentiment analysis on a list of text reviews and classify them as positive, negative, or neutral based on predefined criteria.\n",
    "\n",
    "    59. **Question:** You have a list of temperature data for different locations and times. Write a lambda function to find the location with the most significant temperature change over a specified time interval.\n",
    "\n",
    "    60. **Question:** Define a lambda function that calculates the definite integral of a function represented as a lambda expression using advanced numerical integration methods like Simpson's rule.\n",
    "\n",
    "    Feel free to use these sets of advanced word problems to challenge your students' understanding and application of lambda functions in Python."
   ]
  },
  {
   "cell_type": "markdown",
   "metadata": {},
   "source": [
    "    Certainly! Here are 10 more complex word problem questions related to lambda functions in Python for your smart students:\n",
    "\n",
    "    **Complex:**\n",
    "\n",
    "    31. **Question:** You are given a list of dictionaries, each representing a person with attributes like \"name\" and \"age.\" Write a lambda function to find the oldest person in the list.\n",
    "\n",
    "    32. **Question:** Create a lambda function to find the nth prime number, where n is a parameter passed to the function.\n",
    "\n",
    "    33. **Question:** You have a list of strings containing sentences. Write a lambda function to find the sentence with the most words.\n",
    "\n",
    "    34. **Question:** Define a lambda function that takes a list of numbers and returns the product of all the positive numbers in the list.\n",
    "\n",
    "    35. **Question:** You are given a list of students' scores. Each student is represented as a dictionary with attributes like \"name\" and \"score.\" Write a lambda function to find the student with the highest score.\n",
    "\n",
    "    36. **Question:** Create a lambda function to find the shortest path between two nodes in a graph represented as a dictionary of nodes and their neighbors.\n",
    "\n",
    "    37. **Question:** You have a list of strings containing email addresses. Write a lambda function to filter out the email addresses from a specific domain.\n",
    "\n",
    "    38. **Question:** Define a lambda function that calculates the area under a curve represented by a list of (x, y) coordinates using numerical integration.\n",
    "\n",
    "    39. **Question:** You are given a list of dates in string format (e.g., \"2022-01-15\"). Write a lambda function to find the earliest date in the list.\n",
    "\n",
    "    40. **Question:** Create a lambda function that takes a list of words and returns the word with the most anagrams in the list.\n",
    "\n",
    "    These complex word problem questions should challenge your smart students and provide them with opportunities to apply lambda functions in more advanced scenarios."
   ]
  },
  {
   "cell_type": "markdown",
   "metadata": {},
   "source": [
    "\n",
    "\n",
    "    **Easy:**\n",
    "\n",
    "    1. **Question:** Write a lambda function that squares a given number.\n",
    "    2. **Question:** Create a lambda function to check if a number is even.\n",
    "    3. **Question:** Use a lambda function to find the length of a string.\n",
    "    4. **Question:** Write a lambda function to concatenate two strings.\n",
    "    5. **Question:** Create a lambda function to calculate the area of a rectangle given its length and width.\n",
    "    6. **Question:** Define a lambda function to convert a temperature in Celsius to Fahrenheit.\n",
    "    7. **Question:** Write a lambda function to check if a string is a palindrome.\n",
    "    8. **Question:** Use a lambda function to find the maximum of three numbers.\n",
    "    9. **Question:** Create a lambda function to filter even numbers from a list.\n",
    "    10. **Question:** Define a lambda function to sort a list of words alphabetically.\n",
    "\n",
    "    **Medium:**\n",
    "\n",
    "    11. **Question:** Write a lambda function to calculate the factorial of a number.\n",
    "    12. **Question:** Create a lambda function to find the square root of a number.\n",
    "    13. **Question:** Use a lambda function to find the intersection of two lists.\n",
    "    14. **Question:** Define a lambda function to check if a given year is a leap year.\n",
    "    15. **Question:** Write a lambda function to find the sum of all prime numbers in a list.\n",
    "    16. **Question:** Create a lambda function to calculate the area of a circle given its radius.\n",
    "    17. **Question:** Define a lambda function to extract the domain from an email address.\n",
    "    18. **Question:** Use a lambda function to find the second largest element in a list.\n",
    "    19. **Question:** Write a lambda function to reverse a list of strings.\n",
    "    20. **Question:** Create a lambda function to count the number of vowels in a string.\n",
    "\n",
    "    **Hard:**\n",
    "\n",
    "    21. **Question:** Define a lambda function to calculate the nth Fibonacci number.\n",
    "    22. **Question:** Write a lambda function to find the longest word in a list of strings.\n",
    "    23. **Question:** Use a lambda function to implement a binary search algorithm on a sorted list.\n",
    "    24. **Question:** Create a lambda function to generate a list of prime numbers within a given range.\n",
    "    25. **Question:** Define a lambda function to find the roots of a quadratic equation.\n",
    "    26. **Question:** Write a lambda function to calculate the determinant of a 3x3 matrix.\n",
    "    27. **Question:** Use a lambda function to implement a Caesar cipher encryption/decryption.\n",
    "    28. **Question:** Create a lambda function to calculate the mean, median, and mode of a list of numbers.\n",
    "    29. **Question:** Define a lambda function to check if a given string is an anagram of another string.\n",
    "    30. **Question:** Write a lambda function to solve a system of linear equations using matrices.\n",
    "\n",
    "    These word problem questions cover a range of difficulty levels and should help you practice your skills with lambda functions in Python."
   ]
  },
  {
   "cell_type": "markdown",
   "metadata": {},
   "source": [
    "    1. *The Bakery Problem:* A bakery sells cookies at $2 each and cakes at $10 each. Write a function total_cost(cookies, cakes) that calculates the total cost of a customer's order.\n",
    "    2. *The Road Trip:* A car travels at a constant speed. Write a function trip_time(distance, speed) that calculates the time it takes to travel a certain distance at a constant speed.\n",
    "    3. *The Plant Growth:* A plant grows 2 inches every week. Write a function growth_in_weeks(weeks) that calculates how tall the plant will be after a certain number of weeks.\n",
    "    4. *The Savings Account:* A person saves $100 each month. Write a function total_savings(months) that calculates the total savings after a certain number of months.\n",
    "    5. *The Rectangle Area:* Write a function rectangle_area(length, width) that calculates the area of a rectangle.\n",
    "    6. *The Circle Circumference:* Write a function circle_circumference(radius) that calculates the circumference of a circle.\n",
    "    7. *The Book Club:* A club has 8 members. Write a function books_per_member(total_books) that calculates how many books each member should read if the books are distributed evenly.\n",
    "    8. *The Temperature Converter:* Write a function celsius_to_fahrenheit(celsius) that converts temperature from Celsius to Fahrenheit.\n",
    "    9. *The Class Average:* Write a function class_average(scores) that calculates the average score of a class given a list of scores.\n",
    "    10. *The Paint Cans:* A can of paint covers 400 square feet. Write a function cans_needed(area) that calculates how many cans of paint are needed to paint an area.\n",
    "\n",
    " \n",
    "    1. *The Movie Theater:* A movie theater charges $12 for adults and $7 for children. Write a function total_ticket_cost(adults, children) that calculates the total cost of tickets for a group of adults and children.\n",
    "    2. *The Road Trip Revisited:* A car's fuel efficiency is known, and the distance of the trip is given. Write a function fuel_needed(distance, efficiency) that calculates how much fuel is needed for the trip.\n",
    "    3. *The Investment Return:* An investment yields a certain percentage of return each year. Write a function investment_return(initial_amount, years, rate) that calculates the total amount after a certain number of years.\n",
    "    4. *The Age Difference:* Given the current year and two birth years, write a function age_difference(year, birth_year1, birth_year2) that calculates the difference in age between two people.\n",
    "    5. *The Quadratic Equation:* Write a function solve_quadratic(a, b, c) that solves the quadratic equation ax^2 + bx + c = 0 and returns both solutions.\n",
    "    6. *The Library Fine:* A library charges a daily late fee. Write a function late_fee(days_late, daily_fee) that calculates the total fee for a book that is returned late.\n",
    "    7. *The Cellphone Data Plan:* A cellphone plan offers a certain amount of data, and each additional GB of data costs a certain amount. Write a function total_data_cost(plan_data, additional_data, additional_rate) that calculates the total cost for data usage.\n",
    "    8. *The Classroom Desks:* A classroom needs desks. Each desk sits 2 students. Write a function desks_needed(students) that calculates how many desks are needed for a certain number of students, if they must sit two per desk.\n",
    "    9. *The Commission Calculator:* A salesperson earns a fixed salary and a percentage commission on their sales. Write a function total_earnings(salary, sales, commission_rate) that calculates the total earnings of the salesperson.\n",
    "    10. *The Trip Planner:* A traveler wants to visit several cities, traveling a certain distance between each. Write a function total_travel_distance(distances) that calculates the total distance traveled, given a list of distances between cities.\n",
    "\n",
    "    ### Hard Level Word Problems\n",
    "\n",
    "    1. *The Loan Interest:* A loan has compound interest calculated monthly. Write a function total_loan_amount(principal, rate, months) that calculates the total amount due after a certain number of months.\n",
    "    2. *The Fibonacci Series:* Write a function fibonacci(n) that returns the n-th number in the Fibonacci sequence.\n",
    "    3. *The Electricity Bill:* An electricity bill is calculated based on a stepped tariff rate. Write a function electricity_bill(units) that calculates the total cost for a given number of units consumed.\n",
    "    4. *The Tax Brackets:* Given a list of tax brackets and rates, write a function calculate_tax(income, brackets) that calculates the total tax owed.\n",
    "    5. *The Change Maker:* Write a function make_change(amount) that calculates the number of each type of bill and coin needed to make a certain amount of money with the least total number of bills and coins.\n",
    "    6. *The Prime Numbers:* Write a function list_primes(n) that lists all prime numbers up to n.\n",
    "    7. *The Flight Cost Calculator:* Given different rates for different distances, write a function flight_cost(distance) that calculates the cost of a flight based on distance.\n",
    "    8. *The Sorting Machine:* Write a function sort_list(my_list, order) that sorts a list of numbers in ascending or descending order based on the order parameter.\n",
    "    9. *The Sudoku Validator:* Write a function validate_sudoku(board) that checks whether a given Sudoku board is valid.\n",
    "    10. *The Cryptography:* Write a function encrypt_decrypt(message, key) that encrypts or decrypts a message using a simple cryptographic algorithm (e.g., Caesar cipher).\n",
    "\n"
   ]
  },
  {
   "cell_type": "markdown",
   "metadata": {},
   "source": [
    "    Right Rotate List by One: Write a function to right rotate a list by one position.\n",
    "\n",
    "    take a input from the user and on the basis of input rotate the list\n",
    "        direction\n",
    "            right, left\n",
    "            clockwise , anticlockwise\n",
    "        how many rotation"
   ]
  },
  {
   "cell_type": "code",
   "execution_count": 42,
   "metadata": {},
   "outputs": [],
   "source": [
    "def rotate_right(lst):\n",
    "    return [lst[-1]]+lst[:-1]"
   ]
  },
  {
   "cell_type": "code",
   "execution_count": 43,
   "metadata": {},
   "outputs": [],
   "source": [
    "def rotate_left(lst):\n",
    "    return lst[1:]+[lst[0]]"
   ]
  },
  {
   "cell_type": "code",
   "execution_count": 54,
   "metadata": {},
   "outputs": [],
   "source": [
    "direction= int(input('Please select the suitable direction.\\n1 for right/clock-wise\\n2 for left or anticlockwise'))\n",
    "try:\n",
    "    no_of_rotation=int(input('Please enter the no of rotation'))\n",
    "except Exception as e:\n",
    "    print(f'You have made error => {e}\\nPlease enter correct value')   "
   ]
  },
  {
   "cell_type": "code",
   "execution_count": 56,
   "metadata": {},
   "outputs": [
    {
     "name": "stdout",
     "output_type": "stream",
     "text": [
      "Original List => [49, 97, 22, 91, 25, 13, 94, 43, 4, 67]\n",
      "List after rotation => [91, 25, 13, 94, 43, 4, 67, 49, 97, 22]\n"
     ]
    }
   ],
   "source": [
    "print(f'Original List => {lst1}')\n",
    "res=lst1\n",
    "for i in range(no_of_rotation):\n",
    "    if direction ==1:\n",
    "        res=rotate_right(res)\n",
    "    elif direction==2:\n",
    "        res=rotate_left(res)\n",
    "    else:\n",
    "        print(\"Invalid Direction\")\n",
    "print(f'List after rotation => {res}')"
   ]
  },
  {
   "cell_type": "code",
   "execution_count": 57,
   "metadata": {},
   "outputs": [],
   "source": [
    "def rotate(lst,direction):\n",
    "    if direction ==1:\n",
    "        return [lst[-1]]+lst[:-1]\n",
    "    elif direction==2:\n",
    "        return lst[1:]+[lst[0]]\n",
    "    else:\n",
    "        return \"Invalid Direction\"  "
   ]
  },
  {
   "cell_type": "code",
   "execution_count": 58,
   "metadata": {},
   "outputs": [],
   "source": [
    "direction= int(input('Please select the suitable direction.\\n1 for right/clock-wise\\n2 for left or anticlockwise'))\n",
    "try:\n",
    "    no_of_rotation=int(input('Please enter the no of rotation'))\n",
    "except Exception as e:\n",
    "    print(f'You have made error => {e}\\nPlease enter correct value') "
   ]
  },
  {
   "cell_type": "code",
   "execution_count": 60,
   "metadata": {},
   "outputs": [
    {
     "name": "stdout",
     "output_type": "stream",
     "text": [
      "Original List => [49, 97, 22, 91, 25, 13, 94, 43, 4, 67]\n",
      "List after rotation => [91, 25, 13, 94, 43, 4, 67, 49, 97, 22]\n"
     ]
    }
   ],
   "source": [
    "print(f'Original List => {lst1}')\n",
    "res=lst1\n",
    "for i in range(no_of_rotation):\n",
    "    res=rotate(res,direction)\n",
    "print(f'List after rotation => {res}')"
   ]
  },
  {
   "cell_type": "markdown",
   "metadata": {},
   "source": [
    "    Certainly! Here are 10 easy, 10 medium, 10 hard, and 10 super hard word problem questions that cover the concepts of map function, lambda function, and functions with different arguments in Python:\n",
    "\n",
    "    **Easy:**\n",
    "\n",
    "    1. **Question:** Alice has a list of numbers and wants to double each number in the list. Write a Python function using the map function and lambda to help her achieve this.\n",
    "\n",
    "    2. **Question:** Bob has a list of names, and he wants to convert each name to uppercase. Create a Python function using the map function and lambda to assist Bob.\n",
    "\n",
    "    3. **Question:** Cindy has a list of temperatures in Celsius and wants to convert them to Fahrenheit. Write a Python function using the map function and a lambda expression to help Cindy.\n",
    "\n",
    "    4. **Question:** David has a list of prices of products, and he wants to apply a 10% discount to each price. Create a Python function using the map function and a lambda to help David.\n",
    "\n",
    "    5. **Question:** Emma has a list of sentences, and she wants to count the number of words in each sentence. Write a Python function using the map function and a lambda expression to assist Emma.\n",
    "\n",
    "    6. **Question:** Frank has a list of numbers, and he wants to find the square of each number. Create a Python function using the map function and a lambda to help Frank.\n",
    "\n",
    "    7. **Question:** Grace has a list of strings containing names and ages in the format \"Name, Age.\" She wants to extract just the ages and convert them to integers. Write a Python function using the map function and a lambda to help Grace.\n",
    "\n",
    "    8. **Question:** Henry has a list of strings with different lengths, and he wants to find the length of each string. Create a Python function using the map function and a lambda expression to assist Henry.\n",
    "\n",
    "    9. **Question:** Isabel has a list of numbers, and she wants to find the absolute value of each number. Write a Python function using the map function and a lambda to help Isabel.\n",
    "\n",
    "    10. **Question:** Jack wants to apply a custom function to each element of a list. Create a Python function using the map function and a lambda that allows Jack to apply any function to the list.\n",
    "\n",
    "    **Medium:**\n",
    "\n",
    "    11. **Question:** Lisa has a list of exam scores, and she wants to scale each score to a range of 0 to 100. Write a Python function using the map function, a lambda, and additional arguments to help Lisa.\n",
    "\n",
    "    12. **Question:** Michael has a list of coordinates (x, y), and he wants to translate each point by a given vector (dx, dy). Create a Python function using the map function, a lambda, and two additional arguments to assist Michael.\n",
    "\n",
    "    13. **Question:** Nancy has a list of strings containing numbers, and she wants to sum the digits of each number. Write a Python function using the map function, a lambda, and a custom function to help Nancy.\n",
    "\n",
    "    14. **Question:** Oliver has a list of strings with dates in different formats, and he wants to convert them to a standard date format (e.g., \"YYYY-MM-DD\"). Create a Python function using the map function, a lambda, and regular expressions to assist Oliver.\n",
    "\n",
    "    15. **Question:** Patricia has a list of words, and she wants to find the anagrams of each word within the list. Write a Python function using the map function, a lambda, and a custom function to help Patricia.\n",
    "\n",
    "    16. **Question:** Quentin has a list of dictionaries representing products, and he wants to extract a specific attribute (e.g., \"price\") from each dictionary. Create a Python function using the map function, a lambda, and a key argument to assist Quentin.\n",
    "\n",
    "    17. **Question:** Rachel has a list of sentences, and she wants to remove all punctuation marks from each sentence. Write a Python function using the map function, a lambda, and the string module to help Rachel.\n",
    "\n",
    "    18. **Question:** Sam has a list of numbers, and he wants to round each number to the nearest integer. Create a Python function using the map function, a lambda, and the round function to assist Sam.\n",
    "\n",
    "    19. **Question:** Tina has a list of strings containing email addresses, and she wants to extract the domain names (e.g., \"gmail.com\") from each email address. Write a Python function using the map function, a lambda, and string manipulation to help Tina.\n",
    "\n",
    "    20. **Question:** Ulysses has a list of text documents, and he wants to tokenize each document into words and find the average word length in each document. Create a Python function using the map function, a lambda, and custom word tokenization to assist Ulysses.\n",
    "\n",
    "    **Hard:**\n",
    "\n",
    "    21. **Question:** Victor has a list of dictionaries representing students, and he wants to calculate the weighted average of their grades based on weights assigned to each subject. Write a Python function using the map function, a lambda, and additional arguments to help Victor.\n",
    "\n",
    "    22. **Question:** Wendy has a list of 2D points (x, y), and she wants to find the point that is farthest from the origin. Create a Python function using the map function, a lambda, and additional arguments to assist Wendy.\n",
    "\n",
    "    23. **Question:** Xavier has a list of strings containing mathematical expressions, and he wants to evaluate each expression and return the results. Write a Python function using the map function, a lambda, and the eval function to help Xavier.\n",
    "\n",
    "    24. **Question:** Yasmine has a list of strings with HTML tags, and she wants to extract the text content within each tag. Create a Python function using the map function, a lambda, and regular expressions to assist Yasmine.\n",
    "\n",
    "    25. **Question:** Zane has a list of numbers, and he wants to find the prime factors of each number. Write a Python function using the map function, a lambda, and a custom prime factorization algorithm to help Zane.\n",
    "\n",
    "    26. **Question:** Abigail has a list of 2D points (x, y), and she wants to find the convex hull of the points using the Graham's scan algorithm. Create a Python function using the map function, a lambda, and a custom convex hull algorithm to assist Abigail.\n",
    "\n",
    "    27. **Question:** Benjamin has a list of strings containing chemical formulas, and he wants to calculate the molecular weights of the compounds. Write a Python function using the\n",
    "\n",
    "    Certainly, here are the remaining complex word problem questions related to map and lambda functions in Python:\n",
    "\n",
    "    **Hard (Continued):**\n",
    "\n",
    "    28. **Question (Continued):** Cassandra has a list of strings with sentences, and she wants to calculate the average sentence length (in terms of words) for each sentence in the list. Write a Python function using the map function, a lambda, and custom sentence tokenization to assist Cassandra.\n",
    "\n",
    "    29. **Question:** Desmond has a list of strings containing DNA sequences, and he wants to find the longest common subsequence (LCS) between each pair of sequences. Create a Python function using the map function, a lambda, and a custom LCS algorithm to help Desmond.\n",
    "\n",
    "    30. **Question:** Eleanor has a list of strings representing mathematical functions, and she wants to find the derivative of each function with respect to a specified variable. Write a Python function using the map function, a lambda, and symbolic mathematics libraries (e.g., SymPy) to assist Eleanor.\n",
    "\n",
    "    **Super Hard:**\n",
    "\n",
    "    31. **Question:** Fiona has a list of 2D points (x, y), and she wants to find the minimum enclosing circle that contains all the points using the Welzl's algorithm. Create a Python function using the map function, a lambda, and a custom algorithm for minimum enclosing circle to assist Fiona.\n",
    "\n",
    "    32. **Question:** Gregory has a list of images represented as matrices, and he wants to apply a custom image processing filter to each image. Write a Python function using the map function, a lambda, and image processing libraries (e.g., OpenCV) to help Gregory.\n",
    "\n",
    "    33. **Question:** Hannah has a list of strings containing complex mathematical expressions, and she wants to solve each expression symbolically. Create a Python function using the map function, a lambda, and symbolic mathematics libraries (e.g., SymPy) to assist Hannah.\n",
    "\n",
    "    34. **Question:** Ivan has a list of graphs represented as adjacency matrices, and he wants to find the minimum spanning tree for each graph using Kruskal's algorithm. Write a Python function using the map function, a lambda, and a custom algorithm for minimum spanning tree to help Ivan.\n",
    "\n",
    "    35. **Question:** Jasmine has a list of strings containing natural language text, and she wants to perform sentiment analysis on each text and classify them into multiple categories (e.g., positive, negative, neutral, joyous, sad). Create a Python function using the map function, a lambda, and machine learning libraries (e.g., NLTK or spaCy) to assist Jasmine.\n",
    "\n",
    "    36. **Question:** Kyle has a list of 3D point clouds, and he wants to find the best-fitting plane for each point cloud using the RANSAC algorithm. Write a Python function using the map function, a lambda, and a custom algorithm for RANSAC plane fitting to help Kyle.\n",
    "\n",
    "    37. **Question:** Laura has a list of complex data structures, and she wants to apply a custom transformation to each data structure based on its type. Create a Python function using the map function, a lambda, and dynamic type checking to assist Laura.\n",
    "\n",
    "    38. **Question:** Mason has a list of strings containing DNA sequences, and he wants to find all the open reading\n",
    "\n",
    "\n",
    "    Apologies for the interruption. Let's continue with the super-hard word problem questions related to map and lambda functions in Python:\n",
    "\n",
    "    **Super Hard (Continued):**\n",
    "\n",
    "    41. **Question (Continued):** Peter has a list of 3D point clouds representing objects in a scene, and he wants to perform object recognition and classification for each point cloud. Create a Python function using the map function, a lambda, and machine learning libraries (e.g., TensorFlow or PyTorch) to assist Peter.\n",
    "\n",
    "    42. **Question:** Quinn has a list of audio recordings, and he wants to perform automatic speech recognition (ASR) on each recording to convert speech to text. Write a Python function using the map function, a lambda, and ASR libraries (e.g., Mozilla DeepSpeech) to help Quinn.\n",
    "\n",
    "    43. **Question:** Rachel has a list of images containing handwritten text, and she wants to perform optical character recognition (OCR) on each image to extract the text. Create a Python function using the map function, a lambda, and OCR libraries (e.g., Tesseract) to assist Rachel.\n",
    "\n",
    "    44. **Question:** Samuel has a list of financial time series data, and he wants to apply a custom algorithm to detect anomalies and outliers in each time series. Write a Python function using the map function, a lambda, and statistical analysis to help Samuel.\n",
    "\n",
    "    45. **Question:** Tessa has a list of medical images (e.g., X-rays), and she wants to perform image segmentation to identify specific regions of interest within each image. Create a Python function using the map function, a lambda, and image segmentation libraries (e.g., SimpleCV) to assist Tessa.\n",
    "\n",
    "    46. **Question:** Ulysses has a list of documents containing complex mathematical equations, and he wants to parse and solve each equation symbolically. Write a Python function using the map function, a lambda, and symbolic mathematics libraries (e.g., SymPy)\n",
    "\n",
    "    \n",
    "    Certainly, let's continue with three additional sets of word problem questions, covering map and lambda functions, as well as functions and their arguments in Python.\n",
    "\n",
    "    Set 4: Story-Based Questions (Map and Lambda Functions):\n",
    "\n",
    "    Easy:\n",
    "\n",
    "    Question: Alice is organizing a book club, and she has a list of book titles. She wants to capitalize the first letter of each word in the titles. Help Alice by creating a Python function using the map function and a lambda expression to achieve this.\n",
    "\n",
    "    Question: Bob is a music enthusiast, and he has a list of song titles with varying capitalization. He wants to convert all song titles to lowercase for consistency. Create a Python function using the map function and a lambda to assist Bob.\n",
    "\n",
    "    Question: Carol has a list of email addresses, and she wants to extract the domain names (e.g., gmail.com) from each email address. Write a Python function using the map function and a lambda expression to help Carol.\n",
    "\n",
    "    Question: David is a teacher who has a list of students' names in the format \"First Name, Last Name.\" He wants to rearrange the names to be \"Last Name, First Name.\" Create a Python function using the map function and a lambda to help David.\n",
    "\n",
    "    Question: Emma is planning a trip and has a list of destinations with various spellings. She wants to standardize the spellings of all destinations. Write a Python function using the map function and a lambda expression to assist Emma.\n",
    "\n",
    "    Medium:\n",
    "\n",
    "    Question: Frank is a photographer who has a list of image file names with spaces in them. He wants to replace spaces with underscores (_) in the file names. Create a Python function using the map function and a lambda to help Frank."
   ]
  },
  {
   "cell_type": "markdown",
   "metadata": {},
   "source": [
    "    5. **Music Festival Scheduler**: You're scheduling performances for a music festival. Given a list of bands and their set lengths, write a loop that schedules them back-to-back and prints the start time for each band's performance."
   ]
  },
  {
   "cell_type": "code",
   "execution_count": 108,
   "metadata": {},
   "outputs": [],
   "source": [
    "import string as st"
   ]
  },
  {
   "cell_type": "code",
   "execution_count": 122,
   "metadata": {},
   "outputs": [
    {
     "data": {
      "text/plain": [
       "['GMVLs', 'XudbH', 'mOggz', 'TGKHR', 'fgemM', 'mSXUF']"
      ]
     },
     "execution_count": 122,
     "metadata": {},
     "output_type": "execute_result"
    }
   ],
   "source": [
    "bands=[''.join(rd.choices(st.ascii_letters,k=5)) for i in range(6)]\n",
    "bands"
   ]
  },
  {
   "cell_type": "code",
   "execution_count": 123,
   "metadata": {},
   "outputs": [
    {
     "data": {
      "text/plain": [
       "[43, 84, 37, 66, 98, 63]"
      ]
     },
     "execution_count": 123,
     "metadata": {},
     "output_type": "execute_result"
    }
   ],
   "source": [
    "length=[rd.randint(20,100) for i in range(6)]\n",
    "length"
   ]
  },
  {
   "cell_type": "code",
   "execution_count": 124,
   "metadata": {},
   "outputs": [
    {
     "name": "stdout",
     "output_type": "stream",
     "text": [
      "GMVLs => 8:0\n",
      "XudbH => 8:43\n",
      "mOggz => 9:24\n",
      "TGKHR => 10:37\n",
      "fgemM => 11:6\n",
      "mSXUF => 12:38\n"
     ]
    }
   ],
   "source": [
    "start_hour=8\n",
    "start_min=0\n",
    "\n",
    "for i in range(len(bands)):\n",
    "    start_time=f'{start_hour}:{start_min}'\n",
    "    print(f'{bands[i]} => {start_time}')\n",
    "    if length[i]>60:\n",
    "        start_hour+=length[i]//60\n",
    "        start_min=length[i]%60\n",
    "    elif start_min+length[i] >60:\n",
    "        start_hour+=1        \n",
    "        start_min=length[i]%60\n",
    "    else:             \n",
    "        start_min+=length[i]"
   ]
  }
 ],
 "metadata": {
  "kernelspec": {
   "display_name": ".env",
   "language": "python",
   "name": "python3"
  },
  "language_info": {
   "codemirror_mode": {
    "name": "ipython",
    "version": 3
   },
   "file_extension": ".py",
   "mimetype": "text/x-python",
   "name": "python",
   "nbconvert_exporter": "python",
   "pygments_lexer": "ipython3",
   "version": "3.12.1"
  }
 },
 "nbformat": 4,
 "nbformat_minor": 2
}
