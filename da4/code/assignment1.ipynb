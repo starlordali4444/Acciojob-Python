{
 "cells": [
  {
   "cell_type": "markdown",
   "metadata": {},
   "source": [
    "    First and Last Character: Given a string, extract the first and the last character of the string. For example, for the string \"Python\", the result should be \"Pn\"."
   ]
  },
  {
   "cell_type": "code",
   "execution_count": 2,
   "metadata": {},
   "outputs": [
    {
     "name": "stdout",
     "output_type": "stream",
     "text": [
      "Pn\n"
     ]
    }
   ],
   "source": [
    "st=input()\n",
    "print(f'{st[0]}{st[-1]}')"
   ]
  },
  {
   "cell_type": "markdown",
   "metadata": {},
   "source": [
    "    Reverse a String: Write a Python program to reverse a given string. For instance, if the input is \"hello\", the output should be \"olleh\"."
   ]
  },
  {
   "cell_type": "code",
   "execution_count": 3,
   "metadata": {},
   "outputs": [
    {
     "name": "stdout",
     "output_type": "stream",
     "text": [
      "jariS\n"
     ]
    }
   ],
   "source": [
    "st=input()\n",
    "print(st[::-1])"
   ]
  },
  {
   "cell_type": "markdown",
   "metadata": {},
   "source": [
    "    Every Second Character: Create a slice that extracts every second character from a string. For example, from the string \"abcdef\", extract \"bdf\"."
   ]
  },
  {
   "cell_type": "code",
   "execution_count": 4,
   "metadata": {},
   "outputs": [
    {
     "name": "stdout",
     "output_type": "stream",
     "text": [
      "bdf\n"
     ]
    }
   ],
   "source": [
    "st=input()\n",
    "print(st[1::2])"
   ]
  },
  {
   "cell_type": "markdown",
   "metadata": {},
   "source": [
    "    Last Three Characters: Extract the last three characters of a string. If the string is \"DataScience\", the result should be \"nce\"."
   ]
  },
  {
   "cell_type": "code",
   "execution_count": 9,
   "metadata": {},
   "outputs": [
    {
     "data": {
      "text/plain": [
       "'eal'"
      ]
     },
     "execution_count": 9,
     "metadata": {},
     "output_type": "execute_result"
    }
   ],
   "source": [
    "st='One Piece is real'\n",
    "st[-3::]"
   ]
  },
  {
   "cell_type": "markdown",
   "metadata": {},
   "source": [
    "    String Except Last Two: Remove the last two characters from a string using slicing. If the input is \"Python\", the output should be \"Pyth\"."
   ]
  },
  {
   "cell_type": "code",
   "execution_count": 15,
   "metadata": {},
   "outputs": [
    {
     "data": {
      "text/plain": [
       "'One Piece is re'"
      ]
     },
     "execution_count": 15,
     "metadata": {},
     "output_type": "execute_result"
    }
   ],
   "source": [
    "st='One Piece is real'\n",
    "st[:-2]"
   ]
  },
  {
   "cell_type": "code",
   "execution_count": 18,
   "metadata": {},
   "outputs": [
    {
     "data": {
      "text/plain": [
       "'Pyth'"
      ]
     },
     "execution_count": 18,
     "metadata": {},
     "output_type": "execute_result"
    }
   ],
   "source": [
    "st='Python'\n",
    "st[:-2]"
   ]
  },
  {
   "cell_type": "code",
   "execution_count": 16,
   "metadata": {},
   "outputs": [
    {
     "data": {
      "text/plain": [
       "17"
      ]
     },
     "execution_count": 16,
     "metadata": {},
     "output_type": "execute_result"
    }
   ],
   "source": [
    "len(st)"
   ]
  },
  {
   "cell_type": "code",
   "execution_count": 19,
   "metadata": {},
   "outputs": [
    {
     "data": {
      "text/plain": [
       "'Pyth'"
      ]
     },
     "execution_count": 19,
     "metadata": {},
     "output_type": "execute_result"
    }
   ],
   "source": [
    "st[:len(st)-2]"
   ]
  },
  {
   "cell_type": "markdown",
   "metadata": {},
   "source": [
    "    Middle Three Characters: For a given string of odd length greater than 7, extract the middle three characters. For \"abcdefghij\", the result should be \"efg\"."
   ]
  },
  {
   "cell_type": "markdown",
   "metadata": {},
   "source": [
    "    First Half of String: Write a program to extract the first half of a string. For example, if the input is \"Python\", the output should be \"Pyt\"."
   ]
  },
  {
   "cell_type": "code",
   "execution_count": 20,
   "metadata": {},
   "outputs": [],
   "source": [
    "st='One Piece is real'"
   ]
  },
  {
   "cell_type": "code",
   "execution_count": 23,
   "metadata": {},
   "outputs": [
    {
     "data": {
      "text/plain": [
       "'One Piec'"
      ]
     },
     "execution_count": 23,
     "metadata": {},
     "output_type": "execute_result"
    }
   ],
   "source": [
    "st[:len(st)//2]"
   ]
  },
  {
   "cell_type": "code",
   "execution_count": 24,
   "metadata": {},
   "outputs": [
    {
     "data": {
      "text/plain": [
       "'e is real'"
      ]
     },
     "execution_count": 24,
     "metadata": {},
     "output_type": "execute_result"
    }
   ],
   "source": [
    "st[len(st)//2:]"
   ]
  },
  {
   "cell_type": "markdown",
   "metadata": {},
   "source": [
    "    Alternate Characters in a String: Create a slice that extracts alternate characters from a string, starting from the first character. For instance, for \"Python\", extract \"Pto\"."
   ]
  },
  {
   "cell_type": "markdown",
   "metadata": {},
   "source": [
    "    Concatenate First and Last Three Characters: For a string longer than 6 characters, concatenate the first three and the last three characters together. Given \"Programming\", the output should be \"Proing\"."
   ]
  },
  {
   "cell_type": "code",
   "execution_count": 26,
   "metadata": {},
   "outputs": [],
   "source": [
    "st='One Piece is real'"
   ]
  },
  {
   "cell_type": "code",
   "execution_count": 27,
   "metadata": {},
   "outputs": [
    {
     "data": {
      "text/plain": [
       "'One'"
      ]
     },
     "execution_count": 27,
     "metadata": {},
     "output_type": "execute_result"
    }
   ],
   "source": [
    "st[:3]"
   ]
  },
  {
   "cell_type": "code",
   "execution_count": 28,
   "metadata": {},
   "outputs": [
    {
     "data": {
      "text/plain": [
       "'eal'"
      ]
     },
     "execution_count": 28,
     "metadata": {},
     "output_type": "execute_result"
    }
   ],
   "source": [
    "st[-3:]"
   ]
  },
  {
   "cell_type": "code",
   "execution_count": 29,
   "metadata": {},
   "outputs": [
    {
     "data": {
      "text/plain": [
       "'Oneeal'"
      ]
     },
     "execution_count": 29,
     "metadata": {},
     "output_type": "execute_result"
    }
   ],
   "source": [
    "st[:3]+st[-3:]"
   ]
  },
  {
   "cell_type": "markdown",
   "metadata": {},
   "source": [
    "    Even Indexed Characters: Extract characters from a string that are at an even index. For the string \"Python\", the output should be \"Pto\" (considering the first character as index 0)."
   ]
  },
  {
   "cell_type": "markdown",
   "metadata": {},
   "source": [
    "    Palindrome Check: Write a Python program to check if a given string is a palindrome using slicing. For example, \"radar\" should return True, while \"python\" should return False.\n",
    "\n",
    "    Every Third Character from the End: Extract every third character from a string, starting from the end and moving backwards. For the string \"abcdefghi\", the result should be \"igd\".\n",
    "\n",
    "    Alternate Characters in Reverse Order: Create a slice to extract every other character from a string, but in reverse order. For \"Python\", the result should be \"nhy\".\n",
    "\n",
    "    Middle Section Removal: Remove the middle third of a string using slicing. For a string \"abcdefghijk\", the result should be \"abghijk\" (assuming the string is divided into three equal parts).\n",
    "\n",
    "    String Borders: Extract all characters from a string except the first and last two characters. If the input is \"Hello, World!\", the output should be \"llo, Worl\".\n",
    "\n",
    "    Concatenate Characters at Prime Indexes: Write a program that concatenates characters located at prime indexes (2, 3, 5, 7, 11, ...) in a given string. For \"abcdefghijklmnopqrstuvwxyz\", the output should be \"cfilorux\".\n",
    "\n",
    "    Nested Slices: Extract a slice from the middle of a string, then from that slice, extract the middle part again. For \"abcdefghijklmno\", first extract \"efghijkl\", then from this extract \"ghij\".\n",
    "\n",
    "    String Zigzag: Create a slice to extract characters in a zigzag manner - first, third, fifth characters, then second, fourth, sixth, and so on. For \"abcdefgh\", the result should be \"acegbdfh\".\n",
    "\n",
    "    Repeating Pattern Detection: Extract the first half of a string and check if it is repeated in the second half. For \"abcabc\", it should return True, while for \"abcdef\", it should return False.\n",
    "\n",
    "    Encode by Shifting Characters: Write a program that shifts every character in the string by a fixed number (e.g., 2) and then extracts the shifted characters. For example, with a shift of 2, \"abc\" becomes \"cde\", so for the string \"abcdef\", the output would be \"cde\""
   ]
  },
  {
   "cell_type": "markdown",
   "metadata": {},
   "source": [
    "    Rotate a List: Write a function to rotate a list by k positions. For [1, 2, 3, 4, 5] rotated by 2, the result should be [4, 5, 1, 2, 3].\n",
    "\n",
    "    List of Multiples: Create a list containing the first n multiples of a given number x. For x = 3 and n = 5, the list should be [3, 6, 9, 12, 15].\n",
    "\n",
    "    Interleave Two Lists: Given two lists, interleave their elements into a new list. For [1, 2, 3] and [4, 5, 6], the result should be [1, 4, 2, 5, 3, 6].\n",
    "\n",
    "    List of Prime Numbers: Generate a list of the first n prime numbers.\n",
    "\n",
    "    Flatten a Nested List: Write a function to flatten a nested list. For [[1, 2], [3, 4], [5, 6]], the output should be [1, 2, 3, 4, 5, 6].\n",
    "\n",
    "    List to Dictionary: Convert a list into a dictionary where the list elements become keys, and their indices become values.\n",
    "\n",
    "    Longest Consecutive Sequence: Find the length of the longest consecutive elements sequence in a list. For [100, 4, 200, 1, 3, 2], the longest consecutive sequence is [1, 2, 3, 4], so the answer is 4.\n",
    "\n",
    "    Remove Duplicates: Remove duplicates from a list without using any additional libraries or data structures.\n",
    "\n",
    "    Pairs with Sum: Find all pairs of elements in a list that sum up to a given number S.\n",
    "\n",
    "    Second Largest Element: Find the second largest number in a list.\n",
    "\n",
    "    Right Rotate List by One: Write a function to right rotate a list by one position.\n",
    "\n",
    "    Cumulative Sum: Create a new list where each element is the cumulative sum up to that index in the original list.\n",
    "\n",
    "    List of Fibonacci Sequence: Generate a list of the first n numbers in the Fibonacci sequence.\n",
    "\n",
    "    Alternate Sorting: Sort a list in such a way that the first element is the highest, the second is the lowest, the third is the second highest, the fourth is the second lowest, and so on.\n",
    "\n",
    "    Count Occurrences in a List: Given a list and a key element, count the number of occurrences of that key in the list.\n",
    "\n",
    "    Merge Sorted Lists: Merge two sorted lists into a new sorted list.\n",
    "\n",
    "    Find Common Elements in Lists: Given three lists, find a list of elements that are common to all three lists.\n",
    "\n",
    "    Odd Even Partition: Partition a list into two lists, where one contains all odd elements and the other contains all even elements.\n",
    "\n",
    "    Replace Elements with Greatest Element on Right: Replace every element in a list with the greatest element among the elements to its right, and replace the last element with -1.\n",
    "\n",
    "    Balanced List Check: Check if a list is balanced, meaning whether the sum of the first half of the list is equal to the sum of the second half."
   ]
  }
 ],
 "metadata": {
  "kernelspec": {
   "display_name": ".env",
   "language": "python",
   "name": "python3"
  },
  "language_info": {
   "codemirror_mode": {
    "name": "ipython",
    "version": 3
   },
   "file_extension": ".py",
   "mimetype": "text/x-python",
   "name": "python",
   "nbconvert_exporter": "python",
   "pygments_lexer": "ipython3",
   "version": "3.12.1"
  }
 },
 "nbformat": 4,
 "nbformat_minor": 2
}
