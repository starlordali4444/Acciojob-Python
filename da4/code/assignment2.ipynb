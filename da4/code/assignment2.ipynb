{
 "cells": [
  {
   "cell_type": "markdown",
   "metadata": {},
   "source": [
    "    Portal Questions\n",
    "    Practise Questions\n",
    "\n",
    "    Conditional Statements\n",
    "    Loops"
   ]
  },
  {
   "cell_type": "markdown",
   "metadata": {},
   "source": [
    "    Middle Section Removal: Remove the middle third of a string using slicing. For a string \"abcdefghijk\", the result should be \"abcghijk\" (assuming the string is divided into three equal parts)."
   ]
  },
  {
   "cell_type": "code",
   "execution_count": 13,
   "metadata": {},
   "outputs": [
    {
     "data": {
      "text/plain": [
       "'qwertyuioplkjhgf'"
      ]
     },
     "execution_count": 13,
     "metadata": {},
     "output_type": "execute_result"
    }
   ],
   "source": [
    "in_str=input()\n",
    "in_str"
   ]
  },
  {
   "cell_type": "code",
   "execution_count": 14,
   "metadata": {},
   "outputs": [
    {
     "data": {
      "text/plain": [
       "16"
      ]
     },
     "execution_count": 14,
     "metadata": {},
     "output_type": "execute_result"
    }
   ],
   "source": [
    "len(in_str)"
   ]
  },
  {
   "cell_type": "code",
   "execution_count": 15,
   "metadata": {},
   "outputs": [
    {
     "data": {
      "text/plain": [
       "5"
      ]
     },
     "execution_count": 15,
     "metadata": {},
     "output_type": "execute_result"
    }
   ],
   "source": [
    "len(in_str)//3"
   ]
  },
  {
   "cell_type": "code",
   "execution_count": 16,
   "metadata": {},
   "outputs": [
    {
     "data": {
      "text/plain": [
       "'qwert'"
      ]
     },
     "execution_count": 16,
     "metadata": {},
     "output_type": "execute_result"
    }
   ],
   "source": [
    "in_str[:len(in_str)//3]"
   ]
  },
  {
   "cell_type": "code",
   "execution_count": 17,
   "metadata": {},
   "outputs": [
    {
     "data": {
      "text/plain": [
       "'lkjhgf'"
      ]
     },
     "execution_count": 17,
     "metadata": {},
     "output_type": "execute_result"
    }
   ],
   "source": [
    "in_str[len(in_str)//3*2:]"
   ]
  },
  {
   "cell_type": "code",
   "execution_count": 18,
   "metadata": {},
   "outputs": [
    {
     "data": {
      "text/plain": [
       "'qwertlkjhgf'"
      ]
     },
     "execution_count": 18,
     "metadata": {},
     "output_type": "execute_result"
    }
   ],
   "source": [
    "in_str[:len(in_str)//3]+in_str[len(in_str)//3*2:]"
   ]
  },
  {
   "cell_type": "markdown",
   "metadata": {},
   "source": [
    "    Longest Consecutive Sequence: Find the length of the longest consecutive elements sequence in a list. For [100, 4, 200, 1, 3, 2], the longest consecutive sequence is [1, 2, 3, 4], so the answer is 4."
   ]
  },
  {
   "cell_type": "code",
   "execution_count": 19,
   "metadata": {},
   "outputs": [
    {
     "data": {
      "text/plain": [
       "[100, 4, 200, 1, 3, 2]"
      ]
     },
     "execution_count": 19,
     "metadata": {},
     "output_type": "execute_result"
    }
   ],
   "source": [
    "lst=[100,4,200,1,3,2]\n",
    "lst"
   ]
  },
  {
   "cell_type": "code",
   "execution_count": 20,
   "metadata": {},
   "outputs": [
    {
     "data": {
      "text/plain": [
       "[1, 2, 3, 4, 100, 200]"
      ]
     },
     "execution_count": 20,
     "metadata": {},
     "output_type": "execute_result"
    }
   ],
   "source": [
    "lst.sort()\n",
    "lst"
   ]
  },
  {
   "cell_type": "code",
   "execution_count": 21,
   "metadata": {},
   "outputs": [
    {
     "data": {
      "text/plain": [
       "'100,4,200,1,3,2'"
      ]
     },
     "execution_count": 21,
     "metadata": {},
     "output_type": "execute_result"
    }
   ],
   "source": [
    "lst=input()\n",
    "lst"
   ]
  },
  {
   "cell_type": "code",
   "execution_count": 25,
   "metadata": {},
   "outputs": [],
   "source": [
    "lst=lst.split(',')"
   ]
  },
  {
   "cell_type": "code",
   "execution_count": 23,
   "metadata": {},
   "outputs": [
    {
     "ename": "AttributeError",
     "evalue": "'str' object has no attribute 'sort'",
     "output_type": "error",
     "traceback": [
      "\u001b[1;31m---------------------------------------------------------------------------\u001b[0m",
      "\u001b[1;31mAttributeError\u001b[0m                            Traceback (most recent call last)",
      "Cell \u001b[1;32mIn[23], line 1\u001b[0m\n\u001b[1;32m----> 1\u001b[0m \u001b[43mlst\u001b[49m\u001b[38;5;241;43m.\u001b[39;49m\u001b[43msort\u001b[49m()\n\u001b[0;32m      2\u001b[0m lst\n",
      "\u001b[1;31mAttributeError\u001b[0m: 'str' object has no attribute 'sort'"
     ]
    }
   ],
   "source": [
    "lst.sort()\n",
    "lst"
   ]
  },
  {
   "cell_type": "code",
   "execution_count": 28,
   "metadata": {},
   "outputs": [
    {
     "data": {
      "text/plain": [
       "['100', '4', '200', '1', '3', '2']"
      ]
     },
     "execution_count": 28,
     "metadata": {},
     "output_type": "execute_result"
    }
   ],
   "source": [
    "lst"
   ]
  },
  {
   "cell_type": "code",
   "execution_count": 31,
   "metadata": {},
   "outputs": [
    {
     "data": {
      "text/plain": [
       "[100, 4, 200, 1, 3, 2]"
      ]
     },
     "execution_count": 31,
     "metadata": {},
     "output_type": "execute_result"
    }
   ],
   "source": [
    "int_lst=[]\n",
    "for i in lst:\n",
    "    int_lst.append(int(i))\n",
    "    \n",
    "int_lst"
   ]
  },
  {
   "cell_type": "code",
   "execution_count": 33,
   "metadata": {},
   "outputs": [
    {
     "data": {
      "text/plain": [
       "[1, 2, 3, 4, 100, 200]"
      ]
     },
     "execution_count": 33,
     "metadata": {},
     "output_type": "execute_result"
    }
   ],
   "source": [
    "int_lst.sort()\n",
    "int_lst"
   ]
  },
  {
   "cell_type": "code",
   "execution_count": 34,
   "metadata": {},
   "outputs": [
    {
     "name": "stdout",
     "output_type": "stream",
     "text": [
      "1\n",
      "2\n",
      "3\n",
      "4\n",
      "100\n",
      "200\n"
     ]
    }
   ],
   "source": [
    "for i in int_lst:\n",
    "    print(i)"
   ]
  },
  {
   "cell_type": "markdown",
   "metadata": {},
   "source": [
    "    Remove Duplicates: Remove duplicates from a list without using any additional libraries or data structures."
   ]
  },
  {
   "cell_type": "code",
   "execution_count": 35,
   "metadata": {},
   "outputs": [],
   "source": [
    "lst=[1,1,1,2,3,5,6,8,5,9]"
   ]
  },
  {
   "cell_type": "code",
   "execution_count": 36,
   "metadata": {},
   "outputs": [
    {
     "data": {
      "text/plain": [
       "{1, 2, 3, 5, 6, 8, 9}"
      ]
     },
     "execution_count": 36,
     "metadata": {},
     "output_type": "execute_result"
    }
   ],
   "source": [
    "set(lst)"
   ]
  },
  {
   "cell_type": "code",
   "execution_count": 41,
   "metadata": {},
   "outputs": [
    {
     "data": {
      "text/plain": [
       "[2, 3, 6, 8, 9]"
      ]
     },
     "execution_count": 41,
     "metadata": {},
     "output_type": "execute_result"
    }
   ],
   "source": [
    "final_lst=[]\n",
    "for i in set(lst):\n",
    "    if lst.count(i)==1:\n",
    "        final_lst.append(i)\n",
    "        \n",
    "final_lst"
   ]
  },
  {
   "cell_type": "markdown",
   "metadata": {},
   "source": [
    "     *****\n",
    "     *****\n",
    "     *****\n",
    "     *****\n",
    "     *****"
   ]
  },
  {
   "cell_type": "code",
   "execution_count": 45,
   "metadata": {},
   "outputs": [
    {
     "name": "stdout",
     "output_type": "stream",
     "text": [
      "*****\n",
      "*****\n",
      "*****\n",
      "*****\n",
      "*****\n"
     ]
    }
   ],
   "source": [
    "for row in range(5):\n",
    "    for col in range(5):\n",
    "        print('*',end='')\n",
    "    print()\n",
    "        "
   ]
  },
  {
   "cell_type": "markdown",
   "metadata": {},
   "source": [
    "    *\n",
    "    **\n",
    "    ***\n",
    "    ****\n",
    "    *****"
   ]
  },
  {
   "cell_type": "code",
   "execution_count": 46,
   "metadata": {},
   "outputs": [
    {
     "name": "stdout",
     "output_type": "stream",
     "text": [
      "1\n",
      "2\n",
      "3\n",
      "4\n",
      "5\n"
     ]
    }
   ],
   "source": [
    "for row in range(1,6):\n",
    "    print(row)"
   ]
  },
  {
   "cell_type": "code",
   "execution_count": 47,
   "metadata": {},
   "outputs": [
    {
     "name": "stdout",
     "output_type": "stream",
     "text": [
      "*\n"
     ]
    }
   ],
   "source": [
    "for col in range(1):\n",
    "    print('*')"
   ]
  },
  {
   "cell_type": "code",
   "execution_count": 49,
   "metadata": {},
   "outputs": [
    {
     "name": "stdout",
     "output_type": "stream",
     "text": [
      "**"
     ]
    }
   ],
   "source": [
    "for col in range(2):\n",
    "    print('*',end='')"
   ]
  },
  {
   "cell_type": "code",
   "execution_count": 50,
   "metadata": {},
   "outputs": [
    {
     "name": "stdout",
     "output_type": "stream",
     "text": [
      "*\n",
      "**\n",
      "***\n",
      "****\n",
      "*****\n"
     ]
    }
   ],
   "source": [
    "for row in range(1,6):\n",
    "    for col in range(row):\n",
    "        print('*',end='')\n",
    "    print()"
   ]
  },
  {
   "cell_type": "markdown",
   "metadata": {},
   "source": [
    "    ### Easy Level (1-5)\n",
    "    Simple conditions and direct `if` statements.\n",
    "\n",
    "    1. If a number is less than 100, print \"Small Number\".\n",
    "    2. If the day is Saturday or Sunday, print \"Weekend\".\n",
    "    3. If a person's age is 16, print \"Eligible for a driving permit\".\n",
    "    4. If a score is 100, print \"Perfect Score\".\n",
    "    5. If an animal is 'Dog', print \"Bark\".\n",
    "\n",
    "    ### Medium Level (6-10)\n",
    "    Incorporate `else` and `elif` for more conditions.\n",
    "\n",
    "    6. If a number is divisible by 3, print \"Fizz\", otherwise print \"Not divisible by 3\".\n",
    "    7. If a grade is above 90, print \"Grade A\", between 70 and 90, print \"Grade B\", otherwise, print \"Grade C\".\n",
    "    8. If a temperature is above 30 degrees, print \"Hot\", between 20 and 30, print \"Warm\", otherwise, print \"Cold\".\n",
    "    9. If the time is before 12 PM, print \"Good Morning\", between 12 PM and 6 PM, print \"Good Afternoon\", otherwise, print \"Good Evening\".\n",
    "    10. If a user's age is above 18 and the user is a premium member, print \"Access to adult content granted\", otherwise, print \"Access denied\".\n",
    "\n",
    "    ### Hard Level (11-15)\n",
    "    Complex logical conditions and nested `if` statements.\n",
    "\n",
    "    11. If a number is divisible by 2, check if it is also divisible by 4; if yes, print \"Divisible by 4\", otherwise print \"Divisible by 2 but not by 4\".\n",
    "    12. If a person's age is less than 13, print \"Child\", if between 13 and 19, print \"Teenager\", if between 20 and 65, print \"Adult\", otherwise, print \"Senior\".\n",
    "    13. If a character in a string is uppercase, print \"Uppercase letter found\", if lowercase, print \"Lowercase letter found\", otherwise, print \"No letters found\".\n",
    "    14. If a user scores above 80% in all subjects, print \"Honor Roll\", if above 60% in all subjects, print \"Passed\", otherwise, print \"Failed\".\n",
    "    15. If a traffic light is green, check if pedestrians are crossing; if yes, print \"Wait\", otherwise, print \"Go\". If the light is not green, print \"Stop\".\n",
    "\n",
    "    ### Easy Level (16-20)\n",
    "    Basic `if` statements with straightforward conditions.\n",
    "\n",
    "    16. If a number is greater than 0, print \"Positive\".\n",
    "    17. If the weather is \"rainy\", print \"Take an umbrella\".\n",
    "    18. If a book's page count is over 300, print \"Long book\".\n",
    "    19. If a light bulb's wattage is above 60, print \"High wattage\".\n",
    "    20. If a team scores more than 10 goals, print \"Big win\".\n",
    "\n",
    "    ### Medium Level (21-25)\n",
    "    Use of `else` and `elif`, with multiple conditions.\n",
    "\n",
    "    21. If a score is below 50, print \"Fail\", between 50 and 75, print \"Pass\", above 75, print \"Excellent\".\n",
    "    22. If a temperature is below 0, print \"Freezing\", between 0 and 10, print \"Cold\", above 10, print \"Moderate\".\n",
    "    23. If a person's age is 18, print \"Just an adult\", below 18, print \"Underage\", otherwise, print \"Adult\".\n",
    "    24. If a movie's runtime is less than 90 minutes, print \"Short movie\", if it's between 90 and 120 minutes, print \"Average length movie\", otherwise, print \"Long movie\".\n",
    "    25. If a number is divisible by 5, print \"Buzz\", if it's divisible by both 3 and 5, print \"FizzBuzz\", otherwise, print \"No FizzBuzz\".\n",
    "\n",
    "    ### Hard Level (26-30)\n",
    "    Nested `if` statements and complex logical conditions.\n",
    "\n",
    "    26. If a car's speed is above 100 km/h, check if it's a highway; if yes, print \"Keep speed\", otherwise, print \"Too fast\".\n",
    "    27. If a temperature is above 25 degrees, check if it's summer; if yes, print \"Beach day\", otherwise, print \"Warm day\".\n",
    "    28. If a person's age is above 65, check if they are retired; if yes, print \"Enjoy retirement\", otherwise, print \"Almost there\".\n",
    "    29. If a user is logged in, check if they have admin rights; if yes, print \"Admin access\", otherwise, print \"User access\". If not logged in, print \"Login required\".\n",
    "    30. If a number is even, check if it is also a multiple of 6; if yes, print \"Multiple of 6\", otherwise, print \"Just even\". If the number is odd, print \"Odd number\".\n",
    "\n",
    "    ### Easy Level (31-35)\n",
    "    Simple conditions, ideal for beginners.\n",
    "\n",
    "    31. If a person's height is over 180 cm, print \"Tall\".\n",
    "    32. If a battery's charge is below 20%, print \"Battery low\".\n",
    "    33. If a room's temperature is above 25 degrees Celsius, print \"Hot room\".\n",
    "    34. If a number is zero, print \"Zero\".\n",
    "    35. If a bag weighs more than 15 kg, print \"Overweight baggage\".\n",
    "\n",
    "    ### Medium Level (36-40)\n",
    "    Combining conditions with `else` and `elif`.\n",
    "\n",
    "    36. If a number is 100, print \"Perfect score\", if between 50 and 99, print \"Good score\", otherwise, print \"Try again\".\n",
    "    37. If a distance is less than 1 km, print \"Walking distance\", if between 1 and 5 km, print \"Short drive\", otherwise, print \"Long drive\".\n",
    "    38. If a day is \"Monday\", print \"Start of the week\", if \"Friday\", print \"Weekend is near\", otherwise, print \"Midweek\".\n",
    "    39. If a fruit is \"Apple\", print \"Red\", if \"Banana\", print \"Yellow\", otherwise, print \"Unknown color\".\n",
    "    40. If a password length is greater than 8, print \"Strong password\", if exactly 8, print \"Moderate password\", otherwise, print \"Weak password\".\n",
    "\n",
    "    ### Hard Level (41-45)\n",
    "    Nested `if` statements and more complex scenarios.\n",
    "\n",
    "    41. If a person's age is over 18, check if they have a driving license; if yes, print \"Can drive\", otherwise, print \"Cannot drive legally\".\n",
    "    42. If a temperature is below 0 degrees Celsius, check if it's snowing; if yes, print \"Snow day\", otherwise, print \"Just a cold day\".\n",
    "    43. If a user's subscription is \"Premium\", check if it has expired; if not, print \"Premium access granted\", otherwise, print \"Renew subscription\".\n",
    "    44. If a book's genre is \"Fiction\", check if it's \"Science Fiction\"; if yes, print \"Sci-Fi book\", otherwise, print \"General Fiction\".\n",
    "    45. If a phone is \"Android\", check if the version is above 10; if yes, print \"Latest Android version\", otherwise, print \"Old Android version\"."
   ]
  },
  {
   "cell_type": "markdown",
   "metadata": {},
   "source": [
    "    ### Basic Level (1-5)\n",
    "    These problems focus on simple iteration using `for` loops.\n",
    "\n",
    "    1. Loop through numbers 1 to 10 and print each number.\n",
    "    2. Iterate over a list of fruits [\"apple\", \"banana\", \"cherry\"] and print each fruit.\n",
    "    3. Use a `for` loop to print the characters in the string \"Hello\".\n",
    "    4. Create a loop that prints the squares of numbers from 1 to 5.\n",
    "    5. Iterate over a list of numbers [1, 2, 3, 4, 5] and print the double of each number.\n",
    "\n",
    "    ### Intermediate Level (6-10)\n",
    "    These involve loops with conditional logic or nested loops.\n",
    "\n",
    "    6. Loop through numbers 1 to 10 and print \"even\" if the number is even, otherwise print \"odd\".\n",
    "    7. Iterate over [\"dog\", \"cat\", \"parrot\"] and print each word and its length.\n",
    "    8. Use a `for` loop to print each number from 1 to 20 that is divisible by 3.\n",
    "    9. Create a nested `for` loop to print a 3x3 number grid (1-9).\n",
    "    10. Iterate over a list of temperatures and print \"hot\" if the temperature is above 30 degrees, otherwise print \"normal\".\n",
    "\n",
    "    ### Advanced Level (11-15)\n",
    "    These problems are more complex, involving data structures or more intricate logic with loops.\n",
    "\n",
    "    11. Loop through a dictionary of students and their grades, and print students with grades over 75.\n",
    "    12. Use a `for` loop to iterate over a string and count the number of vowels in it.\n",
    "    13. Create a `for` loop that iterates over a list of numbers and prints out a Fibonacci sequence of that length.\n",
    "    14. Loop through a list of words and print each one in reverse order.\n",
    "    15. Iterate over a list of numbers and print a multiplication table for each number.\n",
    "\n",
    "    ### Basic Level (16-20)\n",
    "    These problems involve straightforward iteration with `for` loops.\n",
    "\n",
    "    16. Print all the even numbers between 10 and 20.\n",
    "    17. Loop through the list [\"red\", \"green\", \"blue\"] and print each color.\n",
    "    18. Use a `for` loop to print the numbers from 5 to 15 in reverse order.\n",
    "    19. Iterate over the first 10 multiples of 3 (3, 6, 9, ..., 30) and print each multiple.\n",
    "    20. Loop through and print each letter in the word \"Python\".\n",
    "\n",
    "    ### Intermediate Level (21-25)\n",
    "    Involving conditional logic, calculations, or data structure manipulation within the loop.\n",
    "\n",
    "    21. For each number from 1 to 100, print \"Fizz\" if it's divisible by 3, \"Buzz\" if it's divisible by 5, and \"FizzBuzz\" if it's divisible by both.\n",
    "    22. Iterate over a list of numbers and print out the sum of all even numbers in the list.\n",
    "    23. Loop through a list of names, and for each name, print \"Hello\" followed by the name.\n",
    "    24. Use a `for` loop to convert a list of temperatures in Celsius to Fahrenheit and print them.\n",
    "    25. Iterate over a list of strings and print each string if its length is greater than 5.\n",
    "\n",
    "    ### Advanced Level (26-30)\n",
    "    These problems involve complex logic, nested loops, or working with advanced data structures.\n",
    "\n",
    "    26. Loop through a list of lists (matrix) and print each element.\n",
    "    27. Iterate over a list of numbers and print out their factorial.\n",
    "    28. Use a `for` loop to find and print the first 10 prime numbers.\n",
    "    29. Loop through a dictionary of products and their prices, and print each product with a price greater than $10.\n",
    "    30. Create a `for` loop to print a pyramid pattern of stars (*).\n",
    "\n",
    "\n",
    "    ### Basic Level (31-35)\n",
    "    Simple iteration tasks, ideal for beginners.\n",
    "\n",
    "    31. Loop through and print the first 10 natural numbers.\n",
    "    32. Iterate over the list [5, 10, 15, 20] and print each element multiplied by 2.\n",
    "    33. Use a `for` loop to print the alphabet from 'a' to 'z'.\n",
    "    34. Print the first 5 elements of the Fibonacci sequence using a `for` loop.\n",
    "    35. Iterate over the numbers from 1 to 30 and print only the numbers divisible by 3.\n",
    "\n",
    "    ### Intermediate Level (36-40)\n",
    "    Combining loops with conditionals or performing calculations.\n",
    "\n",
    "    36. Loop through numbers 1 to 50 and print \"High\" if a number is greater than 25, otherwise print \"Low\".\n",
    "    37. Iterate through a list of temperatures in Celsius and convert each to Fahrenheit, printing only those above 100°F.\n",
    "    38. Use a `for` loop to print a countdown from 10 to 0.\n",
    "    39. Loop over a list of words and print each word with its first letter capitalized.\n",
    "    40. Iterate over a string and print the ASCII value of each character.\n",
    "\n",
    "    ### Advanced Level (41-45)\n",
    "    Involving nested loops, complex logic, or advanced data structure manipulation.\n",
    "\n",
    "    41. Use a `for` loop to print a 5x5 square of asterisks ('*').\n",
    "    42. Loop through a range of numbers from 1 to 100 and print each number along with its square and cube.\n",
    "    43. Iterate over a dictionary, and for each key-value pair, print the key if the value is an integer.\n",
    "    44. Create a nested `for` loop to print the multiplication table from 1 to 5.\n",
    "    45. Use a `for` loop to iterate over a list of numbers and print out a histogram (using asterisks) representing the frequency of each number.\n",
    "\n"
   ]
  },
  {
   "cell_type": "markdown",
   "metadata": {},
   "source": [
    "    If a character in a string is uppercase, print \"Uppercase letter found\", if lowercase, print \"Lowercase letter found\", otherwise, print \"No letters found\"."
   ]
  },
  {
   "cell_type": "code",
   "execution_count": 59,
   "metadata": {},
   "outputs": [
    {
     "name": "stdout",
     "output_type": "stream",
     "text": [
      "S is upper\n",
      "Lower\n",
      "Lower\n",
      "Lower\n",
      "Lower\n",
      "No Char\n",
      "A is upper\n",
      "Lower\n",
      "Lower\n",
      "Lower\n",
      "Lower\n"
     ]
    }
   ],
   "source": [
    "st = 'Siraj Ahmad'\n",
    "for char in st :\n",
    "    if char.islower():\n",
    "        print('Lower')\n",
    "    elif char.isupper():\n",
    "        print(f\"{char} is upper\")\n",
    "    else:\n",
    "        print(\"No Char\")"
   ]
  },
  {
   "cell_type": "markdown",
   "metadata": {},
   "source": [
    "    If a number is divisible by 3, print \"Fizz\", otherwise print \"Not divisible by 3\"."
   ]
  },
  {
   "cell_type": "code",
   "execution_count": 51,
   "metadata": {},
   "outputs": [
    {
     "name": "stdout",
     "output_type": "stream",
     "text": [
      "Not Divisible by 3\n"
     ]
    }
   ],
   "source": [
    "chk_no=int(input())\n",
    "if chk_no%3==0:\n",
    "    print('Fizz')\n",
    "else:\n",
    "    print('Not Divisible by 3')"
   ]
  },
  {
   "cell_type": "markdown",
   "metadata": {},
   "source": [
    "    If a temperature is above 30 degrees, print \"Hot\", between 20 and 30, print \"Warm\", otherwise, print \"Cold\"."
   ]
  },
  {
   "cell_type": "code",
   "execution_count": 52,
   "metadata": {},
   "outputs": [
    {
     "name": "stdout",
     "output_type": "stream",
     "text": [
      "Warm\n"
     ]
    }
   ],
   "source": [
    "temp=float(input())\n",
    "msg=''\n",
    "if temp>30:\n",
    "    msg='Hot'\n",
    "elif temp>=20:\n",
    "    msg='Warm'\n",
    "else:\n",
    "    msg='Cold'\n",
    "    \n",
    "print(msg)"
   ]
  },
  {
   "cell_type": "markdown",
   "metadata": {},
   "source": [
    "    If a number is divisible by 2, check if it is also divisible by 4; if yes, print \"Divisible by 4\", otherwise print \"Divisible by 2 but not by 4\"."
   ]
  },
  {
   "cell_type": "code",
   "execution_count": 58,
   "metadata": {},
   "outputs": [
    {
     "name": "stdout",
     "output_type": "stream",
     "text": [
      "4 is divisible by 4\n"
     ]
    }
   ],
   "source": [
    "no=4\n",
    "if no%2==0:\n",
    "    if no%4==0:\n",
    "        print(f\"{no} is divisible by 4\")\n",
    "    else:\n",
    "        print(f'{no} is Divisible by 2 but not by 4')"
   ]
  },
  {
   "cell_type": "code",
   "execution_count": 56,
   "metadata": {},
   "outputs": [
    {
     "name": "stdout",
     "output_type": "stream",
     "text": [
      "4 is divisible by 4\n",
      "4 is Divisible by 2 but not by 4\n"
     ]
    }
   ],
   "source": [
    "no=4\n",
    "if no%2==0:\n",
    "    if no%4==0:\n",
    "        print(f\"{no} is divisible by 4\")    \n",
    "    print(f'{no} is Divisible by 2 but not by 4')"
   ]
  },
  {
   "cell_type": "markdown",
   "metadata": {},
   "source": [
    "    enumerate"
   ]
  },
  {
   "cell_type": "code",
   "execution_count": 62,
   "metadata": {},
   "outputs": [
    {
     "data": {
      "text/plain": [
       "[5, 6, 78, 9, 21, 645, 126]"
      ]
     },
     "execution_count": 62,
     "metadata": {},
     "output_type": "execute_result"
    }
   ],
   "source": [
    "lst=[5,6,78,9,21,645,126]\n",
    "lst"
   ]
  },
  {
   "cell_type": "code",
   "execution_count": 63,
   "metadata": {},
   "outputs": [
    {
     "name": "stdout",
     "output_type": "stream",
     "text": [
      "5\n",
      "6\n",
      "78\n",
      "9\n",
      "21\n",
      "645\n",
      "126\n"
     ]
    }
   ],
   "source": [
    "for ele in lst:\n",
    "    print(ele)"
   ]
  },
  {
   "cell_type": "code",
   "execution_count": 64,
   "metadata": {},
   "outputs": [
    {
     "name": "stdout",
     "output_type": "stream",
     "text": [
      "index => 0. Element => 5\n",
      "index => 1. Element => 6\n",
      "index => 2. Element => 78\n",
      "index => 3. Element => 9\n",
      "index => 4. Element => 21\n",
      "index => 5. Element => 645\n",
      "index => 6. Element => 126\n"
     ]
    }
   ],
   "source": [
    "for i in range(len(lst)):\n",
    "    print(f'index => {i}. Element => {lst[i]}')"
   ]
  },
  {
   "cell_type": "code",
   "execution_count": 65,
   "metadata": {},
   "outputs": [
    {
     "name": "stdout",
     "output_type": "stream",
     "text": [
      "index => 0. Element => 5\n",
      "index => 1. Element => 6\n",
      "index => 2. Element => 78\n",
      "index => 3. Element => 9\n",
      "index => 4. Element => 21\n",
      "index => 5. Element => 645\n",
      "index => 6. Element => 126\n"
     ]
    }
   ],
   "source": [
    "for idx,ele in enumerate(lst):\n",
    "    print(f'index => {idx}. Element => {ele}')\n",
    "    "
   ]
  },
  {
   "cell_type": "markdown",
   "metadata": {},
   "source": [
    "\n",
    "    ### Medium Difficulty\n",
    "\n",
    "    1. **Traffic Light Decision**: You're programming a self-driving car. Write a condition to make decisions based on traffic light colors. If the light is green, print \"Go\". If it's yellow, print \"Slow Down\", and if it's red, print \"Stop\".\n",
    "\n",
    "    2. **Classroom Grading System**: You are automating a grade book for a teacher. If a student's score is above 90, print \"Grade A\", between 80 and 89, print \"Grade B\", between 70 and 79, print \"Grade C\", and below 70, print \"Needs Improvement\".\n",
    "\n",
    "    3. **Movie Night**: Your friends can't decide on a movie genre for movie night. If more than half vote for comedy, print \"Watching a Comedy\". If horror gets more than half, print \"Watching a Horror\", otherwise, print \"Watching a Documentary\".\n",
    "\n",
    "    4. **Cooking App**: You're writing code for a cooking app. If the user selects vegetarian, recommend a \"Vegetarian Recipe\". If they choose non-vegetarian but are allergic to seafood, recommend a \"Chicken Recipe\", otherwise suggest a \"Seafood Recipe\".\n",
    "\n",
    "    5. **Library Late Fees**: A library charges late fees based on how late a book is returned. If a book is returned 1-5 days late, it's a $1 fee. For 6-10 days, it's a $3 fee. More than 10 days, it's a $5 fee. Write a condition to calculate the late fee.\n",
    "\n",
    "    ### Advanced Difficulty\n",
    "\n",
    "    1. **Automated Thermostat**: You're programming a smart thermostat. If the temperature is below 20 degrees Celsius and it's winter, set the heat to 23 degrees. If it's summer and above 30 degrees, set the cooling to 20 degrees. Otherwise, turn off HVAC.\n",
    "\n",
    "    2. **Game Character Status**: In a game, if a character's health drops below 20%, they enter \"Critical\" state. If their ammo is also less than 10%, print \"Critical and Low Ammo\". If only one of these is true, print the respective status.\n",
    "\n",
    "    3. **Stock Market Advisor**: Write a program for stock investment advice. If a stock has risen consistently for 5 days, print \"Consider selling\". If it has fallen for 5 days, print \"Consider buying\". If it's fluctuating, print \"Hold\".\n",
    "\n",
    "    4. **Elevator Logic**: You're programming an elevator system. If the weight exceeds 800 kg, or if the total number of people is more than 8, print \"Overcapacity! Do not move.\" Otherwise, ask for the desired floor number.\n",
    "\n",
    "    5. **Science Experiment**: In a lab experiment, if the temperature rises above 100°C and pressure goes over 200 kPa, it's a dangerous condition. Print \"Alert: Evacuate immediately!\". If only one of these is true, print a warning about that condition.\n",
    "\n",
    "    These story-based problems require a good understanding of `if` statements and logical thinking to solve various real-world scenarios. They are great for practicing and improving your programming skills in Python."
   ]
  },
  {
   "cell_type": "markdown",
   "metadata": {},
   "source": [
    "    Check if a no is prime or not"
   ]
  },
  {
   "cell_type": "code",
   "execution_count": 68,
   "metadata": {},
   "outputs": [
    {
     "data": {
      "text/plain": [
       "1"
      ]
     },
     "execution_count": 68,
     "metadata": {},
     "output_type": "execute_result"
    }
   ],
   "source": [
    "no = 5\n",
    "\n",
    "counter=0\n",
    "for i in range(2,no+1):\n",
    "    if no%i==0:\n",
    "        counter+=1\n",
    "        \n",
    "if counter==1:\n",
    "    print(\"The number is a prime number\")\n",
    "else:\n",
    "    print(\"The number is not a prime number\")"
   ]
  },
  {
   "cell_type": "markdown",
   "metadata": {},
   "source": [
    "    Give a no. Print all prime no till that no."
   ]
  },
  {
   "cell_type": "code",
   "execution_count": 72,
   "metadata": {},
   "outputs": [
    {
     "name": "stdout",
     "output_type": "stream",
     "text": [
      "2\n",
      "3\n",
      "5\n",
      "7\n",
      "11\n",
      "13\n",
      "17\n",
      "19\n",
      "23\n",
      "29\n"
     ]
    }
   ],
   "source": [
    "no=10\n",
    "counter=0\n",
    "start=2\n",
    "\n",
    "while counter<no:\n",
    "    cnt=0\n",
    "    for i in range(2,start+1):\n",
    "        if start%i==0:\n",
    "            cnt+=1\n",
    "    if cnt==1:\n",
    "        print(start)\n",
    "        counter+=1\n",
    "    start+=1"
   ]
  },
  {
   "cell_type": "markdown",
   "metadata": {},
   "source": [
    "    ### Medium Difficulty\n",
    "\n",
    "    1. **Library Catalogue**: You're digitizing a library catalog. Loop through a list of book titles and print out each title along with its position in the alphabetical order.\n",
    "\n",
    "    2. **Zoo Inventory**: A zookeeper wants a count of all animals in each category. Given a dictionary with animal names as keys and their categories as values, loop through the dictionary and print the count of animals in each category.\n",
    "\n",
    "    3. **Baking Cookies**: You're programming for a bakery. For a recipe that makes 10 cookies, loop through a list of ingredients and print out the quantity required for each ingredient to make 50 cookies.\n",
    "\n",
    "    4. **Camping Trip Supplies**: You're organizing a camping trip. Given a list of supplies with quantities needed, loop through the list and print out each item and double the quantity for a backup.\n",
    "\n",
    "    5. **Plant Watering System**: You're designing an automated plant watering system. Loop through a list of plants where each plant needs water every 'n' days. Print the schedule for watering each plant over a month.\n",
    "\n",
    "    ### Advanced Difficulty\n",
    "\n",
    "    1. **Astronomy Star Mapping**: You're helping astronomers map stars. Given a list of stars with their brightness levels, loop through the list and categorize them into 'Dim', 'Normal', and 'Bright', based on brightness thresholds.\n",
    "\n",
    "    2. **School Timetable Generator**: Write a program to generate a weekly timetable. Given a list of subjects and a list of days, create a nested loop to assign each subject to a different day and print the timetable.\n",
    "\n",
    "    3. **Weather Station Data Analysis**: You're analyzing data from a weather station. Loop through a year's worth of temperature data stored in a dictionary (keyed by date) and print the average temperature for each month.\n",
    "\n",
    "    4. **Marathon Runner Tracker**: For a marathon event, you have a list of runner names and their split times at different checkpoints. Write a loop to print each runner's name and their average speed between checkpoints.\n",
    "\n",
    "    5. **Music Festival Scheduler**: You're scheduling performances for a music festival. Given a list of bands and their set lengths, write a loop that schedules them back-to-back and prints the start time for each band's performance.\n",
    "\n",
    "    These questions provide a diverse range of scenarios that can be effectively solved using `for` loops, helping to enhance your understanding and skills in Python programming."
   ]
  },
  {
   "cell_type": "markdown",
   "metadata": {},
   "source": [
    "    1\n",
    "    12\n",
    "    12\n",
    "    1234\n",
    "    12345\n",
    "\n",
    "    1\n",
    "    22\n",
    "    333\n",
    "    4444\n",
    "    55555\n",
    "    666666\n",
    "\n",
    "    *****\n",
    "    ****\n",
    "    ***\n",
    "    **\n",
    "    *\n",
    "\n",
    "        *\n",
    "       * *\n",
    "      * * *\n",
    "     * * * *\n",
    "    * * * * *\n",
    "\n",
    "\n",
    "    * * * * *\n",
    "     * * * *\n",
    "      * * *\n",
    "       * *\n",
    "        *\n",
    "\n",
    "\n",
    "        \n",
    "        *\n",
    "       * *\n",
    "      * * *\n",
    "     * * * *\n",
    "    * * * * *\n",
    "     * * * *\n",
    "      * * *\n",
    "       * *\n",
    "        *\n",
    "\n",
    "\n",
    "        *\n",
    "       * *\n",
    "      *   *\n",
    "     *     *\n",
    "    *       *\n",
    "     *     *\n",
    "      *   *\n",
    "       * *\n",
    "        *"
   ]
  }
 ],
 "metadata": {
  "kernelspec": {
   "display_name": ".env",
   "language": "python",
   "name": "python3"
  },
  "language_info": {
   "codemirror_mode": {
    "name": "ipython",
    "version": 3
   },
   "file_extension": ".py",
   "mimetype": "text/x-python",
   "name": "python",
   "nbconvert_exporter": "python",
   "pygments_lexer": "ipython3",
   "version": "3.12.1"
  }
 },
 "nbformat": 4,
 "nbformat_minor": 2
}
