{
 "cells": [
  {
   "cell_type": "markdown",
   "metadata": {},
   "source": [
    "    While\n",
    "    break\n",
    "    continue\n",
    "    Comprehension\n",
    "        List\n",
    "        Tuple\n",
    "        Dict\n",
    "        Zip\n",
    "\n",
    "    Exception Handling\n",
    "\n",
    "    Functions\n",
    "    Types of functions\n",
    "    Calling of the function\n",
    "    Types of Parameter\n",
    "\n",
    "    Global and Local Variable"
   ]
  },
  {
   "cell_type": "markdown",
   "metadata": {},
   "source": [
    "    Initialization\n",
    "    Condition\n",
    "    Iteration\n",
    "\n",
    "    What is the difference between For loop and while loop\n",
    "\n",
    "    For Loop is used when we havae finite/fixed no of iteration\n",
    "    While Loop is used when we do not have fixed number of iterations. It will keep on executing\n",
    "    until the condition becomes false.\n",
    "\n",
    "    1. In a for loop, you need to specify how many times the code block will \n",
    "    be executed in advance whereas in a while loop, it's determined dynamically\n",
    "    during runtime.\n",
    "\n",
    "    2. The syntax of both loops are different. A for loop consists of an optional initializer   \n",
    "    expression (which runs once before the first iteration), a condition expression\n",
    "    (which tests if the loop should continue or not - this decides whether another\n",
    "    iteration should occur), and an increment/decrement expression which executes after each iteration.\n",
    "    On the other hand, a while loop only has a single condition expression that must evaluate\n",
    "    to True or False at every test; no expressions are evaluated before or after each iteration."
   ]
  },
  {
   "cell_type": "markdown",
   "metadata": {},
   "source": [
    "    Syntax\n",
    "\n",
    "        for <initialization> in <iterable>:\n",
    "            <for loop block>\n",
    "\n",
    "        Iterable  => \n",
    "            list \n",
    "            string \n",
    "            tuple \n",
    "            dictionary \n",
    "            set \n",
    "            Series \n",
    "            DataFrame \n",
    "            Array \n",
    "            Numpy Array\n",
    "        range()\n",
    "        enumerate() => we want iterable value as weel as the index"
   ]
  },
  {
   "cell_type": "code",
   "execution_count": 4,
   "metadata": {},
   "outputs": [
    {
     "data": {
      "text/plain": [
       "[2, 4, 6, 8, 10, 12, 14, 16, 18, 20]"
      ]
     },
     "execution_count": 4,
     "metadata": {},
     "output_type": "execute_result"
    }
   ],
   "source": [
    "even_lst=[]\n",
    "for i in range(2,21,2):\n",
    "    even_lst.append(i)\n",
    "even_lst"
   ]
  },
  {
   "cell_type": "code",
   "execution_count": 5,
   "metadata": {},
   "outputs": [
    {
     "name": "stdout",
     "output_type": "stream",
     "text": [
      "2\n",
      "4\n",
      "6\n",
      "8\n",
      "10\n",
      "12\n",
      "14\n",
      "16\n",
      "18\n",
      "20\n"
     ]
    }
   ],
   "source": [
    "for no in even_lst:\n",
    "    print(no)"
   ]
  },
  {
   "cell_type": "code",
   "execution_count": 6,
   "metadata": {},
   "outputs": [
    {
     "name": "stdout",
     "output_type": "stream",
     "text": [
      "Index => 0\t Value => 2\n",
      "Index => 1\t Value => 4\n",
      "Index => 2\t Value => 6\n",
      "Index => 3\t Value => 8\n",
      "Index => 4\t Value => 10\n",
      "Index => 5\t Value => 12\n",
      "Index => 6\t Value => 14\n",
      "Index => 7\t Value => 16\n",
      "Index => 8\t Value => 18\n",
      "Index => 9\t Value => 20\n"
     ]
    }
   ],
   "source": [
    "for idx,val in enumerate(even_lst):\n",
    "    print(f'Index => {idx}\\t Value => {val}')"
   ]
  },
  {
   "cell_type": "markdown",
   "metadata": {},
   "source": [
    "    Comprehension\n",
    "        List \n",
    "            [ele for <initilization> in <iterable> ]\n",
    "        dict        \n",
    "            [key:value for key,value in <iterable> ]\n",
    "        "
   ]
  },
  {
   "cell_type": "code",
   "execution_count": 7,
   "metadata": {},
   "outputs": [],
   "source": [
    "odd_lst=[1,2,3,5]"
   ]
  },
  {
   "cell_type": "code",
   "execution_count": null,
   "metadata": {},
   "outputs": [],
   "source": [
    "even_lst=[]\n",
    "for i in range(2,21,2):\n",
    "    even_lst.append(i)\n",
    "even_lst"
   ]
  },
  {
   "cell_type": "code",
   "execution_count": 9,
   "metadata": {},
   "outputs": [
    {
     "data": {
      "text/plain": [
       "[2, 4, 6, 8, 10, 12, 14, 16, 18]"
      ]
     },
     "execution_count": 9,
     "metadata": {},
     "output_type": "execute_result"
    }
   ],
   "source": [
    "even_lst=[ i for i in range(2,20,2)]\n",
    "even_lst"
   ]
  },
  {
   "cell_type": "code",
   "execution_count": 10,
   "metadata": {},
   "outputs": [
    {
     "name": "stdout",
     "output_type": "stream",
     "text": [
      "0\n",
      "1\n",
      "4\n",
      "9\n",
      "16\n"
     ]
    }
   ],
   "source": [
    "for i in range(5):\n",
    "    print(i**2)"
   ]
  },
  {
   "cell_type": "code",
   "execution_count": 12,
   "metadata": {},
   "outputs": [
    {
     "data": {
      "text/plain": [
       "[0, 1, 4, 9, 16]"
      ]
     },
     "execution_count": 12,
     "metadata": {},
     "output_type": "execute_result"
    }
   ],
   "source": [
    "sqr_lst=[i**2 for i in range(5)]\n",
    "sqr_lst"
   ]
  },
  {
   "cell_type": "code",
   "execution_count": 14,
   "metadata": {},
   "outputs": [
    {
     "data": {
      "text/plain": [
       "(0, 1, 4, 9, 16)"
      ]
     },
     "execution_count": 14,
     "metadata": {},
     "output_type": "execute_result"
    }
   ],
   "source": [
    "sqr_tup=tuple(i**2 for i in range(5))\n",
    "sqr_tup"
   ]
  },
  {
   "cell_type": "code",
   "execution_count": 15,
   "metadata": {},
   "outputs": [
    {
     "data": {
      "text/plain": [
       "{0: 2, 1: 4, 2: 6, 3: 8, 4: 10, 5: 12, 6: 14, 7: 16, 8: 18}"
      ]
     },
     "execution_count": 15,
     "metadata": {},
     "output_type": "execute_result"
    }
   ],
   "source": [
    "dict_even_lst={key:value for key,value in enumerate(even_lst)}\n",
    "dict_even_lst"
   ]
  },
  {
   "cell_type": "code",
   "execution_count": 16,
   "metadata": {},
   "outputs": [
    {
     "data": {
      "text/plain": [
       "dict_keys([0, 1, 2, 3, 4, 5, 6, 7, 8])"
      ]
     },
     "execution_count": 16,
     "metadata": {},
     "output_type": "execute_result"
    }
   ],
   "source": [
    "dict_even_lst.keys()"
   ]
  },
  {
   "cell_type": "code",
   "execution_count": 17,
   "metadata": {},
   "outputs": [
    {
     "data": {
      "text/plain": [
       "dict_values([2, 4, 6, 8, 10, 12, 14, 16, 18])"
      ]
     },
     "execution_count": 17,
     "metadata": {},
     "output_type": "execute_result"
    }
   ],
   "source": [
    "dict_even_lst.values()"
   ]
  },
  {
   "cell_type": "code",
   "execution_count": 19,
   "metadata": {},
   "outputs": [
    {
     "data": {
      "text/plain": [
       "[0, 1, 2, 3, 4, 5, 6, 7, 8]"
      ]
     },
     "execution_count": 19,
     "metadata": {},
     "output_type": "execute_result"
    }
   ],
   "source": [
    "list(dict_even_lst.keys())"
   ]
  },
  {
   "cell_type": "code",
   "execution_count": 20,
   "metadata": {},
   "outputs": [
    {
     "data": {
      "text/plain": [
       "[2, 4, 6, 8, 10, 12, 14, 16, 18]"
      ]
     },
     "execution_count": 20,
     "metadata": {},
     "output_type": "execute_result"
    }
   ],
   "source": [
    "list(dict_even_lst.values())"
   ]
  },
  {
   "cell_type": "code",
   "execution_count": 21,
   "metadata": {},
   "outputs": [
    {
     "data": {
      "text/plain": [
       "<zip at 0x2a5860443c0>"
      ]
     },
     "execution_count": 21,
     "metadata": {},
     "output_type": "execute_result"
    }
   ],
   "source": [
    "zip(list(dict_even_lst.keys()),list(dict_even_lst.values()))"
   ]
  },
  {
   "cell_type": "code",
   "execution_count": 22,
   "metadata": {},
   "outputs": [
    {
     "data": {
      "text/plain": [
       "[(0, 2), (1, 4), (2, 6), (3, 8), (4, 10), (5, 12), (6, 14), (7, 16), (8, 18)]"
      ]
     },
     "execution_count": 22,
     "metadata": {},
     "output_type": "execute_result"
    }
   ],
   "source": [
    "list(zip(list(dict_even_lst.keys()),list(dict_even_lst.values())))"
   ]
  },
  {
   "cell_type": "code",
   "execution_count": 23,
   "metadata": {},
   "outputs": [
    {
     "data": {
      "text/plain": [
       "((0, 2), (1, 4), (2, 6), (3, 8), (4, 10), (5, 12), (6, 14), (7, 16), (8, 18))"
      ]
     },
     "execution_count": 23,
     "metadata": {},
     "output_type": "execute_result"
    }
   ],
   "source": [
    "tuple(zip(list(dict_even_lst.keys()),list(dict_even_lst.values())))"
   ]
  },
  {
   "cell_type": "code",
   "execution_count": 24,
   "metadata": {},
   "outputs": [
    {
     "data": {
      "text/plain": [
       "dict_items([(0, 2), (1, 4), (2, 6), (3, 8), (4, 10), (5, 12), (6, 14), (7, 16), (8, 18)])"
      ]
     },
     "execution_count": 24,
     "metadata": {},
     "output_type": "execute_result"
    }
   ],
   "source": [
    "dict_even_lst.items()"
   ]
  },
  {
   "cell_type": "code",
   "execution_count": 25,
   "metadata": {},
   "outputs": [
    {
     "data": {
      "text/plain": [
       "{0: 2, 1: 4, 2: 6, 3: 8, 4: 10, 5: 12, 6: 14, 7: 16, 8: 18}"
      ]
     },
     "execution_count": 25,
     "metadata": {},
     "output_type": "execute_result"
    }
   ],
   "source": [
    "dict(zip(list(dict_even_lst.keys()),list(dict_even_lst.values())))"
   ]
  },
  {
   "cell_type": "code",
   "execution_count": 26,
   "metadata": {},
   "outputs": [],
   "source": [
    "name=['Siraj','Ali','Sohel']\n",
    "marks=[8,7,9]"
   ]
  },
  {
   "cell_type": "code",
   "execution_count": 27,
   "metadata": {},
   "outputs": [
    {
     "data": {
      "text/plain": [
       "{'Siraj': 8, 'Ali': 7, 'Sohel': 9}"
      ]
     },
     "execution_count": 27,
     "metadata": {},
     "output_type": "execute_result"
    }
   ],
   "source": [
    "dict(zip(name,marks))"
   ]
  },
  {
   "cell_type": "markdown",
   "metadata": {},
   "source": [
    "    initialization\n",
    "    condition\n",
    "    iterable\n",
    "\n",
    "    While\n",
    "        initialization\n",
    "        while <condition>:\n",
    "            <while block>\n",
    "            <iteration>"
   ]
  },
  {
   "cell_type": "code",
   "execution_count": null,
   "metadata": {},
   "outputs": [],
   "source": [
    "no=1\n",
    "while no <=5:\n",
    "    print(no)"
   ]
  },
  {
   "cell_type": "code",
   "execution_count": 29,
   "metadata": {},
   "outputs": [
    {
     "name": "stdout",
     "output_type": "stream",
     "text": [
      "1\n",
      "2\n",
      "3\n",
      "4\n",
      "5\n"
     ]
    }
   ],
   "source": [
    "no=1\n",
    "while no <=5:\n",
    "    print(no)\n",
    "    no=no+1"
   ]
  },
  {
   "cell_type": "code",
   "execution_count": 30,
   "metadata": {},
   "outputs": [
    {
     "name": "stdout",
     "output_type": "stream",
     "text": [
      "1\n",
      "1.5\n",
      "2.0\n",
      "2.5\n",
      "3.0\n",
      "3.5\n",
      "4.0\n",
      "4.5\n",
      "5.0\n"
     ]
    }
   ],
   "source": [
    "no=1\n",
    "while no <=5:\n",
    "    print(no)\n",
    "    no=no+0.5"
   ]
  },
  {
   "cell_type": "code",
   "execution_count": 31,
   "metadata": {},
   "outputs": [
    {
     "name": "stdout",
     "output_type": "stream",
     "text": [
      "1\n",
      "1.25\n",
      "1.5\n",
      "1.75\n",
      "2.0\n",
      "2.25\n",
      "2.5\n",
      "2.75\n",
      "3.0\n",
      "3.25\n",
      "3.5\n",
      "3.75\n",
      "4.0\n",
      "4.25\n",
      "4.5\n",
      "4.75\n",
      "5.0\n"
     ]
    }
   ],
   "source": [
    "no=1\n",
    "while no <=5:\n",
    "    print(no)\n",
    "    no=no+0.25"
   ]
  },
  {
   "cell_type": "code",
   "execution_count": 32,
   "metadata": {},
   "outputs": [
    {
     "name": "stdout",
     "output_type": "stream",
     "text": [
      "1\n",
      "1.25\n",
      "1.5\n",
      "1.75\n",
      "2.0\n",
      "2.25\n",
      "2.5\n",
      "2.75\n",
      "3.0\n",
      "3.25\n",
      "3.5\n",
      "3.75\n",
      "4.0\n",
      "4.25\n",
      "4.5\n",
      "4.75\n",
      "5.0\n"
     ]
    }
   ],
   "source": [
    "no=1\n",
    "while no <=5:\n",
    "    print(no)\n",
    "    no+=0.25"
   ]
  },
  {
   "cell_type": "code",
   "execution_count": 33,
   "metadata": {},
   "outputs": [
    {
     "name": "stdout",
     "output_type": "stream",
     "text": [
      "1\n",
      "2\n",
      "3\n",
      "4\n",
      "5\n"
     ]
    }
   ],
   "source": [
    "no=1\n",
    "while no <=5:\n",
    "    print(no)\n",
    "    no+=1"
   ]
  },
  {
   "cell_type": "code",
   "execution_count": 36,
   "metadata": {},
   "outputs": [
    {
     "name": "stdout",
     "output_type": "stream",
     "text": [
      "1\n",
      "2\n"
     ]
    }
   ],
   "source": [
    "no=1\n",
    "while no <=10:\n",
    "    if no%3==0:\n",
    "        break\n",
    "    print(no)\n",
    "    no+=1"
   ]
  },
  {
   "cell_type": "code",
   "execution_count": 42,
   "metadata": {},
   "outputs": [
    {
     "name": "stdout",
     "output_type": "stream",
     "text": [
      "1\n",
      "2\n",
      "4\n",
      "5\n",
      "7\n",
      "8\n",
      "10\n"
     ]
    }
   ],
   "source": [
    "no=0\n",
    "while no <=9:   \n",
    "    no+=1\n",
    "    if no%3==0:\n",
    "        continue\n",
    "    else:            \n",
    "        print(no)     \n",
    "            \n",
    "        "
   ]
  },
  {
   "cell_type": "markdown",
   "metadata": {},
   "source": [
    "    "
   ]
  },
  {
   "cell_type": "code",
   "execution_count": 69,
   "metadata": {},
   "outputs": [
    {
     "data": {
      "text/plain": [
       "['c', 1, 'd', 5, 'sohel', 'z', 'a', 'y', 'b']"
      ]
     },
     "execution_count": 69,
     "metadata": {},
     "output_type": "execute_result"
    }
   ],
   "source": [
    "wanted='sohel'\n",
    "blaklisted=['a','b','c']\n",
    "attend =list(set(['y','z','d',1,5]+blaklisted+[wanted]))\n",
    "attend"
   ]
  },
  {
   "cell_type": "code",
   "execution_count": 70,
   "metadata": {},
   "outputs": [
    {
     "name": "stdout",
     "output_type": "stream",
     "text": [
      "c\n",
      "1\n",
      "d\n",
      "5\n",
      "sohel\n",
      "z\n",
      "a\n",
      "y\n",
      "b\n"
     ]
    }
   ],
   "source": [
    "for i in attend:\n",
    "    print(i)"
   ]
  },
  {
   "cell_type": "code",
   "execution_count": 71,
   "metadata": {},
   "outputs": [
    {
     "name": "stdout",
     "output_type": "stream",
     "text": [
      "Allowed => 1\n",
      "Allowed => d\n",
      "Allowed => 5\n",
      "Allowed => z\n",
      "Allowed => y\n"
     ]
    }
   ],
   "source": [
    "for i in attend:\n",
    "    if i not in blaklisted+[wanted]:\n",
    "        print(f'Allowed => {i}')"
   ]
  },
  {
   "cell_type": "code",
   "execution_count": 57,
   "metadata": {},
   "outputs": [
    {
     "data": {
      "text/plain": [
       "['a', 'b', 'c', 'sohel']"
      ]
     },
     "execution_count": 57,
     "metadata": {},
     "output_type": "execute_result"
    }
   ],
   "source": [
    "blaklisted+[wanted]"
   ]
  },
  {
   "cell_type": "code",
   "execution_count": 56,
   "metadata": {},
   "outputs": [
    {
     "name": "stdout",
     "output_type": "stream",
     "text": [
      "Allowed => 1\n",
      "Allowed => d\n",
      "Allowed => 5\n"
     ]
    }
   ],
   "source": [
    "for i in attend:\n",
    "    if i ==wanted:\n",
    "        break\n",
    "    elif i not in blaklisted+[wanted]:\n",
    "        print(f'Allowed => {i}')"
   ]
  },
  {
   "cell_type": "code",
   "execution_count": 74,
   "metadata": {},
   "outputs": [
    {
     "data": {
      "text/plain": [
       "['c', 1, 'd', 5, 'sohel', 'z', 'a', 'y', 'b']"
      ]
     },
     "execution_count": 74,
     "metadata": {},
     "output_type": "execute_result"
    }
   ],
   "source": [
    "['c', 1, 'd', 5, 'sohel', 'z', 'a', 'y', 'b']"
   ]
  },
  {
   "cell_type": "code",
   "execution_count": 73,
   "metadata": {},
   "outputs": [
    {
     "name": "stdout",
     "output_type": "stream",
     "text": [
      "Checking => c\n",
      "Arrest for Interrogation c\n",
      "Checking => 1\n",
      "Allowed => 1\n",
      "Checking => d\n",
      "Allowed => d\n",
      "Checking => 5\n",
      "Allowed => 5\n",
      "Checking => sohel\n"
     ]
    }
   ],
   "source": [
    "for i in attend:\n",
    "    print(f'Checking => {i}')\n",
    "    if i ==wanted:\n",
    "        break\n",
    "    elif i in blaklisted:\n",
    "        print(f'Arrest for Interrogation {i}')\n",
    "        continue\n",
    "    elif i not in blaklisted+[wanted]:\n",
    "        print(f'Allowed => {i}')"
   ]
  },
  {
   "cell_type": "markdown",
   "metadata": {},
   "source": [
    "    we have to print nos from 1 to 20\n",
    "        if we are getting multiple of 10 we have to break the loop\n",
    "        if we are getting multiple of 3 we have to skip the iteration"
   ]
  },
  {
   "cell_type": "code",
   "execution_count": 63,
   "metadata": {},
   "outputs": [
    {
     "name": "stdout",
     "output_type": "stream",
     "text": [
      "1\n",
      "2\n",
      "4\n",
      "5\n",
      "7\n",
      "8\n"
     ]
    }
   ],
   "source": [
    "for i in range(1,21):\n",
    "    if i%10==0:\n",
    "        break\n",
    "    if i %3==0:\n",
    "        continue\n",
    "    else:\n",
    "        print(i)"
   ]
  },
  {
   "cell_type": "code",
   "execution_count": 64,
   "metadata": {},
   "outputs": [
    {
     "name": "stdout",
     "output_type": "stream",
     "text": [
      "1\n",
      "2\n",
      "4\n",
      "5\n",
      "7\n",
      "8\n",
      "10\n"
     ]
    }
   ],
   "source": [
    "for i in range(1,21):\n",
    "    if i %3==0:\n",
    "        continue\n",
    "    else:\n",
    "        print(i)    \n",
    "    if i%10==0:\n",
    "        break"
   ]
  },
  {
   "cell_type": "markdown",
   "metadata": {},
   "source": [
    "    Syntax:\n",
    "\n",
    "        try:\n",
    "            <block of code you want to check>\n",
    "        except <Define the exception>:\n",
    "            <handle the exception>\n",
    "        finally:\n",
    "            <Finally block>"
   ]
  },
  {
   "cell_type": "code",
   "execution_count": 75,
   "metadata": {},
   "outputs": [
    {
     "ename": "ValueError",
     "evalue": "invalid literal for int() with base 10: 'a'",
     "output_type": "error",
     "traceback": [
      "\u001b[1;31m---------------------------------------------------------------------------\u001b[0m",
      "\u001b[1;31mValueError\u001b[0m                                Traceback (most recent call last)",
      "Cell \u001b[1;32mIn[75], line 1\u001b[0m\n\u001b[1;32m----> 1\u001b[0m no\u001b[38;5;241m=\u001b[39m\u001b[38;5;28;43mint\u001b[39;49m\u001b[43m(\u001b[49m\u001b[38;5;28;43minput\u001b[39;49m\u001b[43m(\u001b[49m\u001b[38;5;124;43m'\u001b[39;49m\u001b[38;5;124;43mPlease enter a no\u001b[39;49m\u001b[38;5;124;43m'\u001b[39;49m\u001b[43m)\u001b[49m\u001b[43m)\u001b[49m\n\u001b[0;32m      2\u001b[0m \u001b[38;5;28mprint\u001b[39m(no)\n",
      "\u001b[1;31mValueError\u001b[0m: invalid literal for int() with base 10: 'a'"
     ]
    }
   ],
   "source": [
    "no=int(input('Please enter a no'))\n",
    "print(no)"
   ]
  },
  {
   "cell_type": "code",
   "execution_count": 76,
   "metadata": {},
   "outputs": [
    {
     "name": "stdout",
     "output_type": "stream",
     "text": [
      "Invalid input. Please enter a valid integer.\n"
     ]
    }
   ],
   "source": [
    "try:\n",
    "    no=int(input('Please enter a no'))\n",
    "    print(no)\n",
    "except ValueError:\n",
    "    print(\"Invalid input. Please enter a valid integer.\")  "
   ]
  },
  {
   "cell_type": "code",
   "execution_count": 79,
   "metadata": {},
   "outputs": [
    {
     "name": "stdout",
     "output_type": "stream",
     "text": [
      "First No => 5 \n",
      "Second No => 15\n",
      "0.3333333333333333\n"
     ]
    }
   ],
   "source": [
    "try:\n",
    "    no1=int(input('Please enter a no'))\n",
    "    no2=int(input('Please enter a no'))\n",
    "    print(f'First No => {no1} \\nSecond No => {no2}')\n",
    "    print(no1/no2)\n",
    "except ValueError:\n",
    "    print(\"Invalid input. Please enter a valid integer.\")  "
   ]
  },
  {
   "cell_type": "code",
   "execution_count": 80,
   "metadata": {},
   "outputs": [
    {
     "name": "stdout",
     "output_type": "stream",
     "text": [
      "First No => 5 \n",
      "Second No => 0\n"
     ]
    },
    {
     "ename": "ZeroDivisionError",
     "evalue": "division by zero",
     "output_type": "error",
     "traceback": [
      "\u001b[1;31m---------------------------------------------------------------------------\u001b[0m",
      "\u001b[1;31mZeroDivisionError\u001b[0m                         Traceback (most recent call last)",
      "Cell \u001b[1;32mIn[80], line 5\u001b[0m\n\u001b[0;32m      3\u001b[0m     no2\u001b[38;5;241m=\u001b[39m\u001b[38;5;28mint\u001b[39m(\u001b[38;5;28minput\u001b[39m(\u001b[38;5;124m'\u001b[39m\u001b[38;5;124mPlease enter a no\u001b[39m\u001b[38;5;124m'\u001b[39m))\n\u001b[0;32m      4\u001b[0m     \u001b[38;5;28mprint\u001b[39m(\u001b[38;5;124mf\u001b[39m\u001b[38;5;124m'\u001b[39m\u001b[38;5;124mFirst No => \u001b[39m\u001b[38;5;132;01m{\u001b[39;00mno1\u001b[38;5;132;01m}\u001b[39;00m\u001b[38;5;124m \u001b[39m\u001b[38;5;130;01m\\n\u001b[39;00m\u001b[38;5;124mSecond No => \u001b[39m\u001b[38;5;132;01m{\u001b[39;00mno2\u001b[38;5;132;01m}\u001b[39;00m\u001b[38;5;124m'\u001b[39m)\n\u001b[1;32m----> 5\u001b[0m     \u001b[38;5;28mprint\u001b[39m(\u001b[43mno1\u001b[49m\u001b[38;5;241;43m/\u001b[39;49m\u001b[43mno2\u001b[49m)\n\u001b[0;32m      6\u001b[0m \u001b[38;5;28;01mexcept\u001b[39;00m \u001b[38;5;167;01mValueError\u001b[39;00m:\n\u001b[0;32m      7\u001b[0m     \u001b[38;5;28mprint\u001b[39m(\u001b[38;5;124m\"\u001b[39m\u001b[38;5;124mInvalid input. Please enter a valid integer.\u001b[39m\u001b[38;5;124m\"\u001b[39m) \n",
      "\u001b[1;31mZeroDivisionError\u001b[0m: division by zero"
     ]
    }
   ],
   "source": [
    "try:\n",
    "    no1=int(input('Please enter a no'))\n",
    "    no2=int(input('Please enter a no'))\n",
    "    print(f'First No => {no1} \\nSecond No => {no2}')\n",
    "    print(no1/no2)\n",
    "except ValueError:\n",
    "    print(\"Invalid input. Please enter a valid integer.\") "
   ]
  },
  {
   "cell_type": "code",
   "execution_count": 81,
   "metadata": {},
   "outputs": [
    {
     "name": "stdout",
     "output_type": "stream",
     "text": [
      "First No => 5 \n",
      "Second No => 0\n",
      "We got error => division by zero\n",
      "Please provide non-zero value.\n"
     ]
    }
   ],
   "source": [
    "try:\n",
    "    no1=int(input('Please enter a no'))\n",
    "    no2=int(input('Please enter a no'))\n",
    "    print(f'First No => {no1} \\nSecond No => {no2}')\n",
    "    print(no1/no2)\n",
    "except ValueError:\n",
    "    print(\"Invalid input. Please enter a valid integer.\") \n",
    "except ZeroDivisionError as e:\n",
    "    print(f\"We got error => {e}\\nPlease provide non-zero value.\")"
   ]
  },
  {
   "cell_type": "code",
   "execution_count": 89,
   "metadata": {},
   "outputs": [
    {
     "name": "stdout",
     "output_type": "stream",
     "text": [
      "First No => 5 \n",
      "Second No => 0\n",
      "This is the end of program\n"
     ]
    },
    {
     "ename": "NameError",
     "evalue": "name 'no3' is not defined",
     "output_type": "error",
     "traceback": [
      "\u001b[1;31m---------------------------------------------------------------------------\u001b[0m",
      "\u001b[1;31mNameError\u001b[0m                                 Traceback (most recent call last)",
      "Cell \u001b[1;32mIn[89], line 5\u001b[0m\n\u001b[0;32m      3\u001b[0m     no2\u001b[38;5;241m=\u001b[39m\u001b[38;5;28mint\u001b[39m(\u001b[38;5;28minput\u001b[39m(\u001b[38;5;124m'\u001b[39m\u001b[38;5;124mPlease enter a no\u001b[39m\u001b[38;5;124m'\u001b[39m))\n\u001b[0;32m      4\u001b[0m     \u001b[38;5;28mprint\u001b[39m(\u001b[38;5;124mf\u001b[39m\u001b[38;5;124m'\u001b[39m\u001b[38;5;124mFirst No => \u001b[39m\u001b[38;5;132;01m{\u001b[39;00mno1\u001b[38;5;132;01m}\u001b[39;00m\u001b[38;5;124m \u001b[39m\u001b[38;5;130;01m\\n\u001b[39;00m\u001b[38;5;124mSecond No => \u001b[39m\u001b[38;5;132;01m{\u001b[39;00mno2\u001b[38;5;132;01m}\u001b[39;00m\u001b[38;5;124m'\u001b[39m)    \n\u001b[1;32m----> 5\u001b[0m     \u001b[38;5;28mprint\u001b[39m(\u001b[43mno3\u001b[49m)\n\u001b[0;32m      6\u001b[0m     \u001b[38;5;28mprint\u001b[39m(no1\u001b[38;5;241m/\u001b[39mno2)\n\u001b[0;32m      7\u001b[0m \u001b[38;5;28;01mexcept\u001b[39;00m \u001b[38;5;167;01mValueError\u001b[39;00m:\n",
      "\u001b[1;31mNameError\u001b[0m: name 'no3' is not defined"
     ]
    }
   ],
   "source": [
    "try:\n",
    "    no1=int(input('Please enter a no'))\n",
    "    no2=int(input('Please enter a no'))\n",
    "    print(f'First No => {no1} \\nSecond No => {no2}')    \n",
    "    print(no3)\n",
    "    print(no1/no2)\n",
    "except ValueError:\n",
    "    print(\"Invalid input. Please enter a valid integer.\") \n",
    "except ZeroDivisionError as e:\n",
    "    print(f\"We got error => {e}\\nPlease provide non-zero value.\")\n",
    "finally:\n",
    "    print(\"This is the end of program\")"
   ]
  },
  {
   "cell_type": "code",
   "execution_count": 86,
   "metadata": {},
   "outputs": [
    {
     "name": "stdout",
     "output_type": "stream",
     "text": [
      "First No => 5 \n",
      "Second No => 6\n",
      "0.8333333333333334\n",
      "We got error  => name 'no3' is not defined\n"
     ]
    }
   ],
   "source": [
    "try:\n",
    "    no1=int(input('Please enter a no'))\n",
    "    no2=int(input('Please enter a no'))\n",
    "    print(f'First No => {no1} \\nSecond No => {no2}')\n",
    "    print(no1/no2)\n",
    "    print(no3)\n",
    "except ValueError:\n",
    "    print(\"Invalid input. Please enter a valid integer.\") \n",
    "except ZeroDivisionError as e:\n",
    "    print(f\"We got error => {e}\\nPlease provide non-zero value.\")\n",
    "except Exception as e:\n",
    "    print(f'We got error  => {e}')\n",
    "finally:\n",
    "    print(\"This is the end of program\")"
   ]
  },
  {
   "cell_type": "code",
   "execution_count": 100,
   "metadata": {},
   "outputs": [
    {
     "name": "stdout",
     "output_type": "stream",
     "text": [
      "4\n",
      "15\n",
      "162\n"
     ]
    }
   ],
   "source": [
    "no=1\n",
    "no2=3\n",
    "print(no+no2)\n",
    "no3=7\n",
    "no4=8\n",
    "print(no3+no4)\n",
    "no5=77\n",
    "no6=85\n",
    "print(no5+no6)"
   ]
  },
  {
   "cell_type": "markdown",
   "metadata": {},
   "source": [
    "    Function\n",
    "        Definition\n",
    "        Calling\n",
    "    Syntax\n",
    "\n",
    "        def <function_name>(<parameter list> #optional):\n",
    "            <Block of code>\n",
    "            return <variable> #optional\n",
    "            \n",
    "        <fucntion_name>(parameter_list)"
   ]
  },
  {
   "cell_type": "code",
   "execution_count": 101,
   "metadata": {},
   "outputs": [],
   "source": [
    "def greet():\n",
    "    print(\"Hello\")"
   ]
  },
  {
   "cell_type": "code",
   "execution_count": 102,
   "metadata": {},
   "outputs": [
    {
     "name": "stdout",
     "output_type": "stream",
     "text": [
      "Hello\n"
     ]
    }
   ],
   "source": [
    "greet()"
   ]
  },
  {
   "cell_type": "code",
   "execution_count": null,
   "metadata": {},
   "outputs": [],
   "source": [
    "print()"
   ]
  },
  {
   "cell_type": "markdown",
   "metadata": {},
   "source": [
    "    Functions\n",
    "        Built In\n",
    "            print()\n",
    "            input()\n",
    "            mean()\n",
    "            split()\n",
    "        User Defined Function\n",
    "            Created by user"
   ]
  },
  {
   "cell_type": "code",
   "execution_count": 107,
   "metadata": {},
   "outputs": [
    {
     "name": "stdout",
     "output_type": "stream",
     "text": [
      "Start\n",
      "Good Morniing\n",
      "12:00 PM\n",
      "Good Afternoon\n",
      "Time for Snacks\n",
      "Good Evening\n",
      "Time to sleep\n",
      "Good Night\n",
      "End\n"
     ]
    }
   ],
   "source": [
    "def greet_morning():\n",
    "    print('Good Morniing')\n",
    "    \n",
    "def greet_afternoon():\n",
    "    print('Good Afternoon')\n",
    "    \n",
    "def greet_evening():\n",
    "    print('Good Evening')    \n",
    "\n",
    "def greet_night():\n",
    "    print('Good Night')\n",
    "    \n",
    "print('Start')\n",
    "greet_morning()\n",
    "print('12:00 PM')\n",
    "greet_afternoon()\n",
    "print('Time for Snacks')\n",
    "greet_evening()\n",
    "print('Time to sleep')\n",
    "greet_night()\n",
    "print('End')"
   ]
  },
  {
   "cell_type": "markdown",
   "metadata": {},
   "source": [
    "    No Parameter    No Return\n",
    "    Parameter       No Return\n",
    "    No Parameter    Return\n",
    "    Parameter       Return"
   ]
  },
  {
   "cell_type": "markdown",
   "metadata": {},
   "source": [
    "    No Parameter    No Return"
   ]
  },
  {
   "cell_type": "code",
   "execution_count": 108,
   "metadata": {},
   "outputs": [
    {
     "name": "stdout",
     "output_type": "stream",
     "text": [
      "Hello\n"
     ]
    }
   ],
   "source": [
    "def greet():\n",
    "    print('Hello')\n",
    "greet()"
   ]
  },
  {
   "cell_type": "markdown",
   "metadata": {},
   "source": [
    "    Parameter       No Return"
   ]
  },
  {
   "cell_type": "code",
   "execution_count": 109,
   "metadata": {},
   "outputs": [
    {
     "ename": "TypeError",
     "evalue": "greet_name() missing 1 required positional argument: 'name'",
     "output_type": "error",
     "traceback": [
      "\u001b[1;31m---------------------------------------------------------------------------\u001b[0m",
      "\u001b[1;31mTypeError\u001b[0m                                 Traceback (most recent call last)",
      "Cell \u001b[1;32mIn[109], line 3\u001b[0m\n\u001b[0;32m      1\u001b[0m \u001b[38;5;28;01mdef\u001b[39;00m \u001b[38;5;21mgreet_name\u001b[39m(name):\n\u001b[0;32m      2\u001b[0m     \u001b[38;5;28mprint\u001b[39m(\u001b[38;5;124m\"\u001b[39m\u001b[38;5;124mHello, \u001b[39m\u001b[38;5;124m\"\u001b[39m \u001b[38;5;241m+\u001b[39m name)\n\u001b[1;32m----> 3\u001b[0m \u001b[43mgreet_name\u001b[49m\u001b[43m(\u001b[49m\u001b[43m)\u001b[49m\n",
      "\u001b[1;31mTypeError\u001b[0m: greet_name() missing 1 required positional argument: 'name'"
     ]
    }
   ],
   "source": [
    "def greet_name(name):\n",
    "    print(\"Hello, \" + name)\n",
    "greet_name()"
   ]
  },
  {
   "cell_type": "code",
   "execution_count": 110,
   "metadata": {},
   "outputs": [
    {
     "name": "stdout",
     "output_type": "stream",
     "text": [
      "Hello, Ali\n"
     ]
    }
   ],
   "source": [
    "def greet_name(name):\n",
    "    print(\"Hello, \" + name)\n",
    "greet_name('Ali')"
   ]
  },
  {
   "cell_type": "code",
   "execution_count": 111,
   "metadata": {},
   "outputs": [],
   "source": [
    "def greet_name_r(name):\n",
    "    return f'Hello {name}'"
   ]
  },
  {
   "cell_type": "code",
   "execution_count": 112,
   "metadata": {},
   "outputs": [
    {
     "name": "stdout",
     "output_type": "stream",
     "text": [
      "Hello, Ali\n"
     ]
    }
   ],
   "source": [
    "greet_name('Ali')"
   ]
  },
  {
   "cell_type": "code",
   "execution_count": 113,
   "metadata": {},
   "outputs": [
    {
     "data": {
      "text/plain": [
       "'Hello Ali'"
      ]
     },
     "execution_count": 113,
     "metadata": {},
     "output_type": "execute_result"
    }
   ],
   "source": [
    "result=greet_name_r('Ali')\n",
    "result"
   ]
  },
  {
   "cell_type": "code",
   "execution_count": 114,
   "metadata": {},
   "outputs": [
    {
     "data": {
      "text/plain": [
       "str"
      ]
     },
     "execution_count": 114,
     "metadata": {},
     "output_type": "execute_result"
    }
   ],
   "source": [
    "type(result)"
   ]
  },
  {
   "cell_type": "code",
   "execution_count": 122,
   "metadata": {},
   "outputs": [
    {
     "name": "stdout",
     "output_type": "stream",
     "text": [
      "Hello, Ali\n",
      "Hello, Ali\n",
      "Hello, Ali\n",
      "Hello, Ali\n",
      "Hello, Ali\n",
      "Hello, Ali\n",
      "Hello, Ali\n"
     ]
    }
   ],
   "source": [
    "def greet_name(name):\n",
    "    print(\"Hello, \" + name)\n",
    "    print(\"Hello, \" + name)\n",
    "    print(\"Hello, \" + name)\n",
    "    print(\"Hello, \" + name)\n",
    "    print(\"Hello, \" + name)\n",
    "    print(\"Hello, \" + name)\n",
    "    print(\"Hello, \" + name)\n",
    "greet_name('Ali')"
   ]
  },
  {
   "cell_type": "code",
   "execution_count": 121,
   "metadata": {},
   "outputs": [
    {
     "name": "stdout",
     "output_type": "stream",
     "text": [
      "Hello, Ali\n"
     ]
    },
    {
     "data": {
      "text/plain": [
       "NoneType"
      ]
     },
     "execution_count": 121,
     "metadata": {},
     "output_type": "execute_result"
    }
   ],
   "source": [
    "result=greet_name('Ali')\n",
    "type(result)"
   ]
  },
  {
   "cell_type": "code",
   "execution_count": 132,
   "metadata": {},
   "outputs": [],
   "source": [
    "def take_input():\n",
    "    num1=input()\n",
    "    num2=input()  \n",
    "    return num1,num2  "
   ]
  },
  {
   "cell_type": "code",
   "execution_count": 136,
   "metadata": {},
   "outputs": [
    {
     "data": {
      "text/plain": [
       "('1', '2')"
      ]
     },
     "execution_count": 136,
     "metadata": {},
     "output_type": "execute_result"
    }
   ],
   "source": [
    "take_input()"
   ]
  },
  {
   "cell_type": "code",
   "execution_count": 134,
   "metadata": {},
   "outputs": [
    {
     "data": {
      "text/plain": [
       "('1', '2')"
      ]
     },
     "execution_count": 134,
     "metadata": {},
     "output_type": "execute_result"
    }
   ],
   "source": [
    "result=take_input()\n",
    "result"
   ]
  },
  {
   "cell_type": "code",
   "execution_count": 137,
   "metadata": {},
   "outputs": [
    {
     "name": "stdout",
     "output_type": "stream",
     "text": [
      "1 2\n"
     ]
    }
   ],
   "source": [
    "r_num1,r_num2=take_input()\n",
    "print(r_num1,r_num2)"
   ]
  },
  {
   "cell_type": "code",
   "execution_count": 138,
   "metadata": {},
   "outputs": [],
   "source": [
    "def take_input():\n",
    "    num1=2\n",
    "    num2=5 \n",
    "    num3=7\n",
    "    return num1,num2 ,num3"
   ]
  },
  {
   "cell_type": "code",
   "execution_count": 139,
   "metadata": {},
   "outputs": [
    {
     "data": {
      "text/plain": [
       "(2, 5, 7)"
      ]
     },
     "execution_count": 139,
     "metadata": {},
     "output_type": "execute_result"
    }
   ],
   "source": [
    "take_input()"
   ]
  },
  {
   "cell_type": "code",
   "execution_count": 141,
   "metadata": {},
   "outputs": [
    {
     "name": "stdout",
     "output_type": "stream",
     "text": [
      "2 5 7\n"
     ]
    }
   ],
   "source": [
    "a,b,c=take_input()\n",
    "print(a,b,c)"
   ]
  },
  {
   "cell_type": "code",
   "execution_count": 144,
   "metadata": {},
   "outputs": [],
   "source": [
    "def take_input():\n",
    "    num1=2\n",
    "    num2=5 \n",
    "    num3=7\n",
    "    return f'No  1 => {num1},No 2 => {num2} ,No 3 => {num3}'\n",
    "\n"
   ]
  },
  {
   "cell_type": "code",
   "execution_count": 145,
   "metadata": {},
   "outputs": [
    {
     "data": {
      "text/plain": [
       "'No  1 => 2,No 2 => 5 ,No 3 => 7'"
      ]
     },
     "execution_count": 145,
     "metadata": {},
     "output_type": "execute_result"
    }
   ],
   "source": [
    "res=take_input()\n",
    "res"
   ]
  },
  {
   "cell_type": "code",
   "execution_count": 146,
   "metadata": {},
   "outputs": [
    {
     "ename": "ValueError",
     "evalue": "too many values to unpack (expected 2)",
     "output_type": "error",
     "traceback": [
      "\u001b[1;31m---------------------------------------------------------------------------\u001b[0m",
      "\u001b[1;31mValueError\u001b[0m                                Traceback (most recent call last)",
      "Cell \u001b[1;32mIn[146], line 1\u001b[0m\n\u001b[1;32m----> 1\u001b[0m res1,res2\u001b[38;5;241m=\u001b[39mtake_input()\n",
      "\u001b[1;31mValueError\u001b[0m: too many values to unpack (expected 2)"
     ]
    }
   ],
   "source": [
    "res1,res2=take_input()"
   ]
  },
  {
   "cell_type": "markdown",
   "metadata": {},
   "source": [
    "    Types of Parameter\n",
    "        Positional argument\n",
    "        Default argument\n",
    "        Keyword"
   ]
  },
  {
   "cell_type": "code",
   "execution_count": 147,
   "metadata": {},
   "outputs": [],
   "source": [
    "def greet(name,age):\n",
    "    print(f'Name => {name}\\tAge => {age}')"
   ]
  },
  {
   "cell_type": "code",
   "execution_count": 148,
   "metadata": {},
   "outputs": [
    {
     "ename": "TypeError",
     "evalue": "greet() missing 2 required positional arguments: 'name' and 'age'",
     "output_type": "error",
     "traceback": [
      "\u001b[1;31m---------------------------------------------------------------------------\u001b[0m",
      "\u001b[1;31mTypeError\u001b[0m                                 Traceback (most recent call last)",
      "Cell \u001b[1;32mIn[148], line 1\u001b[0m\n\u001b[1;32m----> 1\u001b[0m \u001b[43mgreet\u001b[49m\u001b[43m(\u001b[49m\u001b[43m)\u001b[49m\n",
      "\u001b[1;31mTypeError\u001b[0m: greet() missing 2 required positional arguments: 'name' and 'age'"
     ]
    }
   ],
   "source": [
    "greet()"
   ]
  },
  {
   "cell_type": "code",
   "execution_count": 149,
   "metadata": {},
   "outputs": [
    {
     "name": "stdout",
     "output_type": "stream",
     "text": [
      "Name => Ali\tAge => 26\n"
     ]
    }
   ],
   "source": [
    "greet('Ali',26)"
   ]
  },
  {
   "cell_type": "code",
   "execution_count": 150,
   "metadata": {},
   "outputs": [
    {
     "name": "stdout",
     "output_type": "stream",
     "text": [
      "Name => 26\tAge => Ali\n"
     ]
    }
   ],
   "source": [
    "greet(26,'Ali')"
   ]
  },
  {
   "cell_type": "code",
   "execution_count": 152,
   "metadata": {},
   "outputs": [
    {
     "name": "stdout",
     "output_type": "stream",
     "text": [
      "Name => Ali\tAge => 26\n"
     ]
    }
   ],
   "source": [
    "greet(age=26,name='Ali')"
   ]
  },
  {
   "cell_type": "code",
   "execution_count": 153,
   "metadata": {},
   "outputs": [],
   "source": [
    "def greet(name,designation,city):\n",
    "    print(f'Hello, {name} from {city}. Designation => {designation}')"
   ]
  },
  {
   "cell_type": "code",
   "execution_count": 154,
   "metadata": {},
   "outputs": [
    {
     "name": "stdout",
     "output_type": "stream",
     "text": [
      "Hello, Ali from Lucknow. Designation => Senior Analyst\n"
     ]
    }
   ],
   "source": [
    "greet('Ali','Senior Analyst','Lucknow')"
   ]
  },
  {
   "cell_type": "code",
   "execution_count": 155,
   "metadata": {},
   "outputs": [
    {
     "name": "stdout",
     "output_type": "stream",
     "text": [
      "Hello, Ali from Senior Analyst. Designation => Lucknow\n"
     ]
    }
   ],
   "source": [
    "greet('Ali','Lucknow','Senior Analyst')"
   ]
  },
  {
   "cell_type": "code",
   "execution_count": 156,
   "metadata": {},
   "outputs": [
    {
     "name": "stdout",
     "output_type": "stream",
     "text": [
      "Hello, Ali from Lucknow. Designation => Senior Analyst\n"
     ]
    }
   ],
   "source": [
    "greet(name='Ali',city='Lucknow',designation='Senior Analyst')"
   ]
  },
  {
   "cell_type": "code",
   "execution_count": 157,
   "metadata": {},
   "outputs": [],
   "source": [
    "def greet_senior_analyst(name,city,designation='Senior Analyst'):\n",
    "    print(f'Hello, {name} from {city}. Designation => {designation}')"
   ]
  },
  {
   "cell_type": "code",
   "execution_count": 158,
   "metadata": {},
   "outputs": [
    {
     "name": "stdout",
     "output_type": "stream",
     "text": [
      "Hello, Ali from Lucknow. Designation => Senior Analyst\n"
     ]
    }
   ],
   "source": [
    "greet(name='Ali',city='Lucknow',designation='Senior Analyst')"
   ]
  },
  {
   "cell_type": "code",
   "execution_count": 160,
   "metadata": {},
   "outputs": [
    {
     "name": "stdout",
     "output_type": "stream",
     "text": [
      "Hello, Ali from Lucknow. Designation => Senior Analyst\n"
     ]
    }
   ],
   "source": [
    "greet_senior_analyst('Ali','Lucknow')"
   ]
  },
  {
   "cell_type": "code",
   "execution_count": 161,
   "metadata": {},
   "outputs": [
    {
     "name": "stdout",
     "output_type": "stream",
     "text": [
      "Hello, Ali from Lucknow. Designation => Data Engineer\n"
     ]
    }
   ],
   "source": [
    "greet_senior_analyst('Ali','Lucknow','Data Engineer')"
   ]
  },
  {
   "cell_type": "code",
   "execution_count": 162,
   "metadata": {},
   "outputs": [
    {
     "name": "stdout",
     "output_type": "stream",
     "text": [
      "1\n",
      "2\n"
     ]
    }
   ],
   "source": [
    "print(1)\n",
    "print(2)"
   ]
  },
  {
   "cell_type": "code",
   "execution_count": 163,
   "metadata": {},
   "outputs": [
    {
     "name": "stdout",
     "output_type": "stream",
     "text": [
      "1\n",
      "2\n"
     ]
    }
   ],
   "source": [
    "print(1,end='\\n')\n",
    "print(2)"
   ]
  },
  {
   "cell_type": "code",
   "execution_count": 164,
   "metadata": {},
   "outputs": [
    {
     "name": "stdout",
     "output_type": "stream",
     "text": [
      "1\t2\n"
     ]
    }
   ],
   "source": [
    "print(1,end='\\t')\n",
    "print(2)"
   ]
  },
  {
   "cell_type": "code",
   "execution_count": 165,
   "metadata": {},
   "outputs": [
    {
     "data": {
      "text/plain": [
       "[0, 2, 4, 6, 8, 10, 12, 14, 16, 18]"
      ]
     },
     "execution_count": 165,
     "metadata": {},
     "output_type": "execute_result"
    }
   ],
   "source": [
    "even_lst=[i for i in range(0,20,2)]\n",
    "even_lst"
   ]
  },
  {
   "cell_type": "code",
   "execution_count": 166,
   "metadata": {},
   "outputs": [
    {
     "name": "stdout",
     "output_type": "stream",
     "text": [
      "0\n",
      "2\n",
      "4\n",
      "6\n",
      "8\n",
      "10\n",
      "12\n",
      "14\n",
      "16\n",
      "18\n"
     ]
    }
   ],
   "source": [
    "for i in even_lst:\n",
    "    print(i)"
   ]
  },
  {
   "cell_type": "code",
   "execution_count": 168,
   "metadata": {},
   "outputs": [
    {
     "name": "stdout",
     "output_type": "stream",
     "text": [
      "0 0\n",
      "1 2\n",
      "2 4\n",
      "3 6\n",
      "4 8\n",
      "5 10\n",
      "6 12\n",
      "7 14\n",
      "8 16\n",
      "9 18\n"
     ]
    }
   ],
   "source": [
    "for i in range(len(even_lst)):\n",
    "    print(i,even_lst[i])"
   ]
  },
  {
   "cell_type": "code",
   "execution_count": 171,
   "metadata": {},
   "outputs": [
    {
     "name": "stdout",
     "output_type": "stream",
     "text": [
      "0 0\n",
      "1 2\n",
      "2 4\n",
      "3 6\n",
      "4 8\n",
      "5 10\n",
      "6 12\n",
      "7 14\n",
      "8 16\n",
      "9 18\n"
     ]
    }
   ],
   "source": [
    "for idx,val in enumerate(tuple(even_lst)):\n",
    "    print(idx,val)"
   ]
  },
  {
   "cell_type": "code",
   "execution_count": 174,
   "metadata": {},
   "outputs": [
    {
     "name": "stdout",
     "output_type": "stream",
     "text": [
      "(0, 2)\n",
      "(1, 4)\n",
      "(2, 6)\n",
      "(3, 8)\n",
      "(4, 10)\n",
      "(5, 12)\n",
      "(6, 14)\n",
      "(7, 16)\n",
      "(8, 18)\n"
     ]
    }
   ],
   "source": [
    "for i in enumerate(dict_even_lst.values()):\n",
    "    print(i)"
   ]
  }
 ],
 "metadata": {
  "kernelspec": {
   "display_name": ".env",
   "language": "python",
   "name": "python3"
  },
  "language_info": {
   "codemirror_mode": {
    "name": "ipython",
    "version": 3
   },
   "file_extension": ".py",
   "mimetype": "text/x-python",
   "name": "python",
   "nbconvert_exporter": "python",
   "pygments_lexer": "ipython3",
   "version": "3.12.1"
  }
 },
 "nbformat": 4,
 "nbformat_minor": 2
}
