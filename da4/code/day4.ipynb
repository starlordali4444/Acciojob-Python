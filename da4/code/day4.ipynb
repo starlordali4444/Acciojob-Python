{
 "cells": [
  {
   "cell_type": "markdown",
   "metadata": {},
   "source": [
    "    Agenda\n",
    "        Conditional Statements\n",
    "            Simple If\n",
    "            If Else\n",
    "            Nested If\n",
    "            elif Ladder\n",
    "        Control Statements\n",
    "            Loops\n",
    "                While\n",
    "                For\n",
    "            break\n",
    "            pass\n",
    "            continue\n",
    "        Exception Handling"
   ]
  },
  {
   "cell_type": "markdown",
   "metadata": {},
   "source": [
    "    Equal to                    ==\n",
    "    Not Equal To                ! =\n",
    "    Less than                   <\n",
    "    Greater Than                >\n",
    "    Less or equal to            < =\n",
    "    Greater than or equal to    > ="
   ]
  },
  {
   "cell_type": "markdown",
   "metadata": {},
   "source": [
    "    if(logical_test,value_if_true,value_if_false)\n",
    "        logical_test => Conditional Expression \n",
    "            Boolean \n",
    "                True\n",
    "                False"
   ]
  },
  {
   "cell_type": "markdown",
   "metadata": {},
   "source": [
    "    SImple If"
   ]
  },
  {
   "cell_type": "markdown",
   "metadata": {},
   "source": [
    "    if <condition / logical_test>:\n",
    "        <statement when logic is true>"
   ]
  },
  {
   "cell_type": "code",
   "execution_count": 1,
   "metadata": {},
   "outputs": [
    {
     "data": {
      "text/plain": [
       "True"
      ]
     },
     "execution_count": 1,
     "metadata": {},
     "output_type": "execute_result"
    }
   ],
   "source": [
    "1==1"
   ]
  },
  {
   "cell_type": "code",
   "execution_count": 2,
   "metadata": {},
   "outputs": [
    {
     "data": {
      "text/plain": [
       "False"
      ]
     },
     "execution_count": 2,
     "metadata": {},
     "output_type": "execute_result"
    }
   ],
   "source": [
    "1==2"
   ]
  },
  {
   "cell_type": "code",
   "execution_count": 5,
   "metadata": {},
   "outputs": [
    {
     "name": "stdout",
     "output_type": "stream",
     "text": [
      "1\n",
      "Inside the if \n",
      "Outside the if\n"
     ]
    }
   ],
   "source": [
    "if 1==1:\n",
    "    print(1)\n",
    "    print('Inside the if ')\n",
    "print('Outside the if')"
   ]
  },
  {
   "cell_type": "code",
   "execution_count": 6,
   "metadata": {},
   "outputs": [
    {
     "name": "stdout",
     "output_type": "stream",
     "text": [
      "Outside the if\n"
     ]
    }
   ],
   "source": [
    "if 1==2:\n",
    "    print(1)\n",
    "    print('Inside the if ')\n",
    "print('Outside the if')"
   ]
  },
  {
   "cell_type": "markdown",
   "metadata": {},
   "source": [
    "    Else - If\n",
    "\n",
    "    if <condition>:\n",
    "        <statement if true>\n",
    "    else:\n",
    "        <statement if false>"
   ]
  },
  {
   "cell_type": "markdown",
   "metadata": {},
   "source": [
    "    Check given no is even or not\n",
    "    Check given no is prime"
   ]
  },
  {
   "cell_type": "code",
   "execution_count": 7,
   "metadata": {},
   "outputs": [
    {
     "name": "stdout",
     "output_type": "stream",
     "text": [
      "given number is odd\n"
     ]
    }
   ],
   "source": [
    "chk_no= int(input())\n",
    "if chk_no % 2 ==0 :\n",
    "    print('Given no if Even')\n",
    "else:\n",
    "    print(\"given number is odd\")"
   ]
  },
  {
   "cell_type": "markdown",
   "metadata": {},
   "source": [
    "    Write a python code to check whether given person is eligible for vote or not"
   ]
  },
  {
   "cell_type": "code",
   "execution_count": 8,
   "metadata": {},
   "outputs": [
    {
     "name": "stdout",
     "output_type": "stream",
     "text": [
      "Eligible for Vote\n"
     ]
    }
   ],
   "source": [
    "age = int(input('Please enter the age as no'))\n",
    "if age>=18:\n",
    "    print('Eligible for Vote')\n",
    "else:\n",
    "    print(\"Not eligible for vote\")"
   ]
  },
  {
   "cell_type": "code",
   "execution_count": 9,
   "metadata": {},
   "outputs": [
    {
     "name": "stdout",
     "output_type": "stream",
     "text": [
      "Eligible for Vote\n"
     ]
    }
   ],
   "source": [
    "if int(input('Please enter the age as no'))>=18:\n",
    "    print('Eligible for Vote')\n",
    "else:\n",
    "    print(\"Not eligible for vote\")"
   ]
  },
  {
   "cell_type": "markdown",
   "metadata": {},
   "source": [
    "    Nested If\n",
    "    if <condition>\n",
    "        // Code block for true condition\n",
    "        if <condition>:\n",
    "            // Code block for true condition\n",
    "        else:\n",
    "            // Code block for False condition\n",
    "    else:\n",
    "        // Code block for false condition\n",
    "        if <condition>:\n",
    "            // Code block for true condition\n",
    "        else:\n",
    "            // Code block for False condition       "
   ]
  },
  {
   "cell_type": "markdown",
   "metadata": {},
   "source": [
    "    Score\tGrade\n",
    "    100-89\tA\n",
    "    89-79\tB\n",
    "    79-69\tC\n",
    "    69-59\tD\n",
    "    <58\tF"
   ]
  },
  {
   "cell_type": "code",
   "execution_count": 12,
   "metadata": {},
   "outputs": [
    {
     "name": "stdout",
     "output_type": "stream",
     "text": [
      "Grade C\n"
     ]
    }
   ],
   "source": [
    "marks=float(input('Please enter you marks as number'))\n",
    "if marks>=89:\n",
    "    print(\"Grade A\")\n",
    "else:\n",
    "    if marks >=79:\n",
    "        print(\"Grade B\")\n",
    "    else:\n",
    "        if marks >=69:\n",
    "            print(\"Grade C\")\n",
    "        else:\n",
    "            if marks>=59:\n",
    "                print(\"Grade D\")\n",
    "            else:\n",
    "                print(\"Grade E\")"
   ]
  },
  {
   "cell_type": "markdown",
   "metadata": {},
   "source": [
    "    Elif Ladder\n",
    "    if <condition>:\n",
    "        <code if true>\n",
    "    elif <condition>:\n",
    "        <code if true>\n",
    "    elif <condition>:\n",
    "        <code if true>\n",
    "    elif <condition>:\n",
    "        <code if true>\n",
    "    elif <condition>:\n",
    "        <code if true>\n",
    "    elif <condition>:\n",
    "        <code if true>\n",
    "    elif <condition>:    \n",
    "        <code if true>\n",
    "    else:                                       #optional\n",
    "        <code if false or no condition was met>  "
   ]
  },
  {
   "cell_type": "code",
   "execution_count": 18,
   "metadata": {},
   "outputs": [
    {
     "name": "stdout",
     "output_type": "stream",
     "text": [
      "Grade A\n"
     ]
    }
   ],
   "source": [
    "marks=float(input('Please enter you marks as number'))\n",
    "if marks>=89:\n",
    "    print(\"Grade A\")\n",
    "elif marks >=79:\n",
    "    print(\"Grade B\")\n",
    "elif marks >=69:\n",
    "    print(\"Grade C\")\n",
    "elif marks>=59:\n",
    "    print(\"Grade D\")\n",
    "else:\n",
    "    print(\"Grade E\")"
   ]
  },
  {
   "cell_type": "code",
   "execution_count": 15,
   "metadata": {},
   "outputs": [
    {
     "data": {
      "text/plain": [
       "74"
      ]
     },
     "execution_count": 15,
     "metadata": {},
     "output_type": "execute_result"
    }
   ],
   "source": [
    "int(74.5)"
   ]
  },
  {
   "cell_type": "code",
   "execution_count": 16,
   "metadata": {},
   "outputs": [
    {
     "data": {
      "text/plain": [
       "74"
      ]
     },
     "execution_count": 16,
     "metadata": {},
     "output_type": "execute_result"
    }
   ],
   "source": [
    "int(74.2)"
   ]
  },
  {
   "cell_type": "code",
   "execution_count": 17,
   "metadata": {},
   "outputs": [
    {
     "data": {
      "text/plain": [
       "74"
      ]
     },
     "execution_count": 17,
     "metadata": {},
     "output_type": "execute_result"
    }
   ],
   "source": [
    "int(74.9)"
   ]
  },
  {
   "cell_type": "markdown",
   "metadata": {},
   "source": [
    "    A school has a grading system based on age group and score. The grading rules are as follows:\n",
    "    For students aged 10 or below, the grades are:\n",
    "        Score above 90: Grade A\n",
    "        Score between 80 and 90: Grade B\n",
    "        Score below 80: Grade C\n",
    "\n",
    "    For students above age 10, the grades are:\n",
    "        Score above 80: Grade A\n",
    "        Score between 70 and 80: Grade B\n",
    "        Score below 70: Grade C"
   ]
  },
  {
   "cell_type": "code",
   "execution_count": 19,
   "metadata": {},
   "outputs": [
    {
     "name": "stdout",
     "output_type": "stream",
     "text": [
      "Grade A\n"
     ]
    }
   ],
   "source": [
    "age=int(input('Enter age as number'))\n",
    "score = float(input('Please enter score of your exam: '))\n",
    "\n",
    "if age<=10:\n",
    "    if score >90:\n",
    "        print(\"Grade A\")\n",
    "    elif score >=80:\n",
    "        print (\"Grade B\")\n",
    "    else:\n",
    "        print (\"Grade C\")\n",
    "else:    \n",
    "    if score >80:\n",
    "        print(\"Grade A\")\n",
    "    elif score >=70:\n",
    "        print (\"Grade B\")\n",
    "    else:\n",
    "        print (\"Grade C\")   "
   ]
  },
  {
   "cell_type": "code",
   "execution_count": null,
   "metadata": {},
   "outputs": [],
   "source": [
    "age=int(input('Enter age as number'))\n",
    "score = float(input('Please enter score of your exam: '))\n",
    "\n",
    "if age<=10:\n",
    "    if score >90:\n",
    "        print(\"Grade A\")\n",
    "    elif score >=80:\n",
    "        print (\"Grade B\")\n",
    "    else:\n",
    "        print (\"Grade C\")\n",
    "elif age>10:   \n",
    "    if score >80:\n",
    "        print(\"Grade A\")\n",
    "    elif score >=70:\n",
    "        print (\"Grade B\")\n",
    "    else:\n",
    "        print (\"Grade C\")  "
   ]
  },
  {
   "cell_type": "code",
   "execution_count": 24,
   "metadata": {},
   "outputs": [
    {
     "ename": "SyntaxError",
     "evalue": "incomplete input (3673924097.py, line 1)",
     "output_type": "error",
     "traceback": [
      "\u001b[1;36m  Cell \u001b[1;32mIn[24], line 1\u001b[1;36m\u001b[0m\n\u001b[1;33m    if 1==1:\u001b[0m\n\u001b[1;37m            ^\u001b[0m\n\u001b[1;31mSyntaxError\u001b[0m\u001b[1;31m:\u001b[0m incomplete input\n"
     ]
    }
   ],
   "source": [
    "if 1==1:"
   ]
  },
  {
   "cell_type": "code",
   "execution_count": 26,
   "metadata": {},
   "outputs": [],
   "source": [
    "if 1==1:\n",
    "    pass"
   ]
  },
  {
   "cell_type": "markdown",
   "metadata": {},
   "source": [
    "    A company has a bonus system for its employees based on their years of service and their annual performance review rating. The rules for bonus allocation are as follows:\n",
    "\n",
    "    Employees with less than 2 years of service receive no bonus, regardless of performance rating.\n",
    "\n",
    "    Employees with 2 to 5 years of service receive a bonus based on their performance rating:\n",
    "    \"Excellent\" rating: 10% of their annual salary.\n",
    "    \"Good\" rating: 5% of their annual salary.    \n",
    "    Other ratings: no bonus.\n",
    "    \n",
    "    Employees with more than 5 years of service receive a bonus based on their performance rating:\n",
    "    \"Excellent\" rating: 15% of their annual salary plus a $500 loyalty bonus.\n",
    "    \"Good\" rating: 10% of their annual salary.\n",
    "    Other ratings: 2% of their annual salary as a goodwill bonus."
   ]
  },
  {
   "cell_type": "code",
   "execution_count": 29,
   "metadata": {},
   "outputs": [
    {
     "name": "stdout",
     "output_type": "stream",
     "text": [
      "You are eligible for 15 increment.Plus 500 loyalty bonus\n"
     ]
    }
   ],
   "source": [
    "yr_of_service=int(input())\n",
    "rating=input('Enter Rating')\n",
    "bonus_percentage=0\n",
    "no_bonus='Better Luck Next Time !!'\n",
    "\n",
    "# we are checking the Bonus Percentage\n",
    "if yr_of_service > 5:\n",
    "    if rating=='Excellent':\n",
    "        bonus_percentage=15\n",
    "    elif rating=='Good': \n",
    "        bonus_percentage=10  \n",
    "    else:\n",
    "        bonus_percentage=2 \n",
    "elif yr_of_service>=2:    \n",
    "    if rating=='Excellent':\n",
    "        bonus_percentage=10\n",
    "    elif rating=='Good': \n",
    "        bonus_percentage=5 \n",
    "    else:\n",
    "        print(no_bonus)\n",
    "else:\n",
    "    print(no_bonus) \n",
    "    \n",
    "# we are checking whom to give loyalty bonus\n",
    "\n",
    "if yr_of_service > 5 and rating=='Excellent':\n",
    "    bonus=f'You are eligible for {bonus_percentage} increment. Plus 500 loyalty bonus'\n",
    "else:    \n",
    "    bonus=f'You are eligible for {bonus_percentage} increment.'\n",
    "print(bonus)"
   ]
  },
  {
   "cell_type": "code",
   "execution_count": null,
   "metadata": {},
   "outputs": [],
   "source": [
    "yr_of_service=int(input())\n",
    "rating=input('Enter Rating')\n",
    "\n",
    "# we are checking the Bonus Percentage\n",
    "if yr_of_service > 5:\n",
    "    if rating=='Excellent':\n",
    "        print('You are eligible for 15 increment. Plus 500 loyalty bonus')\n",
    "    elif rating=='Good': \n",
    "        print('You are eligible for 10 increment.')\n",
    "    else:\n",
    "        print('You are eligible for 2 increment.')\n",
    "elif yr_of_service>=2:    \n",
    "    if rating=='Excellent':\n",
    "        print('You are eligible for 10 increment.s')\n",
    "    elif rating=='Good': \n",
    "        print('You are eligible for 5 increment.') \n",
    "    else:\n",
    "        print('Better Luck Next Time !!') \n",
    "else:\n",
    "    print('Better Luck Next Time !!') "
   ]
  },
  {
   "cell_type": "markdown",
   "metadata": {},
   "source": [
    "    Control Statements\n",
    "        Loops\n",
    "            Repeatition\n",
    "            Pattern\n",
    "        While\n",
    "            initialization => start point\n",
    "            condition/Iterable    => stop point\n",
    "            Iteration =>    How many times this loop will run\n",
    "        For \n",
    "            initialization => start point\n",
    "            condition/Iterable    => stop point"
   ]
  },
  {
   "cell_type": "code",
   "execution_count": 30,
   "metadata": {},
   "outputs": [
    {
     "name": "stdout",
     "output_type": "stream",
     "text": [
      "1\n",
      "2\n",
      "3\n",
      "4\n"
     ]
    }
   ],
   "source": [
    "print(1)\n",
    "print(2)\n",
    "print(3)\n",
    "print(4)"
   ]
  },
  {
   "cell_type": "markdown",
   "metadata": {},
   "source": [
    "    Increment / Decerement"
   ]
  },
  {
   "cell_type": "code",
   "execution_count": 31,
   "metadata": {},
   "outputs": [
    {
     "data": {
      "text/plain": [
       "5"
      ]
     },
     "execution_count": 31,
     "metadata": {},
     "output_type": "execute_result"
    }
   ],
   "source": [
    "x=5\n",
    "x"
   ]
  },
  {
   "cell_type": "code",
   "execution_count": 34,
   "metadata": {},
   "outputs": [
    {
     "data": {
      "text/plain": [
       "11"
      ]
     },
     "execution_count": 34,
     "metadata": {},
     "output_type": "execute_result"
    }
   ],
   "source": [
    "x=x+2\n",
    "x"
   ]
  },
  {
   "cell_type": "code",
   "execution_count": 40,
   "metadata": {},
   "outputs": [
    {
     "data": {
      "text/plain": [
       "-1"
      ]
     },
     "execution_count": 40,
     "metadata": {},
     "output_type": "execute_result"
    }
   ],
   "source": [
    "x=x-2\n",
    "x"
   ]
  },
  {
   "cell_type": "code",
   "execution_count": null,
   "metadata": {},
   "outputs": [],
   "source": [
    "x=x+2 \n",
    "x+=2"
   ]
  },
  {
   "cell_type": "code",
   "execution_count": 45,
   "metadata": {},
   "outputs": [
    {
     "data": {
      "text/plain": [
       "-5"
      ]
     },
     "execution_count": 45,
     "metadata": {},
     "output_type": "execute_result"
    }
   ],
   "source": [
    "x"
   ]
  },
  {
   "cell_type": "code",
   "execution_count": 44,
   "metadata": {},
   "outputs": [],
   "source": [
    "x-=2"
   ]
  },
  {
   "cell_type": "markdown",
   "metadata": {},
   "source": [
    "    range()\n",
    "    age_group 10-20\n",
    "    11 12 13 14 15 16 17 18 19 \n",
    "\n",
    "    range(start_value,end_value+1)"
   ]
  },
  {
   "cell_type": "markdown",
   "metadata": {},
   "source": [
    "    for <initialization_variable> in <iterable /range()>:\n",
    "        <code block for loop>"
   ]
  },
  {
   "cell_type": "markdown",
   "metadata": {},
   "source": [
    "    Through Range()"
   ]
  },
  {
   "cell_type": "code",
   "execution_count": 48,
   "metadata": {},
   "outputs": [
    {
     "name": "stdout",
     "output_type": "stream",
     "text": [
      "1\n",
      "2\n",
      "3\n",
      "4\n"
     ]
    }
   ],
   "source": [
    "for i in range(1,5):\n",
    "    print(i)"
   ]
  },
  {
   "cell_type": "code",
   "execution_count": 49,
   "metadata": {},
   "outputs": [],
   "source": [
    "weekdays = ['Monday', 'Tuesday', 'Wednesday', 'Thursday', 'Friday']"
   ]
  },
  {
   "cell_type": "code",
   "execution_count": 50,
   "metadata": {},
   "outputs": [],
   "source": [
    "st='siraj'"
   ]
  },
  {
   "cell_type": "code",
   "execution_count": 51,
   "metadata": {},
   "outputs": [
    {
     "data": {
      "text/plain": [
       "'r'"
      ]
     },
     "execution_count": 51,
     "metadata": {},
     "output_type": "execute_result"
    }
   ],
   "source": [
    "st[2]"
   ]
  },
  {
   "cell_type": "code",
   "execution_count": null,
   "metadata": {},
   "outputs": [],
   "source": [
    "for i in weekdays:\n",
    "    print(i)"
   ]
  },
  {
   "cell_type": "markdown",
   "metadata": {},
   "source": [
    "    Through List"
   ]
  },
  {
   "cell_type": "code",
   "execution_count": 53,
   "metadata": {},
   "outputs": [
    {
     "name": "stdout",
     "output_type": "stream",
     "text": [
      "Monday\n",
      "Tuesday\n",
      "Wednesday\n",
      "Thursday\n",
      "Friday\n"
     ]
    }
   ],
   "source": [
    "for siraj in weekdays:\n",
    "    print(siraj)"
   ]
  },
  {
   "cell_type": "markdown",
   "metadata": {},
   "source": [
    "    Through Tuple"
   ]
  },
  {
   "cell_type": "code",
   "execution_count": 54,
   "metadata": {},
   "outputs": [
    {
     "data": {
      "text/plain": [
       "('Monday', 'Tuesday', 'Wednesday', 'Thursday', 'Friday')"
      ]
     },
     "execution_count": 54,
     "metadata": {},
     "output_type": "execute_result"
    }
   ],
   "source": [
    "tup_weekdays=tuple(weekdays)\n",
    "tup_weekdays"
   ]
  },
  {
   "cell_type": "code",
   "execution_count": 55,
   "metadata": {},
   "outputs": [
    {
     "name": "stdout",
     "output_type": "stream",
     "text": [
      "Monday\n",
      "Tuesday\n",
      "Wednesday\n",
      "Thursday\n",
      "Friday\n"
     ]
    }
   ],
   "source": [
    "for tup in tup_weekdays:\n",
    "    print(tup)"
   ]
  },
  {
   "cell_type": "markdown",
   "metadata": {},
   "source": [
    "    through Dictionary"
   ]
  },
  {
   "cell_type": "code",
   "execution_count": 59,
   "metadata": {},
   "outputs": [
    {
     "data": {
      "text/plain": [
       "{'Monday': 'Monday',\n",
       " 'Tuesday': 'Tuesday',\n",
       " 'Wednesday': 'Wednesday',\n",
       " 'Thursday': 'Thursday',\n",
       " 'Friday': 'Friday'}"
      ]
     },
     "execution_count": 59,
     "metadata": {},
     "output_type": "execute_result"
    }
   ],
   "source": [
    "dict(zip(tup_weekdays,weekdays))"
   ]
  },
  {
   "cell_type": "code",
   "execution_count": 61,
   "metadata": {},
   "outputs": [],
   "source": [
    "demo_dct={\n",
    "    \"name\": \"John Doe\",\n",
    "    \"age\": 30,\n",
    "    \"occupation\": \"Software Developer\",\n",
    "    \"hobbies\": [\"Reading\", \"Cycling\", \"Photography\"],\n",
    "    \"location\": {\n",
    "        \"city\": \"New York\",\n",
    "        \"country\": \"USA\"\n",
    "    },\n",
    "    \"education\": {\n",
    "        \"degree\": \"Bachelor's in Computer Science\",\n",
    "        \"university\": \"MIT\"\n",
    "    },\n",
    "    \"languages\": [\"English\", \"Spanish\", \"French\"]\n",
    "}"
   ]
  },
  {
   "cell_type": "code",
   "execution_count": 62,
   "metadata": {},
   "outputs": [
    {
     "data": {
      "text/plain": [
       "dict_keys(['name', 'age', 'occupation', 'hobbies', 'location', 'education', 'languages'])"
      ]
     },
     "execution_count": 62,
     "metadata": {},
     "output_type": "execute_result"
    }
   ],
   "source": [
    "demo_dct.keys()"
   ]
  },
  {
   "cell_type": "code",
   "execution_count": 63,
   "metadata": {},
   "outputs": [
    {
     "data": {
      "text/plain": [
       "dict_values(['John Doe', 30, 'Software Developer', ['Reading', 'Cycling', 'Photography'], {'city': 'New York', 'country': 'USA'}, {'degree': \"Bachelor's in Computer Science\", 'university': 'MIT'}, ['English', 'Spanish', 'French']])"
      ]
     },
     "execution_count": 63,
     "metadata": {},
     "output_type": "execute_result"
    }
   ],
   "source": [
    "demo_dct.values()"
   ]
  },
  {
   "cell_type": "code",
   "execution_count": 64,
   "metadata": {},
   "outputs": [
    {
     "name": "stdout",
     "output_type": "stream",
     "text": [
      "name\n",
      "age\n",
      "occupation\n",
      "hobbies\n",
      "location\n",
      "education\n",
      "languages\n"
     ]
    }
   ],
   "source": [
    "for i in demo_dct:\n",
    "    print(i)"
   ]
  },
  {
   "cell_type": "code",
   "execution_count": 65,
   "metadata": {},
   "outputs": [
    {
     "name": "stdout",
     "output_type": "stream",
     "text": [
      "name\n",
      "age\n",
      "occupation\n",
      "hobbies\n",
      "location\n",
      "education\n",
      "languages\n"
     ]
    }
   ],
   "source": [
    "for i in demo_dct.keys():\n",
    "    print(i)"
   ]
  },
  {
   "cell_type": "code",
   "execution_count": 66,
   "metadata": {},
   "outputs": [
    {
     "name": "stdout",
     "output_type": "stream",
     "text": [
      "John Doe\n",
      "30\n",
      "Software Developer\n",
      "['Reading', 'Cycling', 'Photography']\n",
      "{'city': 'New York', 'country': 'USA'}\n",
      "{'degree': \"Bachelor's in Computer Science\", 'university': 'MIT'}\n",
      "['English', 'Spanish', 'French']\n"
     ]
    }
   ],
   "source": [
    "for i in demo_dct.values():\n",
    "    print(i)"
   ]
  },
  {
   "cell_type": "code",
   "execution_count": 67,
   "metadata": {},
   "outputs": [],
   "source": [
    "demo_dct={\n",
    "    \"name\": \"John Doe\",\n",
    "    \"age\": 30,\n",
    "    \"occupation\": \"Software Developer\"\n",
    "}"
   ]
  },
  {
   "cell_type": "code",
   "execution_count": 68,
   "metadata": {},
   "outputs": [
    {
     "name": "stdout",
     "output_type": "stream",
     "text": [
      "('name', 'John Doe')\n",
      "('age', 30)\n",
      "('occupation', 'Software Developer')\n"
     ]
    }
   ],
   "source": [
    "for i in demo_dct.items():\n",
    "    print(i)"
   ]
  },
  {
   "cell_type": "code",
   "execution_count": 69,
   "metadata": {},
   "outputs": [
    {
     "name": "stdout",
     "output_type": "stream",
     "text": [
      "Key => name | Value => John Doe\n",
      "Key => age | Value => 30\n",
      "Key => occupation | Value => Software Developer\n"
     ]
    }
   ],
   "source": [
    "for key,value in demo_dct.items():\n",
    "    print(f'Key => {key} | Value => {value}')"
   ]
  },
  {
   "cell_type": "code",
   "execution_count": 70,
   "metadata": {},
   "outputs": [
    {
     "ename": "ValueError",
     "evalue": "too many values to unpack (expected 2)",
     "output_type": "error",
     "traceback": [
      "\u001b[1;31m---------------------------------------------------------------------------\u001b[0m",
      "\u001b[1;31mValueError\u001b[0m                                Traceback (most recent call last)",
      "Cell \u001b[1;32mIn[70], line 1\u001b[0m\n\u001b[1;32m----> 1\u001b[0m \u001b[38;5;28;01mfor\u001b[39;00m key,value \u001b[38;5;129;01min\u001b[39;00m demo_dct:\n\u001b[0;32m      2\u001b[0m     \u001b[38;5;28mprint\u001b[39m(\u001b[38;5;124mf\u001b[39m\u001b[38;5;124m'\u001b[39m\u001b[38;5;124mKey => \u001b[39m\u001b[38;5;132;01m{\u001b[39;00mkey\u001b[38;5;132;01m}\u001b[39;00m\u001b[38;5;124m | Value => \u001b[39m\u001b[38;5;132;01m{\u001b[39;00mvalue\u001b[38;5;132;01m}\u001b[39;00m\u001b[38;5;124m'\u001b[39m)\n",
      "\u001b[1;31mValueError\u001b[0m: too many values to unpack (expected 2)"
     ]
    }
   ],
   "source": [
    "for key,value in demo_dct:\n",
    "    print(f'Key => {key} | Value => {value}')"
   ]
  },
  {
   "cell_type": "code",
   "execution_count": 71,
   "metadata": {},
   "outputs": [
    {
     "ename": "SyntaxError",
     "evalue": "invalid syntax (3845338182.py, line 1)",
     "output_type": "error",
     "traceback": [
      "\u001b[1;36m  Cell \u001b[1;32mIn[71], line 1\u001b[1;36m\u001b[0m\n\u001b[1;33m    demo_dct.{key():value()}\u001b[0m\n\u001b[1;37m             ^\u001b[0m\n\u001b[1;31mSyntaxError\u001b[0m\u001b[1;31m:\u001b[0m invalid syntax\n"
     ]
    }
   ],
   "source": [
    "demo_dct.{key():value()}"
   ]
  },
  {
   "cell_type": "markdown",
   "metadata": {},
   "source": [
    "    Through Set"
   ]
  },
  {
   "cell_type": "code",
   "execution_count": 79,
   "metadata": {},
   "outputs": [
    {
     "data": {
      "text/plain": [
       "{1, 2, 3, 4, 5, 6, 9, 64}"
      ]
     },
     "execution_count": 79,
     "metadata": {},
     "output_type": "execute_result"
    }
   ],
   "source": [
    "set_1={1,1,5,9,5,9,5,9,2,4,3,9,4,2,64,2,6,2,6,5,2,6,5,6}\n",
    "set_1"
   ]
  },
  {
   "cell_type": "code",
   "execution_count": 74,
   "metadata": {},
   "outputs": [
    {
     "ename": "TypeError",
     "evalue": "'set' object is not subscriptable",
     "output_type": "error",
     "traceback": [
      "\u001b[1;31m---------------------------------------------------------------------------\u001b[0m",
      "\u001b[1;31mTypeError\u001b[0m                                 Traceback (most recent call last)",
      "Cell \u001b[1;32mIn[74], line 1\u001b[0m\n\u001b[1;32m----> 1\u001b[0m \u001b[43mset_1\u001b[49m\u001b[43m[\u001b[49m\u001b[38;5;241;43m1\u001b[39;49m\u001b[43m]\u001b[49m\n",
      "\u001b[1;31mTypeError\u001b[0m: 'set' object is not subscriptable"
     ]
    }
   ],
   "source": [
    "set_1[1]"
   ]
  },
  {
   "cell_type": "code",
   "execution_count": 80,
   "metadata": {},
   "outputs": [
    {
     "name": "stdout",
     "output_type": "stream",
     "text": [
      "64\n",
      "1\n",
      "2\n",
      "3\n",
      "4\n",
      "5\n",
      "6\n",
      "9\n"
     ]
    }
   ],
   "source": [
    "for i in set_1:\n",
    "    print(i)"
   ]
  },
  {
   "cell_type": "code",
   "execution_count": 81,
   "metadata": {},
   "outputs": [],
   "source": [
    "st= 'Python'"
   ]
  },
  {
   "cell_type": "code",
   "execution_count": 82,
   "metadata": {},
   "outputs": [
    {
     "name": "stdout",
     "output_type": "stream",
     "text": [
      "P\n",
      "y\n",
      "t\n",
      "h\n",
      "o\n",
      "n\n"
     ]
    }
   ],
   "source": [
    "for i in st:\n",
    "    print(i)"
   ]
  },
  {
   "cell_type": "code",
   "execution_count": 83,
   "metadata": {},
   "outputs": [],
   "source": [
    "import array as ar"
   ]
  },
  {
   "cell_type": "code",
   "execution_count": 95,
   "metadata": {},
   "outputs": [
    {
     "ename": "ValueError",
     "evalue": "bad typecode (must be b, B, u, h, H, i, I, l, L, q, Q, f or d)",
     "output_type": "error",
     "traceback": [
      "\u001b[1;31m---------------------------------------------------------------------------\u001b[0m",
      "\u001b[1;31mValueError\u001b[0m                                Traceback (most recent call last)",
      "Cell \u001b[1;32mIn[95], line 1\u001b[0m\n\u001b[1;32m----> 1\u001b[0m arr_1\u001b[38;5;241m=\u001b[39m\u001b[43mar\u001b[49m\u001b[38;5;241;43m.\u001b[39;49m\u001b[43marray\u001b[49m\u001b[43m(\u001b[49m\u001b[38;5;124;43m'\u001b[39;49m\u001b[38;5;124;43ms\u001b[39;49m\u001b[38;5;124;43m'\u001b[39;49m\u001b[43m,\u001b[49m\u001b[43mset_1\u001b[49m\u001b[43m)\u001b[49m\n\u001b[0;32m      2\u001b[0m arr_1\n",
      "\u001b[1;31mValueError\u001b[0m: bad typecode (must be b, B, u, h, H, i, I, l, L, q, Q, f or d)"
     ]
    }
   ],
   "source": [
    "arr_1=ar.array('s',set_1)\n",
    "arr_1"
   ]
  },
  {
   "cell_type": "code",
   "execution_count": 87,
   "metadata": {},
   "outputs": [
    {
     "data": {
      "text/plain": [
       "2.0"
      ]
     },
     "execution_count": 87,
     "metadata": {},
     "output_type": "execute_result"
    }
   ],
   "source": [
    "arr_1[2]"
   ]
  },
  {
   "cell_type": "code",
   "execution_count": 86,
   "metadata": {},
   "outputs": [
    {
     "name": "stdout",
     "output_type": "stream",
     "text": [
      "64.0\n",
      "1.0\n",
      "2.0\n",
      "3.0\n",
      "4.0\n",
      "5.0\n",
      "6.0\n",
      "9.0\n"
     ]
    }
   ],
   "source": [
    "for i in arr_1:\n",
    "    print(i)"
   ]
  },
  {
   "cell_type": "markdown",
   "metadata": {},
   "source": [
    "    2 4 6 8 10 12"
   ]
  },
  {
   "cell_type": "code",
   "execution_count": 102,
   "metadata": {},
   "outputs": [
    {
     "name": "stdout",
     "output_type": "stream",
     "text": [
      "2\n",
      "4\n",
      "6\n",
      "8\n",
      "10\n"
     ]
    }
   ],
   "source": [
    "for i in range(2,13,2):\n",
    "    print(i)"
   ]
  },
  {
   "cell_type": "code",
   "execution_count": 96,
   "metadata": {},
   "outputs": [
    {
     "name": "stdout",
     "output_type": "stream",
     "text": [
      "1\n",
      "2\n",
      "3\n",
      "4\n",
      "5\n",
      "6\n",
      "7\n",
      "8\n",
      "9\n",
      "10\n",
      "11\n",
      "12\n",
      "13\n",
      "14\n",
      "15\n"
     ]
    }
   ],
   "source": [
    "for i in range(1,16):\n",
    "    print(i)"
   ]
  },
  {
   "cell_type": "code",
   "execution_count": 97,
   "metadata": {},
   "outputs": [],
   "source": [
    "st='Welcome to Python'"
   ]
  },
  {
   "cell_type": "markdown",
   "metadata": {},
   "source": [
    "    st[start_index:end_index+1:step]\n",
    "\n",
    "    start_index => 0\n",
    "    end_index => len(iterable)\n",
    "    step => 1"
   ]
  },
  {
   "cell_type": "code",
   "execution_count": 98,
   "metadata": {},
   "outputs": [
    {
     "data": {
      "text/plain": [
       "'Wloet yhn'"
      ]
     },
     "execution_count": 98,
     "metadata": {},
     "output_type": "execute_result"
    }
   ],
   "source": [
    "st[::2]"
   ]
  },
  {
   "cell_type": "code",
   "execution_count": 104,
   "metadata": {},
   "outputs": [
    {
     "name": "stdout",
     "output_type": "stream",
     "text": [
      "0\n",
      "1\n",
      "2\n",
      "3\n",
      "4\n"
     ]
    }
   ],
   "source": [
    "for i in range(5):\n",
    "    print(i)"
   ]
  },
  {
   "cell_type": "code",
   "execution_count": 105,
   "metadata": {},
   "outputs": [
    {
     "name": "stdout",
     "output_type": "stream",
     "text": [
      "0\n",
      "1\n",
      "2\n",
      "3\n",
      "4\n"
     ]
    }
   ],
   "source": [
    "for i in range(0,5,1):\n",
    "    print(i)"
   ]
  },
  {
   "cell_type": "markdown",
   "metadata": {},
   "source": [
    "    *\n",
    "    **\n",
    "    ***\n",
    "    ****\n",
    "    *****"
   ]
  },
  {
   "cell_type": "code",
   "execution_count": 106,
   "metadata": {},
   "outputs": [
    {
     "name": "stdout",
     "output_type": "stream",
     "text": [
      "*\n",
      "*\n",
      "*\n",
      "*\n",
      "*\n",
      "*\n",
      "*\n"
     ]
    }
   ],
   "source": [
    "for i in range(7):\n",
    "    print(\"*\")"
   ]
  },
  {
   "cell_type": "code",
   "execution_count": 107,
   "metadata": {},
   "outputs": [
    {
     "name": "stdout",
     "output_type": "stream",
     "text": [
      "*******\n"
     ]
    }
   ],
   "source": [
    "print('*******')"
   ]
  },
  {
   "cell_type": "code",
   "execution_count": 109,
   "metadata": {},
   "outputs": [
    {
     "name": "stdout",
     "output_type": "stream",
     "text": [
      "*\n",
      "*\n",
      "*\n",
      "*\n",
      "*\n",
      "*\n",
      "*\n"
     ]
    }
   ],
   "source": [
    "for i in range(7):\n",
    "    print('*',end='\\n')"
   ]
  },
  {
   "cell_type": "code",
   "execution_count": 110,
   "metadata": {},
   "outputs": [
    {
     "name": "stdout",
     "output_type": "stream",
     "text": [
      "*******"
     ]
    }
   ],
   "source": [
    "for i in range(7):\n",
    "    print('*',end='')"
   ]
  },
  {
   "cell_type": "code",
   "execution_count": 111,
   "metadata": {},
   "outputs": [
    {
     "name": "stdout",
     "output_type": "stream",
     "text": [
      "0\n",
      "1\n",
      "2\n",
      "3\n",
      "4\n"
     ]
    }
   ],
   "source": [
    "for i in range(5):\n",
    "    print(i)"
   ]
  },
  {
   "cell_type": "code",
   "execution_count": 112,
   "metadata": {},
   "outputs": [
    {
     "name": "stdout",
     "output_type": "stream",
     "text": [
      "01234"
     ]
    }
   ],
   "source": [
    "for i in range(5):\n",
    "    print(i,end='')"
   ]
  },
  {
   "cell_type": "code",
   "execution_count": 118,
   "metadata": {},
   "outputs": [
    {
     "name": "stdout",
     "output_type": "stream",
     "text": [
      "Row => 0\n",
      "01234\n",
      "=================\n",
      "Row => 1\n",
      "01234\n",
      "=================\n",
      "Row => 2\n",
      "01234\n",
      "=================\n",
      "Row => 3\n",
      "01234\n",
      "=================\n",
      "Row => 4\n",
      "01234\n",
      "=================\n"
     ]
    }
   ],
   "source": [
    "for row in range(5):\n",
    "    print(f'Row => {row}')\n",
    "    for col in range(5):\n",
    "        print(col,end='')\n",
    "    print()\n",
    "    print('=================')"
   ]
  },
  {
   "cell_type": "code",
   "execution_count": 125,
   "metadata": {},
   "outputs": [
    {
     "name": "stdout",
     "output_type": "stream",
     "text": [
      "Iteration => 0 (0,0) Iteration => 0 (0,1) Iteration => 0 (0,2) Iteration => 0 (0,3) Iteration => 0 (0,4) \n",
      "Iteration => 1 (1,0) Iteration => 1 (1,1) Iteration => 1 (1,2) Iteration => 1 (1,3) Iteration => 1 (1,4) \n",
      "Iteration => 2 (2,0) Iteration => 2 (2,1) Iteration => 2 (2,2) Iteration => 2 (2,3) Iteration => 2 (2,4) \n",
      "Iteration => 3 (3,0) Iteration => 3 (3,1) Iteration => 3 (3,2) Iteration => 3 (3,3) Iteration => 3 (3,4) \n",
      "Iteration => 4 (4,0) Iteration => 4 (4,1) Iteration => 4 (4,2) Iteration => 4 (4,3) Iteration => 4 (4,4) \n"
     ]
    }
   ],
   "source": [
    "for row in range(5):\n",
    "    for col in range(5):\n",
    "        print(f'Iteration => {row} ({row},{col})',end=' ')\n",
    "    print()"
   ]
  },
  {
   "cell_type": "code",
   "execution_count": 126,
   "metadata": {},
   "outputs": [
    {
     "name": "stdout",
     "output_type": "stream",
     "text": [
      "* * * * * \n",
      "* * * * * \n",
      "* * * * * \n",
      "* * * * * \n",
      "* * * * * \n"
     ]
    }
   ],
   "source": [
    "for row in range(5):\n",
    "    for col in range(5):\n",
    "        print('*',end=' ')\n",
    "    print()"
   ]
  }
 ],
 "metadata": {
  "kernelspec": {
   "display_name": ".env",
   "language": "python",
   "name": "python3"
  },
  "language_info": {
   "codemirror_mode": {
    "name": "ipython",
    "version": 3
   },
   "file_extension": ".py",
   "mimetype": "text/x-python",
   "name": "python",
   "nbconvert_exporter": "python",
   "pygments_lexer": "ipython3",
   "version": "3.12.1"
  }
 },
 "nbformat": 4,
 "nbformat_minor": 2
}
