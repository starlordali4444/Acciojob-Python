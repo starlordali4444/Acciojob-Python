{
 "cells": [
  {
   "cell_type": "markdown",
   "metadata": {},
   "source": [
    "       ### Easy (Fundamentals of NumPy)\n",
    "\n",
    "    1. **Fruit Basket Array**: Alice has a basket of fruits, represented as an array in NumPy: `[apples, oranges, bananas]`. She counts the fruits and enters the quantities. Create a NumPy array and find the total number of fruits.\n",
    "    \n",
    "    2. **Temperature Conversion**: John records temperatures in Fahrenheit in a NumPy array. Write a program to convert these temperatures to Celsius using the formula `C = (F - 32) * 5/9`.\n",
    "\n",
    "    3. **Classroom Seating**: A classroom has seats arranged in a 3x4 grid, represented as a 2D NumPy array. Each element represents a seat, with 1 being occupied and 0 being empty. Find the total number of occupied seats.\n",
    "\n",
    "    4. **Weekly Sales**: A store tracks its sales for each day of the week. Represent this data as a NumPy array and find the day with the highest sales.\n",
    "\n",
    "    5. **Distance Between Cities**: The distances between 4 cities are stored in a NumPy array. Find the shortest and longest distances.\n",
    "\n",
    "    6. **Grades Average**: A teacher stores student grades in a NumPy array. Calculate the class average grade.\n",
    "\n",
    "    7. **Stock Prices**: Daily stock prices for a week are stored in a NumPy array. Calculate the percentage change in price from the beginning to the end of the week.\n",
    "\n",
    "    8. **Library Books**: A library categorizes books into different genres, each represented by a number in a NumPy array. Count how many books belong to each genre.\n",
    "\n",
    "    9. **Fitness Steps**: A fitness app tracks the number of steps taken each day of the week. Store this data in a NumPy array and find the average steps per day.\n",
    "\n",
    "    10. **Garden Rows**: A garden has rows of plants, with each row containing a different number of plants, stored in a NumPy array. Find the row with the most plants.\n",
    "\n",
    "    ### Medium (Intermediate Operations and Functions)\n",
    "\n",
    "    11. **Matrix Product for Business**: A company uses a 2D NumPy array to represent the cost of materials per product and another 2D array to represent the quantity of each material used for different products. Calculate the total cost for each product.\n",
    "\n",
    "    12. **Weather Anomaly**: Given a 2D NumPy array of average monthly temperatures for each year, find the month with the highest deviation from its monthly average over the years.\n",
    "\n",
    "    13. **Class Attendance**: Attendance for a class over several days is recorded in a 2D NumPy array (students x days). Find the student with the highest attendance.\n",
    "\n",
    "    14. **Election Results**: Election results are stored in a NumPy array, where each element represents the votes for a candidate. Find the candidate with the most votes and the one with the least.\n",
    "\n",
    "    15. **Image Pixel Count**: An image is represented as a 3D NumPy array (height x width x color channels). Count the number of pixels with a specific color.\n",
    "\n",
    "    16. **Sports Scores**: Scores from multiple sports games are stored in a NumPy array. Calculate the average score per game and find the game with the highest average score.\n",
    "\n",
    "    17. **Chemical Concentrations**: Concentrations of a chemical in a series of experiments are stored in a NumPy array. Find the experiment with the highest average concentration and the one with the most variation.\n",
    "\n",
    "    18. **Customer Purchases**: Purchase amounts for different customers over a week are stored in a 2D array. Find the customer with the highest total purchases and the day with the highest sales.\n",
    "\n",
    "    19. **Flight Durations**: Durations of flights between cities are stored in a 2D array. Find the shortest and longest flight durations.\n",
    "\n",
    "    20. **Solar Panel Output**: Daily output from a set of solar panels is stored in a NumPy array. Calculate the total and average output for the week.\n",
    "\n",
    "    ### Hard (Advanced Operations and Problem-Solving)\n",
    "\n",
    "    21. **Stock Portfolio Analysis**: Given a 2D array of stock prices for different stocks over time, calculate the return on investment for each stock and the overall portfolio performance.\n",
    "\n",
    "    22. **Class GPA**: A 2D array stores student IDs and their corresponding grades in various subjects. Calculate each student's GPA.\n",
    "\n",
    "    23. **DNA Sequencing**: A DNA sequence is represented as a NumPy array of characters. Find the most frequent sequence of a given length.\n",
    "\n",
    "    24. **Resource Allocation**: A company has resources and projects represented in two 2D arrays. Allocate resources to projects based on certain constraints, maximizing the overall efficiency.\n",
    "\n",
    "    25. **Traffic Flow Analysis**: Traffic flow at different times is represented in a 2D array. Identify peak traffic times and suggest optimal travel times.\n",
    "\n",
    "    26. **Economic Data Correlation**: Analyze a set of economic indicators stored in a 2D array to find the most strongly correlated indicators.\n",
    "\n",
    "    27. **Language Word Frequencies**: Given a 2D array of words and their frequencies in different documents, identify the most common and rarest words across documents.\n",
    "\n",
    "    28. **Hospital Resource Management**: Hospital resources and patient needs are represented in two 2D arrays. Allocate resources efficiently to meet patient needs without any shortages.\n",
    "\n",
    "    29. **Electrical Grid Load Analysis**: Analyze a 2D array of electricity consumption data for different sectors to identify patterns and suggest optimizations.\n",
    "\n",
    "    30. **Weather Pattern Analysis**: Analyze a 3D array of weather data (temperature, humidity, pressure) over time to identify trends and anomalies.\n",
    "\n",
    "    ### Super Hard (Complex and Computational Intensive Problems)\n",
    "\n",
    "    31. **Quantum State Analysis**: Analyze a complex NumPy array representing quantum states to find probabilities of certain states.\n",
    "\n",
    "    32. **Astronomical Data Processing**: Process a large 3D array of astronomical data to identify celestial bodies and calculate their trajectories.\n",
    "\n",
    "    33. **Genetic Algorithm Optimization**: Use a multi-dimensional NumPy array to represent a population in a genetic algorithm and optimize towards a solution.\n",
    "\n",
    "    34. **Neural Network Training**: Simulate the training process of a neural network using multi-dimensional NumPy arrays for weights, biases, and activations.\n",
    "\n",
    "    35. **Climate Simulation**: Process a 4D array (time, latitude, longitude, parameters) to simulate and predict climate changes over a period.\n",
    "\n",
    "    36. **High-Frequency Trading Algorithm**: Analyze high-dimensional arrays of market data to make trading decisions in microseconds.\n",
    "\n",
    "    37. **Large-Scale Simulations in Physics**: Use NumPy to handle large-scale simulations, such as particle dynamics in a collider or fluid dynamics in different geometries.\n",
    "\n",
    "    38. **Brain Signal Processing**: Process multi-dimensional arrays of brain signal data to identify patterns and diagnose conditions.\n",
    "\n",
    "    39. **Complex Systems Modeling**: Model complex systems (like weather, traffic, or economic systems) using high-dimensional arrays and analyze the system behavior under various scenarios.\n",
    "\n",
    "    40. **Cryptographic Algorithm Analysis**: Use NumPy arrays to analyze and break cryptographic algorithms by simulating complex mathematical operations and patterns.\n",
    "\n"
   ]
  },
  {
   "cell_type": "markdown",
   "metadata": {},
   "source": [
    "    Write a program to print first x terms of the series 3N + 2 which are not multiples of 4.\n",
    "\n",
    "    Ap Series : 5 8 11 14 17 20....\n",
    "\n",
    "    Input Format\n",
    "    First line contains an integer x.\n",
    "\n",
    "    Output Format\n",
    "    print first x terms of the series 3N + 2 which are not multiples of 4."
   ]
  },
  {
   "cell_type": "code",
   "execution_count": 1,
   "metadata": {},
   "outputs": [
    {
     "name": "stdout",
     "output_type": "stream",
     "text": [
      "5\n",
      "8\n",
      "11\n",
      "14\n",
      "17\n"
     ]
    }
   ],
   "source": [
    "n=5\n",
    "for i in range(1,n+1):\n",
    "    print(3*i+2)\n",
    "    "
   ]
  },
  {
   "cell_type": "markdown",
   "metadata": {},
   "source": [
    "    BODMAS"
   ]
  },
  {
   "cell_type": "code",
   "execution_count": 6,
   "metadata": {},
   "outputs": [
    {
     "name": "stdout",
     "output_type": "stream",
     "text": [
      "5 11 14 17 23 "
     ]
    }
   ],
   "source": [
    "no=5\n",
    "counter=1\n",
    "res=[]\n",
    "while len(res)!=no:\n",
    "    if (3*counter+2) % 4 !=0:\n",
    "        res.append(str(3*counter + 2))\n",
    "        print(3*counter + 2,end=' ')\n",
    "    counter+=1 \n"
   ]
  },
  {
   "cell_type": "code",
   "execution_count": null,
   "metadata": {},
   "outputs": [],
   "source": [
    "x = int(input())\n",
    "i = 0\n",
    "count = 0\n",
    "while count < x:\n",
    "    num = 3 * (i + 1) + 2\n",
    "    if num % 4 != 0:\n",
    "        print(num, end=' ')\n",
    "        count += 1\n",
    "    i += 1"
   ]
  },
  {
   "cell_type": "markdown",
   "metadata": {},
   "source": [
    "    Given tuple list, assign frequency to each tuple in list.\n",
    "\n",
    "    Input Format\n",
    "    First line contains integer n that denotes number of tuples.\n",
    "\n",
    "    Next n lines contain each of the tuples in a single line.\n",
    "\n",
    "    Output Format\n",
    "    Print the updated tuple list in the original order.\n",
    "\n",
    "    Example 1\n",
    "    Input\n",
    "\n",
    "    test_list = [(6, 5, 8), (2, 7), (6, 5, 8), (6, 5, 8), (9, ), (2, 7)]\n",
    "    Output\n",
    "\n",
    "    [(6, 5, 8, 2), (2, 7, 2), (9, 1)] "
   ]
  },
  {
   "cell_type": "code",
   "execution_count": 7,
   "metadata": {},
   "outputs": [
    {
     "data": {
      "text/plain": [
       "6"
      ]
     },
     "execution_count": 7,
     "metadata": {},
     "output_type": "execute_result"
    }
   ],
   "source": [
    "n =int(input())\n",
    "n"
   ]
  },
  {
   "cell_type": "code",
   "execution_count": 9,
   "metadata": {},
   "outputs": [
    {
     "data": {
      "text/plain": [
       "[(6, 5, 8), (2, 7), (6, 5, 8), (6, 5, 8), (9,), (2, 7)]"
      ]
     },
     "execution_count": 9,
     "metadata": {},
     "output_type": "execute_result"
    }
   ],
   "source": [
    "tuple_list=[(6, 5, 8), (2, 7), (6, 5, 8), (6, 5, 8), (9, ), (2, 7)]\n",
    "tuple_list"
   ]
  },
  {
   "cell_type": "code",
   "execution_count": 14,
   "metadata": {},
   "outputs": [
    {
     "data": {
      "text/plain": [
       "[(9, 1), (6, 5, 8, 3), (2, 7, 2)]"
      ]
     },
     "execution_count": 14,
     "metadata": {},
     "output_type": "execute_result"
    }
   ],
   "source": [
    "tuple_list=[(6, 5, 8), (2, 7), (6, 5, 8), (6, 5, 8), (9, ), (2, 7)]\n",
    "counter=0\n",
    "freq=[]\n",
    "for t in set(tuple_list):\n",
    "    counter=tuple_list.count(t)  \n",
    "    freq.append(tuple(list(t)+[counter]))\n",
    "set_freq=list(set(freq))\n",
    "set_freq"
   ]
  },
  {
   "cell_type": "code",
   "execution_count": 15,
   "metadata": {},
   "outputs": [],
   "source": [
    "a=[1,2,3]\n",
    "b=[4,5,6]\n",
    "# [1,4,2,5,3,6]"
   ]
  },
  {
   "cell_type": "code",
   "execution_count": 16,
   "metadata": {},
   "outputs": [
    {
     "data": {
      "text/plain": [
       "[1, 4, 2, 5, 3, 6]"
      ]
     },
     "execution_count": 16,
     "metadata": {},
     "output_type": "execute_result"
    }
   ],
   "source": [
    "new_list=[]\n",
    "for i in range(len(a)):\n",
    "    new_list.append(a[i])\n",
    "    new_list.append(b[i])\n",
    "new_list"
   ]
  },
  {
   "cell_type": "markdown",
   "metadata": {},
   "source": [
    "    Pairs with Sum: Find all pairs of elements in a list that sum up to a given number S."
   ]
  },
  {
   "cell_type": "code",
   "execution_count": 20,
   "metadata": {},
   "outputs": [],
   "source": [
    "import string as st"
   ]
  },
  {
   "cell_type": "code",
   "execution_count": 21,
   "metadata": {},
   "outputs": [
    {
     "data": {
      "text/plain": [
       "'01234567'"
      ]
     },
     "execution_count": 21,
     "metadata": {},
     "output_type": "execute_result"
    }
   ],
   "source": [
    "st.octdigits"
   ]
  },
  {
   "cell_type": "code",
   "execution_count": 22,
   "metadata": {},
   "outputs": [
    {
     "data": {
      "text/plain": [
       "'0123456789abcdefABCDEF'"
      ]
     },
     "execution_count": 22,
     "metadata": {},
     "output_type": "execute_result"
    }
   ],
   "source": [
    "st.hexdigits"
   ]
  },
  {
   "cell_type": "markdown",
   "metadata": {},
   "source": [
    "    0   =>    0\n",
    "\n",
    "    0\t0\n",
    "    1\t1\n",
    "    2\t10\n",
    "    3\t11\n",
    "    4\t100\n",
    "    5\t101\n",
    "    6\t110\n",
    "    7\t111\n",
    "\n"
   ]
  },
  {
   "cell_type": "code",
   "execution_count": 24,
   "metadata": {},
   "outputs": [
    {
     "data": {
      "text/plain": [
       "str"
      ]
     },
     "execution_count": 24,
     "metadata": {},
     "output_type": "execute_result"
    }
   ],
   "source": [
    "type(bin(10))"
   ]
  },
  {
   "cell_type": "code",
   "execution_count": 19,
   "metadata": {},
   "outputs": [
    {
     "data": {
      "text/plain": [
       "'100'"
      ]
     },
     "execution_count": 19,
     "metadata": {},
     "output_type": "execute_result"
    }
   ],
   "source": [
    "bin(4)[2:]"
   ]
  },
  {
   "cell_type": "code",
   "execution_count": 8,
   "metadata": {},
   "outputs": [
    {
     "name": "stdout",
     "output_type": "stream",
     "text": [
      "a\n",
      "ab\n",
      "abc\n",
      "abcc\n",
      "abccb\n",
      "abccbc\n",
      "b\n",
      "bc\n",
      "bcc\n",
      "bccb\n",
      "bccbc\n",
      "c\n",
      "cc\n",
      "ccb\n",
      "ccbc\n",
      "c\n",
      "cb\n",
      "cbc\n",
      "b\n",
      "bc\n",
      "c\n"
     ]
    }
   ],
   "source": [
    "str='abccbc'\n",
    "while len(str)>0:\n",
    "    for i in range(len(str)):\n",
    "        print(str[:i+1])\n",
    "    str=str[1:]"
   ]
  },
  {
   "cell_type": "code",
   "execution_count": 28,
   "metadata": {},
   "outputs": [
    {
     "name": "stdout",
     "output_type": "stream",
     "text": [
      "bc\n",
      "bc\n"
     ]
    }
   ],
   "source": [
    "for i in range(len(str)-1):\n",
    "    print(str[1:])"
   ]
  },
  {
   "cell_type": "markdown",
   "metadata": {},
   "source": [
    "    One of the important aspect of object oriented programming is readability of the code. To enhance the readability of code, developers write function and variable names in Camel Case.\n",
    "\n",
    "    You are given a string S, written in Camel Case. Find All The Words Contained In It.\n",
    "\n",
    "    Note Complete the given function. The input would be handled by the driver code. You only have to print the answer."
   ]
  },
  {
   "cell_type": "code",
   "execution_count": null,
   "metadata": {},
   "outputs": [],
   "source": [
    "str='IAmAJavaProgrammer'\n",
    "st=str[1]\n",
    "for i in range(len(str)): \n",
    "    if str[i+1].isupper():\n",
    "        st+=' '+str[i]   \n",
    "    else:        \n",
    "        st+=str[i]  "
   ]
  },
  {
   "cell_type": "code",
   "execution_count": 15,
   "metadata": {},
   "outputs": [
    {
     "name": "stdout",
     "output_type": "stream",
     "text": [
      "I\n",
      "A\n",
      "A\n",
      "J\n",
      "P\n"
     ]
    }
   ],
   "source": [
    "s = 'IAmAJavaProgrammer'\n",
    "s_new = \"\"\n",
    "for i in range(len(s)):\n",
    "    if s[i].isupper():\n",
    "        print(s_new)\n",
    "        s_new = ''\n",
    "        s_new += s[i] \n",
    "    else:\n",
    "        s_new += s[i]"
   ]
  },
  {
   "cell_type": "code",
   "execution_count": null,
   "metadata": {},
   "outputs": [],
   "source": [
    "8\n",
    "acciojob\n",
    "4 5 6 7 0 2 1 3"
   ]
  },
  {
   "cell_type": "code",
   "execution_count": 37,
   "metadata": {},
   "outputs": [
    {
     "data": {
      "text/plain": [
       "(8, 'acciojob', [4, 5, 6, 7, 0, 2, 1, 3])"
      ]
     },
     "execution_count": 37,
     "metadata": {},
     "output_type": "execute_result"
    }
   ],
   "source": [
    "n = int(input())\n",
    "s = input()\n",
    "arr = list(map(int, input().split()))\n",
    "n,s,arr"
   ]
  },
  {
   "cell_type": "code",
   "execution_count": 39,
   "metadata": {},
   "outputs": [
    {
     "name": "stdout",
     "output_type": "stream",
     "text": [
      "ojobacci"
     ]
    }
   ],
   "source": [
    "for i in arr:\n",
    "    print(s[i],end='')"
   ]
  },
  {
   "cell_type": "code",
   "execution_count": 40,
   "metadata": {},
   "outputs": [
    {
     "data": {
      "text/plain": [
       "[1, 2, 3, 5, 4, 9, 6, 7, 9, 5, 6, 3]"
      ]
     },
     "execution_count": 40,
     "metadata": {},
     "output_type": "execute_result"
    }
   ],
   "source": [
    "lst=[1,2,3,5,4,9,6,7,9,5,6,3]\n",
    "lst"
   ]
  },
  {
   "cell_type": "markdown",
   "metadata": {},
   "source": [
    "    45. Use a for loop to iterate over a list of numbers and print out a histogram (using asterisks) representing the frequency of each number."
   ]
  },
  {
   "cell_type": "code",
   "execution_count": 46,
   "metadata": {},
   "outputs": [
    {
     "data": {
      "text/plain": [
       "[1, 2, 3, 4, 5, 6, 7, 9]"
      ]
     },
     "execution_count": 46,
     "metadata": {},
     "output_type": "execute_result"
    }
   ],
   "source": [
    "set_lst=list(set(lst))\n",
    "set_lst.sort()\n",
    "set_lst"
   ]
  },
  {
   "cell_type": "code",
   "execution_count": 48,
   "metadata": {},
   "outputs": [
    {
     "data": {
      "text/plain": [
       "[1, 1, 2, 1, 2, 2, 1, 2]"
      ]
     },
     "execution_count": 48,
     "metadata": {},
     "output_type": "execute_result"
    }
   ],
   "source": [
    "count_lst=[lst.count(i) for i in set_lst]\n",
    "count_lst"
   ]
  },
  {
   "cell_type": "code",
   "execution_count": 52,
   "metadata": {},
   "outputs": [
    {
     "name": "stdout",
     "output_type": "stream",
     "text": [
      "1|*\n",
      "2|*\n",
      "3|**\n",
      "4|*\n",
      "5|**\n",
      "6|**\n",
      "7|*\n",
      "9|**\n"
     ]
    }
   ],
   "source": [
    "for i in range(len(set_lst)):\n",
    "    print(f'{set_lst[i]}|',end='')\n",
    "    for j in range(count_lst[i]):\n",
    "        print('*',end='')\n",
    "    print()"
   ]
  },
  {
   "cell_type": "code",
   "execution_count": 56,
   "metadata": {},
   "outputs": [
    {
     "ename": "TypeError",
     "evalue": "can only concatenate str (not \"int\") to str",
     "output_type": "error",
     "traceback": [
      "\u001b[1;31m---------------------------------------------------------------------------\u001b[0m",
      "\u001b[1;31mTypeError\u001b[0m                                 Traceback (most recent call last)",
      "Cell \u001b[1;32mIn[56], line 14\u001b[0m\n\u001b[0;32m     12\u001b[0m         res \u001b[38;5;241m+\u001b[39m\u001b[38;5;241m=\u001b[39m S[i]\n\u001b[0;32m     13\u001b[0m     \u001b[38;5;28;01melse\u001b[39;00m:\n\u001b[1;32m---> 14\u001b[0m         res \u001b[38;5;241m+\u001b[39m\u001b[38;5;241m=\u001b[39m \u001b[43mS\u001b[49m\u001b[43m[\u001b[49m\u001b[43mi\u001b[49m\u001b[43m]\u001b[49m\u001b[43m \u001b[49m\u001b[38;5;241;43m+\u001b[39;49m\u001b[43m \u001b[49m\u001b[43mcount\u001b[49m\n\u001b[0;32m     15\u001b[0m     i\u001b[38;5;241m+\u001b[39m\u001b[38;5;241m=\u001b[39m\u001b[38;5;241m1\u001b[39m\n\u001b[0;32m     16\u001b[0m \u001b[38;5;28mprint\u001b[39m(res)\n",
      "\u001b[1;31mTypeError\u001b[0m: can only concatenate str (not \"int\") to str"
     ]
    }
   ],
   "source": [
    "t=1\n",
    "while t>0:\n",
    "    S='aabccc'\n",
    "    res=''\n",
    "    i=0\n",
    "    while i < (len(S)):\n",
    "        count = 1\n",
    "        while i + 1 < len(S) and S[i] == S[i + 1]:\n",
    "            count += 1\n",
    "            i += 1\n",
    "        if count == 1:\n",
    "            res += S[i]\n",
    "        else:\n",
    "            res += S[i] + count\n",
    "        i+=1\n",
    "    print(res)\n",
    "    t-=1"
   ]
  },
  {
   "cell_type": "code",
   "execution_count": 3,
   "metadata": {},
   "outputs": [],
   "source": [
    "import string as st"
   ]
  },
  {
   "cell_type": "code",
   "execution_count": 7,
   "metadata": {},
   "outputs": [
    {
     "name": "stdout",
     "output_type": "stream",
     "text": [
      "abc\n",
      "a2bc3\n"
     ]
    }
   ],
   "source": [
    "s='aabccc'\n",
    "c=''\n",
    "new_s=''\n",
    "for i in s:\n",
    "    if i not in new_s:\n",
    "        new_s+=i   \n",
    "print(new_s)\n",
    "    \n",
    "for i in new_s:\n",
    "    if s.count(i) == 1:\n",
    "        c=c+i\n",
    "    else:\n",
    "        c=c+i+str(s.count(i))\n",
    "print(c)"
   ]
  }
 ],
 "metadata": {
  "kernelspec": {
   "display_name": "Python 3",
   "language": "python",
   "name": "python3"
  },
  "language_info": {
   "codemirror_mode": {
    "name": "ipython",
    "version": 3
   },
   "file_extension": ".py",
   "mimetype": "text/x-python",
   "name": "python",
   "nbconvert_exporter": "python",
   "pygments_lexer": "ipython3",
   "version": "3.12.1"
  }
 },
 "nbformat": 4,
 "nbformat_minor": 2
}
