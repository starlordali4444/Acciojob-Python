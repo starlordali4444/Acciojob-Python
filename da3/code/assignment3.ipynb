{
 "cells": [
  {
   "cell_type": "markdown",
   "metadata": {},
   "source": [
    "    List Comprehension\n",
    "    Dict Comprehension\n",
    "    While Loop\n",
    "    For Loop\n",
    "    Function"
   ]
  },
  {
   "cell_type": "code",
   "execution_count": null,
   "metadata": {},
   "outputs": [],
   "source": [
    "lst=[1,2,3]"
   ]
  },
  {
   "cell_type": "markdown",
   "metadata": {},
   "source": [
    "        *\n",
    "       * *\n",
    "      * * *\n",
    "     * * * *\n",
    "    * * * * *"
   ]
  },
  {
   "cell_type": "markdown",
   "metadata": {},
   "source": [
    "    Count the number of even nos between 1 to 50"
   ]
  },
  {
   "cell_type": "markdown",
   "metadata": {},
   "source": [
    "    When to use loop\n",
    "        When we see any repeating pattern\n",
    "    We will have to identify how many times we have to run the loop / iterate the loop\n",
    "    To know that, we need to find out the length of the pattern.\n",
    "    "
   ]
  },
  {
   "cell_type": "code",
   "execution_count": 4,
   "metadata": {},
   "outputs": [
    {
     "name": "stdout",
     "output_type": "stream",
     "text": [
      "No of even nos between 1 to 50 => 25\n"
     ]
    }
   ],
   "source": [
    "count_even=0\n",
    "for i in range(1,51): # initiated the loop - this loop will run 50 times\n",
    "    if i%2==0:  # conditional sttement to check if value of i is multiple of 2\n",
    "        count_even+=1 # if value is multiple of 2 increase count by 1\n",
    "        \n",
    "print(f'No of even nos between 1 to 50 => {count_even}')"
   ]
  },
  {
   "cell_type": "code",
   "execution_count": 6,
   "metadata": {},
   "outputs": [
    {
     "data": {
      "text/plain": [
       "25"
      ]
     },
     "execution_count": 6,
     "metadata": {},
     "output_type": "execute_result"
    }
   ],
   "source": [
    "len([i for i in range(1,50,2)])"
   ]
  },
  {
   "cell_type": "markdown",
   "metadata": {},
   "source": [
    "    Take a input from the user and print first 10 multiple of that"
   ]
  },
  {
   "cell_type": "code",
   "execution_count": 8,
   "metadata": {},
   "outputs": [
    {
     "name": "stdout",
     "output_type": "stream",
     "text": [
      "25 x 1 = 25\n",
      "25 x 2 = 50\n",
      "25 x 3 = 75\n",
      "25 x 4 = 100\n",
      "25 x 5 = 125\n",
      "25 x 6 = 150\n",
      "25 x 7 = 175\n",
      "25 x 8 = 200\n",
      "25 x 9 = 225\n",
      "25 x 10 = 250\n"
     ]
    },
    {
     "data": {
      "text/plain": [
       "25"
      ]
     },
     "execution_count": 8,
     "metadata": {},
     "output_type": "execute_result"
    }
   ],
   "source": [
    "no = int(input('Enter the no - '))\n",
    "\n",
    "for i in range(1,11):\n",
    "    print(f'{no} x {i} = {no*i}')\n",
    "len([i for i in range(1,50,2)])"
   ]
  },
  {
   "cell_type": "markdown",
   "metadata": {},
   "source": [
    "    Simple Interest \n",
    "        PRT/100\n",
    "    Compound Interest\n",
    "        A = P (1 + r)t"
   ]
  },
  {
   "cell_type": "markdown",
   "metadata": {},
   "source": [
    "    There was boy Ajit, who was qurious about Data Science he planned to upskill himself through Acciojob.For that he need loan of 80k\n",
    "\n",
    "    There were two options for that\n",
    "        Option 1 = take loan with 7 Rate of interest for 5 years\n",
    "        Option 2 he can pay downpayment of 15k and for rest of the money he can take loan with rate of interest 8 for 3 years"
   ]
  },
  {
   "cell_type": "markdown",
   "metadata": {},
   "source": [
    "    Write a python function to implement the same."
   ]
  },
  {
   "cell_type": "code",
   "execution_count": 15,
   "metadata": {},
   "outputs": [
    {
     "data": {
      "text/plain": [
       "(112204.14, 1870.069, 32204.14)"
      ]
     },
     "execution_count": 15,
     "metadata": {},
     "output_type": "execute_result"
    }
   ],
   "source": [
    "opt_1_total_amount=round(80000 * (1 + 0.07 ) ** 5,2)\n",
    "EMI=opt_1_total_amount/(5*12)\n",
    "interest=opt_1_total_amount-80000\n",
    "opt_1_total_amount,EMI,interest"
   ]
  },
  {
   "cell_type": "code",
   "execution_count": 17,
   "metadata": {},
   "outputs": [
    {
     "data": {
      "text/plain": [
       "(81881.28, 2274.48, 16881.28)"
      ]
     },
     "execution_count": 17,
     "metadata": {},
     "output_type": "execute_result"
    }
   ],
   "source": [
    "opt_1_total_amount=round((80000-15000) * (1 + 0.08 ) ** 3,2)\n",
    "EMI=opt_1_total_amount/(3*12)\n",
    "interest=opt_1_total_amount-(80000-15000)\n",
    "opt_1_total_amount,EMI,interest"
   ]
  },
  {
   "cell_type": "code",
   "execution_count": 20,
   "metadata": {},
   "outputs": [
    {
     "name": "stdout",
     "output_type": "stream",
     "text": [
      "181022.15 3017.0358333333334 91022.15\n"
     ]
    }
   ],
   "source": [
    "def compound_interest_opt_1(p,r,t):\n",
    "    opt_1_total_amount=round(p * (1 + r ) ** t,2)\n",
    "    EMI=opt_1_total_amount/(t*12)\n",
    "    interest=opt_1_total_amount-p\n",
    "    print(opt_1_total_amount,EMI,interest)\n",
    "compound_interest_opt_1(90000,0.15,5)"
   ]
  },
  {
   "cell_type": "code",
   "execution_count": null,
   "metadata": {},
   "outputs": [],
   "source": [
    "def compound_interest_opt_1(p,r,t,d):\n",
    "    opt_1_total_amount=round((p-d) * (1 + r ) ** t,2)\n",
    "    EMI=opt_1_total_amount/(t*12)\n",
    "    interest=opt_1_total_amount-(p-d)\n",
    "    opt_1_total_amount,EMI,interest"
   ]
  }
 ],
 "metadata": {
  "kernelspec": {
   "display_name": "Python 3",
   "language": "python",
   "name": "python3"
  },
  "language_info": {
   "codemirror_mode": {
    "name": "ipython",
    "version": 3
   },
   "file_extension": ".py",
   "mimetype": "text/x-python",
   "name": "python",
   "nbconvert_exporter": "python",
   "pygments_lexer": "ipython3",
   "version": "3.11.1"
  }
 },
 "nbformat": 4,
 "nbformat_minor": 2
}
