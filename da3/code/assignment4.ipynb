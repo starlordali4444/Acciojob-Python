{
 "cells": [
  {
   "cell_type": "markdown",
   "metadata": {},
   "source": [
    "    Good Strings\n",
    "    You are given a set 'S' of distinct characters. You are also given an array 'A' of 'N' strings.\n",
    "    A String in array 'A' is called good if all the characters of the string is present in the set 'S'.\n",
    "    You have to find how many strings in the array 'A' are good.\n",
    "\n",
    "    Input Format\n",
    "    The first line contains the number of test cases.\n",
    "    For each test case: The first line contains a string denoting the characters of the set 'S'.\n",
    "    The next line contains 'N', the number of strings in 'A'.\n",
    "    The next 'N' lines contains a string each, which are the elements of the array 'A'.\n",
    "    \n",
    "    Output Format\n",
    "    For each test case print the count of good strings in a new line.\n",
    "\n",
    "    Example 1\n",
    "    Input:\n",
    "\n",
    "    1\n",
    "    abc\n",
    "    4\n",
    "    ab\n",
    "    abd\n",
    "    cacb\n",
    "    cabef\n",
    "    Output:\n",
    "\n",
    "    2"
   ]
  },
  {
   "cell_type": "code",
   "execution_count": 13,
   "metadata": {},
   "outputs": [],
   "source": [
    "no_of_test_cases=int(input('Enter the No of Test Cases'))\n",
    "set_s=set(input('Enter the characters of the Set'))"
   ]
  },
  {
   "cell_type": "code",
   "execution_count": 14,
   "metadata": {},
   "outputs": [
    {
     "data": {
      "text/plain": [
       "{'a', 'b', 'c'}"
      ]
     },
     "execution_count": 14,
     "metadata": {},
     "output_type": "execute_result"
    }
   ],
   "source": [
    "set_s"
   ]
  },
  {
   "cell_type": "code",
   "execution_count": 15,
   "metadata": {},
   "outputs": [
    {
     "data": {
      "text/plain": [
       "['ab', 'abc', 'cabc', 'ckjhdl', 'aaaaacccd', 'ghsakdha']"
      ]
     },
     "execution_count": 15,
     "metadata": {},
     "output_type": "execute_result"
    }
   ],
   "source": [
    "no_of_ele=int(input('Enter No Of Strings'))\n",
    "str_lst=[]\n",
    "for i in range(no_of_ele):\n",
    "    str_lst.append(input())"
   ]
  },
  {
   "cell_type": "code",
   "execution_count": 16,
   "metadata": {},
   "outputs": [
    {
     "data": {
      "text/plain": [
       "3"
      ]
     },
     "execution_count": 16,
     "metadata": {},
     "output_type": "execute_result"
    }
   ],
   "source": [
    "no_of_good_string=0\n",
    "for i in str_lst:\n",
    "    is_good=True\n",
    "    for char in i:\n",
    "        if char not in set_s:\n",
    "            is_good=False\n",
    "            break\n",
    "    if is_good:\n",
    "       no_of_good_string+=1 \n",
    "no_of_good_string  "
   ]
  },
  {
   "cell_type": "code",
   "execution_count": 18,
   "metadata": {},
   "outputs": [],
   "source": [
    "for test_case in range(int(input())):\n",
    "    set_s=set(input())\n",
    "    no_of_ele=int(input())\n",
    "    str_lst=[]\n",
    "    for i in range(no_of_ele):\n",
    "        str_lst.append(input())\n",
    "    no_of_good_string=0\n",
    "    for i in str_lst:\n",
    "        is_good=True\n",
    "        for char in i:\n",
    "            if char not in set_s:\n",
    "                is_good=False\n",
    "                break\n",
    "        if is_good:\n",
    "            no_of_good_string+=1 \n",
    "    print(no_of_good_string)"
   ]
  },
  {
   "cell_type": "code",
   "execution_count": 20,
   "metadata": {},
   "outputs": [
    {
     "name": "stdout",
     "output_type": "stream",
     "text": [
      "2\n"
     ]
    }
   ],
   "source": [
    "for test_case in range(int(input())):\n",
    "    set_s=set(input())\n",
    "    no_of_good_string=0\n",
    "    for i in [input() for i in range(int(input()))]:\n",
    "        is_good=True\n",
    "        for char in i:\n",
    "            if char not in set_s:\n",
    "                is_good=False\n",
    "                break\n",
    "        if is_good:\n",
    "            no_of_good_string+=1 \n",
    "    print(no_of_good_string)"
   ]
  },
  {
   "cell_type": "markdown",
   "metadata": {},
   "source": [
    "    You are a data scientist analyzing climate data for a research project. You have a dataset of average monthly temperatures (in degrees Celsius) for a city over the past 10 years. This dataset is represented as a 2D NumPy array, where each row corresponds to a year (from oldest to newest), and each column corresponds to a month (January to December)."
   ]
  },
  {
   "cell_type": "code",
   "execution_count": 21,
   "metadata": {},
   "outputs": [],
   "source": [
    "import numpy as np\n",
    "import random as rd"
   ]
  },
  {
   "cell_type": "code",
   "execution_count": 22,
   "metadata": {},
   "outputs": [
    {
     "data": {
      "text/plain": [
       "array([18, 24, 26, 13, 22, 10, 15, 28, 27, 25, 12, 22,  8, 29,  5, 34, 33,\n",
       "       20, 29, 21, 24, 13, 34,  5, 33,  4, 13,  4,  4, 14, 35, 24, 17,  9,\n",
       "       30,  4, 23, 29, 17,  9, 13, 15, 32,  7,  9, 24, 31, 30, 27, 18, 24,\n",
       "       19, 12,  8, 26, 10,  8,  7, 25,  6, 16, 26, 32,  8, 35, 17, 27, 12,\n",
       "       17, 25, 20, 32,  7, 33, 21,  7,  9, 27, 18, 14, 29, 32, 26, 17, 15,\n",
       "        5, 28,  4, 24, 31,  7,  7,  9, 26, 23, 16,  5,  7, 34,  8, 34, 20,\n",
       "       28, 17, 20, 34, 20, 11, 33, 20, 36, 25,  4, 21, 22, 25, 36,  6, 18,\n",
       "       12])"
      ]
     },
     "execution_count": 22,
     "metadata": {},
     "output_type": "execute_result"
    }
   ],
   "source": [
    "np_temp=np.array([rd.randint(4,36) for i in range(120)])\n",
    "np_temp"
   ]
  },
  {
   "cell_type": "code",
   "execution_count": 24,
   "metadata": {},
   "outputs": [
    {
     "data": {
      "text/plain": [
       "120"
      ]
     },
     "execution_count": 24,
     "metadata": {},
     "output_type": "execute_result"
    }
   ],
   "source": [
    "np_temp.size"
   ]
  },
  {
   "cell_type": "code",
   "execution_count": 25,
   "metadata": {},
   "outputs": [
    {
     "data": {
      "text/plain": [
       "array([[18, 24, 26, 13, 22, 10, 15, 28, 27, 25, 12, 22],\n",
       "       [ 8, 29,  5, 34, 33, 20, 29, 21, 24, 13, 34,  5],\n",
       "       [33,  4, 13,  4,  4, 14, 35, 24, 17,  9, 30,  4],\n",
       "       [23, 29, 17,  9, 13, 15, 32,  7,  9, 24, 31, 30],\n",
       "       [27, 18, 24, 19, 12,  8, 26, 10,  8,  7, 25,  6],\n",
       "       [16, 26, 32,  8, 35, 17, 27, 12, 17, 25, 20, 32],\n",
       "       [ 7, 33, 21,  7,  9, 27, 18, 14, 29, 32, 26, 17],\n",
       "       [15,  5, 28,  4, 24, 31,  7,  7,  9, 26, 23, 16],\n",
       "       [ 5,  7, 34,  8, 34, 20, 28, 17, 20, 34, 20, 11],\n",
       "       [33, 20, 36, 25,  4, 21, 22, 25, 36,  6, 18, 12]])"
      ]
     },
     "execution_count": 25,
     "metadata": {},
     "output_type": "execute_result"
    }
   ],
   "source": [
    "np_temp_2d=np_temp.reshape((10,12))\n",
    "np_temp_2d"
   ]
  },
  {
   "cell_type": "markdown",
   "metadata": {},
   "source": [
    "    Calculate the average temperature for each month across all years. This will give you a 1D array of 12 elements."
   ]
  },
  {
   "cell_type": "code",
   "execution_count": 41,
   "metadata": {},
   "outputs": [
    {
     "data": {
      "text/plain": [
       "(18.5, 19.5, 23.6)"
      ]
     },
     "execution_count": 41,
     "metadata": {},
     "output_type": "execute_result"
    }
   ],
   "source": [
    "np.average(np_temp_2d[:,0]),np.average(np_temp_2d[:,1]),np.average(np_temp_2d[:,2])"
   ]
  },
  {
   "cell_type": "code",
   "execution_count": 40,
   "metadata": {},
   "outputs": [
    {
     "name": "stdout",
     "output_type": "stream",
     "text": [
      "18.5\n",
      "19.5\n",
      "23.6\n",
      "13.1\n",
      "19.0\n",
      "18.3\n",
      "23.9\n",
      "16.5\n",
      "19.6\n",
      "20.1\n",
      "23.9\n",
      "15.5\n"
     ]
    }
   ],
   "source": [
    "for i in range(12):\n",
    "    print(np.average(np_temp_2d[:,i]))\n",
    "    "
   ]
  },
  {
   "cell_type": "code",
   "execution_count": 34,
   "metadata": {},
   "outputs": [
    {
     "data": {
      "text/plain": [
       "(10, 12)"
      ]
     },
     "execution_count": 34,
     "metadata": {},
     "output_type": "execute_result"
    }
   ],
   "source": [
    "np_temp_2d.shape"
   ]
  },
  {
   "cell_type": "code",
   "execution_count": 39,
   "metadata": {},
   "outputs": [
    {
     "data": {
      "text/plain": [
       "[18.5, 19.5, 23.6, 13.1, 19.0, 18.3, 23.9, 16.5, 19.6, 20.1, 23.9, 15.5]"
      ]
     },
     "execution_count": 39,
     "metadata": {},
     "output_type": "execute_result"
    }
   ],
   "source": [
    "[np.average(np_temp_2d[:,i]) for i in range(np_temp_2d.shape[1])]"
   ]
  },
  {
   "cell_type": "code",
   "execution_count": 38,
   "metadata": {},
   "outputs": [
    {
     "data": {
      "text/plain": [
       "array([18.5, 19.5, 23.6, 13.1, 19. , 18.3, 23.9, 16.5, 19.6, 20.1, 23.9,\n",
       "       15.5])"
      ]
     },
     "execution_count": 38,
     "metadata": {},
     "output_type": "execute_result"
    }
   ],
   "source": [
    "np_temp_2d.mean(axis=0)"
   ]
  },
  {
   "cell_type": "code",
   "execution_count": 42,
   "metadata": {},
   "outputs": [
    {
     "data": {
      "text/plain": [
       "array([20.16666667, 21.25      , 15.91666667, 19.91666667, 15.83333333,\n",
       "       22.25      , 20.        , 16.25      , 19.83333333, 21.5       ])"
      ]
     },
     "execution_count": 42,
     "metadata": {},
     "output_type": "execute_result"
    }
   ],
   "source": [
    "np_temp_2d.mean(axis=1)"
   ]
  },
  {
   "cell_type": "code",
   "execution_count": 43,
   "metadata": {},
   "outputs": [
    {
     "data": {
      "text/plain": [
       "19.291666666666668"
      ]
     },
     "execution_count": 43,
     "metadata": {},
     "output_type": "execute_result"
    }
   ],
   "source": [
    "np_temp_2d.mean()"
   ]
  },
  {
   "cell_type": "code",
   "execution_count": 45,
   "metadata": {},
   "outputs": [
    {
     "data": {
      "text/plain": [
       "array([ 5,  4,  5,  4,  4,  8,  7,  7,  8,  6, 12,  4])"
      ]
     },
     "execution_count": 45,
     "metadata": {},
     "output_type": "execute_result"
    }
   ],
   "source": [
    "np_temp_2d.min(axis=0)"
   ]
  },
  {
   "cell_type": "code",
   "execution_count": 46,
   "metadata": {},
   "outputs": [
    {
     "data": {
      "text/plain": [
       "array([10,  5,  4,  7,  6,  8,  7,  4,  5,  4])"
      ]
     },
     "execution_count": 46,
     "metadata": {},
     "output_type": "execute_result"
    }
   ],
   "source": [
    "np_temp_2d.min(axis=1)"
   ]
  },
  {
   "cell_type": "markdown",
   "metadata": {},
   "source": [
    "    For each year, find the month with the highest temperature and the month with the lowest temperature. Report the difference (fluctuation) in temperature for each year."
   ]
  },
  {
   "cell_type": "code",
   "execution_count": 47,
   "metadata": {},
   "outputs": [
    {
     "data": {
      "text/plain": [
       "array([28, 34, 35, 32, 27, 35, 33, 31, 34, 36])"
      ]
     },
     "execution_count": 47,
     "metadata": {},
     "output_type": "execute_result"
    }
   ],
   "source": [
    "np_temp_2d.max(axis=1)"
   ]
  },
  {
   "cell_type": "code",
   "execution_count": 48,
   "metadata": {},
   "outputs": [
    {
     "data": {
      "text/plain": [
       "array([10,  5,  4,  7,  6,  8,  7,  4,  5,  4])"
      ]
     },
     "execution_count": 48,
     "metadata": {},
     "output_type": "execute_result"
    }
   ],
   "source": [
    "np_temp_2d.min(axis=1)"
   ]
  },
  {
   "cell_type": "code",
   "execution_count": 49,
   "metadata": {},
   "outputs": [
    {
     "data": {
      "text/plain": [
       "array([18, 29, 31, 25, 21, 27, 26, 27, 29, 32])"
      ]
     },
     "execution_count": 49,
     "metadata": {},
     "output_type": "execute_result"
    }
   ],
   "source": [
    "np_temp_2d.max(axis=1)-np_temp_2d.min(axis=1)"
   ]
  }
 ],
 "metadata": {
  "kernelspec": {
   "display_name": "Python 3",
   "language": "python",
   "name": "python3"
  },
  "language_info": {
   "codemirror_mode": {
    "name": "ipython",
    "version": 3
   },
   "file_extension": ".py",
   "mimetype": "text/x-python",
   "name": "python",
   "nbconvert_exporter": "python",
   "pygments_lexer": "ipython3",
   "version": "3.11.1"
  }
 },
 "nbformat": 4,
 "nbformat_minor": 2
}
