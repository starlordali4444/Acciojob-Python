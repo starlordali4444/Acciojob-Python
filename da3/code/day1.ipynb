{
 "cells": [
  {
   "cell_type": "markdown",
   "metadata": {},
   "source": [
    "    Python\n",
    "        Coding lang\n",
    "        Visulaization\n",
    "        Library / Module\n",
    "        Easy to learn\n",
    "        Used for Mathematical operations\n",
    "        Can be used for web development also\n",
    "\n",
    "    Java\n",
    "    C\n",
    "    C++\n",
    "    C#\n",
    "    JavaScript\n",
    "    SQL\n",
    "    R\n",
    "    Scala\n",
    "    Swift\n",
    "    PHP\n",
    "    HTML\n",
    "    CSS\n",
    "    Bootstrap\n",
    "    NodeJS\n",
    "        VueJS\n",
    "        ReactJS\n",
    "            NextJS\n",
    "        MongoDB\n",
    "        ExpressJS\n",
    "        AngularJS\n",
    "    SQl\n",
    "    NOSQL\n",
    "    Oh bhai"
   ]
  },
  {
   "cell_type": "markdown",
   "metadata": {},
   "source": [
    "    Business Problem\n",
    "    Analytical Problem\n",
    "        Problem Statements\n",
    "        Solve Problem Statements through Tables/ Visualization / Dashboard\n",
    "    Analytical Solution - Insights\n",
    "    Business Sol - Decision Making"
   ]
  },
  {
   "cell_type": "markdown",
   "metadata": {},
   "source": [
    "    Flow chart for data Analysis\n",
    "        Data Collection\n",
    "        Data Ingestion\n",
    "        Data Cleaning\n",
    "        Data Transformation\n",
    "        Data Visualization\n",
    "        Models \n",
    "\n",
    "    Statistics\n",
    "    1. Descriptive statistics: mean, median, mode, range, variance, standard deviation, skewness and kurtosis\n",
    "    2. Inferential statistics: hypothesis testing (t-test, chi-square test), regression analysis (simple linear regression)\n",
    "\n"
   ]
  },
  {
   "cell_type": "markdown",
   "metadata": {},
   "source": [
    "    Python\n",
    "        Core Concepts\n",
    "            Variable\n",
    "            Constants\n",
    "            Operators\n",
    "                Arithmatic Operators\n",
    "                Logical\n",
    "                Comparison\n",
    "                Equality\n",
    "            Data Types\n",
    "                Primary Data Types\n",
    "                    Boolean\n",
    "                    Integer\n",
    "                    Float\n",
    "                    String\n",
    "                    Complex Data Types\n",
    "                Secondary Data Types\n",
    "                    List\n",
    "                    Tuple\n",
    "                    Set\n",
    "                    Dictionary\n",
    "                    Array\n",
    "            Conditional Statements\n",
    "                Simple If\n",
    "                If Else\n",
    "                elif Ladder\n",
    "                Nested if else ladder\n",
    "            Control Flow Statements\n",
    "                Loops\n",
    "                    While \n",
    "                    For\n",
    "                break\n",
    "                pass\n",
    "                continue\n",
    "            Function\n",
    "                Inbuilt Functions\n",
    "                    Numeric fuctions\n",
    "                    String Function\n",
    "                    List Function\n",
    "                    Dict Function\n",
    "                    Tuple\n",
    "                User Defined Function\n",
    "                    Define a function\n",
    "                    Types of function on basis of Argument and return type\n",
    "            Exception Handling\n",
    "                try\n",
    "                catch\n",
    "                else\n",
    "                finally\n",
    "            **OOPS\n",
    "                class and objects\n",
    "                Advantanges\n",
    "                    Polymorphism\n",
    "                    Abstraction\n",
    "                    Encapsulation\n",
    "                    Inheritance\n",
    "            ** File Handling\n",
    "                Read\n",
    "                Write\n",
    "                Append\n",
    "                Extend\n",
    "        Data Manupulation / Data Tranformation\n",
    "            Numpy\n",
    "                Array\n",
    "                How to use different Statistical functions with array\n",
    "            Pandas\n",
    "                Series\n",
    "                DataFrame\n",
    "        Data Visualization\n",
    "            Matplotlib\n",
    "            **Seaborn\n",
    "            **sklearn"
   ]
  },
  {
   "cell_type": "markdown",
   "metadata": {},
   "source": [
    "    Offline application\n",
    "        VS Code \n",
    "            https://www.python.org/downloads/\n",
    "            https://code.visualstudio.com/download\n",
    "        Anaconda - Jupyter Notebook \n",
    "            https://www.anaconda.com/download\n",
    "        Spyder\n",
    "        Pycharm\n",
    "    Online Platform\n",
    "        Google Colab\n",
    "\n",
    "    Jupyter Notebook .ipynb\n",
    "        Cells\n",
    "        Markdown\n",
    "    Python .py"
   ]
  },
  {
   "cell_type": "markdown",
   "metadata": {},
   "source": [
    "    Command Prompt\n",
    "        cd => change directory\n",
    "        mkdir => make directory\n",
    "        dir => to get the list of directory\n",
    "    How to run python code in Cmd\n",
    "        python <file_name>\n",
    "            python day1.py"
   ]
  },
  {
   "cell_type": "markdown",
   "metadata": {},
   "source": [
    "    Core Topics\n",
    "        Two session\n",
    "    Numpy  "
   ]
  },
  {
   "cell_type": "code",
   "execution_count": 1,
   "metadata": {},
   "outputs": [
    {
     "name": "stdout",
     "output_type": "stream",
     "text": [
      "Welcome to Python Module\n"
     ]
    }
   ],
   "source": [
    "print(\"Welcome to Python Module\")"
   ]
  },
  {
   "cell_type": "code",
   "execution_count": 3,
   "metadata": {},
   "outputs": [
    {
     "name": "stdout",
     "output_type": "stream",
     "text": [
      "1\n",
      "2\n"
     ]
    }
   ],
   "source": [
    "print(1)\n",
    "print(2)"
   ]
  },
  {
   "cell_type": "code",
   "execution_count": null,
   "metadata": {},
   "outputs": [],
   "source": [
    "1\n",
    "2\n",
    "3\n",
    "4\n",
    "5\n",
    "6\n",
    "7\n",
    "8"
   ]
  },
  {
   "cell_type": "markdown",
   "metadata": {},
   "source": [
    "    Constants\n",
    "    Variable\n",
    "        How to define Variable\n",
    "        <variable_name> = <variable_value>\n",
    "        = assignment operator\n",
    "\n",
    "        Rules to define variable name\n",
    "            it will start with alphabatic letter and underscore.\n",
    "            It can contain letters, digits and underscore(_)."
   ]
  },
  {
   "cell_type": "code",
   "execution_count": 16,
   "metadata": {},
   "outputs": [],
   "source": [
    "_b=5"
   ]
  },
  {
   "cell_type": "code",
   "execution_count": 11,
   "metadata": {},
   "outputs": [],
   "source": [
    "a=1\n",
    "b=234\n",
    "c=456"
   ]
  },
  {
   "cell_type": "code",
   "execution_count": 7,
   "metadata": {},
   "outputs": [
    {
     "data": {
      "text/plain": [
       "234"
      ]
     },
     "execution_count": 7,
     "metadata": {},
     "output_type": "execute_result"
    }
   ],
   "source": [
    "b"
   ]
  },
  {
   "cell_type": "code",
   "execution_count": 12,
   "metadata": {},
   "outputs": [
    {
     "data": {
      "text/plain": [
       "456"
      ]
     },
     "execution_count": 12,
     "metadata": {},
     "output_type": "execute_result"
    }
   ],
   "source": [
    "c"
   ]
  },
  {
   "cell_type": "code",
   "execution_count": 18,
   "metadata": {},
   "outputs": [
    {
     "name": "stdout",
     "output_type": "stream",
     "text": [
      "1\n"
     ]
    }
   ],
   "source": [
    "print(a)"
   ]
  },
  {
   "cell_type": "code",
   "execution_count": 6,
   "metadata": {},
   "outputs": [
    {
     "data": {
      "text/plain": [
       "1"
      ]
     },
     "execution_count": 6,
     "metadata": {},
     "output_type": "execute_result"
    }
   ],
   "source": [
    "a"
   ]
  },
  {
   "cell_type": "markdown",
   "metadata": {},
   "source": [
    "    Data Types\n",
    "        Boolean => 0,1 True False\n",
    "        Integer => -2^31 to 2^31-1\n",
    "            1 2 -1 -2\n",
    "        Float   => -2^64 to 2^64-1\n",
    "            1.2 5.6 -9.45\n",
    "        String  => up to 256 characters of UTF8 encoded text.   \n",
    "            \"Hello World\"\n",
    "            'Hello World'\n"
   ]
  },
  {
   "cell_type": "code",
   "execution_count": 17,
   "metadata": {},
   "outputs": [
    {
     "name": "stdout",
     "output_type": "stream",
     "text": [
      "1\n",
      "a\n"
     ]
    }
   ],
   "source": [
    "print(a)   # this is a variable\n",
    "print(\"a\") # this is a string value"
   ]
  },
  {
   "cell_type": "markdown",
   "metadata": {},
   "source": [
    "Siraj Ali"
   ]
  },
  {
   "cell_type": "markdown",
   "metadata": {},
   "source": [
    "    Siraj Ali"
   ]
  },
  {
   "cell_type": "markdown",
   "metadata": {},
   "source": [
    "# Siraj Ali"
   ]
  },
  {
   "cell_type": "markdown",
   "metadata": {},
   "source": [
    "## Siraj Ali"
   ]
  },
  {
   "cell_type": "markdown",
   "metadata": {},
   "source": [
    "    print(end=\" \")\n",
    "        by default end is new line => \\n\n",
    "        Tab Space \\t"
   ]
  },
  {
   "cell_type": "code",
   "execution_count": 19,
   "metadata": {},
   "outputs": [
    {
     "name": "stdout",
     "output_type": "stream",
     "text": [
      "Siraj Ali\n",
      "Acciojob\n"
     ]
    }
   ],
   "source": [
    "print(\"Siraj Ali\")\n",
    "print(\"Acciojob\")"
   ]
  },
  {
   "cell_type": "code",
   "execution_count": 21,
   "metadata": {},
   "outputs": [
    {
     "name": "stdout",
     "output_type": "stream",
     "text": [
      "Siraj Ali@Acciojob\n"
     ]
    }
   ],
   "source": [
    "print(\"Siraj Ali\",end=\"@\")\n",
    "print(\"Acciojob\")"
   ]
  },
  {
   "cell_type": "markdown",
   "metadata": {},
   "source": [
    "    \\t"
   ]
  },
  {
   "cell_type": "code",
   "execution_count": 23,
   "metadata": {},
   "outputs": [
    {
     "name": "stdout",
     "output_type": "stream",
     "text": [
      "SirajAcciojob\n"
     ]
    }
   ],
   "source": [
    "print(\"Siraj\",end=\"\")\n",
    "print(\"Acciojob\")"
   ]
  },
  {
   "cell_type": "code",
   "execution_count": 24,
   "metadata": {},
   "outputs": [
    {
     "name": "stdout",
     "output_type": "stream",
     "text": [
      "Siraj\tAcciojob\n"
     ]
    }
   ],
   "source": [
    "print(\"Siraj\",end=\"\\t\")\n",
    "print(\"Acciojob\")"
   ]
  },
  {
   "cell_type": "markdown",
   "metadata": {},
   "source": [
    "    \\n"
   ]
  },
  {
   "cell_type": "code",
   "execution_count": 25,
   "metadata": {},
   "outputs": [
    {
     "name": "stdout",
     "output_type": "stream",
     "text": [
      "SirajAcciojob\n"
     ]
    }
   ],
   "source": [
    "print(\"Siraj\",end=\"\")\n",
    "print(\"Acciojob\")"
   ]
  },
  {
   "cell_type": "code",
   "execution_count": 26,
   "metadata": {},
   "outputs": [
    {
     "name": "stdout",
     "output_type": "stream",
     "text": [
      "Siraj\n",
      "Acciojob\n"
     ]
    }
   ],
   "source": [
    "print(\"Siraj\",end=\"\\n\")\n",
    "print(\"Acciojob\")"
   ]
  },
  {
   "cell_type": "markdown",
   "metadata": {},
   "source": [
    "    type() => it is used to check the data type of the variable"
   ]
  },
  {
   "cell_type": "code",
   "execution_count": 27,
   "metadata": {},
   "outputs": [
    {
     "data": {
      "text/plain": [
       "int"
      ]
     },
     "execution_count": 27,
     "metadata": {},
     "output_type": "execute_result"
    }
   ],
   "source": [
    "type(1)"
   ]
  },
  {
   "cell_type": "code",
   "execution_count": 28,
   "metadata": {},
   "outputs": [
    {
     "data": {
      "text/plain": [
       "bool"
      ]
     },
     "execution_count": 28,
     "metadata": {},
     "output_type": "execute_result"
    }
   ],
   "source": [
    "type(True)"
   ]
  },
  {
   "cell_type": "code",
   "execution_count": 29,
   "metadata": {},
   "outputs": [
    {
     "data": {
      "text/plain": [
       "str"
      ]
     },
     "execution_count": 29,
     "metadata": {},
     "output_type": "execute_result"
    }
   ],
   "source": [
    "type('True')"
   ]
  },
  {
   "cell_type": "code",
   "execution_count": 30,
   "metadata": {},
   "outputs": [
    {
     "data": {
      "text/plain": [
       "float"
      ]
     },
     "execution_count": 30,
     "metadata": {},
     "output_type": "execute_result"
    }
   ],
   "source": [
    "type(12.5)"
   ]
  },
  {
   "cell_type": "markdown",
   "metadata": {},
   "source": [
    "    Implicit  => When the interpretor automatically converts one data type to another without explicit declaration, it is called implicit type casting.\n",
    "\n",
    "    Explicit\n",
    "    Type Casting => Change datatype\n",
    "        Functions for type casting\n",
    "            int()\n",
    "            bool()\n",
    "            float()\n",
    "            str()\n",
    "        True => int"
   ]
  },
  {
   "cell_type": "code",
   "execution_count": 31,
   "metadata": {},
   "outputs": [],
   "source": [
    "a=True"
   ]
  },
  {
   "cell_type": "code",
   "execution_count": 32,
   "metadata": {},
   "outputs": [
    {
     "data": {
      "text/plain": [
       "bool"
      ]
     },
     "execution_count": 32,
     "metadata": {},
     "output_type": "execute_result"
    }
   ],
   "source": [
    "type(a)"
   ]
  },
  {
   "cell_type": "code",
   "execution_count": 33,
   "metadata": {},
   "outputs": [
    {
     "data": {
      "text/plain": [
       "1"
      ]
     },
     "execution_count": 33,
     "metadata": {},
     "output_type": "execute_result"
    }
   ],
   "source": [
    "int(a)"
   ]
  },
  {
   "cell_type": "code",
   "execution_count": 34,
   "metadata": {},
   "outputs": [
    {
     "data": {
      "text/plain": [
       "0"
      ]
     },
     "execution_count": 34,
     "metadata": {},
     "output_type": "execute_result"
    }
   ],
   "source": [
    "int(False)"
   ]
  },
  {
   "cell_type": "code",
   "execution_count": 35,
   "metadata": {},
   "outputs": [
    {
     "data": {
      "text/plain": [
       "int"
      ]
     },
     "execution_count": 35,
     "metadata": {},
     "output_type": "execute_result"
    }
   ],
   "source": [
    "type(int(False))"
   ]
  },
  {
   "cell_type": "code",
   "execution_count": 36,
   "metadata": {},
   "outputs": [
    {
     "data": {
      "text/plain": [
       "1.0"
      ]
     },
     "execution_count": 36,
     "metadata": {},
     "output_type": "execute_result"
    }
   ],
   "source": [
    "float(True)"
   ]
  },
  {
   "cell_type": "code",
   "execution_count": 37,
   "metadata": {},
   "outputs": [
    {
     "data": {
      "text/plain": [
       "'True'"
      ]
     },
     "execution_count": 37,
     "metadata": {},
     "output_type": "execute_result"
    }
   ],
   "source": [
    "str(True)"
   ]
  },
  {
   "cell_type": "markdown",
   "metadata": {},
   "source": [
    "    Int Type Casting"
   ]
  },
  {
   "cell_type": "markdown",
   "metadata": {},
   "source": [
    "    Every inteer will be converted into True \n",
    "    except 0 "
   ]
  },
  {
   "cell_type": "code",
   "execution_count": 38,
   "metadata": {},
   "outputs": [
    {
     "data": {
      "text/plain": [
       "True"
      ]
     },
     "execution_count": 38,
     "metadata": {},
     "output_type": "execute_result"
    }
   ],
   "source": [
    "bool(1)"
   ]
  },
  {
   "cell_type": "code",
   "execution_count": 39,
   "metadata": {},
   "outputs": [
    {
     "data": {
      "text/plain": [
       "False"
      ]
     },
     "execution_count": 39,
     "metadata": {},
     "output_type": "execute_result"
    }
   ],
   "source": [
    "bool(0)"
   ]
  },
  {
   "cell_type": "code",
   "execution_count": 40,
   "metadata": {},
   "outputs": [
    {
     "data": {
      "text/plain": [
       "True"
      ]
     },
     "execution_count": 40,
     "metadata": {},
     "output_type": "execute_result"
    }
   ],
   "source": [
    "bool(-11111111)"
   ]
  },
  {
   "cell_type": "code",
   "execution_count": 41,
   "metadata": {},
   "outputs": [
    {
     "data": {
      "text/plain": [
       "True"
      ]
     },
     "execution_count": 41,
     "metadata": {},
     "output_type": "execute_result"
    }
   ],
   "source": [
    "bool(99999999999)"
   ]
  },
  {
   "cell_type": "code",
   "execution_count": 43,
   "metadata": {},
   "outputs": [
    {
     "data": {
      "text/plain": [
       "True"
      ]
     },
     "execution_count": 43,
     "metadata": {},
     "output_type": "execute_result"
    }
   ],
   "source": [
    "bool(1.0)"
   ]
  },
  {
   "cell_type": "code",
   "execution_count": 44,
   "metadata": {},
   "outputs": [
    {
     "data": {
      "text/plain": [
       "True"
      ]
     },
     "execution_count": 44,
     "metadata": {},
     "output_type": "execute_result"
    }
   ],
   "source": [
    "bool('Acciojob')"
   ]
  },
  {
   "cell_type": "code",
   "execution_count": 45,
   "metadata": {},
   "outputs": [
    {
     "data": {
      "text/plain": [
       "True"
      ]
     },
     "execution_count": 45,
     "metadata": {},
     "output_type": "execute_result"
    }
   ],
   "source": [
    "bool('Siraj')"
   ]
  },
  {
   "cell_type": "markdown",
   "metadata": {},
   "source": [
    "    String Type Casting"
   ]
  },
  {
   "cell_type": "code",
   "execution_count": 42,
   "metadata": {},
   "outputs": [
    {
     "data": {
      "text/plain": [
       "'True'"
      ]
     },
     "execution_count": 42,
     "metadata": {},
     "output_type": "execute_result"
    }
   ],
   "source": [
    "str(True)"
   ]
  },
  {
   "cell_type": "code",
   "execution_count": 47,
   "metadata": {},
   "outputs": [
    {
     "data": {
      "text/plain": [
       "str"
      ]
     },
     "execution_count": 47,
     "metadata": {},
     "output_type": "execute_result"
    }
   ],
   "source": [
    "type(str(1))"
   ]
  },
  {
   "cell_type": "code",
   "execution_count": 48,
   "metadata": {},
   "outputs": [
    {
     "ename": "ValueError",
     "evalue": "invalid literal for int() with base 10: 'Siraj'",
     "output_type": "error",
     "traceback": [
      "\u001b[1;31m---------------------------------------------------------------------------\u001b[0m",
      "\u001b[1;31mValueError\u001b[0m                                Traceback (most recent call last)",
      "\u001b[1;32ma:\\work\\acciojob\\python\\da3\\code\\day1.ipynb Cell 57\u001b[0m line \u001b[0;36m1\n\u001b[1;32m----> <a href='vscode-notebook-cell:/a%3A/work/acciojob/python/da3/code/day1.ipynb#Y144sZmlsZQ%3D%3D?line=0'>1</a>\u001b[0m \u001b[39mint\u001b[39;49m(\u001b[39m'\u001b[39;49m\u001b[39mSiraj\u001b[39;49m\u001b[39m'\u001b[39;49m)\n",
      "\u001b[1;31mValueError\u001b[0m: invalid literal for int() with base 10: 'Siraj'"
     ]
    }
   ],
   "source": [
    "int('Siraj')"
   ]
  },
  {
   "cell_type": "markdown",
   "metadata": {},
   "source": [
    "    String Formating\n",
    "        f string\n",
    "        r string"
   ]
  },
  {
   "cell_type": "code",
   "execution_count": 51,
   "metadata": {},
   "outputs": [],
   "source": [
    "a='Sohel'\n",
    "b='Ajit'\n",
    "c='Kajal'"
   ]
  },
  {
   "cell_type": "code",
   "execution_count": 55,
   "metadata": {},
   "outputs": [
    {
     "name": "stdout",
     "output_type": "stream",
     "text": [
      "Sohel Ajit Kajal\n",
      "Sohel\n"
     ]
    }
   ],
   "source": [
    "print(a,b,c)\n",
    "print(a)"
   ]
  },
  {
   "cell_type": "code",
   "execution_count": 56,
   "metadata": {},
   "outputs": [
    {
     "name": "stdout",
     "output_type": "stream",
     "text": [
      "Welcome to python module a\n"
     ]
    }
   ],
   "source": [
    "print(\"Welcome to python module a\")"
   ]
  },
  {
   "cell_type": "code",
   "execution_count": 57,
   "metadata": {},
   "outputs": [
    {
     "name": "stdout",
     "output_type": "stream",
     "text": [
      "Welcome to python module Sohel\n"
     ]
    }
   ],
   "source": [
    "print(\"Welcome to python module\",a)"
   ]
  },
  {
   "cell_type": "code",
   "execution_count": 58,
   "metadata": {},
   "outputs": [],
   "source": [
    "welcome=\"Welcome to python module\""
   ]
  },
  {
   "cell_type": "code",
   "execution_count": 59,
   "metadata": {},
   "outputs": [
    {
     "name": "stdout",
     "output_type": "stream",
     "text": [
      "Welcome to python module Sohel\n"
     ]
    }
   ],
   "source": [
    "print(welcome,a)"
   ]
  },
  {
   "cell_type": "markdown",
   "metadata": {},
   "source": [
    "    f String\n",
    "        Fiyaz got 7 in excel, 6 in sql and 4 in powerbi"
   ]
  },
  {
   "cell_type": "code",
   "execution_count": 67,
   "metadata": {},
   "outputs": [],
   "source": [
    "name='Fiyaz'\n",
    "excel=9\n",
    "sql=6\n",
    "powerbi=4"
   ]
  },
  {
   "cell_type": "code",
   "execution_count": 69,
   "metadata": {},
   "outputs": [
    {
     "name": "stdout",
     "output_type": "stream",
     "text": [
      "Fiyaz got 9 in excel, 6 in sql and 4 in powerbi.\n"
     ]
    }
   ],
   "source": [
    "print(name,\"got\",excel,\"in excel,\",sql ,\"in sql and\",powerbi,\"in powerbi.\")"
   ]
  },
  {
   "cell_type": "code",
   "execution_count": 68,
   "metadata": {},
   "outputs": [
    {
     "name": "stdout",
     "output_type": "stream",
     "text": [
      "Fiyaz got 7 in excel, 6 in sql and 4 in powerbi\n"
     ]
    }
   ],
   "source": [
    "print(\"Fiyaz got 7 in excel, 6 in sql and 4 in powerbi\")"
   ]
  },
  {
   "cell_type": "code",
   "execution_count": 70,
   "metadata": {},
   "outputs": [
    {
     "name": "stdout",
     "output_type": "stream",
     "text": [
      "Fiyaz got 9 in excel, 6 in sql and 4 in powerbi\n"
     ]
    }
   ],
   "source": [
    "print(f'{name} got {excel} in excel, {sql} in sql and {powerbi} in powerbi')"
   ]
  },
  {
   "cell_type": "code",
   "execution_count": 73,
   "metadata": {},
   "outputs": [
    {
     "name": "stdout",
     "output_type": "stream",
     "text": [
      "\tSiraj \n",
      " Acciojob\n"
     ]
    }
   ],
   "source": [
    "print(\"\\t Siraj \\n Acciojob\")"
   ]
  },
  {
   "cell_type": "code",
   "execution_count": 74,
   "metadata": {},
   "outputs": [
    {
     "name": "stdout",
     "output_type": "stream",
     "text": [
      "\\tSiraj \\nAcciojob\n"
     ]
    }
   ],
   "source": [
    "print(r\"\\tSiraj \\nAcciojob\")"
   ]
  },
  {
   "cell_type": "code",
   "execution_count": 76,
   "metadata": {},
   "outputs": [
    {
     "data": {
      "text/plain": [
       "\"India's\""
      ]
     },
     "execution_count": 76,
     "metadata": {},
     "output_type": "execute_result"
    }
   ],
   "source": [
    "a=\"India's\"\n",
    "a"
   ]
  },
  {
   "cell_type": "code",
   "execution_count": 77,
   "metadata": {},
   "outputs": [
    {
     "data": {
      "text/plain": [
       "'India\"s'"
      ]
     },
     "execution_count": 77,
     "metadata": {},
     "output_type": "execute_result"
    }
   ],
   "source": [
    "b='India\"s'\n",
    "b"
   ]
  },
  {
   "cell_type": "markdown",
   "metadata": {},
   "source": [
    "    Arithmatic\n",
    "        +\n",
    "        -\n",
    "        *\n",
    "        /\n",
    "        %\n",
    "        //\n",
    "        **\n",
    "\n",
    "    Dividend = divisor * quotient + Remainder"
   ]
  },
  {
   "cell_type": "code",
   "execution_count": 80,
   "metadata": {},
   "outputs": [
    {
     "data": {
      "text/plain": [
       "3"
      ]
     },
     "execution_count": 80,
     "metadata": {},
     "output_type": "execute_result"
    }
   ],
   "source": [
    "1+2"
   ]
  },
  {
   "cell_type": "code",
   "execution_count": 81,
   "metadata": {},
   "outputs": [
    {
     "data": {
      "text/plain": [
       "-1"
      ]
     },
     "execution_count": 81,
     "metadata": {},
     "output_type": "execute_result"
    }
   ],
   "source": [
    "2-3"
   ]
  },
  {
   "cell_type": "code",
   "execution_count": 82,
   "metadata": {},
   "outputs": [
    {
     "data": {
      "text/plain": [
       "30"
      ]
     },
     "execution_count": 82,
     "metadata": {},
     "output_type": "execute_result"
    }
   ],
   "source": [
    "5*6"
   ]
  },
  {
   "cell_type": "code",
   "execution_count": 83,
   "metadata": {},
   "outputs": [
    {
     "data": {
      "text/plain": [
       "1.2"
      ]
     },
     "execution_count": 83,
     "metadata": {},
     "output_type": "execute_result"
    }
   ],
   "source": [
    "6/5"
   ]
  },
  {
   "cell_type": "code",
   "execution_count": 84,
   "metadata": {},
   "outputs": [
    {
     "data": {
      "text/plain": [
       "1"
      ]
     },
     "execution_count": 84,
     "metadata": {},
     "output_type": "execute_result"
    }
   ],
   "source": [
    "6//5"
   ]
  },
  {
   "cell_type": "code",
   "execution_count": 85,
   "metadata": {},
   "outputs": [
    {
     "data": {
      "text/plain": [
       "2"
      ]
     },
     "execution_count": 85,
     "metadata": {},
     "output_type": "execute_result"
    }
   ],
   "source": [
    "14%3"
   ]
  },
  {
   "cell_type": "code",
   "execution_count": 88,
   "metadata": {},
   "outputs": [
    {
     "data": {
      "text/plain": [
       "32"
      ]
     },
     "execution_count": 88,
     "metadata": {},
     "output_type": "execute_result"
    }
   ],
   "source": [
    "2**5"
   ]
  },
  {
   "cell_type": "markdown",
   "metadata": {},
   "source": [
    "    Logical\n",
    "        not\n",
    "        or\n",
    "        and"
   ]
  },
  {
   "cell_type": "markdown",
   "metadata": {},
   "source": [
    "    Comparison\n",
    "        >\n",
    "        <\n",
    "        ==\n",
    "        !=\n",
    "        <=\n",
    "        >="
   ]
  }
 ],
 "metadata": {
  "kernelspec": {
   "display_name": "Python 3",
   "language": "python",
   "name": "python3"
  },
  "language_info": {
   "codemirror_mode": {
    "name": "ipython",
    "version": 3
   },
   "file_extension": ".py",
   "mimetype": "text/x-python",
   "name": "python",
   "nbconvert_exporter": "python",
   "pygments_lexer": "ipython3",
   "version": "3.12.0"
  }
 },
 "nbformat": 4,
 "nbformat_minor": 2
}
