{
 "cells": [
  {
   "cell_type": "markdown",
   "metadata": {},
   "source": [
    "    Loop \n",
    "        while - When we are not sure how many times we have to run the loop\n",
    "        for - fixed iteration "
   ]
  },
  {
   "cell_type": "markdown",
   "metadata": {},
   "source": [
    "    i = 0\n",
    "    "
   ]
  },
  {
   "cell_type": "code",
   "execution_count": 1,
   "metadata": {},
   "outputs": [
    {
     "name": "stdout",
     "output_type": "stream",
     "text": [
      "0\n",
      "1\n",
      "2\n",
      "3\n",
      "4\n"
     ]
    }
   ],
   "source": [
    "i=0\n",
    "while i<5:\n",
    "    print(i)\n",
    "    i+=1"
   ]
  },
  {
   "cell_type": "markdown",
   "metadata": {},
   "source": [
    "    Write a python script to print names of students who came to attend the orientation."
   ]
  },
  {
   "cell_type": "code",
   "execution_count": 7,
   "metadata": {},
   "outputs": [
    {
     "name": "stdout",
     "output_type": "stream",
     "text": [
      "Welcome !! Ali.\n",
      "Welcome !! Ajit.\n",
      "Welcome !! Akhi;l.\n"
     ]
    }
   ],
   "source": [
    "choice='y'\n",
    "while choice =='y':    \n",
    "    print(f'Welcome !! {input(\"Enter the Name of Student\")}.')\n",
    "    choice=input('Enter Choice')"
   ]
  },
  {
   "cell_type": "code",
   "execution_count": 9,
   "metadata": {},
   "outputs": [
    {
     "name": "stdout",
     "output_type": "stream",
     "text": [
      "Welcome !! Ali.\n",
      "Welcome !! Sohel.\n",
      "Welcome !! Ajit.\n",
      "Welcome !! Akhil.\n"
     ]
    }
   ],
   "source": [
    "choice=input()\n",
    "while choice =='y':    \n",
    "    print(f'Welcome !! {input(\"Enter the Name of Student\")}.')\n",
    "    choice=input('Enter Choice')"
   ]
  },
  {
   "cell_type": "markdown",
   "metadata": {},
   "source": [
    "    for <initialization> <condition/iteration>:\n",
    "        <for block code>\n",
    "\n",
    "    range(start_index,end_index,step)\n",
    "        default value of \n",
    "            step 1\n",
    "            start 0\n",
    "            end len()\n",
    "        range(5)\n",
    "            0 1 2 3 4"
   ]
  },
  {
   "cell_type": "code",
   "execution_count": null,
   "metadata": {},
   "outputs": [],
   "source": [
    "st='Welcome to Acciojob'"
   ]
  },
  {
   "cell_type": "code",
   "execution_count": 10,
   "metadata": {},
   "outputs": [
    {
     "name": "stdout",
     "output_type": "stream",
     "text": [
      "0\n",
      "1\n",
      "2\n",
      "3\n",
      "4\n"
     ]
    }
   ],
   "source": [
    "for i in range(5):\n",
    "    print(i)"
   ]
  },
  {
   "cell_type": "markdown",
   "metadata": {},
   "source": [
    "    Write a Python script to print even nos less than 20"
   ]
  },
  {
   "cell_type": "code",
   "execution_count": 11,
   "metadata": {},
   "outputs": [
    {
     "name": "stdout",
     "output_type": "stream",
     "text": [
      "0  is Even\n",
      "2  is Even\n",
      "4  is Even\n",
      "6  is Even\n",
      "8  is Even\n",
      "10  is Even\n",
      "12  is Even\n",
      "14  is Even\n",
      "16  is Even\n",
      "18  is Even\n"
     ]
    }
   ],
   "source": [
    "for i in range(20):\n",
    "    if i%2==0:\n",
    "        print(f'{i}  is Even')"
   ]
  },
  {
   "cell_type": "code",
   "execution_count": 12,
   "metadata": {},
   "outputs": [
    {
     "name": "stdout",
     "output_type": "stream",
     "text": [
      "0 is even\n",
      "2 is even\n",
      "4 is even\n",
      "6 is even\n",
      "8 is even\n",
      "10 is even\n",
      "12 is even\n",
      "14 is even\n",
      "16 is even\n",
      "18 is even\n"
     ]
    }
   ],
   "source": [
    "for i in range(0,20,2):\n",
    "    print(f'{i} is even')"
   ]
  },
  {
   "cell_type": "markdown",
   "metadata": {},
   "source": [
    "    Write a Python script to print odd nos less than 20"
   ]
  },
  {
   "cell_type": "code",
   "execution_count": 14,
   "metadata": {},
   "outputs": [
    {
     "name": "stdout",
     "output_type": "stream",
     "text": [
      "1 is odd\n",
      "3 is odd\n",
      "5 is odd\n",
      "7 is odd\n",
      "9 is odd\n",
      "11 is odd\n",
      "13 is odd\n",
      "15 is odd\n",
      "17 is odd\n",
      "19 is odd\n"
     ]
    }
   ],
   "source": [
    "for i in range(1,20,2):\n",
    "    print(f'{i} is odd')"
   ]
  },
  {
   "cell_type": "code",
   "execution_count": 21,
   "metadata": {},
   "outputs": [
    {
     "name": "stdout",
     "output_type": "stream",
     "text": [
      "Row => 0\n",
      "Col=> 0 * Col=> 1 * Col=> 2 * Col=> 3 * Col=> 4 * \n",
      "Row => 1\n",
      "Col=> 0 * Col=> 1 * Col=> 2 * Col=> 3 * Col=> 4 * \n",
      "Row => 2\n",
      "Col=> 0 * Col=> 1 * Col=> 2 * Col=> 3 * Col=> 4 * \n",
      "Row => 3\n",
      "Col=> 0 * Col=> 1 * Col=> 2 * Col=> 3 * Col=> 4 * \n",
      "Row => 4\n",
      "Col=> 0 * Col=> 1 * Col=> 2 * Col=> 3 * Col=> 4 * \n"
     ]
    }
   ],
   "source": [
    "for i in range(5):\n",
    "    print(f'Row => {i}')\n",
    "    for j in range(5):\n",
    "        print(f'Col=> {j} * ',end='')\n",
    "    print()"
   ]
  },
  {
   "cell_type": "code",
   "execution_count": 25,
   "metadata": {},
   "outputs": [
    {
     "name": "stdout",
     "output_type": "stream",
     "text": [
      "*****\n",
      "*****\n",
      "*****\n",
      "*****\n",
      "*****\n"
     ]
    }
   ],
   "source": [
    "for i in range(5):\n",
    "    for j in range(5):\n",
    "        print('*',end='')\n",
    "    print()"
   ]
  },
  {
   "cell_type": "code",
   "execution_count": 24,
   "metadata": {},
   "outputs": [
    {
     "name": "stdout",
     "output_type": "stream",
     "text": [
      "0\n",
      "\n",
      "1\n",
      "\n",
      "2\n",
      "\n",
      "3\n",
      "\n",
      "4\n",
      "\n"
     ]
    }
   ],
   "source": [
    "for i in range(5):\n",
    "    print(i)\n",
    "    print()"
   ]
  },
  {
   "cell_type": "code",
   "execution_count": 34,
   "metadata": {},
   "outputs": [
    {
     "name": "stdout",
     "output_type": "stream",
     "text": [
      "*****\n",
      "*****\n",
      "*****\n",
      "*****\n",
      "*****\n"
     ]
    }
   ],
   "source": [
    "for i in range(1,6):\n",
    "    for j in range(1,6):\n",
    "        print(\"*\",end=\"\")\n",
    "    print()"
   ]
  },
  {
   "cell_type": "code",
   "execution_count": 33,
   "metadata": {},
   "outputs": [
    {
     "name": "stdout",
     "output_type": "stream",
     "text": [
      "*\n",
      "**\n",
      "***\n",
      "****\n",
      "*****\n"
     ]
    }
   ],
   "source": [
    "for i in range(1,6):\n",
    "    for j in range(1,i+1):\n",
    "        print(\"*\",end=\"\")\n",
    "    print()"
   ]
  },
  {
   "cell_type": "markdown",
   "metadata": {},
   "source": [
    "    range(1,6)\n",
    "            1 2 3 4 5\n",
    "    Row 1   range(1,2)\n",
    "            1\n",
    "    Row 2   range(1,3)\n",
    "            1 2\n",
    "    row 3   range(1,4)\n",
    "            1 2 3\n",
    "    Row 4   range(1,5)\n",
    "            1 2 3 4\n",
    "    Row 5   range(1,6)\n",
    "            1 2 3 4 5\n",
    "\n",
    "        st[s:e:step]\n",
    "        st[0:5:1]\n",
    "        0 1 2 3 4\n",
    "\n",
    "        "
   ]
  },
  {
   "cell_type": "markdown",
   "metadata": {},
   "source": [
    "    1\n",
    "    12\n",
    "    123\n",
    "    1234\n",
    "    12345"
   ]
  },
  {
   "cell_type": "code",
   "execution_count": 35,
   "metadata": {},
   "outputs": [
    {
     "name": "stdout",
     "output_type": "stream",
     "text": [
      "1\n",
      "12\n",
      "123\n",
      "1234\n",
      "12345\n"
     ]
    }
   ],
   "source": [
    "for i in range(1,6):\n",
    "    for j in range(1,i+1):\n",
    "        print(j,end=\"\")\n",
    "    print()"
   ]
  },
  {
   "cell_type": "markdown",
   "metadata": {},
   "source": [
    "    * * * * *\n",
    "    * * * *\n",
    "    * * * \n",
    "    * *\n",
    "    *"
   ]
  },
  {
   "cell_type": "markdown",
   "metadata": {},
   "source": [
    "        *\n",
    "       **\n",
    "      ***\n",
    "     ****\n",
    "    *****"
   ]
  },
  {
   "cell_type": "markdown",
   "metadata": {},
   "source": [
    "        *\n",
    "       * *\n",
    "      * * *\n",
    "     * * * *\n",
    "    * * * * *"
   ]
  },
  {
   "cell_type": "markdown",
   "metadata": {},
   "source": [
    "    ********\n",
    "    *      *\n",
    "    *      *\n",
    "    *      *\n",
    "    ********"
   ]
  },
  {
   "cell_type": "code",
   "execution_count": 37,
   "metadata": {},
   "outputs": [
    {
     "ename": "ValueError",
     "evalue": "invalid literal for int() with base 10: 'Twenty One'",
     "output_type": "error",
     "traceback": [
      "\u001b[1;31m---------------------------------------------------------------------------\u001b[0m",
      "\u001b[1;31mValueError\u001b[0m                                Traceback (most recent call last)",
      "\u001b[1;32ma:\\work\\acciojob\\python\\da3\\code\\day4.ipynb Cell 27\u001b[0m line \u001b[0;36m1\n\u001b[1;32m----> <a href='vscode-notebook-cell:/a%3A/work/acciojob/python/da3/code/day4.ipynb#X42sZmlsZQ%3D%3D?line=0'>1</a>\u001b[0m age\u001b[39m=\u001b[39m\u001b[39mint\u001b[39;49m(\u001b[39minput\u001b[39;49m(\u001b[39m'\u001b[39;49m\u001b[39mEnter the age :- \u001b[39;49m\u001b[39m'\u001b[39;49m))\n\u001b[0;32m      <a href='vscode-notebook-cell:/a%3A/work/acciojob/python/da3/code/day4.ipynb#X42sZmlsZQ%3D%3D?line=2'>3</a>\u001b[0m \u001b[39mif\u001b[39;00m age\u001b[39m>\u001b[39m\u001b[39m=\u001b[39m\u001b[39m18\u001b[39m:\n\u001b[0;32m      <a href='vscode-notebook-cell:/a%3A/work/acciojob/python/da3/code/day4.ipynb#X42sZmlsZQ%3D%3D?line=3'>4</a>\u001b[0m     \u001b[39mprint\u001b[39m(\u001b[39m\"\u001b[39m\u001b[39mYou are eligible for voting\u001b[39m\u001b[39m\"\u001b[39m)\n",
      "\u001b[1;31mValueError\u001b[0m: invalid literal for int() with base 10: 'Twenty One'"
     ]
    }
   ],
   "source": [
    "age=int(input('Enter the age :- '))\n",
    "\n",
    "if age>=18:\n",
    "    print(\"You are eligible for voting\")\n",
    "else:\n",
    "    print(\"Sorry, you are not eligible for voting yet.\")"
   ]
  },
  {
   "cell_type": "markdown",
   "metadata": {},
   "source": [
    "    try:\n",
    "        <try block -> code which we have to check>\n",
    "    except <Exception yo>u want to handle>\n",
    "\n",
    "    else:\n",
    "        <else block>"
   ]
  },
  {
   "cell_type": "code",
   "execution_count": 38,
   "metadata": {},
   "outputs": [
    {
     "name": "stdout",
     "output_type": "stream",
     "text": [
      "Please provide valid age \n"
     ]
    }
   ],
   "source": [
    "try:\n",
    "    age=int(input('Enter the age :- '))\n",
    "\n",
    "    if age>=18:\n",
    "        print(\"You are eligible for voting\")\n",
    "    else:\n",
    "        print(\"Sorry, you are not eligible for voting yet.\")\n",
    "except ValueError:\n",
    "    print('Please provide valid age ')\n",
    "    "
   ]
  },
  {
   "cell_type": "code",
   "execution_count": 39,
   "metadata": {},
   "outputs": [
    {
     "ename": "ValueError",
     "evalue": "list.remove(x): x not in list",
     "output_type": "error",
     "traceback": [
      "\u001b[1;31m---------------------------------------------------------------------------\u001b[0m",
      "\u001b[1;31mValueError\u001b[0m                                Traceback (most recent call last)",
      "\u001b[1;32ma:\\work\\acciojob\\python\\da3\\code\\day4.ipynb Cell 30\u001b[0m line \u001b[0;36m3\n\u001b[0;32m      <a href='vscode-notebook-cell:/a%3A/work/acciojob/python/da3/code/day4.ipynb#X45sZmlsZQ%3D%3D?line=0'>1</a>\u001b[0m \u001b[39m# Trying to remove an element that is not in the list\u001b[39;00m\n\u001b[0;32m      <a href='vscode-notebook-cell:/a%3A/work/acciojob/python/da3/code/day4.ipynb#X45sZmlsZQ%3D%3D?line=1'>2</a>\u001b[0m my_list \u001b[39m=\u001b[39m [\u001b[39m1\u001b[39m, \u001b[39m2\u001b[39m, \u001b[39m3\u001b[39m]\n\u001b[1;32m----> <a href='vscode-notebook-cell:/a%3A/work/acciojob/python/da3/code/day4.ipynb#X45sZmlsZQ%3D%3D?line=2'>3</a>\u001b[0m my_list\u001b[39m.\u001b[39;49mremove(\u001b[39m4\u001b[39;49m)  \u001b[39m# This will raise ValueError\u001b[39;00m\n",
      "\u001b[1;31mValueError\u001b[0m: list.remove(x): x not in list"
     ]
    }
   ],
   "source": [
    "# Trying to remove an element that is not in the list\n",
    "my_list = [1, 2, 3]\n",
    "my_list.remove(4)  # This will raise ValueError\n"
   ]
  },
  {
   "cell_type": "code",
   "execution_count": 40,
   "metadata": {},
   "outputs": [
    {
     "name": "stdout",
     "output_type": "stream",
     "text": [
      "The value was not found\n"
     ]
    }
   ],
   "source": [
    "try:\n",
    "    # Trying to remove an element that is not in the list\n",
    "    my_list = [1, 2, 3]\n",
    "    my_list.remove(4)  # This will raise ValueError\n",
    "except ValueError:\n",
    "    print(\"The value was not found\")\n"
   ]
  },
  {
   "cell_type": "code",
   "execution_count": 41,
   "metadata": {},
   "outputs": [
    {
     "ename": "ZeroDivisionError",
     "evalue": "division by zero",
     "output_type": "error",
     "traceback": [
      "\u001b[1;31m---------------------------------------------------------------------------\u001b[0m",
      "\u001b[1;31mZeroDivisionError\u001b[0m                         Traceback (most recent call last)",
      "\u001b[1;32ma:\\work\\acciojob\\python\\da3\\code\\day4.ipynb Cell 32\u001b[0m line \u001b[0;36m1\n\u001b[1;32m----> <a href='vscode-notebook-cell:/a%3A/work/acciojob/python/da3/code/day4.ipynb#X50sZmlsZQ%3D%3D?line=0'>1</a>\u001b[0m \u001b[39m5\u001b[39;49m\u001b[39m/\u001b[39;49m\u001b[39m0\u001b[39;49m\n",
      "\u001b[1;31mZeroDivisionError\u001b[0m: division by zero"
     ]
    }
   ],
   "source": [
    "5/0"
   ]
  },
  {
   "cell_type": "code",
   "execution_count": 45,
   "metadata": {},
   "outputs": [
    {
     "name": "stdout",
     "output_type": "stream",
     "text": [
      "You can't divide by zero!\n"
     ]
    }
   ],
   "source": [
    "try:\n",
    "    no1=int(input())\n",
    "    no2=int(input())\n",
    "    print(no1/no2)\n",
    "except ZeroDivisionError:\n",
    "    print(\"You can't divide by zero!\")\n",
    "except ValueError:\n",
    "    print(\"Invalid input. Please enter a number.\")"
   ]
  },
  {
   "cell_type": "code",
   "execution_count": 1,
   "metadata": {},
   "outputs": [
    {
     "name": "stdout",
     "output_type": "stream",
     "text": [
      "Error invalid literal for int() with base 10: 'a'\n",
      "This is the end\n"
     ]
    }
   ],
   "source": [
    "try:\n",
    "    no1=int(input())\n",
    "    no2=int(input())\n",
    "    print(no1/no2)\n",
    "except Exception as e:\n",
    "    print(f\"Error {e}\")\n",
    "finally:\n",
    "    print(\"This is the end\")"
   ]
  },
  {
   "cell_type": "markdown",
   "metadata": {},
   "source": [
    "    Binary 2\n",
    "    OCtal 8\n",
    "    Hexadecimal 16\n",
    "    Decimal 10"
   ]
  },
  {
   "cell_type": "code",
   "execution_count": 50,
   "metadata": {},
   "outputs": [
    {
     "name": "stdout",
     "output_type": "stream",
     "text": [
      "10\n",
      "9\n",
      "8\n",
      "7\n",
      "6\n",
      "5\n",
      "4\n",
      "3\n",
      "2\n",
      "1\n"
     ]
    }
   ],
   "source": [
    "i=10\n",
    "while i>0:\n",
    "    print(i)\n",
    "    i-=1"
   ]
  },
  {
   "cell_type": "code",
   "execution_count": 57,
   "metadata": {},
   "outputs": [],
   "source": [
    "lst=[1,2456,3,4,55,6,7]"
   ]
  },
  {
   "cell_type": "code",
   "execution_count": 54,
   "metadata": {},
   "outputs": [
    {
     "name": "stdout",
     "output_type": "stream",
     "text": [
      "1\n",
      "2456\n",
      "3\n",
      "4\n",
      "55\n",
      "6\n",
      "7\n"
     ]
    }
   ],
   "source": [
    "for i in lst:\n",
    "    print(i)"
   ]
  },
  {
   "cell_type": "code",
   "execution_count": 59,
   "metadata": {},
   "outputs": [],
   "source": [
    "tup=1,5,6,'a',456,True,'Siraj'"
   ]
  },
  {
   "cell_type": "code",
   "execution_count": 56,
   "metadata": {},
   "outputs": [
    {
     "name": "stdout",
     "output_type": "stream",
     "text": [
      "1\n",
      "5\n",
      "6\n",
      "a\n",
      "456\n",
      "True\n"
     ]
    }
   ],
   "source": [
    "for i in tup:\n",
    "    print(i)"
   ]
  },
  {
   "cell_type": "code",
   "execution_count": 60,
   "metadata": {},
   "outputs": [
    {
     "data": {
      "text/plain": [
       "{1: 1, 2456: 5, 3: 6, 4: 'a', 55: 456, 6: True, 7: 'Siraj'}"
      ]
     },
     "execution_count": 60,
     "metadata": {},
     "output_type": "execute_result"
    }
   ],
   "source": [
    "di=dict(zip(lst,tup))\n",
    "di"
   ]
  },
  {
   "cell_type": "code",
   "execution_count": 61,
   "metadata": {},
   "outputs": [
    {
     "name": "stdout",
     "output_type": "stream",
     "text": [
      "1\n",
      "2456\n",
      "3\n",
      "4\n",
      "55\n",
      "6\n",
      "7\n"
     ]
    }
   ],
   "source": [
    "for i in di:\n",
    "    print(i)"
   ]
  },
  {
   "cell_type": "code",
   "execution_count": 62,
   "metadata": {},
   "outputs": [
    {
     "name": "stdout",
     "output_type": "stream",
     "text": [
      "(1, 1)\n",
      "(2456, 5)\n",
      "(3, 6)\n",
      "(4, 'a')\n",
      "(55, 456)\n",
      "(6, True)\n",
      "(7, 'Siraj')\n"
     ]
    }
   ],
   "source": [
    "for i in di.items():\n",
    "    print(i)"
   ]
  },
  {
   "cell_type": "code",
   "execution_count": 63,
   "metadata": {},
   "outputs": [
    {
     "name": "stdout",
     "output_type": "stream",
     "text": [
      "1\n",
      "2456\n",
      "3\n",
      "4\n",
      "55\n",
      "6\n",
      "7\n"
     ]
    }
   ],
   "source": [
    "for i in di.keys():\n",
    "    print(i)"
   ]
  },
  {
   "cell_type": "code",
   "execution_count": 64,
   "metadata": {},
   "outputs": [
    {
     "name": "stdout",
     "output_type": "stream",
     "text": [
      "1\n",
      "5\n",
      "6\n",
      "a\n",
      "456\n",
      "True\n",
      "Siraj\n"
     ]
    }
   ],
   "source": [
    "for i in di.values():\n",
    "    print(i)"
   ]
  },
  {
   "cell_type": "code",
   "execution_count": 66,
   "metadata": {},
   "outputs": [
    {
     "name": "stdout",
     "output_type": "stream",
     "text": [
      " 1  => 1\n",
      " 2456  => 5\n",
      " 3  => 6\n",
      " 4  => a\n",
      " 55  => 456\n",
      " 6  => True\n",
      " 7  => Siraj\n"
     ]
    }
   ],
   "source": [
    "for key,value in di.items():\n",
    "    print(f' {key}  => {value}')"
   ]
  },
  {
   "cell_type": "code",
   "execution_count": 67,
   "metadata": {},
   "outputs": [],
   "source": [
    "st={1,1,1,1,2,3,5,6,5,2,5,1,6,51,6,456}"
   ]
  },
  {
   "cell_type": "code",
   "execution_count": 68,
   "metadata": {},
   "outputs": [
    {
     "data": {
      "text/plain": [
       "{1, 2, 3, 5, 6, 51, 456}"
      ]
     },
     "execution_count": 68,
     "metadata": {},
     "output_type": "execute_result"
    }
   ],
   "source": [
    "st"
   ]
  },
  {
   "cell_type": "code",
   "execution_count": 69,
   "metadata": {},
   "outputs": [
    {
     "name": "stdout",
     "output_type": "stream",
     "text": [
      "1\n",
      "2\n",
      "3\n",
      "51\n",
      "5\n",
      "6\n",
      "456\n"
     ]
    }
   ],
   "source": [
    "for i in st:\n",
    "    print(i)"
   ]
  },
  {
   "cell_type": "markdown",
   "metadata": {},
   "source": [
    "    We have 5 players in a team we have different jersey no for them \n",
    "    We want to welcome player with jersey no 7"
   ]
  },
  {
   "cell_type": "code",
   "execution_count": 71,
   "metadata": {},
   "outputs": [],
   "source": [
    "players=[1,5,65,7,98]"
   ]
  },
  {
   "cell_type": "code",
   "execution_count": 74,
   "metadata": {},
   "outputs": [
    {
     "name": "stdout",
     "output_type": "stream",
     "text": [
      "Not Dhoni\n",
      "Not Dhoni\n",
      "Not Dhoni\n",
      "Welcome Back Dhoni\n",
      "Not Dhoni\n"
     ]
    }
   ],
   "source": [
    "for i in players:\n",
    "    if i==7:\n",
    "        print('Welcome Back Dhoni')\n",
    "    else:\n",
    "        print('Not Dhoni')"
   ]
  },
  {
   "cell_type": "code",
   "execution_count": 75,
   "metadata": {},
   "outputs": [
    {
     "name": "stdout",
     "output_type": "stream",
     "text": [
      "Not Dhoni\n",
      "Not Dhoni\n",
      "Not Dhoni\n",
      "Welcome Back Dhoni\n"
     ]
    }
   ],
   "source": [
    "for i in players:\n",
    "    if i==7:\n",
    "        print('Welcome Back Dhoni')\n",
    "        break\n",
    "    else:\n",
    "        print('Not Dhoni')"
   ]
  },
  {
   "cell_type": "markdown",
   "metadata": {},
   "source": [
    "    We have to find no divisible by 11\n",
    "    once we get 3 nos divisible by 11 break the loop"
   ]
  },
  {
   "cell_type": "code",
   "execution_count": 85,
   "metadata": {},
   "outputs": [
    {
     "name": "stdout",
     "output_type": "stream",
     "text": [
      "3\n",
      "6\n",
      "9\n",
      "12\n",
      "18\n",
      "21\n",
      "24\n",
      "27\n",
      "33\n",
      "36\n"
     ]
    }
   ],
   "source": [
    "count=0\n",
    "for i in range(1,100):    \n",
    "    if i%5==0:\n",
    "        continue\n",
    "    if i %3==0:\n",
    "        print(i)\n",
    "        count+=1\n",
    "    if count==10:\n",
    "        break"
   ]
  },
  {
   "cell_type": "markdown",
   "metadata": {},
   "source": [
    "    break = stop\n",
    "    continue = skip"
   ]
  }
 ],
 "metadata": {
  "kernelspec": {
   "display_name": "Python 3",
   "language": "python",
   "name": "python3"
  },
  "language_info": {
   "codemirror_mode": {
    "name": "ipython",
    "version": 3
   },
   "file_extension": ".py",
   "mimetype": "text/x-python",
   "name": "python",
   "nbconvert_exporter": "python",
   "pygments_lexer": "ipython3",
   "version": "3.11.1"
  }
 },
 "nbformat": 4,
 "nbformat_minor": 2
}
