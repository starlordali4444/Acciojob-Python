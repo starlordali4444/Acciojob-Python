{
 "cells": [
  {
   "cell_type": "code",
   "execution_count": 1,
   "metadata": {},
   "outputs": [],
   "source": [
    "st1={1,1,2,3,5,6,6,6,6}"
   ]
  },
  {
   "cell_type": "code",
   "execution_count": 3,
   "metadata": {},
   "outputs": [],
   "source": [
    "st1.update('Siraj')"
   ]
  },
  {
   "cell_type": "code",
   "execution_count": 4,
   "metadata": {},
   "outputs": [
    {
     "data": {
      "text/plain": [
       "{1, 2, 3, 5, 6, 'S', 'a', 'i', 'j', 'r'}"
      ]
     },
     "execution_count": 4,
     "metadata": {},
     "output_type": "execute_result"
    }
   ],
   "source": [
    "st1"
   ]
  },
  {
   "cell_type": "code",
   "execution_count": 7,
   "metadata": {},
   "outputs": [],
   "source": [
    "st2={45,44,44,36,'E','D','z','a','b','c'}"
   ]
  },
  {
   "cell_type": "code",
   "execution_count": 8,
   "metadata": {},
   "outputs": [
    {
     "data": {
      "text/plain": [
       "{36, 44, 45, 'D', 'E', 'a', 'b', 'c', 'z'}"
      ]
     },
     "execution_count": 8,
     "metadata": {},
     "output_type": "execute_result"
    }
   ],
   "source": [
    "st2"
   ]
  },
  {
   "cell_type": "markdown",
   "metadata": {},
   "source": [
    "    You are given a rightangle triangle ABC. An circle of radius r is removed from the triangle. Find out the remaining area of triangle.\n",
    "\n",
    "    Hint: Area of triangle(ABC) = 0.5 x AC x BC\n",
    "\n",
    "    Arear of circle = 3.14 x r ** 2"
   ]
  },
  {
   "cell_type": "code",
   "execution_count": null,
   "metadata": {},
   "outputs": [],
   "source": [
    "base=float(input('Enter the Base of Triangle :-'))\n",
    "height=float(input('Enter the Height of Triangle :-'))\n",
    "radius=float(input('Enter the Radius of the Circle :-'))\n",
    "\n",
    "area_triangle=0.5*base*height\n",
    "area_circle=3.14*radius**2\n",
    "\n",
    "remaining_area=area_triangle-area_circle\n",
    "print(f'Remaining Area {remaining_area} cm2')"
   ]
  },
  {
   "cell_type": "markdown",
   "metadata": {},
   "source": [
    "    An XYZ hospital has organised a blood donation camp. The eligibility criteria for donor was as follows\n",
    "\n",
    "    1) Age>=18\n",
    "    2) Weight >=50 kg\n",
    "    3) No disease\n",
    "\n",
    "    Rakesh went for the blood donation. He filled out the form and submitted it to the nurse.\n",
    "    Check whether Rakesh will be allowed or not.\n",
    "\n",
    "    Input\n",
    "    First line of input is age in float\n",
    "    Second line of input is weight in float\n",
    "    Third line of input is 1 or 0\n",
    "\n",
    "    1 is for True and 0 is for False\n",
    "\n",
    "    Output\n",
    "    If all the condition in the eligibility are satisfied then allowed to donate.\n",
    "\n",
    "    Example\n",
    "    Input 1\n",
    "\n",
    "    19.5\n",
    "    52.6\n",
    "    1\n",
    "\n",
    "    Output 1\n",
    "    True\n",
    "\n",
    "    Input 2\n",
    "    51.6\n",
    "    68\n",
    "    0\n",
    "\n",
    "    Output 2\n",
    "    False"
   ]
  },
  {
   "cell_type": "code",
   "execution_count": 9,
   "metadata": {},
   "outputs": [
    {
     "name": "stdout",
     "output_type": "stream",
     "text": [
      "True\n"
     ]
    }
   ],
   "source": [
    "age=float(input('Enter the Age of doner :-'))\n",
    "weight=float(input('Enter the weight of doner :-'))\n",
    "disease=int(input('Enter the 1 if doner have any disease :-'))\n",
    "\n",
    "if age>=18 and weight>=50 and disease==1:\n",
    "    print(True)\n",
    "else:\n",
    "    print(False)"
   ]
  },
  {
   "cell_type": "code",
   "execution_count": 10,
   "metadata": {},
   "outputs": [
    {
     "name": "stdout",
     "output_type": "stream",
     "text": [
      "True\n"
     ]
    }
   ],
   "source": [
    "if float(input('Enter the Age of doner :-'))>=18 and float(input('Enter the weight of doner :-'))>=50 and int(input('Enter the 1 if doner have any disease :-'))==1:\n",
    "    print(True)\n",
    "else:\n",
    "    print(False)"
   ]
  },
  {
   "cell_type": "code",
   "execution_count": 11,
   "metadata": {},
   "outputs": [
    {
     "name": "stdout",
     "output_type": "stream",
     "text": [
      "1\n"
     ]
    }
   ],
   "source": [
    "if 1==1:\n",
    "    print(1)\n",
    "else:\n",
    "    print(0)"
   ]
  },
  {
   "cell_type": "markdown",
   "metadata": {},
   "source": [
    "    <value_if_true> if <condition> else <value_if_false>"
   ]
  },
  {
   "cell_type": "code",
   "execution_count": 12,
   "metadata": {},
   "outputs": [
    {
     "data": {
      "text/plain": [
       "1"
      ]
     },
     "execution_count": 12,
     "metadata": {},
     "output_type": "execute_result"
    }
   ],
   "source": [
    "1 if 1==1 else 0"
   ]
  },
  {
   "cell_type": "code",
   "execution_count": 13,
   "metadata": {},
   "outputs": [
    {
     "data": {
      "text/plain": [
       "True"
      ]
     },
     "execution_count": 13,
     "metadata": {},
     "output_type": "execute_result"
    }
   ],
   "source": [
    "True if float(input('Enter the Age of doner :-'))>=18 and float(input('Enter the weight of doner :-'))>=50 and int(input('Enter the 1 if doner have any disease :-'))==1 else False"
   ]
  },
  {
   "cell_type": "markdown",
   "metadata": {},
   "source": [
    "    Dinesh started learning Geometry today. He doesn't know the formulae to calculate the areas of different shapes. His teacher has just taught him how to calculate the areas of basic shapes including square, rectangle, triangle and circle. He is facing the problem to memorise all these formulae. Create a python logic to help Dinesh to display the formulae when he selects the shape.\n",
    "\n",
    "    Dinesh will enter letters S for Square, R for Rectangle, T for triangle and C for Circle\n",
    "\n",
    "    Input\n",
    "    One line of input contains the First alphabet of shape in Capital form.\n",
    "\n",
    "    Output\n",
    "    Formula for corresponding shape.\n",
    "\n",
    "    Example\n",
    "    input\n",
    "    S\n",
    "\n",
    "    Output\n",
    "    side ^2"
   ]
  },
  {
   "cell_type": "code",
   "execution_count": null,
   "metadata": {},
   "outputs": [],
   "source": [
    "shape_input = input(\"Enter the Shape: \")\n",
    "\n",
    "if shape_input == 'S':\n",
    "    print(\"Area of Sq: side^2\")\n",
    "elif shape_input == 'R':\n",
    "    print(\"Area of Rect: l x b\")\n",
    "elif shape_input == 'T':\n",
    "    print(\"Area of Tri: 0.5 x base x h\")\n",
    "elif shape_input == 'C':\n",
    "    print(\"Area of Circle: π x r^2\")\n",
    "else:\n",
    "    print(\"Invalid shape\")"
   ]
  }
 ],
 "metadata": {
  "kernelspec": {
   "display_name": "Python 3",
   "language": "python",
   "name": "python3"
  },
  "language_info": {
   "codemirror_mode": {
    "name": "ipython",
    "version": 3
   },
   "file_extension": ".py",
   "mimetype": "text/x-python",
   "name": "python",
   "nbconvert_exporter": "python",
   "pygments_lexer": "ipython3",
   "version": "3.11.1"
  }
 },
 "nbformat": 4,
 "nbformat_minor": 2
}
