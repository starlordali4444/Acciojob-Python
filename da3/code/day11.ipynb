{
 "cells": [
  {
   "cell_type": "markdown",
   "metadata": {},
   "source": [
    "    Numpy\n",
    "        Create array\n",
    "        special array\n",
    "        scalar operations\n",
    "        vector operations\n",
    "        Arithmatic operations\n",
    "        logical operations\n",
    "        slicing \n",
    "        statistical operations\n",
    "    Pandas\n",
    "        Series => Single Column \n",
    "        DataFrame => Tabular Structure\n",
    "\n",
    "        Slicing through indexes\n",
    "        Slicing through logical test/ condition\n",
    "        \n",
    "        pd.Series()\n",
    "        pd.DataFrame()\n",
    "        \n",
    "        df.ndim\n",
    "        df.shape\n",
    "        df.size\n",
    "        df.dtypes\n",
    "        df.index\n",
    "        df.columns\n",
    "\n",
    "        pd.read_csv()\n",
    "        df.head()\n",
    "        df.tail()\n",
    "        df.sample()\n",
    "\n",
    "        df.info()\n",
    "        df.describe()\n",
    "\n",
    "        df.value_counts() => count unique rows\n",
    "        df.unique()\n",
    "        df.drop()\n",
    "        df.dropna()\n",
    "        df.fillna()\n",
    "        df.bfill()\n",
    "        df.ffill()\n",
    "\n",
    "        df.sort_values()\n",
    "        df.drop_duplicates()\n",
    "        df.sort_index()\n",
    "        df.rename()\n",
    "        df['col'].replace()\n",
    "\n",
    "        df.loc[]\n",
    "        df.iloc[]  \n",
    "\n",
    "        df.<statistical_function/arithmatic>   \n",
    "        df['col']<statistical_function/arithmatic> \n",
    "\n",
    "        Aggregation Function => sum / min / max .etc\n",
    "        Group by\n",
    "        Pivoting\n",
    "        Joins\n",
    "        Union\n",
    "        apply"
   ]
  },
  {
   "cell_type": "markdown",
   "metadata": {},
   "source": [
    "    # Use Case:\n",
    "    The data scientists at BigMart have collected 2013 sales data for 1559 products across 10 stores in different cities. Also, certain attributes of each product and store have been defined. The aim is to build a predictive model and predict the sales of each product at a particular outlet.\n",
    "\n",
    "    Using this model, BigMart will try to understand the properties of products and outlets which play a key role in increasing sales.\n",
    "\n",
    "    Please note that the data may have missing values as some stores might not report all the data due to technical glitches. Hence, it will be required to treat them accordingly."
   ]
  },
  {
   "cell_type": "markdown",
   "metadata": {},
   "source": [
    "    retail \n",
    "    sales data\n",
    "    1559 products\n",
    "    10 stores\n",
    "\n",
    "    Descriptive statistics\n",
    "        EDA - Python\n",
    "\n",
    "    Inferential Statistics\n",
    "        ML - Predictive"
   ]
  },
  {
   "cell_type": "markdown",
   "metadata": {},
   "source": [
    "    read_csv()\n",
    "\n",
    "    read_sql()\n",
    "\n",
    "    read_excel()\n",
    "\n",
    "    How to read all csv files in one go from the folder\n",
    "\n",
    "    Mysql Workbench\n",
    "        create a new user python"
   ]
  },
  {
   "cell_type": "markdown",
   "metadata": {},
   "source": [
    "    Import Libraries"
   ]
  },
  {
   "cell_type": "code",
   "execution_count": 1,
   "metadata": {},
   "outputs": [],
   "source": [
    "import numpy as np\n",
    "import pandas as pd"
   ]
  },
  {
   "cell_type": "code",
   "execution_count": null,
   "metadata": {},
   "outputs": [],
   "source": [
    "pd.read_"
   ]
  },
  {
   "cell_type": "markdown",
   "metadata": {},
   "source": [
    "    Import Data"
   ]
  },
  {
   "cell_type": "code",
   "execution_count": null,
   "metadata": {},
   "outputs": [],
   "source": [
    "df_sales=pd.read_csv('../data/bigmart_data.csv')"
   ]
  },
  {
   "cell_type": "code",
   "execution_count": null,
   "metadata": {},
   "outputs": [],
   "source": [
    "df_sales.head()"
   ]
  },
  {
   "cell_type": "markdown",
   "metadata": {},
   "source": [
    "    Understand the Schema"
   ]
  },
  {
   "cell_type": "code",
   "execution_count": null,
   "metadata": {},
   "outputs": [],
   "source": [
    "df_sales.info()"
   ]
  },
  {
   "cell_type": "code",
   "execution_count": null,
   "metadata": {},
   "outputs": [],
   "source": [
    "round(df_sales.isnull().sum()/df_sales.shape[0]*100,2)"
   ]
  },
  {
   "cell_type": "code",
   "execution_count": null,
   "metadata": {},
   "outputs": [],
   "source": [
    "df_sales.shape[0]"
   ]
  },
  {
   "cell_type": "code",
   "execution_count": null,
   "metadata": {},
   "outputs": [],
   "source": [
    "round(df_sales.describe(),2)"
   ]
  },
  {
   "cell_type": "code",
   "execution_count": null,
   "metadata": {},
   "outputs": [],
   "source": [
    "import datetime as dt"
   ]
  },
  {
   "cell_type": "code",
   "execution_count": null,
   "metadata": {},
   "outputs": [],
   "source": [
    "list(df_sales.columns)[:2]"
   ]
  },
  {
   "cell_type": "markdown",
   "metadata": {},
   "source": [
    "    df.loc[row_start_name:row_end_name:row_step,col_start_name:col_end_name:col_step]\n",
    "    df.iloc[same as loc only thing we need to give index instead of col/row name/label]\n",
    "\n",
    "    0\n",
    "    len-1\n",
    "    1"
   ]
  },
  {
   "cell_type": "code",
   "execution_count": null,
   "metadata": {},
   "outputs": [],
   "source": [
    "df_sales.loc[:10:2,['Item_Identifier', 'Item_Weight']]"
   ]
  },
  {
   "cell_type": "code",
   "execution_count": null,
   "metadata": {},
   "outputs": [],
   "source": [
    "df_sales.columns"
   ]
  },
  {
   "cell_type": "code",
   "execution_count": null,
   "metadata": {},
   "outputs": [],
   "source": [
    "df_sales.iloc[1,:5]"
   ]
  },
  {
   "cell_type": "code",
   "execution_count": null,
   "metadata": {},
   "outputs": [],
   "source": [
    "df_sales['Item_Identifier'].apply(lambda x: x.lower())"
   ]
  },
  {
   "cell_type": "code",
   "execution_count": null,
   "metadata": {},
   "outputs": [],
   "source": [
    "df_sales['Item_Identifier'].lower()"
   ]
  },
  {
   "cell_type": "code",
   "execution_count": null,
   "metadata": {},
   "outputs": [],
   "source": [
    "for i in range(df_sales.shape[0]):\n",
    "    print(f'{df_sales.iloc[i,0]} => {df_sales.iloc[i,0].lower()}')\n",
    "    print()"
   ]
  },
  {
   "cell_type": "markdown",
   "metadata": {},
   "source": [
    "    Max Marks = 50"
   ]
  },
  {
   "cell_type": "code",
   "execution_count": null,
   "metadata": {},
   "outputs": [],
   "source": [
    "df_marks=pd.DataFrame(pd.Series(np.random.randint(10,50,10),name='Marks'))\n",
    "df_marks"
   ]
  },
  {
   "cell_type": "code",
   "execution_count": null,
   "metadata": {},
   "outputs": [],
   "source": [
    "def cal_percentage(x):\n",
    "    return f'{round((x/50)*100,2)} %'"
   ]
  },
  {
   "cell_type": "code",
   "execution_count": null,
   "metadata": {},
   "outputs": [],
   "source": [
    "df_marks['Marks'].apply(cal_percentage)"
   ]
  },
  {
   "cell_type": "code",
   "execution_count": null,
   "metadata": {},
   "outputs": [],
   "source": [
    "df_marks['Percentage']=df_marks['Marks'].apply(cal_percentage)\n",
    "df_marks"
   ]
  },
  {
   "cell_type": "code",
   "execution_count": null,
   "metadata": {},
   "outputs": [],
   "source": [
    "cal_percentage(5)"
   ]
  },
  {
   "cell_type": "markdown",
   "metadata": {},
   "source": [
    "    def fucntion_name(argument_list)\n",
    "\n",
    "    map(<fucntion_name>,**iterable)\n",
    "    apply(<function>)"
   ]
  },
  {
   "cell_type": "code",
   "execution_count": null,
   "metadata": {},
   "outputs": [],
   "source": [
    "np.percentile(df_marks['Marks'],50)"
   ]
  },
  {
   "cell_type": "code",
   "execution_count": null,
   "metadata": {},
   "outputs": [],
   "source": [
    "from scipy import stats"
   ]
  },
  {
   "cell_type": "code",
   "execution_count": null,
   "metadata": {},
   "outputs": [],
   "source": [
    "df_marks['Percentage']=df_marks['Marks'].apply(lambda x: str(round(x/50*100,2))+' %')\n",
    "df_marks"
   ]
  },
  {
   "cell_type": "code",
   "execution_count": null,
   "metadata": {},
   "outputs": [],
   "source": [
    "df_marks['Percentile']=df_marks['Marks'].apply(lambda x: stats.percentileofscore(df_marks['Marks'],x))\n",
    "df_marks"
   ]
  },
  {
   "cell_type": "markdown",
   "metadata": {},
   "source": [
    "    Joins and Union In Python"
   ]
  },
  {
   "cell_type": "markdown",
   "metadata": {},
   "source": [
    "    merge()\n",
    "    concat()"
   ]
  },
  {
   "cell_type": "code",
   "execution_count": null,
   "metadata": {},
   "outputs": [],
   "source": [
    "# create dummy data\n",
    "df1 = pd.DataFrame({'A': ['A0', 'A1', 'A2', 'A3'],\n",
    "                     'B': ['B0', 'B1', 'B2', 'B3'],\n",
    "                     'C': ['C0', 'C1', 'C2', 'C3'],\n",
    "                     'D': ['D0', 'D1', 'D2', 'D3']},\n",
    "                    index=[0, 1, 2, 3])\n",
    " \n",
    "\n",
    "df2 = pd.DataFrame({'A': ['A4', 'A5', 'A6', 'A7'],\n",
    "                     'B': ['B4', 'B5', 'B6', 'B7'],\n",
    "                     'C': ['C4', 'C5', 'C6', 'C7'],\n",
    "                     'D': ['D4', 'D5', 'D6', 'D7']},\n",
    "                    index=[4, 5, 6, 7])\n",
    " \n",
    "\n",
    "df3 = pd.DataFrame({'A': ['A8', 'A9', 'A10', 'A11'],\n",
    "                     'B': ['B8', 'B9', 'B10', 'B11'],\n",
    "                     'C': ['C8', 'C9', 'C10', 'C11'],\n",
    "                     'D': ['D8', 'D9', 'D10', 'D11']},\n",
    "                    index=[8, 9, 10, 11])"
   ]
  },
  {
   "cell_type": "code",
   "execution_count": null,
   "metadata": {},
   "outputs": [],
   "source": [
    "df1,df2,df3"
   ]
  },
  {
   "cell_type": "code",
   "execution_count": null,
   "metadata": {},
   "outputs": [],
   "source": [
    "pd.concat([df1,df2],axis=0)"
   ]
  },
  {
   "cell_type": "code",
   "execution_count": null,
   "metadata": {},
   "outputs": [],
   "source": [
    "pd.concat([df1,df2],axis=1)"
   ]
  },
  {
   "cell_type": "code",
   "execution_count": null,
   "metadata": {},
   "outputs": [],
   "source": [
    "# create dummy data\n",
    "df1 = pd.DataFrame({'A': ['A0', 'A1', 'A2', 'A3'],\n",
    "                     'B': ['B0', 'B1', 'B2', 'B3'],\n",
    "                     'C': ['C0', 'C1', 'C2', 'C3'],\n",
    "                     'D': ['D0', 'D1', 'D2', 'D3']},\n",
    "                    index=[0, 1, 2, 4])\n",
    " \n",
    "\n",
    "df2 = pd.DataFrame({'A': ['A4', 'A5', 'A6', 'A7'],\n",
    "                     'B': ['B4', 'B5', 'B6', 'B7'],\n",
    "                     'C': ['C4', 'C5', 'C6', 'C7'],\n",
    "                     'D': ['D4', 'D5', 'D6', 'D7']},\n",
    "                    index=[0, 1, 2, 5])"
   ]
  },
  {
   "cell_type": "code",
   "execution_count": null,
   "metadata": {},
   "outputs": [],
   "source": [
    "display(df1),display(df2)"
   ]
  },
  {
   "cell_type": "code",
   "execution_count": null,
   "metadata": {},
   "outputs": [],
   "source": [
    "pd.concat([df1,df2],axis=1)"
   ]
  },
  {
   "cell_type": "code",
   "execution_count": null,
   "metadata": {},
   "outputs": [],
   "source": [
    "pd.concat([df1,df2],axis=1,join='outer')"
   ]
  },
  {
   "cell_type": "code",
   "execution_count": null,
   "metadata": {},
   "outputs": [],
   "source": [
    "pd.concat([df1,df2],axis=1,join='inner')"
   ]
  },
  {
   "cell_type": "code",
   "execution_count": null,
   "metadata": {},
   "outputs": [],
   "source": [
    "df_a = pd.DataFrame({\n",
    "        'subject_id': ['1', '2', '3', '4', '5'],\n",
    "        'first_name': ['Alex', 'Amy', 'Allen', 'Alice', 'Ayoung'], \n",
    "        'last_name': ['Anderson', 'Ackerman', 'Ali', 'Aoni', 'Atiches']})\n",
    "\n",
    "df_b = pd.DataFrame({\n",
    "        'subject_id': ['4', '5', '6', '7', '8'],\n",
    "        'first_name': ['Billy', 'Brian', 'Bran', 'Bryce', 'Betty'], \n",
    "        'last_name': ['Bonder', 'Black', 'Balwner', 'Brice', 'Btisan']})\n",
    "\n",
    "df_c = pd.DataFrame({\n",
    "        'subject_id': ['1', '2', '3', '4', '5', '7', '8', '9', '10', '11'],\n",
    "        'test_id': [51, 15, 15, 61, 16, 14, 15, 1, 61, 16]})"
   ]
  },
  {
   "cell_type": "code",
   "execution_count": null,
   "metadata": {},
   "outputs": [],
   "source": [
    "display(df_a),display(df_b),display(df_c),"
   ]
  },
  {
   "cell_type": "markdown",
   "metadata": {},
   "source": [
    "    Left\n",
    "    Right\n",
    "    inner\n",
    "    full\n",
    "    cross"
   ]
  },
  {
   "cell_type": "code",
   "execution_count": null,
   "metadata": {},
   "outputs": [],
   "source": [
    "pd.merge(left=df_a,right=df_b,on='subject_id',how='inner')"
   ]
  },
  {
   "cell_type": "code",
   "execution_count": null,
   "metadata": {},
   "outputs": [],
   "source": [
    "pd.merge(left=df_a,right=df_b,left_on='subject_id',right_on='subject_id')"
   ]
  },
  {
   "cell_type": "code",
   "execution_count": null,
   "metadata": {},
   "outputs": [],
   "source": [
    "pd.merge(left=df_a,right=df_b,left_on='subject_id',right_on='subject_id',how='inner')"
   ]
  },
  {
   "cell_type": "code",
   "execution_count": null,
   "metadata": {},
   "outputs": [],
   "source": [
    "pd.merge(left=df_a,right=df_b,left_on='subject_id',right_on='subject_id',how='outer')"
   ]
  },
  {
   "cell_type": "code",
   "execution_count": null,
   "metadata": {},
   "outputs": [],
   "source": [
    "pd.merge(left=df_a,right=df_b,left_on='subject_id',right_on='subject_id',how='left')"
   ]
  },
  {
   "cell_type": "code",
   "execution_count": null,
   "metadata": {},
   "outputs": [],
   "source": [
    "pd.merge(left=df_a,right=df_b,left_on='subject_id',right_on='subject_id',how='right')"
   ]
  },
  {
   "cell_type": "code",
   "execution_count": null,
   "metadata": {},
   "outputs": [],
   "source": [
    "df_sales.head()"
   ]
  },
  {
   "cell_type": "markdown",
   "metadata": {},
   "source": [
    "    Write a python script to give max MRP product in the store"
   ]
  },
  {
   "cell_type": "code",
   "execution_count": null,
   "metadata": {},
   "outputs": [],
   "source": [
    "df_sales['Item_MRP'].max()"
   ]
  },
  {
   "cell_type": "code",
   "execution_count": null,
   "metadata": {},
   "outputs": [],
   "source": [
    "df_sales.iloc[df_sales['Item_MRP'].idxmax(),0]"
   ]
  },
  {
   "cell_type": "markdown",
   "metadata": {},
   "source": [
    "    Write a python script to provide sum of sales  for each Item Type"
   ]
  },
  {
   "cell_type": "code",
   "execution_count": null,
   "metadata": {},
   "outputs": [],
   "source": [
    "df_sales['Item_Outlet_Sales'].sum()"
   ]
  },
  {
   "cell_type": "code",
   "execution_count": null,
   "metadata": {},
   "outputs": [],
   "source": [
    "df_sales['Item_Type'].unique()"
   ]
  },
  {
   "cell_type": "code",
   "execution_count": null,
   "metadata": {},
   "outputs": [],
   "source": [
    "cond_diary=df_sales['Item_Type']=='Dairy'"
   ]
  },
  {
   "cell_type": "code",
   "execution_count": null,
   "metadata": {},
   "outputs": [],
   "source": [
    "df_sales.loc[df_sales['Item_Type']=='Dairy',['Item_Outlet_Sales']].sum()"
   ]
  },
  {
   "cell_type": "code",
   "execution_count": null,
   "metadata": {},
   "outputs": [],
   "source": [
    "pd.set_option('display.max_columns',None)\n",
    "pd.set_option('display.max_rows',None)"
   ]
  },
  {
   "cell_type": "code",
   "execution_count": null,
   "metadata": {},
   "outputs": [],
   "source": [
    "df_sales.groupby(['Item_Type','Outlet_Identifier'])[['Item_Outlet_Sales','Item_MRP']].sum()"
   ]
  },
  {
   "cell_type": "markdown",
   "metadata": {},
   "source": [
    "    Select subject,name,count(*),sum(marks)\n",
    "        from student\n",
    "    group by name,subject\n",
    "\n",
    "    groupby(['name','subject'])\n",
    "    agg({'Id':'count','marks':'sum'})\n"
   ]
  },
  {
   "cell_type": "code",
   "execution_count": null,
   "metadata": {},
   "outputs": [],
   "source": [
    "df_sales.groupby(['Item_Type','Outlet_Identifier']).agg({'Item_Outlet_Sales':'sum','Item_MRP':'max'})"
   ]
  },
  {
   "cell_type": "markdown",
   "metadata": {},
   "source": [
    "    Pivot => It is a statistical table which will help use summerise data.\n",
    "\n",
    "    Sections\n",
    "        filter\n",
    "        rows\n",
    "        columns\n",
    "        values"
   ]
  },
  {
   "cell_type": "code",
   "execution_count": null,
   "metadata": {},
   "outputs": [],
   "source": [
    "df_sales.columns"
   ]
  },
  {
   "cell_type": "code",
   "execution_count": null,
   "metadata": {},
   "outputs": [],
   "source": [
    "df_pivot=pd.pivot_table(\n",
    "    data=df_sales,\n",
    "    index=['Outlet_Type'],\n",
    "    columns=['Outlet_Size'],\n",
    "    values=['Item_MRP'],\n",
    "    aggfunc={'Item_MRP':'max'},\n",
    "    fill_value='NA',\n",
    "    dropna=False,\n",
    "    margins=True,\n",
    "    margins_name='Total'    \n",
    ")"
   ]
  },
  {
   "cell_type": "code",
   "execution_count": null,
   "metadata": {},
   "outputs": [],
   "source": [
    "display(df_pivot),display(df_pivot.reset_index())"
   ]
  },
  {
   "cell_type": "code",
   "execution_count": null,
   "metadata": {},
   "outputs": [],
   "source": [
    "df_pivot.index"
   ]
  },
  {
   "cell_type": "code",
   "execution_count": null,
   "metadata": {},
   "outputs": [],
   "source": [
    "df_pivot.columns"
   ]
  },
  {
   "cell_type": "code",
   "execution_count": null,
   "metadata": {},
   "outputs": [],
   "source": [
    "pd.pivot_table(\n",
    "    data=df_sales,\n",
    "    index=['Outlet_Type','Item_Type'],\n",
    "    columns=['Outlet_Size'],\n",
    "    values=['Item_Outlet_Sales','Item_MRP'],\n",
    "    aggfunc={'Item_Outlet_Sales':'sum','Item_MRP':'max'}\n",
    ")"
   ]
  }
 ],
 "metadata": {
  "kernelspec": {
   "display_name": ".env",
   "language": "python",
   "name": "python3"
  },
  "language_info": {
   "codemirror_mode": {
    "name": "ipython",
    "version": 3
   },
   "file_extension": ".py",
   "mimetype": "text/x-python",
   "name": "python",
   "nbconvert_exporter": "python",
   "pygments_lexer": "ipython3",
   "version": "3.12.1"
  }
 },
 "nbformat": 4,
 "nbformat_minor": 2
}
