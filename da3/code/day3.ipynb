{
 "cells": [
  {
   "cell_type": "markdown",
   "metadata": {},
   "source": [
    "    Set - unordered collection of elements\n",
    "        To define set we use curly brackets\n",
    "        Example: {1, 2, 3}\n",
    "        Set Functions\n",
    "        add() : Add element to the set. If element already exists in the set it will not be added again.\n",
    "        remove(): Remove an element from the set. It removes only one occurrence of that element.\n",
    "        If there are multiple occurrences then all occurances will be removed.\n",
    "        discard(): Same as remove but does nothing if element is not present in the set.\n",
    "        pop(): Removes and returns a random element from the set.\n",
    "        update(): Updates the set with another iterable (list, tuple, string etc.)\n",
    "        Set Operations\n",
    "        Union: Returns a new set which contains all unique items from both sets.\n",
    "        Example: s1 = {1, 2}; s2 = {2, 3}; union_set = s1 | s2\n",
    "        Resulting set: {1, 2, 3}\n",
    "        Intersection: Returns a new set which contains common elements between two or more sets.\n",
    "        Example: s1 = {1, 2}; s2 = {2, 3}; intersection_set = s1 & s2\n",
    "        Resulting set: {2}\n",
    "        Difference: Returns a new set which contains elements that exist in first set but not in second set.    \n",
    "        Example: s1 = {1, 2}; s2 = {2, 3}; difference_set = s1 - s2\n",
    "        Resulting set: {1}\n",
    "        Symmetric Difference: Returns a new set containing elements which are in either of the sets, but not in their intersection.\n",
    "        Example: s1 = {1, 2}; s2 = {2, 3}; difference_set = s1 ^ s2\n",
    "        Resulting set: {1, 3}"
   ]
  },
  {
   "cell_type": "code",
   "execution_count": null,
   "metadata": {},
   "outputs": [],
   "source": [
    "set1={1,2,3,4,5,6,7,8,8,8,9,10,11}\n",
    "set1"
   ]
  },
  {
   "cell_type": "code",
   "execution_count": null,
   "metadata": {},
   "outputs": [],
   "source": [
    "set1[0]"
   ]
  },
  {
   "cell_type": "code",
   "execution_count": null,
   "metadata": {},
   "outputs": [],
   "source": [
    "set1.add(12)\n",
    "set1"
   ]
  },
  {
   "cell_type": "code",
   "execution_count": null,
   "metadata": {},
   "outputs": [],
   "source": [
    "set1.add(12)\n",
    "set1"
   ]
  },
  {
   "cell_type": "code",
   "execution_count": null,
   "metadata": {},
   "outputs": [],
   "source": [
    "set1.remove(12)\n",
    "set1"
   ]
  },
  {
   "cell_type": "code",
   "execution_count": null,
   "metadata": {},
   "outputs": [],
   "source": [
    "set1.remove(12)\n",
    "set1"
   ]
  },
  {
   "cell_type": "code",
   "execution_count": null,
   "metadata": {},
   "outputs": [],
   "source": [
    "set1.discard(12)\n",
    "set1"
   ]
  },
  {
   "cell_type": "code",
   "execution_count": null,
   "metadata": {},
   "outputs": [],
   "source": [
    "set1.discard(11)\n",
    "set1"
   ]
  },
  {
   "cell_type": "code",
   "execution_count": null,
   "metadata": {},
   "outputs": [],
   "source": [
    "set1.pop()"
   ]
  },
  {
   "cell_type": "code",
   "execution_count": null,
   "metadata": {},
   "outputs": [],
   "source": [
    "set1"
   ]
  },
  {
   "cell_type": "code",
   "execution_count": null,
   "metadata": {},
   "outputs": [],
   "source": [
    "set1.pop()"
   ]
  },
  {
   "cell_type": "code",
   "execution_count": null,
   "metadata": {},
   "outputs": [],
   "source": [
    "set1"
   ]
  },
  {
   "cell_type": "code",
   "execution_count": null,
   "metadata": {},
   "outputs": [],
   "source": [
    "set1.pop()"
   ]
  },
  {
   "cell_type": "code",
   "execution_count": null,
   "metadata": {},
   "outputs": [],
   "source": [
    "set1"
   ]
  },
  {
   "cell_type": "code",
   "execution_count": null,
   "metadata": {},
   "outputs": [],
   "source": [
    "set1.remove(11)"
   ]
  },
  {
   "cell_type": "code",
   "execution_count": null,
   "metadata": {},
   "outputs": [],
   "source": [
    "set1.discard(10)"
   ]
  },
  {
   "cell_type": "code",
   "execution_count": null,
   "metadata": {},
   "outputs": [],
   "source": [
    "set_dice={1,2,3,4,5,6}\n",
    "print(set_dice)\n",
    "print(set_dice.pop())"
   ]
  },
  {
   "cell_type": "code",
   "execution_count": null,
   "metadata": {},
   "outputs": [],
   "source": [
    "set_dice"
   ]
  },
  {
   "cell_type": "code",
   "execution_count": null,
   "metadata": {},
   "outputs": [],
   "source": [
    "set_dice.update((1,2,3,45))"
   ]
  },
  {
   "cell_type": "code",
   "execution_count": null,
   "metadata": {},
   "outputs": [],
   "source": [
    "set_dice"
   ]
  },
  {
   "cell_type": "code",
   "execution_count": null,
   "metadata": {},
   "outputs": [],
   "source": [
    "set_dice.update(1)"
   ]
  },
  {
   "cell_type": "code",
   "execution_count": null,
   "metadata": {},
   "outputs": [],
   "source": [
    "set_dice.update([55,56])\n",
    "set_dice"
   ]
  },
  {
   "cell_type": "code",
   "execution_count": null,
   "metadata": {},
   "outputs": [],
   "source": [
    "set_dice.update('Siraj')\n",
    "set_dice"
   ]
  },
  {
   "cell_type": "code",
   "execution_count": null,
   "metadata": {},
   "outputs": [],
   "source": [
    "s1={1,2,3}\n",
    "s2={3,4,5}"
   ]
  },
  {
   "cell_type": "code",
   "execution_count": null,
   "metadata": {},
   "outputs": [],
   "source": [
    "s1 | s2"
   ]
  },
  {
   "cell_type": "code",
   "execution_count": null,
   "metadata": {},
   "outputs": [],
   "source": [
    "s1 & s2"
   ]
  },
  {
   "cell_type": "code",
   "execution_count": null,
   "metadata": {},
   "outputs": [],
   "source": [
    "s1 - s2"
   ]
  },
  {
   "cell_type": "code",
   "execution_count": null,
   "metadata": {},
   "outputs": [],
   "source": [
    "s1 ^ s2"
   ]
  },
  {
   "cell_type": "code",
   "execution_count": null,
   "metadata": {},
   "outputs": [],
   "source": [
    "set1={1,2,3}\n",
    "set1"
   ]
  },
  {
   "cell_type": "markdown",
   "metadata": {},
   "source": [
    "    string\n",
    "    list\n",
    "    tuple\n",
    "    dict"
   ]
  },
  {
   "cell_type": "code",
   "execution_count": null,
   "metadata": {},
   "outputs": [],
   "source": [
    "set1.update(1)"
   ]
  },
  {
   "cell_type": "code",
   "execution_count": null,
   "metadata": {},
   "outputs": [],
   "source": [
    "set1.update('Siraj')"
   ]
  },
  {
   "cell_type": "code",
   "execution_count": null,
   "metadata": {},
   "outputs": [],
   "source": [
    "set1"
   ]
  },
  {
   "cell_type": "markdown",
   "metadata": {},
   "source": [
    "    array"
   ]
  },
  {
   "cell_type": "markdown",
   "metadata": {},
   "source": [
    "    How to install the package\n",
    "        pip\n",
    "\n",
    "        .py\n",
    "        .ipynb\n",
    "            import sys\n",
    "            !{sys.executable} -m pip install numpy\n",
    "\n",
    "        python -m pip install <package_name>\n",
    "        python -m pip list\n",
    "        python -m pip uninstall <package_name>\n",
    "        python -m pip install upgrade <package_name>"
   ]
  },
  {
   "cell_type": "code",
   "execution_count": null,
   "metadata": {},
   "outputs": [],
   "source": [
    "import pandas as pd"
   ]
  },
  {
   "cell_type": "code",
   "execution_count": null,
   "metadata": {},
   "outputs": [],
   "source": [
    "import sys\n",
    "!{sys.executable} -m pip install numpy"
   ]
  },
  {
   "cell_type": "code",
   "execution_count": null,
   "metadata": {},
   "outputs": [],
   "source": [
    "import array"
   ]
  },
  {
   "cell_type": "code",
   "execution_count": null,
   "metadata": {},
   "outputs": [],
   "source": [
    "dir(array)"
   ]
  },
  {
   "cell_type": "markdown",
   "metadata": {},
   "source": [
    "    Array unicodes\n",
    "        i => integer\n",
    "        f => Float\n",
    "        b => signed Integer\n",
    "        B => unsigned Integer\n",
    "        d => double float"
   ]
  },
  {
   "cell_type": "code",
   "execution_count": null,
   "metadata": {},
   "outputs": [],
   "source": [
    "arr1=array.array('i',[1,2,3])\n",
    "arr1"
   ]
  },
  {
   "cell_type": "code",
   "execution_count": null,
   "metadata": {},
   "outputs": [],
   "source": [
    "import array as ar"
   ]
  },
  {
   "cell_type": "code",
   "execution_count": null,
   "metadata": {},
   "outputs": [],
   "source": [
    "arr2=ar.array('f',[1,2,3,4,5])\n",
    "arr2"
   ]
  },
  {
   "cell_type": "code",
   "execution_count": null,
   "metadata": {},
   "outputs": [],
   "source": [
    "arr2[0]"
   ]
  },
  {
   "cell_type": "code",
   "execution_count": null,
   "metadata": {},
   "outputs": [],
   "source": [
    "arr2=ar.array('i',[1,2,3,4,5])\n",
    "arr2"
   ]
  },
  {
   "cell_type": "code",
   "execution_count": null,
   "metadata": {},
   "outputs": [],
   "source": [
    "list(arr2)"
   ]
  },
  {
   "cell_type": "code",
   "execution_count": null,
   "metadata": {},
   "outputs": [],
   "source": [
    "arr2[1:3]"
   ]
  },
  {
   "cell_type": "code",
   "execution_count": null,
   "metadata": {},
   "outputs": [],
   "source": [
    "arr2.append(2)"
   ]
  },
  {
   "cell_type": "code",
   "execution_count": null,
   "metadata": {},
   "outputs": [],
   "source": [
    "arr2"
   ]
  },
  {
   "cell_type": "code",
   "execution_count": null,
   "metadata": {},
   "outputs": [],
   "source": [
    "dir(ar)"
   ]
  },
  {
   "cell_type": "markdown",
   "metadata": {},
   "source": [
    "    Conditional Statements\n",
    "        Simple If\n",
    "        If ELse\n",
    "        elif Ladder\n",
    "        Nested If"
   ]
  },
  {
   "cell_type": "markdown",
   "metadata": {},
   "source": [
    "    Logical_test \n",
    "        True \n",
    "        False"
   ]
  },
  {
   "cell_type": "code",
   "execution_count": null,
   "metadata": {},
   "outputs": [],
   "source": [
    "1==1"
   ]
  },
  {
   "cell_type": "code",
   "execution_count": null,
   "metadata": {},
   "outputs": [],
   "source": [
    "1!=1"
   ]
  },
  {
   "cell_type": "markdown",
   "metadata": {},
   "source": [
    "    Comparison Operator\n",
    "        >=\n",
    "        <=\n",
    "        >\n",
    "        <\n",
    "        ==\n",
    "        !="
   ]
  },
  {
   "cell_type": "markdown",
   "metadata": {},
   "source": [
    "    Logical Operator\n",
    "        Not => !\n",
    "        OR  => or\n",
    "        AND => and"
   ]
  },
  {
   "cell_type": "markdown",
   "metadata": {},
   "source": [
    "    if(logical_test,value_if_true,value_if_false)\n",
    "    Syntax of if in python\n",
    "        if <condition>:\n",
    "            <if statements>\n"
   ]
  },
  {
   "cell_type": "code",
   "execution_count": null,
   "metadata": {},
   "outputs": [],
   "source": [
    "if 1==1:\n",
    "    print('Hello')\n",
    "    print('next hello')"
   ]
  },
  {
   "cell_type": "code",
   "execution_count": null,
   "metadata": {},
   "outputs": [],
   "source": [
    "if 1!=1:\n",
    "    print('Hello')\n",
    "    print('next hello')"
   ]
  },
  {
   "cell_type": "markdown",
   "metadata": {},
   "source": [
    "    if -else\n",
    "    if <condition>:\n",
    "            <if statements>\n",
    "    else:\n",
    "        <else statements>"
   ]
  },
  {
   "cell_type": "code",
   "execution_count": null,
   "metadata": {},
   "outputs": [],
   "source": [
    "if 1!=1:\n",
    "    print('condition is returning True')\n",
    "else:\n",
    "    print('condition is returning False')"
   ]
  },
  {
   "cell_type": "code",
   "execution_count": null,
   "metadata": {},
   "outputs": [],
   "source": [
    "if 1==1:\n",
    "    print('condition is returning True')\n",
    "else:\n",
    "    print('condition is returning False')"
   ]
  },
  {
   "cell_type": "markdown",
   "metadata": {},
   "source": [
    "    ! ="
   ]
  },
  {
   "cell_type": "markdown",
   "metadata": {},
   "source": [
    "    Write a python script to print\n",
    "        Sunday => 1\n",
    "        Monday => 2\n",
    "        Tuesday => 3\n",
    "        Wednesday => 4\n",
    "        Thursday => 5\n",
    "        Friday => 6\n",
    "        Saturday => 7"
   ]
  },
  {
   "cell_type": "markdown",
   "metadata": {},
   "source": [
    "    Elif Ladder\n",
    "    Syntax\n",
    "    if <condition>:\n",
    "        <if statements>\n",
    "    elif <condition>:\n",
    "        <elif statements>\n",
    "    elif<condition>\n",
    "        <elif statements>\n",
    "    else:\n",
    "        <else statements>\n"
   ]
  },
  {
   "cell_type": "code",
   "execution_count": null,
   "metadata": {},
   "outputs": [],
   "source": [
    "day= int(input('Enter Day No : - '))\n",
    "day"
   ]
  },
  {
   "cell_type": "code",
   "execution_count": null,
   "metadata": {},
   "outputs": [],
   "source": [
    "if day==1:\n",
    "    print('Sunday')\n",
    "elif day==2:\n",
    "    print('Monday')\n",
    "elif day==3:\n",
    "    print('Tuesday')\n",
    "elif day==4:\n",
    "    print('Wednesday')\n",
    "elif day==5:\n",
    "    print('Thursday')\n",
    "elif day==6:\n",
    "    print('Friday')\n",
    "elif day==7:\n",
    "    print('Saturday')\n",
    "else:\n",
    "    print('Invalid Day')"
   ]
  },
  {
   "cell_type": "markdown",
   "metadata": {},
   "source": [
    "    Write a python script to print highest no from 3 nos"
   ]
  },
  {
   "cell_type": "code",
   "execution_count": null,
   "metadata": {},
   "outputs": [],
   "source": [
    "a=166\n",
    "b=55\n",
    "c=11111"
   ]
  },
  {
   "cell_type": "code",
   "execution_count": null,
   "metadata": {},
   "outputs": [],
   "source": [
    "highest=0"
   ]
  },
  {
   "cell_type": "code",
   "execution_count": null,
   "metadata": {},
   "outputs": [],
   "source": [
    "if (a>=b) and (a>=c):\n",
    "    highest=a\n",
    "elif (b>=a) and (b>=c):\n",
    "    highest=b\n",
    "else:\n",
    "    highest=c\n",
    "print(highest)"
   ]
  },
  {
   "cell_type": "markdown",
   "metadata": {},
   "source": [
    "    ### Word Problem: Classifying a Movie\n",
    "\n",
    "    *Problem Statement*:\n",
    "    You are writing a program for a cinema website to classify movies based on age appropriateness and genre. The classification rules are as follows:\n",
    "\n",
    "    1. If the movie is rated 'R', then:\n",
    "    - If the genre is 'Horror', classify it as 'Adult Horror'.\n",
    "    - If the genre is 'Action', classify it as 'Adult Action'.\n",
    "    - Otherwise, classify it as 'General Adult Movie'.\n",
    "\n",
    "    2. If the movie is rated 'PG', then:\n",
    "    - If the genre is 'Animation', classify it as 'Family Animation'.\n",
    "    - If the genre is 'Comedy', classify it as 'Family Comedy'.\n",
    "    - Otherwise, classify it as 'General Family Movie'.\n",
    "\n",
    "    3. If the movie doesn’t fit any of the above categories, classify it as 'Unclassified'."
   ]
  },
  {
   "cell_type": "code",
   "execution_count": null,
   "metadata": {},
   "outputs": [],
   "source": [
    "rating=input('Enter the rating of the Movie')\n",
    "genre=input('Enter the genre')\n",
    "rating,genre"
   ]
  },
  {
   "cell_type": "code",
   "execution_count": null,
   "metadata": {},
   "outputs": [],
   "source": [
    "classification=''\n",
    "if rating=='R':\n",
    "    if genre=='Horror':\n",
    "        classification = 'Adult Horror'\n",
    "    elif genre=='Action':\n",
    "        classification = 'Adult Action'\n",
    "    else:\n",
    "        classification = 'General Adult Movie'\n",
    "elif rating=='PG':\n",
    "    if genre=='Animation':\n",
    "        classification = 'Family Animation'\n",
    "    elif genre=='Comedy':\n",
    "        classification = 'Family Comedy'\n",
    "    else:\n",
    "        classification = 'General Family Movie'\n",
    "else:\n",
    "    classification='Unclassified'\n",
    "print(classification)"
   ]
  },
  {
   "cell_type": "markdown",
   "metadata": {},
   "source": [
    "    Control Flow Statements\n",
    "        while\n",
    "        for\n",
    "\n",
    "        break\n",
    "        continue"
   ]
  },
  {
   "cell_type": "markdown",
   "metadata": {},
   "source": [
    "    initiliazation\n",
    "    condition\n",
    "    iteration"
   ]
  },
  {
   "cell_type": "markdown",
   "metadata": {},
   "source": [
    "    initilization\n",
    "    while <condition>:\n",
    "        <while statements>\n",
    "        iteration"
   ]
  },
  {
   "cell_type": "code",
   "execution_count": null,
   "metadata": {},
   "outputs": [],
   "source": [
    "print(1)\n",
    "print(2)\n",
    "print(3)\n",
    "print(4)\n",
    "print(5)"
   ]
  },
  {
   "cell_type": "code",
   "execution_count": 6,
   "metadata": {},
   "outputs": [
    {
     "name": "stdout",
     "output_type": "stream",
     "text": [
      "5 => Hello\n",
      "4 => Hello\n",
      "3 => Hello\n",
      "2 => Hello\n",
      "1 => Hello\n",
      "0 => Hello\n"
     ]
    }
   ],
   "source": [
    "a=5                         #initilization\n",
    "while a>=0:                 #  condition \n",
    "    print(f'{a} => Hello')  # block of code\n",
    "    a-=1                    # interation\n",
    "    "
   ]
  },
  {
   "cell_type": "markdown",
   "metadata": {},
   "source": [
    "    1    a<5     Hello\n",
    "    2    a<5     Hello\n",
    "    3    a<5     Hello\n",
    "    4    a<5     Hello\n",
    "    5    break the loop"
   ]
  },
  {
   "cell_type": "code",
   "execution_count": 1,
   "metadata": {},
   "outputs": [],
   "source": [
    "b=5"
   ]
  },
  {
   "cell_type": "code",
   "execution_count": 2,
   "metadata": {},
   "outputs": [
    {
     "data": {
      "text/plain": [
       "10"
      ]
     },
     "execution_count": 2,
     "metadata": {},
     "output_type": "execute_result"
    }
   ],
   "source": [
    "b=b+5\n",
    "b"
   ]
  },
  {
   "cell_type": "code",
   "execution_count": 3,
   "metadata": {},
   "outputs": [
    {
     "data": {
      "text/plain": [
       "15"
      ]
     },
     "execution_count": 3,
     "metadata": {},
     "output_type": "execute_result"
    }
   ],
   "source": [
    "b+=5\n",
    "b"
   ]
  }
 ],
 "metadata": {
  "kernelspec": {
   "display_name": "Python 3",
   "language": "python",
   "name": "python3"
  },
  "language_info": {
   "codemirror_mode": {
    "name": "ipython",
    "version": 3
   },
   "file_extension": ".py",
   "mimetype": "text/x-python",
   "name": "python",
   "nbconvert_exporter": "python",
   "pygments_lexer": "ipython3",
   "version": "3.11.1"
  }
 },
 "nbformat": 4,
 "nbformat_minor": 2
}
