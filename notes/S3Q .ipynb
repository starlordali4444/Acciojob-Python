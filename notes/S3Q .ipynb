{
 "cells": [
  {
   "cell_type": "markdown",
   "id": "a2b9a937",
   "metadata": {},
   "source": [
    "# Assignment Operators for increment and decrement"
   ]
  },
  {
   "cell_type": "code",
   "execution_count": 1,
   "id": "627adfbc",
   "metadata": {},
   "outputs": [
    {
     "name": "stdout",
     "output_type": "stream",
     "text": [
      "11\n"
     ]
    }
   ],
   "source": [
    "x=10\n",
    "x=x+1\n",
    "print(x)"
   ]
  },
  {
   "cell_type": "code",
   "execution_count": 2,
   "id": "91b63ac7",
   "metadata": {},
   "outputs": [
    {
     "name": "stdout",
     "output_type": "stream",
     "text": [
      "12\n"
     ]
    }
   ],
   "source": [
    "x+=1           #x=x+1\n",
    "print(x)"
   ]
  },
  {
   "cell_type": "code",
   "execution_count": 3,
   "id": "742b0ccd",
   "metadata": {},
   "outputs": [
    {
     "name": "stdout",
     "output_type": "stream",
     "text": [
      "22\n"
     ]
    }
   ],
   "source": [
    "x+=10           #x=x+10\n",
    "print(x)"
   ]
  },
  {
   "cell_type": "code",
   "execution_count": null,
   "id": "9f4763a8",
   "metadata": {
    "deletable": false,
    "editable": false
   },
   "outputs": [],
   "source": [
    "x=10\n",
    "x-=2    # x= x-2\n",
    "#find the value of x in output in the below cell"
   ]
  },
  {
   "cell_type": "code",
   "execution_count": null,
   "id": "1edceb49",
   "metadata": {
    "cellId": "q3",
    "deletable": false
   },
   "outputs": [],
   "source": [
    "#answer here"
   ]
  },
  {
   "cell_type": "code",
   "execution_count": 4,
   "id": "f0b6dc57",
   "metadata": {},
   "outputs": [
    {
     "name": "stdout",
     "output_type": "stream",
     "text": [
      "44\n"
     ]
    }
   ],
   "source": [
    "x*=2   # x=x*2\n",
    "print(x)"
   ]
  },
  {
   "cell_type": "code",
   "execution_count": 5,
   "id": "03ff8eec",
   "metadata": {},
   "outputs": [
    {
     "name": "stdout",
     "output_type": "stream",
     "text": [
      "22.0\n"
     ]
    }
   ],
   "source": [
    "x/=2  # x=x/2\n",
    "print(x)"
   ]
  },
  {
   "cell_type": "code",
   "execution_count": null,
   "id": "37dff781",
   "metadata": {
    "deletable": false,
    "editable": false
   },
   "outputs": [],
   "source": [
    "x//=3  # x= x//3\n",
    "#Find the value of x in the below cell"
   ]
  },
  {
   "cell_type": "code",
   "execution_count": null,
   "id": "1945d506",
   "metadata": {
    "cellId": "w3",
    "deletable": false
   },
   "outputs": [],
   "source": [
    "#answer here"
   ]
  },
  {
   "cell_type": "code",
   "execution_count": 6,
   "id": "513f4f9f",
   "metadata": {},
   "outputs": [
    {
     "name": "stdout",
     "output_type": "stream",
     "text": [
      "2.0\n"
     ]
    }
   ],
   "source": [
    "x%=4 # x=x%4\n",
    "print(x)"
   ]
  },
  {
   "cell_type": "code",
   "execution_count": 7,
   "id": "6a67f354",
   "metadata": {},
   "outputs": [
    {
     "data": {
      "text/plain": [
       "4.0"
      ]
     },
     "execution_count": 7,
     "metadata": {},
     "output_type": "execute_result"
    }
   ],
   "source": [
    "x**=2 \n",
    "x"
   ]
  },
  {
   "cell_type": "markdown",
   "id": "608e389a",
   "metadata": {},
   "source": [
    "# while loop"
   ]
  },
  {
   "cell_type": "markdown",
   "id": "b266c463",
   "metadata": {},
   "source": [
    "Iteration with while loops\n",
    "Another powerful feature of programming languages, closely related to branching, is running one or more statements multiple times. This feature is often referred to as iteration on looping, and there are two ways to do this in Python: using while loops and for loops.\n",
    "\n",
    "while loops have the following syntax:\n",
    "\n",
    "while condition:\n",
    "    statement(s)"
   ]
  },
  {
   "cell_type": "code",
   "execution_count": 8,
   "id": "1f3f583a",
   "metadata": {},
   "outputs": [
    {
     "name": "stdout",
     "output_type": "stream",
     "text": [
      "1\n",
      "1\n",
      "1\n",
      "1\n",
      "1\n"
     ]
    }
   ],
   "source": [
    "i=0\n",
    "while i<5:\n",
    "    print(1)\n",
    "    i=i+1"
   ]
  },
  {
   "cell_type": "code",
   "execution_count": 9,
   "id": "2b21583e",
   "metadata": {},
   "outputs": [],
   "source": [
    "i=0\n",
    "sum=0\n",
    "while i<=5:\n",
    "    sum=sum+i\n",
    "    i+=1"
   ]
  },
  {
   "cell_type": "code",
   "execution_count": 10,
   "id": "16a974ed",
   "metadata": {},
   "outputs": [
    {
     "name": "stdout",
     "output_type": "stream",
     "text": [
      "5\n",
      "The sum is 15\n"
     ]
    }
   ],
   "source": [
    "# Sum of natural numbers\n",
    "num = int(input())\n",
    "\n",
    "if num < 0:\n",
    "    print(\"Enter a positive number\")\n",
    "\n",
    "    \n",
    "else:\n",
    "    sum = 0\n",
    "   # use while loop to iterate until zero\n",
    "    while(num > 0):\n",
    "        sum += num\n",
    "        num -= 1\n",
    "        \n",
    "    print(\"The sum is\", sum)"
   ]
  },
  {
   "cell_type": "code",
   "execution_count": null,
   "id": "4430e3a1",
   "metadata": {
    "deletable": false,
    "editable": false
   },
   "outputs": [],
   "source": [
    "#write a python program using while loop make a simple calculator which calculate addition,mul,division,subtraction and give output based on user requirement"
   ]
  },
  {
   "cell_type": "code",
   "execution_count": 12,
   "id": "6b155843",
   "metadata": {
    "cellId": "e3",
    "deletable": false
   },
   "outputs": [],
   "source": [
    "#answer here\n",
    "\n"
   ]
  },
  {
   "cell_type": "code",
   "execution_count": 13,
   "id": "d7094389",
   "metadata": {},
   "outputs": [
    {
     "name": "stdout",
     "output_type": "stream",
     "text": [
      "0  is  less than 5\n",
      "1  is  less than 5\n",
      "2  is  less than 5\n",
      "3  is  less than 5\n",
      "4  is  less than 5\n",
      "5  is not less than 5\n"
     ]
    }
   ],
   "source": [
    "count = 0\n",
    "while count < 5:\n",
    "   print (count, \" is  less than 5\")\n",
    "   count = count + 1\n",
    "else:\n",
    "   print (count, \" is not less than 5\")"
   ]
  },
  {
   "cell_type": "markdown",
   "id": "d264841e",
   "metadata": {},
   "source": [
    "# Exception Handeling"
   ]
  },
  {
   "cell_type": "markdown",
   "id": "7afd1c9a",
   "metadata": {},
   "source": [
    "Error in Python can be of two types i.e. Syntax errors and Exceptions. Errors are the problems in a program due to which the program will stop the execution. On the other hand, exceptions are raised when some internal events occur which changes the normal flow of the program.\n",
    "\n",
    "Try and Except Statement\n",
    "\n",
    "Try and except statements are used to catch and handle exceptions in Python. statements that can raise exceptions are kept inside the try clause and the statements that handle the exception are written inside except clause."
   ]
  },
  {
   "cell_type": "code",
   "execution_count": 14,
   "id": "105c9660",
   "metadata": {},
   "outputs": [
    {
     "name": "stdout",
     "output_type": "stream",
     "text": [
      "Enter your Age: 40\n",
      "You are eligible for voting\n"
     ]
    }
   ],
   "source": [
    "# eligiblity check for voting\n",
    "age=int(input('Enter your Age: '))\n",
    "\n",
    "if age>=18:\n",
    "    print('You are eligible for voting')\n",
    "else:\n",
    "    print('You are not eligible for voting')"
   ]
  },
  {
   "cell_type": "code",
   "execution_count": 17,
   "id": "00e0b7e3",
   "metadata": {},
   "outputs": [
    {
     "name": "stdout",
     "output_type": "stream",
     "text": [
      " enter 1 for +\n",
      "    enter 2 for -\n",
      "    enter 3 fpr *\n",
      "    enter 4 for /5\n",
      "5\n",
      "Enter numbers only\n"
     ]
    }
   ],
   "source": [
    "try:\n",
    "    operartion= input(\"\"\" enter 1 for +\n",
    "    enter 2 for -\n",
    "    enter 3 fpr *\n",
    "    enter 4 for /\"\"\")\n",
    "\n",
    "    num1,num2=map(float,input().split())\n",
    "\n",
    "    if operartion=='1':\n",
    "        print(num1+num2)\n",
    "    \n",
    "    elif operartion=='2':\n",
    "        print(num1-num2)\n",
    "    \n",
    "    elif operartion=='3':\n",
    "        print(num1*num2)\n",
    "    \n",
    "    elif operartion=='4':\n",
    "        print(num1/num2)\n",
    "except ZeroDivisionError:\n",
    "    print('Enter num2 value other than zero')\n",
    "    \n",
    "except ValueError:\n",
    "    print('Enter numbers only')   \n",
    "    \n",
    "except:\n",
    "    print('enter valid syntax')\n",
    "    \n",
    "else:\n",
    "    print('enter valid sequence of operation')"
   ]
  },
  {
   "cell_type": "markdown",
   "id": "949fb5eb",
   "metadata": {},
   "source": [
    "# try and finally\n",
    "The try statement in Python can have an optional finally clause. This clause is executed no matter what, and is generally used to release external resources."
   ]
  },
  {
   "cell_type": "code",
   "execution_count": 18,
   "id": "8266e99d",
   "metadata": {},
   "outputs": [
    {
     "name": "stdout",
     "output_type": "stream",
     "text": [
      "C is not greater\n",
      "Enter valid number\n",
      "finally I am here\n"
     ]
    }
   ],
   "source": [
    "a=3\n",
    "b=6\n",
    "c=0\n",
    "\n",
    "try:\n",
    "    if c>10:\n",
    "        print('c is greater')\n",
    "    else:\n",
    "        print('C is not greater')\n",
    "except ZeroDivisionError:\n",
    "    print('This is exception')\n",
    "else:\n",
    "    print('Enter valid number')\n",
    "finally:\n",
    "    print('finally I am here')"
   ]
  },
  {
   "cell_type": "markdown",
   "id": "ada44035",
   "metadata": {},
   "source": [
    "# Raising Exceptions\n",
    "In Python programming, exceptions are raised when errors occur at runtime. We can also manually raise exceptions using the raise keyword.\n",
    "\n",
    "We can optionally pass values to the exception to clarify why that exception was raised."
   ]
  },
  {
   "cell_type": "code",
   "execution_count": 19,
   "id": "44e534e1",
   "metadata": {},
   "outputs": [
    {
     "name": "stdout",
     "output_type": "stream",
     "text": [
      "Enter a positive integer: 5\n"
     ]
    }
   ],
   "source": [
    "a = int(input(\"Enter a positive integer: \"))\n",
    "if a <= 0:\n",
    "    raise ValueError(\"That is not a positive number!\")"
   ]
  },
  {
   "cell_type": "code",
   "execution_count": 20,
   "id": "33a9093f",
   "metadata": {},
   "outputs": [
    {
     "name": "stdout",
     "output_type": "stream",
     "text": [
      "Enter a positive integer: 7\n"
     ]
    }
   ],
   "source": [
    "a = int(input(\"Enter a positive integer: \"))\n",
    "if a <= 0:\n",
    "    raise ZeroDivisionError(\"That is not a positive number!\")"
   ]
  },
  {
   "cell_type": "code",
   "execution_count": 21,
   "id": "25e23b8f",
   "metadata": {},
   "outputs": [
    {
     "name": "stdout",
     "output_type": "stream",
     "text": [
      "Enter 1st number:7\n",
      "Enter 2nd number:8\n",
      "Division of a= 7.0 and b= 8.0 is c= 0.88\n"
     ]
    }
   ],
   "source": [
    "while True:\n",
    "    try:\n",
    "        a=float(input(\"Enter 1st number:\"))\n",
    "        b=float(input(\"Enter 2nd number:\"))\n",
    "        c=a/b\n",
    "        print(\"Division of a=\",a,\"and b=\",b,\"is c=\",round(c,2))\n",
    "        break\n",
    "    except Exception:\n",
    "        print(\"Something is wrong. Please try again.\")"
   ]
  },
  {
   "cell_type": "code",
   "execution_count": null,
   "id": "35a77509",
   "metadata": {
    "deletable": false
   },
   "outputs": [],
   "source": [
    "#Take two numbers from the user and divide them if denominotor is zero  use zerodivisionerror functionality and print the result."
   ]
  },
  {
   "cell_type": "code",
   "execution_count": null,
   "id": "99569ffc",
   "metadata": {
    "cellId": "r3",
    "deletable": false
   },
   "outputs": [],
   "source": [
    "#answer here"
   ]
  }
 ],
 "metadata": {
  "celltoolbar": "Edit Metadata",
  "kernelspec": {
   "display_name": "Python 3 (ipykernel)",
   "language": "python",
   "name": "python3"
  },
  "language_info": {
   "codemirror_mode": {
    "name": "ipython",
    "version": 3
   },
   "file_extension": ".py",
   "mimetype": "text/x-python",
   "name": "python",
   "nbconvert_exporter": "python",
   "pygments_lexer": "ipython3",
   "version": "3.9.12"
  }
 },
 "nbformat": 4,
 "nbformat_minor": 5
}
