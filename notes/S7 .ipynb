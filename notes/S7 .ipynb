{
 "cells": [
  {
   "cell_type": "code",
   "execution_count": 1,
   "id": "6382d76c",
   "metadata": {},
   "outputs": [
    {
     "name": "stdout",
     "output_type": "stream",
     "text": [
      "2\n",
      "<class 'int'>\n",
      "Hello world!\n",
      "<class 'str'>\n",
      "23.15\n",
      "<class 'float'>\n"
     ]
    }
   ],
   "source": [
    "# type your code here\n",
    "a = 2\n",
    "print(a)\n",
    "print( type(a) )\n",
    "b = \"Hello world!\"\n",
    "print(b)\n",
    "print( type(b) )\n",
    "c = 23.15\n",
    "print(c)\n",
    "print( type(c) )"
   ]
  },
  {
   "cell_type": "code",
   "execution_count": 2,
   "id": "be1d1478",
   "metadata": {},
   "outputs": [
    {
     "name": "stdout",
     "output_type": "stream",
     "text": [
      "This is Batman's car\n"
     ]
    }
   ],
   "source": [
    "print('This is Batman\\'s car')    # \\ is called escape Character"
   ]
  },
  {
   "cell_type": "code",
   "execution_count": 3,
   "id": "dad91e0a",
   "metadata": {},
   "outputs": [
    {
     "name": "stdout",
     "output_type": "stream",
     "text": [
      "09 12 2016\n",
      "09/12/2016\n",
      "09-12-2016\n"
     ]
    }
   ],
   "source": [
    "#for formatting a date\n",
    "print('09','12','2016')\n",
    "print('09','12','2016', sep='/')\n",
    "print('09','12','2016', sep='-')"
   ]
  },
  {
   "cell_type": "code",
   "execution_count": 4,
   "id": "050b1fad",
   "metadata": {},
   "outputs": [
    {
     "name": "stdout",
     "output_type": "stream",
     "text": [
      "My name is James Bond and this is Batman's car\n"
     ]
    }
   ],
   "source": [
    "x='My name is James Bond and this is Batman\\'s car'\n",
    "print(x)"
   ]
  },
  {
   "cell_type": "code",
   "execution_count": 5,
   "id": "58cff504",
   "metadata": {},
   "outputs": [
    {
     "name": "stdout",
     "output_type": "stream",
     "text": [
      "My name is James Bond.\n",
      "This is Batman's car.\n"
     ]
    }
   ],
   "source": [
    "x=\"\"\"My name is James Bond.\n",
    "This is Batman's car.\"\"\"\n",
    "print(x)"
   ]
  },
  {
   "cell_type": "code",
   "execution_count": 6,
   "id": "03369b6a",
   "metadata": {},
   "outputs": [
    {
     "name": "stdout",
     "output_type": "stream",
     "text": [
      "My name is Ubaid and my age is 20\n"
     ]
    }
   ],
   "source": [
    "x=20\n",
    "y='Ubaid'\n",
    "\n",
    "print(f'My name is {y} and my age is {x}')  # with f string"
   ]
  },
  {
   "cell_type": "code",
   "execution_count": 7,
   "id": "b81501e5",
   "metadata": {},
   "outputs": [
    {
     "name": "stdout",
     "output_type": "stream",
     "text": [
      "Name: ubaid\n",
      "Age: 34\n",
      "Gender: m\n",
      "Mobile: 9090909090\n",
      "My name is ubaid. I am 34 old m. \n",
      "My mobile number is 9090909090.\n"
     ]
    }
   ],
   "source": [
    "name=input('Name: ')\n",
    "age=int(input('Age: '))\n",
    "gender=input('Gender: ')\n",
    "mobile=int(input(\"Mobile: \"))\n",
    "\n",
    "print(f'''My name is {name}. I am {age} old {gender}. \n",
    "My mobile number is {mobile}.''')"
   ]
  },
  {
   "cell_type": "code",
   "execution_count": 8,
   "id": "aa6a97fb",
   "metadata": {},
   "outputs": [
    {
     "name": "stdout",
     "output_type": "stream",
     "text": [
      "When we divide 10 by 3 we get 3.3333333333333335\n"
     ]
    }
   ],
   "source": [
    "x=10\n",
    "y=3\n",
    "z=x/y\n",
    "\n",
    "print('When we divide {} by {} we get {}'.format(x,y,z))"
   ]
  },
  {
   "cell_type": "code",
   "execution_count": 9,
   "id": "7200d8fe",
   "metadata": {},
   "outputs": [
    {
     "name": "stdout",
     "output_type": "stream",
     "text": [
      "World hello\n"
     ]
    }
   ],
   "source": [
    "a='hello'\n",
    "b='World'\n",
    "\n",
    "print('{} {}'.format(b,a))"
   ]
  },
  {
   "cell_type": "code",
   "execution_count": 10,
   "id": "7a2d74a6",
   "metadata": {},
   "outputs": [
    {
     "data": {
      "text/plain": [
       "'an'"
      ]
     },
     "execution_count": 10,
     "metadata": {},
     "output_type": "execute_result"
    }
   ],
   "source": [
    "# slice the string from 2nd elements to 3rd element\n",
    "a='Mango'\n",
    "a[1:3]"
   ]
  },
  {
   "cell_type": "code",
   "execution_count": 11,
   "id": "b4c49388",
   "metadata": {},
   "outputs": [
    {
     "data": {
      "text/plain": [
       "'n'"
      ]
     },
     "execution_count": 11,
     "metadata": {},
     "output_type": "execute_result"
    }
   ],
   "source": [
    "a[2]"
   ]
  },
  {
   "cell_type": "code",
   "execution_count": 12,
   "id": "0e2c4aee",
   "metadata": {},
   "outputs": [
    {
     "data": {
      "text/plain": [
       "'o'"
      ]
     },
     "execution_count": 12,
     "metadata": {},
     "output_type": "execute_result"
    }
   ],
   "source": [
    "a[-1]"
   ]
  },
  {
   "cell_type": "code",
   "execution_count": 13,
   "id": "d920cda2",
   "metadata": {},
   "outputs": [
    {
     "name": "stdout",
     "output_type": "stream",
     "text": [
      "MANGO\n"
     ]
    }
   ],
   "source": [
    "# upper(): Converts all lowercase characters in a string into uppercase \n",
    "x='mango'\n",
    "\n",
    "print(x.upper())"
   ]
  },
  {
   "cell_type": "code",
   "execution_count": 14,
   "id": "aabcd9fc",
   "metadata": {},
   "outputs": [
    {
     "data": {
      "text/plain": [
       "'MANGO'"
      ]
     },
     "execution_count": 14,
     "metadata": {},
     "output_type": "execute_result"
    }
   ],
   "source": [
    "x.upper()"
   ]
  },
  {
   "cell_type": "code",
   "execution_count": 15,
   "id": "0880f379",
   "metadata": {},
   "outputs": [
    {
     "data": {
      "text/plain": [
       "'mango'"
      ]
     },
     "execution_count": 15,
     "metadata": {},
     "output_type": "execute_result"
    }
   ],
   "source": [
    "x.lower()"
   ]
  },
  {
   "cell_type": "code",
   "execution_count": 16,
   "id": "9086447e",
   "metadata": {},
   "outputs": [
    {
     "data": {
      "text/plain": [
       "'Mango'"
      ]
     },
     "execution_count": 16,
     "metadata": {},
     "output_type": "execute_result"
    }
   ],
   "source": [
    "# capitalize()\tConverts the first character to upper case\n",
    "x.capitalize()"
   ]
  },
  {
   "cell_type": "code",
   "execution_count": 17,
   "id": "9fd1a8b0",
   "metadata": {},
   "outputs": [
    {
     "name": "stdout",
     "output_type": "stream",
     "text": [
      "5\n",
      "1\n",
      "6\n",
      "1.5\n",
      "1\n",
      "2\n",
      "8\n"
     ]
    }
   ],
   "source": [
    "print(2+3)   # Addition\n",
    "print(3-2)   # Subtraction\n",
    "print(2*3)   # Multiplication\n",
    "print(6/4)   # Division\n",
    "print(6//4)  # Floor Division\n",
    "print(6%4)   # Modulus or Modulo\n",
    "print(2**3)  # Exponentiation"
   ]
  },
  {
   "cell_type": "code",
   "execution_count": 18,
   "id": "fc7e5f85",
   "metadata": {},
   "outputs": [
    {
     "name": "stdout",
     "output_type": "stream",
     "text": [
      "True\n"
     ]
    }
   ],
   "source": [
    "print(3>2 and 5<10)  "
   ]
  },
  {
   "cell_type": "code",
   "execution_count": 19,
   "id": "36e8e7b1",
   "metadata": {},
   "outputs": [
    {
     "name": "stdout",
     "output_type": "stream",
     "text": [
      "False\n"
     ]
    }
   ],
   "source": [
    "print(3<2 and 2>5)"
   ]
  },
  {
   "cell_type": "code",
   "execution_count": 20,
   "id": "92c06be8",
   "metadata": {},
   "outputs": [
    {
     "name": "stdout",
     "output_type": "stream",
     "text": [
      "True\n"
     ]
    }
   ],
   "source": [
    "print(3>2 or 5<2)"
   ]
  },
  {
   "cell_type": "code",
   "execution_count": 21,
   "id": "4b32da00",
   "metadata": {},
   "outputs": [
    {
     "name": "stdout",
     "output_type": "stream",
     "text": [
      "False\n"
     ]
    }
   ],
   "source": [
    "print(3<2 or 5<2)"
   ]
  },
  {
   "cell_type": "code",
   "execution_count": 22,
   "id": "8e8c1afd",
   "metadata": {},
   "outputs": [
    {
     "name": "stdout",
     "output_type": "stream",
     "text": [
      "Out of if statement\n"
     ]
    }
   ],
   "source": [
    "x=-5\n",
    "if x>0:\n",
    "    print(x)\n",
    "    print(\"Hi Buddy!\")\n",
    "print(\"Out of if statement\")"
   ]
  },
  {
   "cell_type": "code",
   "execution_count": 23,
   "id": "0cfc4aee",
   "metadata": {},
   "outputs": [
    {
     "name": "stdout",
     "output_type": "stream",
     "text": [
      "num1 is a positive number\n"
     ]
    }
   ],
   "source": [
    "num1 = 5\n",
    "if (num1 != 0):\n",
    "    if(num1 > 0):\n",
    "        print(\"num1 is a positive number\")\n",
    "    else:\n",
    "        print(\"num1 is a negative number\")\n",
    "else:\n",
    "    print(\"num1 is neither positive nor negative\")"
   ]
  },
  {
   "cell_type": "code",
   "execution_count": 24,
   "id": "0b691a21",
   "metadata": {},
   "outputs": [
    {
     "name": "stdout",
     "output_type": "stream",
     "text": [
      "Monday\n",
      "Tuesday\n",
      "Wednesday\n",
      "Thursday\n",
      "Friday\n"
     ]
    }
   ],
   "source": [
    "days = ['Monday', 'Tuesday', 'Wednesday', 'Thursday', 'Friday']\n",
    "\n",
    "for day in days:\n",
    "    print(day)"
   ]
  },
  {
   "cell_type": "code",
   "execution_count": 25,
   "id": "b69305bf",
   "metadata": {},
   "outputs": [
    {
     "name": "stdout",
     "output_type": "stream",
     "text": [
      "0 1 2 "
     ]
    }
   ],
   "source": [
    "for i in range(3):\n",
    "    print(i,end=' ')"
   ]
  },
  {
   "cell_type": "code",
   "execution_count": 26,
   "id": "7d920fd9",
   "metadata": {},
   "outputs": [],
   "source": [
    "weekdays = ['Monday', 'Tuesday', 'Wednesday', 'Thursday', 'Friday']"
   ]
  },
  {
   "cell_type": "code",
   "execution_count": 27,
   "id": "4248b33e",
   "metadata": {},
   "outputs": [
    {
     "name": "stdout",
     "output_type": "stream",
     "text": [
      "Today is Monday\n",
      "Today is Tuesday\n",
      "Today is Wednesday\n",
      "I don't work beyond Wednesday!\n"
     ]
    }
   ],
   "source": [
    "for day in weekdays:\n",
    "    print('Today is {}'.format(day))\n",
    "    if (day == 'Wednesday'):\n",
    "        print(\"I don't work beyond Wednesday!\")\n",
    "        break"
   ]
  },
  {
   "cell_type": "code",
   "execution_count": 28,
   "id": "05f61eb5",
   "metadata": {},
   "outputs": [
    {
     "name": "stdout",
     "output_type": "stream",
     "text": [
      "Today is Monday\n",
      "Today is Tuesday\n",
      "I don't work on Wednesday!\n",
      "Today is Thursday\n",
      "Today is Friday\n"
     ]
    }
   ],
   "source": [
    "for day in weekdays:\n",
    "    if (day == 'Wednesday'):\n",
    "        print(\"I don't work on Wednesday!\")\n",
    "        continue\n",
    "    print('Today is {}'.format(day))"
   ]
  },
  {
   "cell_type": "code",
   "execution_count": 29,
   "id": "1ef8ab7e",
   "metadata": {},
   "outputs": [],
   "source": [
    "for day in weekdays:\n",
    "    pass"
   ]
  },
  {
   "cell_type": "code",
   "execution_count": 30,
   "id": "e2130c0e",
   "metadata": {},
   "outputs": [
    {
     "name": "stdout",
     "output_type": "stream",
     "text": [
      "t\n",
      "h\n",
      "o\n",
      "n\n",
      " \n",
      "T\n",
      "r\n",
      "a\n",
      "i\n",
      "n\n",
      "i\n",
      "n\n"
     ]
    }
   ],
   "source": [
    "for i in 'Python Training Session':\n",
    "    if i=='P':\n",
    "        pass\n",
    "    elif i=='y':\n",
    "        continue\n",
    "    elif i=='g':\n",
    "        break\n",
    "    else:\n",
    "        print(i)"
   ]
  },
  {
   "cell_type": "code",
   "execution_count": 31,
   "id": "a16f1c4c",
   "metadata": {},
   "outputs": [],
   "source": [
    "a=[]            # Empty list"
   ]
  },
  {
   "cell_type": "code",
   "execution_count": 32,
   "id": "b625d7f4",
   "metadata": {},
   "outputs": [
    {
     "data": {
      "text/plain": [
       "list"
      ]
     },
     "execution_count": 32,
     "metadata": {},
     "output_type": "execute_result"
    }
   ],
   "source": [
    "type(a)"
   ]
  },
  {
   "cell_type": "code",
   "execution_count": 33,
   "id": "ca3919dc",
   "metadata": {},
   "outputs": [],
   "source": [
    "a.append('Medhir')"
   ]
  },
  {
   "cell_type": "code",
   "execution_count": 34,
   "id": "24b66dec",
   "metadata": {},
   "outputs": [
    {
     "data": {
      "text/plain": [
       "['Medhir']"
      ]
     },
     "execution_count": 34,
     "metadata": {},
     "output_type": "execute_result"
    }
   ],
   "source": [
    "a"
   ]
  },
  {
   "cell_type": "code",
   "execution_count": 35,
   "id": "ea4f1f38",
   "metadata": {},
   "outputs": [
    {
     "data": {
      "text/plain": [
       "'Tshirt'"
      ]
     },
     "execution_count": 35,
     "metadata": {},
     "output_type": "execute_result"
    }
   ],
   "source": [
    "a=['Shirt', 'Pant', 'Shoes', 'Tshirt']\n",
    "a.pop()"
   ]
  },
  {
   "cell_type": "code",
   "execution_count": 36,
   "id": "5289256b",
   "metadata": {},
   "outputs": [
    {
     "data": {
      "text/plain": [
       "'Shirt'"
      ]
     },
     "execution_count": 36,
     "metadata": {},
     "output_type": "execute_result"
    }
   ],
   "source": [
    "a[0]"
   ]
  },
  {
   "cell_type": "code",
   "execution_count": 37,
   "id": "6b3377dc",
   "metadata": {},
   "outputs": [
    {
     "data": {
      "text/plain": [
       "['Pant', 'Shoes']"
      ]
     },
     "execution_count": 37,
     "metadata": {},
     "output_type": "execute_result"
    }
   ],
   "source": [
    "a[1:3]    # [start: end+1: step]"
   ]
  },
  {
   "cell_type": "code",
   "execution_count": 38,
   "id": "545ff12b",
   "metadata": {},
   "outputs": [],
   "source": [
    "num=[1,2,3,6,9,8,7,4,5,2,1,4,5,6,9,8,7]"
   ]
  },
  {
   "cell_type": "code",
   "execution_count": 39,
   "id": "a4c6c982",
   "metadata": {},
   "outputs": [
    {
     "data": {
      "text/plain": [
       "17"
      ]
     },
     "execution_count": 39,
     "metadata": {},
     "output_type": "execute_result"
    }
   ],
   "source": [
    "len(num)"
   ]
  },
  {
   "cell_type": "code",
   "execution_count": 40,
   "id": "5d0f298d",
   "metadata": {},
   "outputs": [
    {
     "data": {
      "text/plain": [
       "[3, 6, 9, 8, 7, 4]"
      ]
     },
     "execution_count": 40,
     "metadata": {},
     "output_type": "execute_result"
    }
   ],
   "source": [
    "# Elements from 2nd to 7th item\n",
    "\n",
    "num[2:8]"
   ]
  },
  {
   "cell_type": "code",
   "execution_count": 41,
   "id": "781dbf8c",
   "metadata": {},
   "outputs": [
    {
     "data": {
      "text/plain": [
       "6"
      ]
     },
     "execution_count": 41,
     "metadata": {},
     "output_type": "execute_result"
    }
   ],
   "source": [
    "# 4th element from end\n",
    "num[-4]"
   ]
  },
  {
   "cell_type": "code",
   "execution_count": 42,
   "id": "27b05856",
   "metadata": {},
   "outputs": [
    {
     "data": {
      "text/plain": [
       "[6, 9, 8, 7]"
      ]
     },
     "execution_count": 42,
     "metadata": {},
     "output_type": "execute_result"
    }
   ],
   "source": [
    "# 4th  from end to last element\n",
    "\n",
    "num[-4:]"
   ]
  },
  {
   "cell_type": "code",
   "execution_count": 43,
   "id": "0cea72db",
   "metadata": {},
   "outputs": [],
   "source": [
    "# find out the even numbers from the list\n",
    "even=[]\n",
    "for i in num:\n",
    "    if i%2==0:\n",
    "        even.append(i)"
   ]
  },
  {
   "cell_type": "code",
   "execution_count": 44,
   "id": "f11f247b",
   "metadata": {},
   "outputs": [
    {
     "data": {
      "text/plain": [
       "[2, 6, 8, 4, 2, 4, 6, 8]"
      ]
     },
     "execution_count": 44,
     "metadata": {},
     "output_type": "execute_result"
    }
   ],
   "source": [
    "even"
   ]
  },
  {
   "cell_type": "code",
   "execution_count": 45,
   "id": "764f4eb4",
   "metadata": {},
   "outputs": [],
   "source": [
    "even.sort()       # to sort the list in ascending order"
   ]
  },
  {
   "cell_type": "code",
   "execution_count": 46,
   "id": "613f1e4d",
   "metadata": {},
   "outputs": [
    {
     "data": {
      "text/plain": [
       "[2, 2, 4, 4, 6, 6, 8, 8]"
      ]
     },
     "execution_count": 46,
     "metadata": {},
     "output_type": "execute_result"
    }
   ],
   "source": [
    "even"
   ]
  },
  {
   "cell_type": "code",
   "execution_count": 47,
   "id": "8a07c6f1",
   "metadata": {},
   "outputs": [],
   "source": [
    "even.extend([10,12,14])"
   ]
  },
  {
   "cell_type": "code",
   "execution_count": 48,
   "id": "f130f916",
   "metadata": {},
   "outputs": [
    {
     "data": {
      "text/plain": [
       "[2, 2, 4, 4, 6, 6, 8, 8, 10, 12, 14]"
      ]
     },
     "execution_count": 48,
     "metadata": {},
     "output_type": "execute_result"
    }
   ],
   "source": [
    "even"
   ]
  },
  {
   "cell_type": "code",
   "execution_count": 49,
   "id": "52f48865",
   "metadata": {},
   "outputs": [
    {
     "data": {
      "text/plain": [
       "4"
      ]
     },
     "execution_count": 49,
     "metadata": {},
     "output_type": "execute_result"
    }
   ],
   "source": [
    "even.pop(2)   # remove element from specific index"
   ]
  },
  {
   "cell_type": "code",
   "execution_count": 50,
   "id": "d7b9c7e9",
   "metadata": {},
   "outputs": [],
   "source": [
    "even.remove(8)  # remove a specific element"
   ]
  },
  {
   "cell_type": "code",
   "execution_count": 51,
   "id": "d6432288",
   "metadata": {},
   "outputs": [
    {
     "data": {
      "text/plain": [
       "[2, 2, 4, 6, 6, 8, 10, 12, 14]"
      ]
     },
     "execution_count": 51,
     "metadata": {},
     "output_type": "execute_result"
    }
   ],
   "source": [
    "even"
   ]
  },
  {
   "cell_type": "code",
   "execution_count": 52,
   "id": "cae2ae53",
   "metadata": {},
   "outputs": [],
   "source": [
    "even.insert(2,'Mango')      # to insert an element at specific elements"
   ]
  },
  {
   "cell_type": "code",
   "execution_count": 53,
   "id": "6eebbaf0",
   "metadata": {},
   "outputs": [
    {
     "data": {
      "text/plain": [
       "[2, 2, 'Mango', 4, 6, 6, 8, 10, 12, 14]"
      ]
     },
     "execution_count": 53,
     "metadata": {},
     "output_type": "execute_result"
    }
   ],
   "source": [
    "even"
   ]
  },
  {
   "cell_type": "code",
   "execution_count": 54,
   "id": "c04ffe94",
   "metadata": {},
   "outputs": [
    {
     "name": "stdout",
     "output_type": "stream",
     "text": [
      "['Even', 'Odd', 'Even', 'Odd', 'Even', 'Odd', 'Even', 'Odd', 'Even', 'Odd']\n"
     ]
    }
   ],
   "source": [
    "#  if...else With List Comprehension\n",
    "\n",
    "obj = [\"Even\" if i%2==0 else \"Odd\" for i in range(10)]\n",
    "print(obj)"
   ]
  },
  {
   "cell_type": "code",
   "execution_count": 55,
   "id": "7576f802",
   "metadata": {},
   "outputs": [],
   "source": [
    "days={'Mon','Tue','Wed','Thur','Fri','Sat','Sun'}            # Create a set"
   ]
  },
  {
   "cell_type": "code",
   "execution_count": 56,
   "id": "256b2a1f",
   "metadata": {},
   "outputs": [
    {
     "data": {
      "text/plain": [
       "{'Fri', 'Mon', 'Sat', 'Sun', 'Thur', 'Tue', 'Wed'}"
      ]
     },
     "execution_count": 56,
     "metadata": {},
     "output_type": "execute_result"
    }
   ],
   "source": [
    "days"
   ]
  },
  {
   "cell_type": "code",
   "execution_count": 57,
   "id": "dfea75e8",
   "metadata": {},
   "outputs": [],
   "source": [
    "# Set Items - Data Types\n",
    "# Set items can be of any data type:\n",
    "\n",
    "\n",
    "set1 = {\"apple\", \"banana\", \"cherry\"}\n",
    "set2 = {1, 5, 7, 9, 3}\n",
    "set3 = {True, False, False}\n",
    "\n",
    "# A set can contain different data types:\n",
    "\n",
    "set1 = {\"abc\", 34, True, 40, \"male\"}"
   ]
  },
  {
   "cell_type": "code",
   "execution_count": 58,
   "id": "522e6436",
   "metadata": {},
   "outputs": [],
   "source": [
    "set_num=set((1,20,13,4,15,6,1,15,20))"
   ]
  },
  {
   "cell_type": "code",
   "execution_count": 59,
   "id": "3cff20dd",
   "metadata": {},
   "outputs": [
    {
     "data": {
      "text/plain": [
       "{1, 4, 6, 13, 15, 20}"
      ]
     },
     "execution_count": 59,
     "metadata": {},
     "output_type": "execute_result"
    }
   ],
   "source": [
    "set_num"
   ]
  },
  {
   "cell_type": "code",
   "execution_count": 60,
   "id": "aab41f77",
   "metadata": {},
   "outputs": [],
   "source": [
    "set_num.add(21)             # to add a specific element in the set"
   ]
  },
  {
   "cell_type": "code",
   "execution_count": 61,
   "id": "04154b44",
   "metadata": {},
   "outputs": [
    {
     "data": {
      "text/plain": [
       "{1, 4, 6, 13, 15, 20, 21}"
      ]
     },
     "execution_count": 61,
     "metadata": {},
     "output_type": "execute_result"
    }
   ],
   "source": [
    "set_num"
   ]
  },
  {
   "cell_type": "code",
   "execution_count": 62,
   "id": "805b3173",
   "metadata": {},
   "outputs": [
    {
     "data": {
      "text/plain": [
       "1"
      ]
     },
     "execution_count": 62,
     "metadata": {},
     "output_type": "execute_result"
    }
   ],
   "source": [
    "set_num.pop()             # to remove the random element from the set"
   ]
  },
  {
   "cell_type": "code",
   "execution_count": 63,
   "id": "b8d716dc",
   "metadata": {},
   "outputs": [
    {
     "data": {
      "text/plain": [
       "{'Fri', 'Mon', 'Sat', 'Sun', 'Thur', 'Tue', 'Wed'}"
      ]
     },
     "execution_count": 63,
     "metadata": {},
     "output_type": "execute_result"
    }
   ],
   "source": [
    "days"
   ]
  },
  {
   "cell_type": "code",
   "execution_count": 64,
   "id": "8048ee3f",
   "metadata": {},
   "outputs": [
    {
     "data": {
      "text/plain": [
       "'Mon'"
      ]
     },
     "execution_count": 64,
     "metadata": {},
     "output_type": "execute_result"
    }
   ],
   "source": [
    "days.pop()"
   ]
  },
  {
   "cell_type": "code",
   "execution_count": 65,
   "id": "8dbcbc5f",
   "metadata": {},
   "outputs": [
    {
     "ename": "KeyError",
     "evalue": "'Mon'",
     "output_type": "error",
     "traceback": [
      "\u001b[1;31m---------------------------------------------------------------------------\u001b[0m",
      "\u001b[1;31mKeyError\u001b[0m                                  Traceback (most recent call last)",
      "Input \u001b[1;32mIn [65]\u001b[0m, in \u001b[0;36m<cell line: 1>\u001b[1;34m()\u001b[0m\n\u001b[1;32m----> 1\u001b[0m \u001b[43mdays\u001b[49m\u001b[38;5;241;43m.\u001b[39;49m\u001b[43mremove\u001b[49m\u001b[43m(\u001b[49m\u001b[38;5;124;43m'\u001b[39;49m\u001b[38;5;124;43mMon\u001b[39;49m\u001b[38;5;124;43m'\u001b[39;49m\u001b[43m)\u001b[49m\n",
      "\u001b[1;31mKeyError\u001b[0m: 'Mon'"
     ]
    }
   ],
   "source": [
    "days.remove('Mon')              # to remove a specific element from the set"
   ]
  },
  {
   "cell_type": "code",
   "execution_count": 66,
   "id": "00b703a5",
   "metadata": {},
   "outputs": [],
   "source": [
    "my_set = {1, 3}"
   ]
  },
  {
   "cell_type": "code",
   "execution_count": 67,
   "id": "db817d8f",
   "metadata": {},
   "outputs": [
    {
     "name": "stdout",
     "output_type": "stream",
     "text": [
      "{1, 2, 3, 4}\n"
     ]
    }
   ],
   "source": [
    "# add multiple elements\n",
    "my_set.update([2, 3, 4])\n",
    "print(my_set)"
   ]
  },
  {
   "cell_type": "code",
   "execution_count": 68,
   "id": "57c0538c",
   "metadata": {},
   "outputs": [
    {
     "name": "stdout",
     "output_type": "stream",
     "text": [
      "{1, 2, 3, 4, 5, 6, 8}\n"
     ]
    }
   ],
   "source": [
    "# add list and set\n",
    "my_set.update([4, 5], {1, 6, 8})\n",
    "print(my_set)"
   ]
  },
  {
   "cell_type": "code",
   "execution_count": 69,
   "id": "ba5b8cf5",
   "metadata": {},
   "outputs": [
    {
     "name": "stdout",
     "output_type": "stream",
     "text": [
      "set()\n"
     ]
    }
   ],
   "source": [
    "# clear my_set\n",
    "my_set.clear()\n",
    "print(my_set)"
   ]
  },
  {
   "cell_type": "code",
   "execution_count": 70,
   "id": "a77c3011",
   "metadata": {},
   "outputs": [],
   "source": [
    "set_A={1,2,5,6}\n",
    "set_B={1,2,7,8}"
   ]
  },
  {
   "cell_type": "code",
   "execution_count": 71,
   "id": "f752576e",
   "metadata": {},
   "outputs": [
    {
     "data": {
      "text/plain": [
       "{1, 2, 5, 6, 7, 8}"
      ]
     },
     "execution_count": 71,
     "metadata": {},
     "output_type": "execute_result"
    }
   ],
   "source": [
    "set_A.union(set_B)"
   ]
  },
  {
   "cell_type": "code",
   "execution_count": 72,
   "id": "4b71aa50",
   "metadata": {},
   "outputs": [
    {
     "data": {
      "text/plain": [
       "{1, 2, 5, 6, 7, 8}"
      ]
     },
     "execution_count": 72,
     "metadata": {},
     "output_type": "execute_result"
    }
   ],
   "source": [
    "set_A | set_B # Union"
   ]
  },
  {
   "cell_type": "code",
   "execution_count": 73,
   "id": "aa3c47ee",
   "metadata": {},
   "outputs": [
    {
     "data": {
      "text/plain": [
       "{5, 6}"
      ]
     },
     "execution_count": 73,
     "metadata": {},
     "output_type": "execute_result"
    }
   ],
   "source": [
    "set_A.difference(set_B)"
   ]
  },
  {
   "cell_type": "code",
   "execution_count": 74,
   "id": "26c56960",
   "metadata": {},
   "outputs": [
    {
     "data": {
      "text/plain": [
       "{7, 8}"
      ]
     },
     "execution_count": 74,
     "metadata": {},
     "output_type": "execute_result"
    }
   ],
   "source": [
    "set_B.difference(set_A)"
   ]
  },
  {
   "cell_type": "code",
   "execution_count": 75,
   "id": "4f2ed65f",
   "metadata": {},
   "outputs": [],
   "source": [
    "a=()"
   ]
  },
  {
   "cell_type": "code",
   "execution_count": 76,
   "id": "f7d0698c",
   "metadata": {},
   "outputs": [
    {
     "data": {
      "text/plain": [
       "tuple"
      ]
     },
     "execution_count": 76,
     "metadata": {},
     "output_type": "execute_result"
    }
   ],
   "source": [
    "type(a)"
   ]
  },
  {
   "cell_type": "code",
   "execution_count": 77,
   "id": "9358f084",
   "metadata": {},
   "outputs": [
    {
     "data": {
      "text/plain": [
       "int"
      ]
     },
     "execution_count": 77,
     "metadata": {},
     "output_type": "execute_result"
    }
   ],
   "source": [
    "b=(1)\n",
    "type(b)"
   ]
  },
  {
   "cell_type": "code",
   "execution_count": 78,
   "id": "f85686ad",
   "metadata": {},
   "outputs": [
    {
     "data": {
      "text/plain": [
       "str"
      ]
     },
     "execution_count": 78,
     "metadata": {},
     "output_type": "execute_result"
    }
   ],
   "source": [
    "c=('hello')\n",
    "type(c)"
   ]
  },
  {
   "cell_type": "code",
   "execution_count": 79,
   "id": "b5a35eb2",
   "metadata": {},
   "outputs": [
    {
     "data": {
      "text/plain": [
       "[60.0, 78.9]"
      ]
     },
     "execution_count": 79,
     "metadata": {},
     "output_type": "execute_result"
    }
   ],
   "source": [
    "location_list=[56.5,78.9]\n",
    "location_list[0]=60.0\n",
    "location_list"
   ]
  },
  {
   "cell_type": "code",
   "execution_count": 80,
   "id": "93aca02c",
   "metadata": {},
   "outputs": [
    {
     "ename": "TypeError",
     "evalue": "'tuple' object does not support item assignment",
     "output_type": "error",
     "traceback": [
      "\u001b[1;31m---------------------------------------------------------------------------\u001b[0m",
      "\u001b[1;31mTypeError\u001b[0m                                 Traceback (most recent call last)",
      "Input \u001b[1;32mIn [80]\u001b[0m, in \u001b[0;36m<cell line: 4>\u001b[1;34m()\u001b[0m\n\u001b[0;32m      1\u001b[0m \u001b[38;5;66;03m# Tuples are immutable\u001b[39;00m\n\u001b[0;32m      3\u001b[0m location_tuple\u001b[38;5;241m=\u001b[39m\u001b[38;5;241m56.5\u001b[39m,\u001b[38;5;241m78.9\u001b[39m\n\u001b[1;32m----> 4\u001b[0m location_tuple[\u001b[38;5;241m0\u001b[39m]\u001b[38;5;241m=\u001b[39m\u001b[38;5;241m60.0\u001b[39m\n\u001b[0;32m      5\u001b[0m location_tuple\n",
      "\u001b[1;31mTypeError\u001b[0m: 'tuple' object does not support item assignment"
     ]
    }
   ],
   "source": [
    "# Tuples are immutable\n",
    "\n",
    "location_tuple=56.5,78.9\n",
    "location_tuple[0]=60.0\n",
    "location_tuple"
   ]
  },
  {
   "cell_type": "code",
   "execution_count": 81,
   "id": "84418c64",
   "metadata": {},
   "outputs": [
    {
     "name": "stdout",
     "output_type": "stream",
     "text": [
      "(4, 5, 6, 9)\n"
     ]
    }
   ],
   "source": [
    "x=(4,5,6,9,8,7)\n",
    "#element 0th index  to 3rd index element   \n",
    "print(x[:4])  "
   ]
  },
  {
   "cell_type": "code",
   "execution_count": 82,
   "id": "f8feb287",
   "metadata": {},
   "outputs": [
    {
     "data": {
      "text/plain": [
       "(1, 2, 3, 4)"
      ]
     },
     "execution_count": 82,
     "metadata": {},
     "output_type": "execute_result"
    }
   ],
   "source": [
    "a=(1,2)\n",
    "b=a+(3,4)\n",
    "b"
   ]
  },
  {
   "cell_type": "code",
   "execution_count": 83,
   "id": "3de75d97",
   "metadata": {},
   "outputs": [
    {
     "data": {
      "text/plain": [
       "(1, 2, 1, 2)"
      ]
     },
     "execution_count": 83,
     "metadata": {},
     "output_type": "execute_result"
    }
   ],
   "source": [
    "a*2"
   ]
  },
  {
   "cell_type": "code",
   "execution_count": 84,
   "id": "19447687",
   "metadata": {},
   "outputs": [
    {
     "data": {
      "text/plain": [
       "(1, 2, 3, 4)"
      ]
     },
     "execution_count": 84,
     "metadata": {},
     "output_type": "execute_result"
    }
   ],
   "source": [
    "b"
   ]
  },
  {
   "cell_type": "code",
   "execution_count": 85,
   "id": "edfed3d7",
   "metadata": {},
   "outputs": [
    {
     "data": {
      "text/plain": [
       "1"
      ]
     },
     "execution_count": 85,
     "metadata": {},
     "output_type": "execute_result"
    }
   ],
   "source": [
    "b.index(2)       # to check the index of the specific element in the tuple"
   ]
  },
  {
   "cell_type": "code",
   "execution_count": 86,
   "id": "e8fd09c3",
   "metadata": {},
   "outputs": [
    {
     "data": {
      "text/plain": [
       "1"
      ]
     },
     "execution_count": 86,
     "metadata": {},
     "output_type": "execute_result"
    }
   ],
   "source": [
    "b.count(3)        # to count the number of the occurances of the element"
   ]
  },
  {
   "cell_type": "code",
   "execution_count": 87,
   "id": "8bd2eb2e",
   "metadata": {},
   "outputs": [
    {
     "name": "stdout",
     "output_type": "stream",
     "text": [
      "Hello\n",
      "World\n",
      "!\n"
     ]
    }
   ],
   "source": [
    "# Iterating through the tuple\n",
    "a=(\"Hello\",\"World\",\"!\")\n",
    "for i in a:\n",
    "    print(i)"
   ]
  },
  {
   "cell_type": "code",
   "execution_count": 88,
   "id": "4426c9f3",
   "metadata": {},
   "outputs": [
    {
     "name": "stdout",
     "output_type": "stream",
     "text": [
      "{}\n",
      "<class 'dict'>\n"
     ]
    }
   ],
   "source": [
    "# empty dictionary\n",
    "my_dict = {}\n",
    "print(my_dict)\n",
    "print(type(my_dict))"
   ]
  },
  {
   "cell_type": "code",
   "execution_count": 89,
   "id": "421c6195",
   "metadata": {},
   "outputs": [
    {
     "name": "stdout",
     "output_type": "stream",
     "text": [
      "{1: 'apple', 2: 'ball'}\n"
     ]
    }
   ],
   "source": [
    "# dictionary with integer keys\n",
    "my_dict = {1: 'apple', 2: 'ball'}\n",
    "print(my_dict)"
   ]
  },
  {
   "cell_type": "code",
   "execution_count": 90,
   "id": "438cf9ef",
   "metadata": {},
   "outputs": [
    {
     "name": "stdout",
     "output_type": "stream",
     "text": [
      "{'name': 'John', 1: [2, 4, 3]}\n"
     ]
    }
   ],
   "source": [
    "# dictionary with mixed keys\n",
    "my_dict = {'name': 'John', 1: [2, 4, 3]}\n",
    "print(my_dict)"
   ]
  },
  {
   "cell_type": "code",
   "execution_count": 91,
   "id": "4f5658cd",
   "metadata": {},
   "outputs": [],
   "source": [
    "input_list=[[\"T'shirt\",300],[\"Watch\",900],[\"Hat\",200]]\n",
    "price_lookup=dict(input_list)"
   ]
  },
  {
   "cell_type": "code",
   "execution_count": 92,
   "id": "f6b11d46",
   "metadata": {},
   "outputs": [
    {
     "data": {
      "text/plain": [
       "[[\"T'shirt\", 300], ['Watch', 900], ['Hat', 200]]"
      ]
     },
     "execution_count": 92,
     "metadata": {},
     "output_type": "execute_result"
    }
   ],
   "source": [
    "input_list"
   ]
  },
  {
   "cell_type": "code",
   "execution_count": 93,
   "id": "03add2ca",
   "metadata": {},
   "outputs": [],
   "source": [
    "a=()"
   ]
  },
  {
   "cell_type": "code",
   "execution_count": 94,
   "id": "c1b58d78",
   "metadata": {},
   "outputs": [
    {
     "name": "stdout",
     "output_type": "stream",
     "text": [
      "(1, 'Hello', 3.4)\n"
     ]
    }
   ],
   "source": [
    "# tuple with mixed datatypes\n",
    "my_tuple = (1, \"Hello\", 3.4)\n",
    "print(my_tuple)"
   ]
  },
  {
   "cell_type": "code",
   "execution_count": 95,
   "id": "01103f08",
   "metadata": {},
   "outputs": [],
   "source": [
    "color_code=(110,25,255)   #RGB color Codes"
   ]
  },
  {
   "cell_type": "code",
   "execution_count": 96,
   "id": "677ff659",
   "metadata": {},
   "outputs": [],
   "source": [
    "green_col_code=color_code[1]                    # Grabing an element with index"
   ]
  },
  {
   "cell_type": "code",
   "execution_count": 97,
   "id": "599104d4",
   "metadata": {},
   "outputs": [
    {
     "data": {
      "text/plain": [
       "25"
      ]
     },
     "execution_count": 97,
     "metadata": {},
     "output_type": "execute_result"
    }
   ],
   "source": [
    "green_col_code"
   ]
  },
  {
   "cell_type": "code",
   "execution_count": 98,
   "id": "f957441c",
   "metadata": {},
   "outputs": [
    {
     "name": "stdout",
     "output_type": "stream",
     "text": [
      "(2, 3, 4, 5, 6, 7)\n"
     ]
    }
   ],
   "source": [
    "tuple = (1,2,3,4,5,6,7)  \n",
    "#element 1 to end  \n",
    "print(tuple[1:])  "
   ]
  },
  {
   "cell_type": "code",
   "execution_count": 99,
   "id": "2a2ffe72",
   "metadata": {},
   "outputs": [
    {
     "name": "stdout",
     "output_type": "stream",
     "text": [
      "(5, 6, 9, 8)\n"
     ]
    }
   ],
   "source": [
    "#element 1st to 4th element  \n",
    "print(x[1:5]) "
   ]
  },
  {
   "cell_type": "code",
   "execution_count": 100,
   "id": "56a2ea99",
   "metadata": {},
   "outputs": [
    {
     "name": "stdout",
     "output_type": "stream",
     "text": [
      "{}\n",
      "<class 'dict'>\n"
     ]
    }
   ],
   "source": [
    "# empty dictionary\n",
    "my_dict = {}\n",
    "print(my_dict)\n",
    "print(type(my_dict))"
   ]
  },
  {
   "cell_type": "code",
   "execution_count": 101,
   "id": "91889667",
   "metadata": {},
   "outputs": [
    {
     "name": "stdout",
     "output_type": "stream",
     "text": [
      "{'name': 'John', 1: [2, 4, 3]}\n"
     ]
    }
   ],
   "source": [
    "# dictionary with mixed keys\n",
    "my_dict = {'name': 'John', 1: [2, 4, 3]}\n",
    "print(my_dict)"
   ]
  },
  {
   "cell_type": "code",
   "execution_count": 102,
   "id": "396702bd",
   "metadata": {},
   "outputs": [],
   "source": [
    "input_list=[[\"T'shirt\",300],[\"Watch\",900],[\"Hat\",200]]\n",
    "price_lookup=dict(input_list)"
   ]
  },
  {
   "cell_type": "code",
   "execution_count": 103,
   "id": "4710d405",
   "metadata": {},
   "outputs": [
    {
     "data": {
      "text/plain": [
       "{\"T'shirt\": 300, 'Watch': 900, 'Hat': 200}"
      ]
     },
     "execution_count": 103,
     "metadata": {},
     "output_type": "execute_result"
    }
   ],
   "source": [
    "price_lookup"
   ]
  },
  {
   "cell_type": "code",
   "execution_count": 104,
   "id": "c7aaaa48",
   "metadata": {},
   "outputs": [
    {
     "data": {
      "text/plain": [
       "200"
      ]
     },
     "execution_count": 104,
     "metadata": {},
     "output_type": "execute_result"
    }
   ],
   "source": [
    "price_lookup['Hat']"
   ]
  },
  {
   "cell_type": "code",
   "execution_count": 105,
   "id": "68e208fa",
   "metadata": {},
   "outputs": [],
   "source": [
    "price_lookup['Hat']=300"
   ]
  },
  {
   "cell_type": "code",
   "execution_count": 106,
   "id": "707ff62b",
   "metadata": {},
   "outputs": [
    {
     "data": {
      "text/plain": [
       "{\"T'shirt\": 300, 'Watch': 900, 'Hat': 300}"
      ]
     },
     "execution_count": 106,
     "metadata": {},
     "output_type": "execute_result"
    }
   ],
   "source": [
    "price_lookup"
   ]
  },
  {
   "cell_type": "code",
   "execution_count": 107,
   "id": "d3f4841f",
   "metadata": {},
   "outputs": [
    {
     "data": {
      "text/plain": [
       "{'fruit_1': 'banana', 'fruit_2': 'Orange', 'fruit_3': 'Mango'}"
      ]
     },
     "execution_count": 107,
     "metadata": {},
     "output_type": "execute_result"
    }
   ],
   "source": [
    "fruits=dict(fruit_1=\"banana\",fruit_2=\"Orange\",fruit_3=\"Mango\")  \n",
    "fruits"
   ]
  },
  {
   "cell_type": "code",
   "execution_count": 108,
   "id": "99c46081",
   "metadata": {},
   "outputs": [
    {
     "data": {
      "text/plain": [
       "{'fruit_1': 'banana', 'fruit_2': 'Orange', 'fruit_3': 'Mango'}"
      ]
     },
     "execution_count": 108,
     "metadata": {},
     "output_type": "execute_result"
    }
   ],
   "source": [
    "new_fruits=fruits.copy()\n",
    "new_fruits"
   ]
  },
  {
   "cell_type": "code",
   "execution_count": 109,
   "id": "05474836",
   "metadata": {},
   "outputs": [
    {
     "data": {
      "text/plain": [
       "{'fruit_1': 'banana', 'fruit_2': 'Orange', 'fruit_3': 'Mango'}"
      ]
     },
     "execution_count": 109,
     "metadata": {},
     "output_type": "execute_result"
    }
   ],
   "source": [
    "new_fruits"
   ]
  },
  {
   "cell_type": "code",
   "execution_count": 110,
   "id": "01f7751e",
   "metadata": {},
   "outputs": [
    {
     "data": {
      "text/plain": [
       "('fruit_3', 'Mango')"
      ]
     },
     "execution_count": 110,
     "metadata": {},
     "output_type": "execute_result"
    }
   ],
   "source": [
    "new_fruits.popitem()"
   ]
  },
  {
   "cell_type": "code",
   "execution_count": 111,
   "id": "1372b66d",
   "metadata": {},
   "outputs": [],
   "source": [
    "del new_fruits "
   ]
  },
  {
   "cell_type": "code",
   "execution_count": 113,
   "id": "9e41d236",
   "metadata": {},
   "outputs": [],
   "source": [
    "#new_fruits"
   ]
  },
  {
   "cell_type": "code",
   "execution_count": null,
   "id": "d1c1a8eb",
   "metadata": {},
   "outputs": [],
   "source": []
  }
 ],
 "metadata": {
  "kernelspec": {
   "display_name": "Python 3 (ipykernel)",
   "language": "python",
   "name": "python3"
  },
  "language_info": {
   "codemirror_mode": {
    "name": "ipython",
    "version": 3
   },
   "file_extension": ".py",
   "mimetype": "text/x-python",
   "name": "python",
   "nbconvert_exporter": "python",
   "pygments_lexer": "ipython3",
   "version": "3.9.12"
  }
 },
 "nbformat": 4,
 "nbformat_minor": 5
}
