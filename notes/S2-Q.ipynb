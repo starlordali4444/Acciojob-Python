{
 "cells": [
  {
   "cell_type": "markdown",
   "id": "c5fba1b6",
   "metadata": {},
   "source": [
    "# Session 2 -- Control Statements and Loops"
   ]
  },
  {
   "cell_type": "markdown",
   "id": "64640ee3",
   "metadata": {},
   "source": [
    "# Conditional execution"
   ]
  },
  {
   "cell_type": "markdown",
   "id": "356923e0",
   "metadata": {},
   "source": [
    "Decision-making statements in programming languages decide the direction of the flow of program execution.\n",
    "\n",
    "In Python, if-else elif statement is used for decision making"
   ]
  },
  {
   "cell_type": "markdown",
   "id": "b714567a",
   "metadata": {},
   "source": [
    "# if statement"
   ]
  },
  {
   "cell_type": "markdown",
   "id": "031beafa",
   "metadata": {},
   "source": [
    "It is used to decide whether a certain statement or block of statements will be executed or not i.e if a certain condition is true then a block of statement is executed otherwise not."
   ]
  },
  {
   "cell_type": "code",
   "execution_count": 1,
   "id": "b42b796b",
   "metadata": {},
   "outputs": [],
   "source": [
    "x=2\n",
    "if x<0:\n",
    "    print(x)"
   ]
  },
  {
   "cell_type": "code",
   "execution_count": 2,
   "id": "577e2aa3",
   "metadata": {},
   "outputs": [
    {
     "name": "stdout",
     "output_type": "stream",
     "text": [
      "Out of if statement\n"
     ]
    }
   ],
   "source": [
    "x=-5\n",
    "if x>0:\n",
    "    print(x)\n",
    "    print(\"Hi Buddy!\")\n",
    "print(\"Out of if statement\")"
   ]
  },
  {
   "cell_type": "markdown",
   "id": "c16a4121",
   "metadata": {},
   "source": [
    "# if-else"
   ]
  },
  {
   "cell_type": "markdown",
   "id": "e91f6028",
   "metadata": {},
   "source": [
    "We can use the else statement with if statement to execute a block of code when the condition is false."
   ]
  },
  {
   "cell_type": "code",
   "execution_count": 3,
   "id": "94ee2ea1",
   "metadata": {},
   "outputs": [
    {
     "name": "stdout",
     "output_type": "stream",
     "text": [
      "5  is odd\n",
      "Finally I got it predicted as an EVEN or ODD Number\n"
     ]
    }
   ],
   "source": [
    "x=5\n",
    "if x%2==0:\n",
    "    print(x,\" is even\")\n",
    "else:\n",
    "    print(x,\" is odd\")\n",
    "print(\"Finally I got it predicted as an EVEN or ODD Number\")"
   ]
  },
  {
   "cell_type": "code",
   "execution_count": 4,
   "id": "c2f5bcc0",
   "metadata": {
    "deletable": false,
    "editable": false
   },
   "outputs": [
    {
     "name": "stdout",
     "output_type": "stream",
     "text": [
      "40 is greater that 35\n"
     ]
    }
   ],
   "source": [
    "x = 40\n",
    "# You need to find it out if x>35 then print x is greater than 35 else print x is less than 35\n"
   ]
  },
  {
   "cell_type": "code",
   "execution_count": null,
   "id": "c603befd",
   "metadata": {
    "cellId": "q2",
    "deletable": false
   },
   "outputs": [],
   "source": [
    "#answer here"
   ]
  },
  {
   "cell_type": "markdown",
   "id": "4e4c5151",
   "metadata": {},
   "source": [
    "# if-elif-else"
   ]
  },
  {
   "cell_type": "markdown",
   "id": "c3838d8c",
   "metadata": {},
   "source": [
    "The if statements are executed from the top down. As soon as one of the conditions controlling the if is true, the statement associated with that if is executed, and the rest of the ladder is bypassed. If none of the conditions is true, then the final else statement will be executed."
   ]
  },
  {
   "cell_type": "code",
   "execution_count": 5,
   "id": "711a7ee5",
   "metadata": {},
   "outputs": [
    {
     "name": "stdout",
     "output_type": "stream",
     "text": [
      "Enter the name of fruit or pet here: dog\n",
      "Dog is a pet\n"
     ]
    }
   ],
   "source": [
    "x=['banana','mango','apple']\n",
    "y=['cat','dog','goat']\n",
    "z=input('Enter the name of fruit or pet here: ')\n",
    "z1=z.lower()\n",
    "if z1 in x:\n",
    "    print(z.capitalize(),'is a fruit')\n",
    "\n",
    "elif z1 in y:\n",
    "    print(z.capitalize(),'is a pet')\n",
    "else:\n",
    "    print('Enter valid name')"
   ]
  },
  {
   "cell_type": "code",
   "execution_count": 6,
   "id": "831b6515",
   "metadata": {},
   "outputs": [
    {
     "name": "stdout",
     "output_type": "stream",
     "text": [
      "x is smaller than y and z\n"
     ]
    }
   ],
   "source": [
    "x=5\n",
    "y=6\n",
    "z=8\n",
    "\n",
    "if x<y and y>z:\n",
    "    print('x is smaller than y and y is greater than z')\n",
    "\n",
    "\n",
    "elif x>y and y>z:\n",
    "    print('x is greater than y and y is greater than z')\n",
    "\n",
    "elif x<y and x>z:\n",
    "    print('x is greater than z and y is greater than x')\n",
    "\n",
    "elif x<y and x<z:\n",
    "    print('x is smaller than y and z')\n",
    "\n",
    "elif z>y and z>x:\n",
    "    print('z is greater than x and y')"
   ]
  },
  {
   "cell_type": "code",
   "execution_count": null,
   "id": "0d6daac7",
   "metadata": {
    "deletable": false,
    "editable": false
   },
   "outputs": [],
   "source": [
    "a=2\n",
    "b=6\n"
   ]
  },
  {
   "cell_type": "code",
   "execution_count": null,
   "id": "2f993550",
   "metadata": {
    "cellId": "w2",
    "deletable": false
   },
   "outputs": [],
   "source": [
    "#answer here\n",
    "\n",
    "# Need to check three condtion if a>3 then print elif b<a else b is greater and give the output"
   ]
  },
  {
   "cell_type": "code",
   "execution_count": 8,
   "id": "bc920a92",
   "metadata": {},
   "outputs": [
    {
     "name": "stdout",
     "output_type": "stream",
     "text": [
      "num1 is a positive number\n"
     ]
    }
   ],
   "source": [
    "num1 = 5\n",
    "if (num1 != 0):\n",
    "    if(num1 > 0):\n",
    "        print(\"num1 is a positive number\")\n",
    "    else:\n",
    "        print(\"num1 is a negative number\")\n",
    "else:\n",
    "    print(\"num1 is neither positive nor negative\")"
   ]
  },
  {
   "cell_type": "code",
   "execution_count": 9,
   "id": "295d21b0",
   "metadata": {},
   "outputs": [
    {
     "name": "stdout",
     "output_type": "stream",
     "text": [
      "num1 is neither positive nor negative\n"
     ]
    }
   ],
   "source": [
    "num1 = 0\n",
    "if (num1 != 0):\n",
    "    if(num1 > 0):\n",
    "        print(\"num1 is a positive number\")\n",
    "    else:\n",
    "        print(\"num1 is a negative number\")\n",
    "else:\n",
    "    print(\"num1 is neither positive nor negative\")"
   ]
  },
  {
   "cell_type": "code",
   "execution_count": 10,
   "id": "1884f649",
   "metadata": {},
   "outputs": [
    {
     "name": "stdout",
     "output_type": "stream",
     "text": [
      "Enter your Brand from IPhone/Redmi/Samsung: Redmi\n",
      "Choice of color black/red: black\n",
      "Ram required 4GB/8GB8gb\n",
      "Please go to the next shop\n"
     ]
    }
   ],
   "source": [
    "required_brand=input('Enter your Brand from IPhone/Redmi/Samsung: ')\n",
    "color_choice=input('Choice of color black/red: ')\n",
    "required_ram= input('Ram required 4GB/8GB')\n",
    "color_choice_1='red'\n",
    "color_choice_2='black'\n",
    "ram_1='4GB'\n",
    "ram_2='8GB'\n",
    "brand_1='Redmi'\n",
    "brand_2='Samsung'\n",
    "\n",
    "if required_brand==brand_1:\n",
    "    if color_choice==color_choice_1 and required_ram== ram_1:\n",
    "        print('Bought Mobile 1')\n",
    "\n",
    "    elif color_choice==color_choice_2 and required_ram== ram_1:\n",
    "        print('Bought Mobile 2')\n",
    "    \n",
    "    elif color_choice==color_choice_1 and required_ram== ram_2:\n",
    "        print('Bought Mobile 3')\n",
    "    \n",
    "    elif color_choice==color_choice_2 and required_ram== ram_2:\n",
    "        print('Bought Mobile 4')\n",
    "    \n",
    "    else:\n",
    "        print('Please go to the next shop')\n",
    "        \n",
    "elif required_brand==brand_2:\n",
    "    if color_choice==color_choice_1 and required_ram== ram_1:\n",
    "        print('Bought Mobile 5')\n",
    "\n",
    "    elif color_choice==color_choice_2 and required_ram== ram_1:\n",
    "        print('Bought Mobile 6')\n",
    "    \n",
    "    elif color_choice==color_choice_1 and required_ram== ram_2:\n",
    "        print('Bought Mobile 7')\n",
    "    \n",
    "    elif color_choice==color_choice_2 and required_ram== ram_2:\n",
    "        print('Bought Mobile 8')\n",
    "    \n",
    "    else:\n",
    "        print('Please go to the next shop')\n",
    "\n",
    "else:\n",
    "    print('Buy online')"
   ]
  },
  {
   "cell_type": "markdown",
   "id": "78838307",
   "metadata": {},
   "source": [
    "# for loops"
   ]
  },
  {
   "cell_type": "code",
   "execution_count": 11,
   "id": "cb79fe05",
   "metadata": {},
   "outputs": [
    {
     "name": "stdout",
     "output_type": "stream",
     "text": [
      "Monday\n",
      "Tuesday\n",
      "Wednesday\n",
      "Thursday\n",
      "Friday\n"
     ]
    }
   ],
   "source": [
    "days = ['Monday', 'Tuesday', 'Wednesday', 'Thursday', 'Friday']\n",
    "\n",
    "for day in days:\n",
    "    print(day)"
   ]
  },
  {
   "cell_type": "markdown",
   "id": "ff3696e9",
   "metadata": {},
   "source": [
    "Iterating using range and enumerate\n",
    "The range function is used to create a sequence of numbers that can be iterated over using a for loop. It can be used in 3 ways:\n",
    "\n",
    "range(n) - Creates a sequence of numbers from 0 to n-1\n",
    "range(a, b) - Creates a sequence of numbers from a to b-1\n",
    "range(a, b, step) - Creates a sequence of numbers from a to b-1 with increments of step\n",
    "Let's try it out."
   ]
  },
  {
   "cell_type": "code",
   "execution_count": null,
   "id": "e3b768fe",
   "metadata": {
    "deletable": false,
    "editable": false
   },
   "outputs": [],
   "source": [
    "#you have range of values till 3 you need to use for loop and print that values in same line\n",
    "for i in range(3):"
   ]
  },
  {
   "cell_type": "code",
   "execution_count": null,
   "id": "fb7155bc",
   "metadata": {
    "cellId": "e2",
    "deletable": false
   },
   "outputs": [],
   "source": [
    "#answer here"
   ]
  },
  {
   "cell_type": "code",
   "execution_count": 12,
   "id": "85d797a4",
   "metadata": {},
   "outputs": [
    {
     "name": "stdout",
     "output_type": "stream",
     "text": [
      "The value at position 0 is Monday.\n",
      "The value at position 1 is Tuesday.\n",
      "The value at position 2 is Wednesday.\n",
      "The value at position 3 is Thursday.\n",
      "The value at position 4 is Friday.\n"
     ]
    }
   ],
   "source": [
    "a_list = ['Monday', 'Tuesday', 'Wednesday', 'Thursday', 'Friday']\n",
    "\n",
    "for i in range(len(a_list)):\n",
    "    print('The value at position {} is {}.'.format(i, a_list[i]))"
   ]
  },
  {
   "cell_type": "markdown",
   "id": "571f4846",
   "metadata": {},
   "source": [
    "# break, continue and pass statements"
   ]
  },
  {
   "cell_type": "markdown",
   "id": "4e4eb50f",
   "metadata": {},
   "source": [
    "Similar to while loops, for loops also support the break and continue statements. break is used for breaking out of the loop and continue is used for skipping ahead to the next iteration."
   ]
  },
  {
   "cell_type": "code",
   "execution_count": 13,
   "id": "5ec453dc",
   "metadata": {},
   "outputs": [],
   "source": [
    "weekdays = ['Monday', 'Tuesday', 'Wednesday', 'Thursday', 'Friday']"
   ]
  },
  {
   "cell_type": "code",
   "execution_count": 14,
   "id": "7689e8e8",
   "metadata": {},
   "outputs": [
    {
     "name": "stdout",
     "output_type": "stream",
     "text": [
      "Today is Monday\n",
      "Today is Tuesday\n",
      "Today is Wednesday\n",
      "I don't work beyond Wednesday!\n"
     ]
    }
   ],
   "source": [
    "for day in weekdays:\n",
    "    print('Today is {}'.format(day))\n",
    "    if (day == 'Wednesday'):\n",
    "        print(\"I don't work beyond Wednesday!\")\n",
    "        break"
   ]
  },
  {
   "cell_type": "code",
   "execution_count": 15,
   "id": "b7c3afe5",
   "metadata": {},
   "outputs": [
    {
     "name": "stdout",
     "output_type": "stream",
     "text": [
      "Today is Monday\n",
      "Today is Tuesday\n",
      "I don't work on Wednesday!\n",
      "Today is Thursday\n",
      "Today is Friday\n"
     ]
    }
   ],
   "source": [
    "for day in weekdays:\n",
    "    if (day == 'Wednesday'):\n",
    "        print(\"I don't work on Wednesday!\")\n",
    "        continue\n",
    "    print('Today is {}'.format(day))"
   ]
  },
  {
   "cell_type": "code",
   "execution_count": 16,
   "id": "5cb871c4",
   "metadata": {},
   "outputs": [],
   "source": [
    "for day in weekdays:\n",
    "    pass"
   ]
  },
  {
   "cell_type": "code",
   "execution_count": null,
   "id": "8687c402",
   "metadata": {
    "deletable": false,
    "editable": false
   },
   "outputs": [],
   "source": [
    "weekdays = ['Monday', 'Tuesday', 'Wednesday', 'Thursday', 'Friday']\n",
    "#If day is Tuesday I need to break the code and give the output like I don't wont to work beyond Tuesday"
   ]
  },
  {
   "cell_type": "code",
   "execution_count": null,
   "id": "f297fb25",
   "metadata": {
    "cellId": "r2",
    "deletable": false
   },
   "outputs": [],
   "source": [
    "#answer here"
   ]
  },
  {
   "cell_type": "code",
   "execution_count": 18,
   "id": "f678752d",
   "metadata": {
    "deletable": false,
    "editable": false
   },
   "outputs": [
    {
     "name": "stdout",
     "output_type": "stream",
     "text": [
      "thon Trainin"
     ]
    }
   ],
   "source": [
    "for i in 'Python Training Session'\n",
    "    \n",
    "# You need to find P in string if that is present pass it elif find y then contnue elif g then break else print i \n"
   ]
  },
  {
   "cell_type": "code",
   "execution_count": null,
   "id": "aadf9b4a",
   "metadata": {
    "cellId": "t2",
    "deletable": false
   },
   "outputs": [],
   "source": [
    "#ANSWER here\n"
   ]
  }
 ],
 "metadata": {
  "celltoolbar": "Edit Metadata",
  "kernelspec": {
   "display_name": "Python 3 (ipykernel)",
   "language": "python",
   "name": "python3"
  },
  "language_info": {
   "codemirror_mode": {
    "name": "ipython",
    "version": 3
   },
   "file_extension": ".py",
   "mimetype": "text/x-python",
   "name": "python",
   "nbconvert_exporter": "python",
   "pygments_lexer": "ipython3",
   "version": "3.9.12"
  }
 },
 "nbformat": 4,
 "nbformat_minor": 5
}
