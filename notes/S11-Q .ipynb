{
 "cells": [
  {
   "cell_type": "markdown",
   "id": "c90f3f6f",
   "metadata": {},
   "source": [
    "# Introduction\n",
    "pandas is a Python package providing fast, flexible, and expressive data structures designed to make working with “relational” or “labeled” data both easy and intuitive. It aims to be the fundamental high-level building block for doing practical, real-world data analysis in Python. Additionally, it has the broader goal of becoming the most powerful and flexible open source data analysis/manipulation tool available in any language. pandas is well suited for many different kinds of data:\n",
    "\n",
    "Tabular data with heterogeneously-typed columns, as in an SQL table or Excel spreadsheet\n",
    "\n",
    "Ordered and unordered (not necessarily fixed-frequency) time series data.\n",
    "\n",
    "Arbitrary matrix data (homogeneously typed or heterogeneous) with row and column labels\n",
    "\n",
    "Any other form of observational / statistical data sets. The data need not be labeled at all to be placed into a pandas data structure\n",
    "\n",
    "The two primary data structures of pandas,\n",
    "\n",
    "Series (1-dimensional) and\n",
    "DataFrame (2-dimensional), handle the vast majority of typical use cases in finance, statistics, social science, and many areas of engineering.\n",
    "pandas is built on top of NumPy and is intended to integrate well within a scientific computing environment with many other 3rd party libraries.\n",
    "\n",
    "Here are just a few of the things that pandas does well:\n",
    "\n",
    "Easy handling of missing data (represented as NaN) in floating point as well as non-floating point data\n",
    "\n",
    "Size mutability: columns can be inserted and deleted from DataFrame and higher dimensional objects\n",
    "\n",
    "Automatic and explicit data alignment: objects can be explicitly aligned to a set of labels, or the user can simply ignore the labels and let Series, DataFrame, etc. automatically align the data for you in computations\n",
    "\n",
    "Powerful, flexible group by functionality to perform split-apply-combine operations on data sets, for both aggregating and transforming data\n",
    "\n",
    "Make it easy to convert ragged, differently-indexed data in other Python and NumPy data structures into DataFrame objects\n",
    "\n",
    "Intelligent label-based slicing, fancy indexing, and subsetting of large data sets\n",
    "\n",
    "Intuitive merging and joining data sets\n",
    "\n",
    "Flexible reshaping and pivoting of data sets\n",
    "\n",
    "Hierarchical labeling of axes (possible to have multiple labels per tick)\n",
    "\n",
    "Robust IO tools for loading data from flat files (CSV and delimited), Excel files, databases, and saving / loading data from the ultrafast HDF5 format\n",
    "\n",
    "Time series-specific functionality: date range generation and frequency conversion, moving window statistics, date shifting, and lagging.\n",
    "\n",
    "Many of these principles are here to address the shortcomings frequently experienced using other languages / scientific research environments. For data scientists, working with data is typically divided into multiple stages: munging and cleaning data, analyzing / modeling it, then organizing the results of the analysis into a form suitable for plotting or tabular display. pandas is the ideal tool for all of these tasks."
   ]
  },
  {
   "cell_type": "code",
   "execution_count": null,
   "id": "223c7f51",
   "metadata": {},
   "outputs": [],
   "source": [
    "! pip install pandas"
   ]
  },
  {
   "cell_type": "code",
   "execution_count": null,
   "id": "fd23bc4d",
   "metadata": {},
   "outputs": [],
   "source": [
    "import pandas as pd       # import pandas library in notebook"
   ]
  },
  {
   "cell_type": "code",
   "execution_count": null,
   "id": "a273395c",
   "metadata": {},
   "outputs": [],
   "source": [
    "pd.__version__            # check the version of the pandas"
   ]
  },
  {
   "cell_type": "markdown",
   "id": "866ec410",
   "metadata": {},
   "source": [
    "# Creation of Pandas Series\n",
    "A pandas series can be created using list,tuple,dictionary and numpy array. To create series use pandas.Series()"
   ]
  },
  {
   "cell_type": "markdown",
   "id": "7dd0c047",
   "metadata": {},
   "source": [
    "    Series - One dimensional Data Type in Pandas \n",
    "            Labled values in Series\n",
    "                Header / Column Name\n",
    "                WE can give name explicitlity using name parameter\n",
    "            Index\n",
    "                By Default we will get Int indexes starting from 0 to len-1\n",
    "                However we can pass indexed Explicitly using index parameter\n",
    "\n",
    "            If we are using list tuple or array no of values in these iterable should be equal to no of values in index parameter\n",
    "            If we are using scalar value int,str,bool,float it will create Series according to index and fill the scalar value\n",
    "            If we are using dictionary it will fill values according to the index parameter from the given dictionary"
   ]
  },
  {
   "cell_type": "code",
   "execution_count": null,
   "id": "68cf8631",
   "metadata": {},
   "outputs": [],
   "source": [
    "pd.Series(1.0,index=[100,20])"
   ]
  },
  {
   "cell_type": "code",
   "execution_count": null,
   "id": "b227baad",
   "metadata": {},
   "outputs": [],
   "source": [
    "pd.Series(('Aditya','Rishi','Vineet'),index=['A','R','V'],name='DA3').dtype"
   ]
  },
  {
   "cell_type": "code",
   "execution_count": null,
   "id": "cc780062",
   "metadata": {},
   "outputs": [],
   "source": [
    "population_dict = {\n",
    "    'California':38956785,\n",
    "    'Texas':26441568,\n",
    "    'New York':19555647,\n",
    "    'Florida':12364569,\n",
    "    'Illinois':12882135\n",
    "}\n",
    "\n",
    "population_dict"
   ]
  },
  {
   "cell_type": "code",
   "execution_count": null,
   "id": "f32a2225",
   "metadata": {},
   "outputs": [],
   "source": [
    "type(population_dict)"
   ]
  },
  {
   "cell_type": "code",
   "execution_count": null,
   "id": "922677c4",
   "metadata": {},
   "outputs": [],
   "source": [
    "population = pd.Series(population_dict)\n",
    "population"
   ]
  },
  {
   "cell_type": "code",
   "execution_count": null,
   "id": "b96a13c4",
   "metadata": {},
   "outputs": [],
   "source": [
    "population['California':'Florida']"
   ]
  },
  {
   "cell_type": "code",
   "execution_count": null,
   "id": "8990c38a",
   "metadata": {},
   "outputs": [],
   "source": [
    "population.ndim"
   ]
  },
  {
   "cell_type": "code",
   "execution_count": null,
   "id": "b60d385d",
   "metadata": {},
   "outputs": [],
   "source": [
    "population.shape"
   ]
  },
  {
   "cell_type": "code",
   "execution_count": null,
   "id": "76f5b4cd",
   "metadata": {},
   "outputs": [],
   "source": [
    "population.size"
   ]
  },
  {
   "cell_type": "code",
   "execution_count": null,
   "id": "c02148b1",
   "metadata": {},
   "outputs": [],
   "source": [
    "population.dtype"
   ]
  },
  {
   "cell_type": "code",
   "execution_count": null,
   "id": "147d7f3c",
   "metadata": {},
   "outputs": [],
   "source": [
    "population['California']"
   ]
  },
  {
   "cell_type": "code",
   "execution_count": null,
   "id": "b78d907e",
   "metadata": {},
   "outputs": [],
   "source": [
    "population.index"
   ]
  },
  {
   "cell_type": "code",
   "execution_count": null,
   "id": "d262441d",
   "metadata": {},
   "outputs": [],
   "source": [
    "population['California']"
   ]
  },
  {
   "cell_type": "code",
   "execution_count": null,
   "id": "9298cfae",
   "metadata": {},
   "outputs": [],
   "source": [
    "population[0]"
   ]
  },
  {
   "cell_type": "code",
   "execution_count": null,
   "id": "c265b3ec",
   "metadata": {},
   "outputs": [],
   "source": [
    "population"
   ]
  },
  {
   "cell_type": "code",
   "execution_count": null,
   "id": "f72b5d66",
   "metadata": {},
   "outputs": [],
   "source": [
    "population['California':'New York']"
   ]
  },
  {
   "cell_type": "code",
   "execution_count": null,
   "id": "ab3e1ef9",
   "metadata": {},
   "outputs": [],
   "source": [
    "lst=[2,4,6,8]\n"
   ]
  },
  {
   "cell_type": "code",
   "execution_count": null,
   "id": "bc32f7ce",
   "metadata": {},
   "outputs": [],
   "source": [
    "pd.Series([2,4,6,8])  # creating series with list\n",
    "\n",
    "\n",
    "# default index is created in pandas using numpy.arange(len(list))"
   ]
  },
  {
   "cell_type": "code",
   "execution_count": null,
   "id": "a71cb510",
   "metadata": {},
   "outputs": [],
   "source": [
    "pd.Series((1,2,3,4))       # creating series with tuple"
   ]
  },
  {
   "cell_type": "code",
   "execution_count": null,
   "id": "8cdc9413",
   "metadata": {},
   "outputs": [],
   "source": [
    "import numpy as np"
   ]
  },
  {
   "cell_type": "code",
   "execution_count": null,
   "id": "c9e77898",
   "metadata": {},
   "outputs": [],
   "source": [
    "x=np.array([9,10,11,12,13])\n",
    "pd.Series(x)                   # creating series with numpy array"
   ]
  },
  {
   "cell_type": "code",
   "execution_count": null,
   "id": "6f6f466f",
   "metadata": {
    "deletable": false,
    "editable": false
   },
   "outputs": [],
   "source": [
    "#create a series using numpy array in below cell take any random numbers"
   ]
  },
  {
   "cell_type": "code",
   "execution_count": null,
   "id": "845031da",
   "metadata": {
    "cellId": "q11",
    "deletable": false
   },
   "outputs": [],
   "source": [
    "#answer here"
   ]
  },
  {
   "cell_type": "code",
   "execution_count": null,
   "id": "5a0a0acb",
   "metadata": {},
   "outputs": [],
   "source": [
    "pd.Series( [2,4,6] , index=[100,200,'delhi'] )               # setting up the customized index to array"
   ]
  },
  {
   "cell_type": "code",
   "execution_count": null,
   "id": "09257d3a",
   "metadata": {},
   "outputs": [],
   "source": []
  },
  {
   "cell_type": "code",
   "execution_count": null,
   "id": "5eba7749",
   "metadata": {},
   "outputs": [],
   "source": [
    "pd.Series( 5 )                          # creating array for a scaler value"
   ]
  },
  {
   "cell_type": "code",
   "execution_count": null,
   "id": "7bd299f8",
   "metadata": {},
   "outputs": [],
   "source": [
    "pd.Series( 5, index=[100,200,300] )"
   ]
  },
  {
   "cell_type": "code",
   "execution_count": null,
   "id": "04927b47",
   "metadata": {},
   "outputs": [],
   "source": [
    "pd.Series( 5 , index=[100,200,300] )\n",
    "\n",
    "\n",
    "# it gives preferances to the index"
   ]
  },
  {
   "cell_type": "code",
   "execution_count": null,
   "id": "1dbb27d3",
   "metadata": {},
   "outputs": [],
   "source": [
    "pd.Series( {2:'a' ,  1:'b', 3:'c'} )"
   ]
  },
  {
   "cell_type": "code",
   "execution_count": null,
   "id": "7a7088b8",
   "metadata": {},
   "outputs": [],
   "source": [
    "pd.Series( {2:'a' ,  1:'b', 3:'c'}, index=[3,2,4,5] )\n",
    "# if key of the dictonary doesn't match with index then it will fill the series with NaN values"
   ]
  },
  {
   "cell_type": "markdown",
   "id": "93454700",
   "metadata": {},
   "source": [
    "# Type and Shape of the series\n",
    "To check the type of the Series use type() and to check the shape of the series use .shape."
   ]
  },
  {
   "cell_type": "code",
   "execution_count": null,
   "id": "0d5d7280",
   "metadata": {},
   "outputs": [],
   "source": [
    "population"
   ]
  },
  {
   "cell_type": "code",
   "execution_count": null,
   "id": "87aaf336",
   "metadata": {},
   "outputs": [],
   "source": [
    "type(population)"
   ]
  },
  {
   "cell_type": "code",
   "execution_count": null,
   "id": "8d38ec05",
   "metadata": {},
   "outputs": [],
   "source": [
    "population.shape # Series"
   ]
  },
  {
   "cell_type": "markdown",
   "id": "01134de0",
   "metadata": {},
   "source": [
    "# Data Frame\n",
    "Creating Pandas DataFrame\n",
    "A pandas DataFrame can be created using pandas Series, dictionary, list, tuple and numpy array.\n",
    "\n",
    "To create pandas DataFrame use pd.DataFrame()"
   ]
  },
  {
   "cell_type": "markdown",
   "id": "1999e624",
   "metadata": {},
   "source": [
    "    pd.DataFrame(<data>)"
   ]
  },
  {
   "cell_type": "code",
   "execution_count": null,
   "id": "683fe9f4",
   "metadata": {},
   "outputs": [],
   "source": [
    "pd.DataFrame(pd.Series([i for i in range(1,20,2)],name='Odd_numbers'))"
   ]
  },
  {
   "cell_type": "code",
   "execution_count": null,
   "id": "41273cd6",
   "metadata": {},
   "outputs": [],
   "source": [
    "population_dict = {\n",
    "    'California':38956785,\n",
    "    'Texas':26441568,\n",
    "    'New York':19555647,\n",
    "    'Florida':12364569,\n",
    "    'Illinois':12882135\n",
    "}"
   ]
  },
  {
   "cell_type": "code",
   "execution_count": null,
   "id": "061b60f2",
   "metadata": {},
   "outputs": [],
   "source": [
    "popupation_series=pd.Series(population_dict)"
   ]
  },
  {
   "cell_type": "code",
   "execution_count": null,
   "id": "f9d51a4a",
   "metadata": {},
   "outputs": [],
   "source": [
    "pd.DataFrame(popupation_series)"
   ]
  },
  {
   "cell_type": "code",
   "execution_count": null,
   "id": "d68b55f0",
   "metadata": {},
   "outputs": [],
   "source": [
    "population_dict = {\n",
    "    'California':38956785,\n",
    "    'Texas':26441568,\n",
    "    'New York':19555647,\n",
    "    'Florida':12364569,\n",
    "    'Illinois':12882135\n",
    "}\n",
    "\n",
    "population=pd.Series(population_dict)\n",
    "df = pd.DataFrame(population,columns=['population'])\n",
    "df"
   ]
  },
  {
   "cell_type": "code",
   "execution_count": null,
   "id": "c8750b2e",
   "metadata": {},
   "outputs": [],
   "source": [
    "df.shape"
   ]
  },
  {
   "cell_type": "code",
   "execution_count": null,
   "id": "c5a631bd",
   "metadata": {},
   "outputs": [],
   "source": [
    "df.size"
   ]
  },
  {
   "cell_type": "code",
   "execution_count": null,
   "id": "d61af71d",
   "metadata": {},
   "outputs": [],
   "source": [
    "df.ndim"
   ]
  },
  {
   "cell_type": "code",
   "execution_count": null,
   "id": "50ed066d",
   "metadata": {
    "deletable": false,
    "editable": false
   },
   "outputs": [],
   "source": [
    "#create a datafram for this in the below cell\n",
    "city_networth = {\n",
    "    'California':126789,\n",
    "    'Texas':939393,\n",
    "    'New York':348030340,\n",
    "    'Florida':4384320,\n",
    "    'Illinois':98540340\n",
    "}"
   ]
  },
  {
   "cell_type": "code",
   "execution_count": null,
   "id": "3ed8fa47",
   "metadata": {
    "cellId": "w11",
    "deletable": false
   },
   "outputs": [],
   "source": [
    "#answer here"
   ]
  },
  {
   "cell_type": "code",
   "execution_count": null,
   "id": "6558ab38",
   "metadata": {},
   "outputs": [],
   "source": [
    "df.shape # DataFrame shape will give you the information similar to 2D numpy array with rows and columns"
   ]
  },
  {
   "cell_type": "code",
   "execution_count": null,
   "id": "bdf37973",
   "metadata": {},
   "outputs": [],
   "source": [
    "df = pd.DataFrame(population, columns=['Population'])  # changing the name of the column while creating the DataFrame\n",
    "df"
   ]
  },
  {
   "cell_type": "code",
   "execution_count": null,
   "id": "d97859b0",
   "metadata": {},
   "outputs": [],
   "source": [
    "lst=[\n",
    "    [1,2,3],\n",
    "    ['a','b','c'],\n",
    "    [True,False]\n",
    "]"
   ]
  },
  {
   "cell_type": "code",
   "execution_count": null,
   "id": "057bb355",
   "metadata": {},
   "outputs": [],
   "source": [
    "[1,2,3]"
   ]
  },
  {
   "cell_type": "code",
   "execution_count": null,
   "id": "4ac86446",
   "metadata": {},
   "outputs": [],
   "source": [
    "['a','b','c']"
   ]
  },
  {
   "cell_type": "code",
   "execution_count": null,
   "id": "37f877f2",
   "metadata": {},
   "outputs": [],
   "source": [
    "pd.DataFrame(lst)"
   ]
  },
  {
   "cell_type": "code",
   "execution_count": null,
   "id": "99b98896",
   "metadata": {},
   "outputs": [],
   "source": [
    "# Creating the pandas DataFrame with list of the dictionries\n",
    "data = [ {'a':i, 'b':i} for i in range(1,4) ]\n",
    "data"
   ]
  },
  {
   "cell_type": "code",
   "execution_count": null,
   "id": "28e5accd",
   "metadata": {},
   "outputs": [],
   "source": [
    "df = pd.DataFrame(data)\n",
    "df"
   ]
  },
  {
   "cell_type": "code",
   "execution_count": null,
   "id": "8b83a02b",
   "metadata": {},
   "outputs": [],
   "source": [
    "data=[{'a': 80, 'b': 1}, {'a': 90, 'b': 2}, {'a': 95, 'b': 3}]"
   ]
  },
  {
   "cell_type": "code",
   "execution_count": null,
   "id": "e000a52d",
   "metadata": {},
   "outputs": [],
   "source": [
    "data=[\n",
    "    [80,1],\n",
    "    [90,2],\n",
    "    [95,3]\n",
    "]"
   ]
  },
  {
   "cell_type": "code",
   "execution_count": null,
   "id": "632d8ac6",
   "metadata": {},
   "outputs": [],
   "source": [
    "# a customized index can be setup for a smaller DataFrame\n",
    "df = pd.DataFrame(data, index=['Aditya','Vijay','Vineet'])\n",
    "df"
   ]
  },
  {
   "cell_type": "code",
   "execution_count": null,
   "id": "c269522c",
   "metadata": {},
   "outputs": [],
   "source": [
    "df.index"
   ]
  },
  {
   "cell_type": "code",
   "execution_count": null,
   "id": "e7e550dc",
   "metadata": {},
   "outputs": [],
   "source": [
    "df.columns"
   ]
  },
  {
   "cell_type": "code",
   "execution_count": null,
   "id": "2805515d",
   "metadata": {},
   "outputs": [],
   "source": [
    "# to check the name of the columns use df.columns\n",
    "df.columns"
   ]
  },
  {
   "cell_type": "code",
   "execution_count": null,
   "id": "f18e5daf",
   "metadata": {},
   "outputs": [],
   "source": [
    "df.columns[0]"
   ]
  },
  {
   "cell_type": "code",
   "execution_count": null,
   "id": "d9fd0241",
   "metadata": {},
   "outputs": [],
   "source": [
    "# to change the names of the columns use 'df.columns=list of the new column names'\n",
    "df.columns=['Excel','Rank']\n",
    "df"
   ]
  },
  {
   "cell_type": "code",
   "execution_count": null,
   "id": "6ef34dff",
   "metadata": {},
   "outputs": [],
   "source": [
    "# to cange the index of the DataFrame use after creating the DataFrame use 'df.index=list of the new index values'\n",
    "df.index=['i','ii','iii']\n",
    "df"
   ]
  },
  {
   "cell_type": "code",
   "execution_count": null,
   "id": "d5f332d0",
   "metadata": {},
   "outputs": [],
   "source": [
    "df.columns=['column1','column2']\n",
    "df"
   ]
  },
  {
   "cell_type": "code",
   "execution_count": null,
   "id": "86591116",
   "metadata": {},
   "outputs": [],
   "source": [
    "print(df.columns)"
   ]
  },
  {
   "cell_type": "code",
   "execution_count": null,
   "id": "bf313dbe",
   "metadata": {},
   "outputs": [],
   "source": [
    "print(df.columns[0])  # to get name of the column according to index position use df.column[index of the column]"
   ]
  },
  {
   "cell_type": "code",
   "execution_count": null,
   "id": "a382a162",
   "metadata": {},
   "outputs": [],
   "source": [
    "print(list(df.columns))     # to get the list of the column names "
   ]
  },
  {
   "cell_type": "code",
   "execution_count": null,
   "id": "af8368d2",
   "metadata": {},
   "outputs": [],
   "source": [
    "df.index   # to check the index values"
   ]
  },
  {
   "cell_type": "code",
   "execution_count": null,
   "id": "53391b19",
   "metadata": {},
   "outputs": [],
   "source": [
    "print(list(df.index))    # to get the list of the index values"
   ]
  },
  {
   "cell_type": "code",
   "execution_count": null,
   "id": "afe30fc8",
   "metadata": {},
   "outputs": [],
   "source": [
    "df"
   ]
  },
  {
   "cell_type": "code",
   "execution_count": null,
   "id": "b23ed3ea",
   "metadata": {},
   "outputs": [],
   "source": [
    "# if a DataFrame is created using the dictionary and the keys are not matched in two dictionaries then it will be filled with NaN values\n",
    "\n",
    "pd.DataFrame( [ {'a':1,'b':2} , {'b':3,'c':4} ] )  "
   ]
  },
  {
   "cell_type": "code",
   "execution_count": null,
   "id": "2b45bb61",
   "metadata": {},
   "outputs": [],
   "source": [
    "# To create a DataFrame with numpy array\n",
    "import numpy as np\n",
    "pd.DataFrame(np.random.rand(3,2), columns=['Class1','Class2'], index=['a','b','c'])"
   ]
  },
  {
   "cell_type": "code",
   "execution_count": null,
   "id": "ed5eb5c0",
   "metadata": {},
   "outputs": [],
   "source": [
    "pd.DataFrame(np.random.rand(3,2))"
   ]
  },
  {
   "cell_type": "code",
   "execution_count": null,
   "id": "a73d8624",
   "metadata": {},
   "outputs": [],
   "source": [
    "# List of Dictionaries\n",
    "\n",
    "d = [ \n",
    "          {'city':'Delhi','data':1000}, \n",
    "          {'city':'Mumbai','data':2000}, \n",
    "          {'city':'Bangalore','data':1500} \n",
    "     ]\n",
    "pd.DataFrame(d,index=[1,2,3])"
   ]
  },
  {
   "cell_type": "markdown",
   "id": "81a868b2",
   "metadata": {},
   "source": [
    "# Importing Data to create DataFrame\n",
    "To create pandas DataFrame, a data can be imported from csv,excel files. Also, data can be imported from RDBMS such as MySql.\n",
    "\n",
    "To create DataFrame from csv file use following syntax:\n",
    "\n",
    "pandas.read_csv(filepath_or_buffer, names=_NoDefault.no_default, index_col=None, squeeze=None, skipinitialspace=False, skiprows=None, skipfooter=0, na_values=None)\n",
    "\n",
    "Not all parameters are mentioned in the syntax. If we have properly arranged and cleaned data just use :\n",
    "\n",
    "pandas.read_csv(file_path)"
   ]
  },
  {
   "cell_type": "code",
   "execution_count": null,
   "id": "13e1debf",
   "metadata": {},
   "outputs": [],
   "source": [
    "# csv files\n",
    "import pandas as pd\n",
    "path='https://raw.githubusercontent.com/ubaid-shah/datasets/main/student_records.csv'\n",
    "df = pd.read_csv(path)\n",
    "df"
   ]
  },
  {
   "cell_type": "code",
   "execution_count": null,
   "id": "e0dacf05",
   "metadata": {},
   "outputs": [],
   "source": [
    "import pandas as pd\n",
    "df=pd.read_csv(r'A:\\OneDrive\\work\\acciojob\\python\\accio\\bigmart_data.csv') # absolute path\n",
    "pd.read_csv('bigmart_data.csv') # relative path"
   ]
  },
  {
   "cell_type": "markdown",
   "id": "f25664f5",
   "metadata": {},
   "source": [
    "# Data Exploration\n",
    "Data exploration will help finding the information about the data. In pandas it can be done using diiferent ways.\n",
    "\n",
    "Viewing/Inspecting Data\n",
    "Use these commands to take a look at specific sections of your pandas DataFrame or Series.\n",
    "\n",
    "df.head(n) | First n rows of the DataFrame\n",
    "\n",
    "By default, it returns the first 5 rows of the Dataframe.\n",
    "\n",
    "df.tail(n)| Last n rows of the DataFrame\n",
    "\n",
    "By default, it returns the last 5 rows of the Dataframe.\n",
    "\n",
    "df.shape| Number of rows and columns\n",
    "\n",
    "df.size | Number of elements in this object.\n",
    "\n",
    "Return the number of rows if Series, otherwise returns the number of rows times the number of columns if DataFrame.\n",
    "\n",
    "df.info()| Index, Datatype and Memory information\n",
    "\n",
    "df.describe()| Summary statistics for numerical columns\n",
    "\n",
    "df.value_counts(dropna=False) | View unique values and counts\n",
    "\n",
    "df.apply(pd.Series.value_counts) | Unique values and counts for all columns\n",
    "\n",
    "df.ndim| Returns dimension of dataframe/series.\n",
    "\n",
    "1 for one dimension (series), 2 for two dimensions (dataframe).\n",
    "\n",
    "df.sample( ) | generate a sample randomly either row or column.\n",
    "\n",
    "It allows you to select values randomly from a Series or DataFrame. It is useful when we want to select a random sample from a distribution.\n",
    "\n",
    "df.isna( ) or df.isnull() | This function returns a dataframe filled with boolean values with true indicating missing values.\n",
    "\n",
    "df.isnull( ).sum( ) | Return the number of missing values in each column.\n",
    "\n",
    "df.dropna( ) | remove a row or a column from a dataframe that has a NaN or missing values in it.\n",
    "\n"
   ]
  },
  {
   "cell_type": "markdown",
   "id": "b6150874",
   "metadata": {},
   "source": [
    "# Basic Data Exploration"
   ]
  },
  {
   "cell_type": "code",
   "execution_count": null,
   "metadata": {},
   "outputs": [],
   "source": [
    "df"
   ]
  },
  {
   "cell_type": "code",
   "execution_count": null,
   "id": "493e2df0",
   "metadata": {},
   "outputs": [],
   "source": [
    "df.head() # 5 rows"
   ]
  },
  {
   "cell_type": "code",
   "execution_count": null,
   "id": "24207a03",
   "metadata": {},
   "outputs": [],
   "source": [
    "df.head(3)"
   ]
  },
  {
   "cell_type": "code",
   "execution_count": null,
   "id": "a659096e",
   "metadata": {},
   "outputs": [],
   "source": [
    "df.head(1)"
   ]
  },
  {
   "cell_type": "code",
   "execution_count": null,
   "id": "e933c3ff",
   "metadata": {},
   "outputs": [],
   "source": [
    "df.tail() # last 5 rows"
   ]
  },
  {
   "cell_type": "code",
   "execution_count": null,
   "id": "6ba5df8e",
   "metadata": {},
   "outputs": [],
   "source": [
    "df.tail(2)"
   ]
  },
  {
   "cell_type": "code",
   "execution_count": null,
   "id": "b17bb127",
   "metadata": {},
   "outputs": [],
   "source": [
    "df"
   ]
  },
  {
   "cell_type": "code",
   "execution_count": null,
   "metadata": {},
   "outputs": [],
   "source": [
    "len(df.columns)"
   ]
  },
  {
   "cell_type": "code",
   "execution_count": null,
   "metadata": {},
   "outputs": [],
   "source": [
    "df.shape"
   ]
  },
  {
   "cell_type": "code",
   "execution_count": null,
   "metadata": {},
   "outputs": [],
   "source": [
    "df['ProjectScore']"
   ]
  },
  {
   "cell_type": "code",
   "execution_count": null,
   "metadata": {},
   "outputs": [],
   "source": [
    "df.ProjectScore"
   ]
  },
  {
   "cell_type": "code",
   "execution_count": null,
   "id": "254ecc26",
   "metadata": {},
   "outputs": [],
   "source": [
    "ser = df.ProjectScore  # create a series from one column from the dataset\n",
    "print(ser)\n",
    "print(type(ser))\n",
    "print(ser.shape)"
   ]
  },
  {
   "cell_type": "code",
   "execution_count": null,
   "id": "a8c50ca1",
   "metadata": {},
   "outputs": [],
   "source": [
    "df['ProjectScore']               # create a series from one column from the dataset"
   ]
  },
  {
   "cell_type": "code",
   "execution_count": null,
   "id": "53a4046f",
   "metadata": {},
   "outputs": [],
   "source": [
    "df.ProjectScore"
   ]
  },
  {
   "cell_type": "code",
   "execution_count": null,
   "id": "5a532f30",
   "metadata": {},
   "outputs": [],
   "source": [
    "df.shape   # no of rows and columns of the DataFrame"
   ]
  },
  {
   "cell_type": "code",
   "execution_count": null,
   "id": "405f802f",
   "metadata": {},
   "outputs": [],
   "source": [
    "df.ndim    # Returns dimension of dataframe/series. 1 for one dimension (series), 2 for two dimensions (dataframe).\n"
   ]
  },
  {
   "cell_type": "code",
   "execution_count": null,
   "id": "c4b25c3f",
   "metadata": {},
   "outputs": [],
   "source": [
    "df.sample()                  # generate a sample randomly either row or column. "
   ]
  },
  {
   "cell_type": "code",
   "execution_count": null,
   "id": "44e5d35f",
   "metadata": {},
   "outputs": [],
   "source": [
    "df.sample(3)                  # generate a number of samples randomly either row or column. "
   ]
  },
  {
   "cell_type": "code",
   "execution_count": null,
   "id": "7d95eedc",
   "metadata": {},
   "outputs": [],
   "source": [
    "df.columns         # columns of the DataFrame"
   ]
  },
  {
   "cell_type": "code",
   "execution_count": null,
   "id": "d5665097",
   "metadata": {},
   "outputs": [],
   "source": [
    "list(df.columns)        # create a list of the column names"
   ]
  },
  {
   "cell_type": "code",
   "execution_count": null,
   "id": "4d28ca23",
   "metadata": {},
   "outputs": [],
   "source": [
    "df.info()                       # Index, Datatype and Memory information"
   ]
  },
  {
   "cell_type": "markdown",
   "id": "8cefdb10",
   "metadata": {},
   "source": [
    "# Statistical Summary of Pandas DataFrame"
   ]
  },
  {
   "cell_type": "code",
   "execution_count": null,
   "id": "110fd906",
   "metadata": {},
   "outputs": [],
   "source": [
    "# Summary of the numeric columns\n",
    "df.describe()"
   ]
  },
  {
   "cell_type": "markdown",
   "id": "74a4c582",
   "metadata": {},
   "source": [
    "The above DataFrame show information as total number of records in the specific columns in count. The values of mean ,min max and standard deviation (std) are shown. Also quantile values of the data is also given as 25%,50% and 75%. Here 50% is median value."
   ]
  },
  {
   "cell_type": "code",
   "execution_count": null,
   "id": "c4bb816d",
   "metadata": {},
   "outputs": [],
   "source": [
    "df.describe().T   # transpose the describe DataFrame"
   ]
  },
  {
   "cell_type": "code",
   "execution_count": null,
   "id": "5c1c833c",
   "metadata": {},
   "outputs": [],
   "source": [
    "df['ResearchScore'].describe()          # to get statistical information for specific column"
   ]
  },
  {
   "cell_type": "code",
   "execution_count": null,
   "id": "3f35b493",
   "metadata": {},
   "outputs": [],
   "source": [
    "df['ResearchScore'].quantile(0.5)   # to get specific quantile values  50% quantile is median of the data"
   ]
  },
  {
   "cell_type": "code",
   "execution_count": null,
   "id": "48497d19",
   "metadata": {},
   "outputs": [],
   "source": [
    "df['ResearchScore'].quantile(0.25)"
   ]
  },
  {
   "cell_type": "code",
   "execution_count": null,
   "id": "5a9ab2dc",
   "metadata": {},
   "outputs": [],
   "source": [
    "round(df[['ResearchScore','ProjectScore']].quantile(0.75),2)   # rount off the 75% value to 2 decimal points"
   ]
  },
  {
   "cell_type": "code",
   "execution_count": null,
   "id": "21793dee",
   "metadata": {},
   "outputs": [],
   "source": [
    "round(df[['ResearchScore','ProjectScore']].describe(),2)\n"
   ]
  },
  {
   "cell_type": "code",
   "execution_count": null,
   "id": "203888fd",
   "metadata": {},
   "outputs": [],
   "source": [
    "round(df[['ResearchScore','ProjectScore']].std(),2)"
   ]
  },
  {
   "cell_type": "code",
   "execution_count": null,
   "id": "8514bbd7",
   "metadata": {},
   "outputs": [],
   "source": [
    "df.describe()"
   ]
  },
  {
   "cell_type": "code",
   "execution_count": null,
   "id": "c3814262",
   "metadata": {},
   "outputs": [],
   "source": [
    "round(df.describe(),2)   # to round off the total DataFrame values to 2 decimal points"
   ]
  },
  {
   "cell_type": "code",
   "execution_count": null,
   "id": "bab51349",
   "metadata": {},
   "outputs": [],
   "source": [
    "df['ResearchScore'].mean()"
   ]
  },
  {
   "cell_type": "code",
   "execution_count": null,
   "id": "df8698d2",
   "metadata": {},
   "outputs": [],
   "source": [
    "df['ResearchScore'].count()"
   ]
  },
  {
   "cell_type": "code",
   "execution_count": null,
   "id": "712bbc9a",
   "metadata": {},
   "outputs": [],
   "source": [
    "# to get the names of the Numeric columns\n",
    "df.describe().columns"
   ]
  },
  {
   "cell_type": "code",
   "execution_count": null,
   "metadata": {},
   "outputs": [],
   "source": [
    "df.info()"
   ]
  },
  {
   "cell_type": "code",
   "execution_count": null,
   "id": "3ad55816",
   "metadata": {},
   "outputs": [],
   "source": [
    "# df.drop(coulumns,axis=1) will delete the columns from the DataFrame\n",
    "x = df.drop('Name',axis=1) \n",
    "x"
   ]
  },
  {
   "cell_type": "code",
   "execution_count": null,
   "id": "a28a563d",
   "metadata": {},
   "outputs": [],
   "source": [
    "set(x.columns)       # to create the set of the columns"
   ]
  },
  {
   "cell_type": "code",
   "execution_count": null,
   "metadata": {},
   "outputs": [],
   "source": [
    "df.describe()"
   ]
  },
  {
   "cell_type": "code",
   "execution_count": null,
   "id": "9bb338e3",
   "metadata": {},
   "outputs": [],
   "source": [
    "set(x.describe().columns)"
   ]
  },
  {
   "cell_type": "code",
   "execution_count": null,
   "id": "08268d42",
   "metadata": {},
   "outputs": [],
   "source": [
    "set(x.columns)-set(x.describe().columns)     # to get the names of the categorical columns"
   ]
  },
  {
   "cell_type": "code",
   "execution_count": null,
   "id": "1f0b401e",
   "metadata": {},
   "outputs": [],
   "source": [
    "cat_col = list(set(x.columns) - set(x.describe().columns))\n",
    "cat_col"
   ]
  },
  {
   "cell_type": "code",
   "execution_count": null,
   "id": "b515539e",
   "metadata": {},
   "outputs": [],
   "source": [
    "x[cat_col] # call only the specific data according to the column name"
   ]
  },
  {
   "cell_type": "code",
   "execution_count": null,
   "id": "7a24749f",
   "metadata": {},
   "outputs": [],
   "source": [
    "df[cat_col].describe()   # stastical info of the categorical columns"
   ]
  },
  {
   "cell_type": "code",
   "execution_count": null,
   "id": "a7a56448",
   "metadata": {},
   "outputs": [],
   "source": [
    "x.describe(include='object')     # to get the stastical info of the categorical column "
   ]
  },
  {
   "cell_type": "code",
   "execution_count": null,
   "id": "4178cc4d",
   "metadata": {},
   "outputs": [],
   "source": [
    "x.describe(include='all')       # to get the stastical info of the numerical as well as categorical columns"
   ]
  },
  {
   "cell_type": "markdown",
   "id": "777c7029",
   "metadata": {},
   "source": [
    "# Value counts"
   ]
  },
  {
   "cell_type": "code",
   "execution_count": null,
   "id": "490ae29e",
   "metadata": {},
   "outputs": [],
   "source": [
    "df['Recommend'].value_counts()    # View unique values and counts"
   ]
  },
  {
   "cell_type": "code",
   "execution_count": null,
   "id": "87aeccf4",
   "metadata": {},
   "outputs": [],
   "source": [
    "df['Recommend'].value_counts(normalize=True)  # View unique values and counts in fraction between 0 to 1."
   ]
  },
  {
   "cell_type": "code",
   "execution_count": null,
   "id": "48efaf4e",
   "metadata": {},
   "outputs": [],
   "source": [
    "df['Recommend'].value_counts(normalize=True) *100 # View unique values and counts in percentage"
   ]
  },
  {
   "cell_type": "code",
   "execution_count": null,
   "id": "4032a5ee",
   "metadata": {},
   "outputs": [],
   "source": [
    "df[\"OverallGrade\"].value_counts() "
   ]
  },
  {
   "cell_type": "markdown",
   "id": "08f3e60f",
   "metadata": {},
   "source": [
    "The above value_counts will not include the NaN values. To consider the NaN values use `.value_counts(dropna=False)`"
   ]
  },
  {
   "cell_type": "code",
   "execution_count": null,
   "id": "9cfe7c39",
   "metadata": {},
   "outputs": [],
   "source": [
    "df[\"OverallGrade\"].value_counts(dropna=False) "
   ]
  },
  {
   "cell_type": "code",
   "execution_count": null,
   "id": "6f527323",
   "metadata": {},
   "outputs": [],
   "source": [
    "df[\"OverallGrade\"].value_counts(dropna=False,normalize=True) "
   ]
  },
  {
   "cell_type": "code",
   "execution_count": null,
   "id": "06c487f9",
   "metadata": {},
   "outputs": [],
   "source": [
    "df[\"OverallGrade\"].value_counts(dropna=False,normalize=True) *100"
   ]
  },
  {
   "cell_type": "code",
   "execution_count": null,
   "metadata": {},
   "outputs": [],
   "source": [
    "df.value_counts(dropna=False)"
   ]
  },
  {
   "cell_type": "code",
   "execution_count": null,
   "id": "e2ee917b",
   "metadata": {},
   "outputs": [],
   "source": [
    "df.apply(pd.Series.value_counts) # Unique values and counts for all columns"
   ]
  },
  {
   "cell_type": "markdown",
   "id": "951451f4",
   "metadata": {},
   "source": [
    "# Dealing with Null Values"
   ]
  },
  {
   "cell_type": "markdown",
   "id": "0246a02a",
   "metadata": {},
   "source": [
    "Checking the null values in the DataFrame"
   ]
  },
  {
   "cell_type": "code",
   "execution_count": null,
   "id": "48d6d629",
   "metadata": {},
   "outputs": [],
   "source": [
    "df.isna( ) # This function returns a dataframe filled with boolean values with true indicating missing values."
   ]
  },
  {
   "cell_type": "code",
   "execution_count": null,
   "id": "d7103cbb",
   "metadata": {},
   "outputs": [],
   "source": [
    "df.isnull()"
   ]
  },
  {
   "cell_type": "code",
   "execution_count": null,
   "id": "dd4dfbe2",
   "metadata": {},
   "outputs": [],
   "source": [
    "df.isnull().sum() # Return the number of missing values in each column."
   ]
  },
  {
   "cell_type": "code",
   "execution_count": null,
   "metadata": {},
   "outputs": [],
   "source": [
    "df.shape"
   ]
  },
  {
   "cell_type": "code",
   "execution_count": null,
   "id": "0af5fcd7",
   "metadata": {},
   "outputs": [],
   "source": [
    "df.shape[0]"
   ]
  },
  {
   "cell_type": "code",
   "execution_count": null,
   "id": "56b910bf",
   "metadata": {},
   "outputs": [],
   "source": [
    "df.isnull().sum() *100/df.shape[0] # Return the number of missing values in each column in percentage."
   ]
  },
  {
   "cell_type": "markdown",
   "id": "1ba1aedf",
   "metadata": {},
   "source": [
    "Handeling The Null Values\n",
    "In order to deal with NaN or Null values there are multiple ways according to the projects or data as follows.\n",
    "\n",
    "    Drop all null values\n",
    "    Fill Null values"
   ]
  },
  {
   "cell_type": "code",
   "execution_count": null,
   "metadata": {},
   "outputs": [],
   "source": [
    "s=pd.Series()\n",
    "s"
   ]
  },
  {
   "cell_type": "code",
   "execution_count": null,
   "metadata": {},
   "outputs": [],
   "source": [
    "df['s']=s"
   ]
  },
  {
   "cell_type": "code",
   "execution_count": null,
   "id": "b2f3b16f",
   "metadata": {},
   "outputs": [],
   "source": [
    "x=df.dropna(axis=0) # remove a row from a dataframe that has a NaN or missing values in it.\n",
    "x"
   ]
  },
  {
   "cell_type": "code",
   "execution_count": null,
   "id": "8a9d8e84",
   "metadata": {},
   "outputs": [],
   "source": [
    "x=df.dropna(axis=1) # remove a column from a dataframe that has a NaN or missing values in it.\n",
    "x"
   ]
  },
  {
   "cell_type": "code",
   "execution_count": null,
   "id": "5a7beb13",
   "metadata": {},
   "outputs": [],
   "source": [
    "x=df.dropna(how='any')        # ‘any’ : If any NA values are present, drop that row or column.\n",
    "    \n",
    "x"
   ]
  },
  {
   "cell_type": "code",
   "execution_count": null,
   "metadata": {},
   "outputs": [],
   "source": [
    "df"
   ]
  },
  {
   "cell_type": "code",
   "execution_count": null,
   "metadata": {},
   "outputs": [],
   "source": [
    "dfna=pd.read_csv('../data/na.csv')\n",
    "dfna"
   ]
  },
  {
   "cell_type": "code",
   "execution_count": null,
   "id": "37b9c1e5",
   "metadata": {},
   "outputs": [],
   "source": [
    "x=df.dropna(how='all') # ‘all’ : If all values are NA, drop that row or column.\n",
    "x"
   ]
  },
  {
   "cell_type": "code",
   "execution_count": null,
   "metadata": {},
   "outputs": [],
   "source": [
    "df"
   ]
  },
  {
   "cell_type": "code",
   "execution_count": null,
   "metadata": {},
   "outputs": [],
   "source": [
    "x=df\n",
    "x"
   ]
  },
  {
   "cell_type": "code",
   "execution_count": null,
   "id": "390e2fd2",
   "metadata": {},
   "outputs": [],
   "source": [
    "x.dropna(inplace=True) # Whether to modify the DataFrame rather than creating a new one.\n",
    "x"
   ]
  },
  {
   "cell_type": "markdown",
   "id": "e71a2b2a",
   "metadata": {},
   "source": [
    "# Fill Null values :\n",
    "Filling null values with two methods\n",
    "\n",
    "i. .fillna()\n",
    "\n",
    "ii. .interpolate()"
   ]
  },
  {
   "cell_type": "code",
   "execution_count": null,
   "metadata": {},
   "outputs": [],
   "source": [
    "path='https://raw.githubusercontent.com/ubaid-shah/datasets/main/student_records.csv'\n",
    "df = pd.read_csv(path)\n",
    "df"
   ]
  },
  {
   "cell_type": "code",
   "execution_count": null,
   "metadata": {},
   "outputs": [],
   "source": [
    "df['OverallGrade'].fillna('A')"
   ]
  },
  {
   "cell_type": "code",
   "execution_count": null,
   "id": "cce07ab1",
   "metadata": {},
   "outputs": [],
   "source": [
    "x=df.fillna('India')\n",
    "x"
   ]
  },
  {
   "cell_type": "code",
   "execution_count": null,
   "metadata": {},
   "outputs": [],
   "source": [
    "df"
   ]
  },
  {
   "cell_type": "code",
   "execution_count": null,
   "metadata": {},
   "outputs": [],
   "source": [
    "df['ProjectScore'].fillna(x['ProjectScore'].mean())"
   ]
  },
  {
   "cell_type": "code",
   "execution_count": null,
   "id": "326a7bf9",
   "metadata": {},
   "outputs": [],
   "source": [
    "x['ProjectScore'].mean()"
   ]
  },
  {
   "cell_type": "code",
   "execution_count": null,
   "metadata": {},
   "outputs": [],
   "source": [
    "df"
   ]
  },
  {
   "cell_type": "code",
   "execution_count": null,
   "id": "e475d33b",
   "metadata": {},
   "outputs": [],
   "source": [
    "x.fillna(method='bfill'),x.fillna(method='ffill')"
   ]
  },
  {
   "cell_type": "code",
   "execution_count": null,
   "id": "a66aa445",
   "metadata": {},
   "outputs": [],
   "source": [
    "x.fillna(method='bfill', axis=0)"
   ]
  },
  {
   "cell_type": "code",
   "execution_count": null,
   "id": "c89ab75c",
   "metadata": {},
   "outputs": [],
   "source": [
    "x.fillna(method='ffill')"
   ]
  },
  {
   "cell_type": "code",
   "execution_count": null,
   "id": "abdd4747",
   "metadata": {},
   "outputs": [],
   "source": [
    "x.fillna(method='ffill', axis=1)"
   ]
  },
  {
   "cell_type": "code",
   "execution_count": null,
   "id": "22890386",
   "metadata": {},
   "outputs": [],
   "source": [
    "df['Recommend'].unique()   # to find the unique values in the particular column"
   ]
  },
  {
   "cell_type": "code",
   "execution_count": null,
   "id": "cd9e44d6",
   "metadata": {},
   "outputs": [],
   "source": [
    "df['OverallGrade'].unique()"
   ]
  },
  {
   "cell_type": "code",
   "execution_count": null,
   "id": "2569f1ea",
   "metadata": {},
   "outputs": [],
   "source": [
    "df['Recommend']=df['Recommend'].replace(\"NO\",\"No\")    # to replace the value in the particular column"
   ]
  },
  {
   "cell_type": "code",
   "execution_count": null,
   "id": "8f6e2e37",
   "metadata": {},
   "outputs": [],
   "source": [
    "df['Recommend'].unique()"
   ]
  },
  {
   "cell_type": "code",
   "execution_count": null,
   "metadata": {},
   "outputs": [],
   "source": [
    "df"
   ]
  },
  {
   "cell_type": "code",
   "execution_count": null,
   "id": "02b94abc",
   "metadata": {},
   "outputs": [],
   "source": [
    "df['ResearchScore'].sum()"
   ]
  },
  {
   "cell_type": "code",
   "execution_count": null,
   "id": "1730c282",
   "metadata": {},
   "outputs": [],
   "source": [
    "col_num = df.describe().columns\n",
    "x = df[col_num]\n",
    "x"
   ]
  },
  {
   "cell_type": "code",
   "execution_count": null,
   "id": "23ece97f",
   "metadata": {},
   "outputs": [],
   "source": [
    "x.sum()"
   ]
  },
  {
   "cell_type": "code",
   "execution_count": null,
   "id": "567c4b43",
   "metadata": {},
   "outputs": [],
   "source": [
    "x.sum(axis=0)"
   ]
  },
  {
   "cell_type": "code",
   "execution_count": null,
   "id": "bedd6a34",
   "metadata": {},
   "outputs": [],
   "source": [
    "x.sum(axis=1)"
   ]
  },
  {
   "cell_type": "code",
   "execution_count": null,
   "id": "f9a98d16",
   "metadata": {},
   "outputs": [],
   "source": [
    "x.mean(axis=0)"
   ]
  },
  {
   "cell_type": "code",
   "execution_count": null,
   "id": "f2bd3f4f",
   "metadata": {},
   "outputs": [],
   "source": [
    "x.mean(axis=1)"
   ]
  },
  {
   "cell_type": "code",
   "execution_count": null,
   "id": "948cda4e",
   "metadata": {},
   "outputs": [],
   "source": [
    "x.count(axis=0)"
   ]
  },
  {
   "cell_type": "code",
   "execution_count": null,
   "id": "fb833cdb",
   "metadata": {},
   "outputs": [],
   "source": [
    "x.count(axis=1)"
   ]
  },
  {
   "cell_type": "code",
   "execution_count": null,
   "id": "c300fe2e",
   "metadata": {},
   "outputs": [],
   "source": [
    "x.min(axis=0)"
   ]
  },
  {
   "cell_type": "code",
   "execution_count": null,
   "id": "363edd69",
   "metadata": {},
   "outputs": [],
   "source": [
    "x.min(axis=1)"
   ]
  },
  {
   "cell_type": "code",
   "execution_count": null,
   "id": "6426d7ac",
   "metadata": {},
   "outputs": [],
   "source": [
    "x.max(axis=0)"
   ]
  },
  {
   "cell_type": "code",
   "execution_count": null,
   "id": "f24d1b88",
   "metadata": {},
   "outputs": [],
   "source": [
    "x.max(axis=1)"
   ]
  },
  {
   "cell_type": "code",
   "execution_count": null,
   "id": "82e82bdd",
   "metadata": {},
   "outputs": [],
   "source": [
    "x.median(axis=0)"
   ]
  },
  {
   "cell_type": "code",
   "execution_count": null,
   "id": "bc03d86d",
   "metadata": {},
   "outputs": [],
   "source": [
    "x.median(axis=0)"
   ]
  },
  {
   "cell_type": "code",
   "execution_count": null,
   "id": "87f0f1d1",
   "metadata": {},
   "outputs": [],
   "source": [
    "df.mode(axis=0)"
   ]
  },
  {
   "cell_type": "code",
   "execution_count": null,
   "id": "d1801320",
   "metadata": {},
   "outputs": [],
   "source": [
    "x.std(axis=0)"
   ]
  },
  {
   "cell_type": "code",
   "execution_count": null,
   "id": "072e7a45",
   "metadata": {},
   "outputs": [],
   "source": [
    "x.std(axis=1)"
   ]
  },
  {
   "cell_type": "code",
   "execution_count": null,
   "id": "59f7b86a",
   "metadata": {},
   "outputs": [],
   "source": [
    "x.var(axis=0)"
   ]
  },
  {
   "cell_type": "code",
   "execution_count": null,
   "id": "09502d2c",
   "metadata": {},
   "outputs": [],
   "source": [
    "x.var(axis=1)"
   ]
  },
  {
   "cell_type": "code",
   "execution_count": null,
   "id": "0f3e04ba",
   "metadata": {},
   "outputs": [],
   "source": [
    "x.cov()"
   ]
  },
  {
   "cell_type": "code",
   "execution_count": null,
   "id": "7e1bb6d5",
   "metadata": {},
   "outputs": [],
   "source": [
    "x.corr()"
   ]
  },
  {
   "cell_type": "code",
   "execution_count": null,
   "id": "c06f88fa",
   "metadata": {},
   "outputs": [],
   "source": [
    "# Pandas dataframe.cumsum() is used to find the cumulative sum value over any axis. \n",
    "# Each cell is populated with the cumulative sum of the values seen so far.\n",
    "print(x)\n",
    "print()\n",
    "print(x.cumsum())"
   ]
  },
  {
   "cell_type": "code",
   "execution_count": null,
   "id": "a1897c24",
   "metadata": {},
   "outputs": [],
   "source": [
    "df\n",
    "df=df.sort_values(by='ResearchScore')\n",
    "df"
   ]
  },
  {
   "cell_type": "code",
   "execution_count": null,
   "id": "dfe3ddb6",
   "metadata": {},
   "outputs": [],
   "source": [
    "df=df.sort_values(by='ResearchScore',ascending=False)\n",
    "df"
   ]
  },
  {
   "cell_type": "code",
   "execution_count": 157,
   "id": "18479d9c",
   "metadata": {},
   "outputs": [
    {
     "data": {
      "text/html": [
       "<div>\n",
       "<style scoped>\n",
       "    .dataframe tbody tr th:only-of-type {\n",
       "        vertical-align: middle;\n",
       "    }\n",
       "\n",
       "    .dataframe tbody tr th {\n",
       "        vertical-align: top;\n",
       "    }\n",
       "\n",
       "    .dataframe thead th {\n",
       "        text-align: right;\n",
       "    }\n",
       "</style>\n",
       "<table border=\"1\" class=\"dataframe\">\n",
       "  <thead>\n",
       "    <tr style=\"text-align: right;\">\n",
       "      <th></th>\n",
       "      <th>Name</th>\n",
       "      <th>OverallGrade</th>\n",
       "      <th>Obedient</th>\n",
       "      <th>ResearchScore</th>\n",
       "      <th>ProjectScore</th>\n",
       "      <th>Recommend</th>\n",
       "    </tr>\n",
       "  </thead>\n",
       "  <tbody>\n",
       "    <tr>\n",
       "      <th>2</th>\n",
       "      <td>David</td>\n",
       "      <td>F</td>\n",
       "      <td>N</td>\n",
       "      <td>10</td>\n",
       "      <td>17.0</td>\n",
       "      <td>No</td>\n",
       "    </tr>\n",
       "    <tr>\n",
       "      <th>4</th>\n",
       "      <td>Marvin</td>\n",
       "      <td>E</td>\n",
       "      <td>N</td>\n",
       "      <td>20</td>\n",
       "      <td>30.0</td>\n",
       "      <td>No</td>\n",
       "    </tr>\n",
       "    <tr>\n",
       "      <th>9</th>\n",
       "      <td>Chris</td>\n",
       "      <td>D</td>\n",
       "      <td>U</td>\n",
       "      <td>25</td>\n",
       "      <td>15.0</td>\n",
       "      <td>No</td>\n",
       "    </tr>\n",
       "    <tr>\n",
       "      <th>1</th>\n",
       "      <td>John</td>\n",
       "      <td>C</td>\n",
       "      <td>N</td>\n",
       "      <td>85</td>\n",
       "      <td>51.0</td>\n",
       "      <td>Yes</td>\n",
       "    </tr>\n",
       "    <tr>\n",
       "      <th>7</th>\n",
       "      <td>Trent</td>\n",
       "      <td>C</td>\n",
       "      <td>Y</td>\n",
       "      <td>75</td>\n",
       "      <td>33.0</td>\n",
       "      <td>No</td>\n",
       "    </tr>\n",
       "    <tr>\n",
       "      <th>3</th>\n",
       "      <td>Holmes</td>\n",
       "      <td>B</td>\n",
       "      <td>Y</td>\n",
       "      <td>75</td>\n",
       "      <td>71.0</td>\n",
       "      <td>No</td>\n",
       "    </tr>\n",
       "    <tr>\n",
       "      <th>6</th>\n",
       "      <td>Robert</td>\n",
       "      <td>B</td>\n",
       "      <td>Y</td>\n",
       "      <td>60</td>\n",
       "      <td>59.0</td>\n",
       "      <td>No</td>\n",
       "    </tr>\n",
       "    <tr>\n",
       "      <th>5</th>\n",
       "      <td>Simon</td>\n",
       "      <td>A</td>\n",
       "      <td>Y</td>\n",
       "      <td>92</td>\n",
       "      <td>79.0</td>\n",
       "      <td>Yes</td>\n",
       "    </tr>\n",
       "    <tr>\n",
       "      <th>0</th>\n",
       "      <td>Henry</td>\n",
       "      <td>A</td>\n",
       "      <td>Y</td>\n",
       "      <td>90</td>\n",
       "      <td>85.0</td>\n",
       "      <td>Yes</td>\n",
       "    </tr>\n",
       "    <tr>\n",
       "      <th>8</th>\n",
       "      <td>Judy</td>\n",
       "      <td>NaN</td>\n",
       "      <td>Y</td>\n",
       "      <td>25</td>\n",
       "      <td>NaN</td>\n",
       "      <td>No</td>\n",
       "    </tr>\n",
       "  </tbody>\n",
       "</table>\n",
       "</div>"
      ],
      "text/plain": [
       "     Name OverallGrade Obedient  ResearchScore  ProjectScore Recommend\n",
       "2   David            F        N             10          17.0        No\n",
       "4  Marvin            E        N             20          30.0        No\n",
       "9   Chris            D        U             25          15.0        No\n",
       "1    John            C        N             85          51.0       Yes\n",
       "7   Trent            C        Y             75          33.0        No\n",
       "3  Holmes            B        Y             75          71.0        No\n",
       "6  Robert            B        Y             60          59.0        No\n",
       "5   Simon            A        Y             92          79.0       Yes\n",
       "0   Henry            A        Y             90          85.0       Yes\n",
       "8    Judy          NaN        Y             25           NaN        No"
      ]
     },
     "execution_count": 157,
     "metadata": {},
     "output_type": "execute_result"
    }
   ],
   "source": [
    "df=df.sort_values(by=['OverallGrade','ResearchScore'],ascending =False)\n",
    "df"
   ]
  },
  {
   "cell_type": "code",
   "execution_count": null,
   "metadata": {},
   "outputs": [],
   "source": [
    "x"
   ]
  },
  {
   "cell_type": "code",
   "execution_count": null,
   "id": "79adea0d",
   "metadata": {},
   "outputs": [],
   "source": [
    "x.reset_index(inplace=True)\n",
    "x"
   ]
  },
  {
   "cell_type": "code",
   "execution_count": null,
   "id": "c612e6b6",
   "metadata": {},
   "outputs": [],
   "source": [
    "x.drop(columns=['level_0'],inplace=True)\n",
    "x"
   ]
  },
  {
   "cell_type": "code",
   "execution_count": 159,
   "id": "24c850a6",
   "metadata": {},
   "outputs": [
    {
     "data": {
      "text/html": [
       "<div>\n",
       "<style scoped>\n",
       "    .dataframe tbody tr th:only-of-type {\n",
       "        vertical-align: middle;\n",
       "    }\n",
       "\n",
       "    .dataframe tbody tr th {\n",
       "        vertical-align: top;\n",
       "    }\n",
       "\n",
       "    .dataframe thead th {\n",
       "        text-align: right;\n",
       "    }\n",
       "</style>\n",
       "<table border=\"1\" class=\"dataframe\">\n",
       "  <thead>\n",
       "    <tr style=\"text-align: right;\">\n",
       "      <th></th>\n",
       "      <th>Name</th>\n",
       "      <th>OverallGrade</th>\n",
       "      <th>Obedient</th>\n",
       "      <th>ResearchScore</th>\n",
       "      <th>ProjectScore</th>\n",
       "      <th>Recommend</th>\n",
       "    </tr>\n",
       "  </thead>\n",
       "  <tbody>\n",
       "    <tr>\n",
       "      <th>2</th>\n",
       "      <td>David</td>\n",
       "      <td>F</td>\n",
       "      <td>N</td>\n",
       "      <td>10</td>\n",
       "      <td>17.0</td>\n",
       "      <td>No</td>\n",
       "    </tr>\n",
       "    <tr>\n",
       "      <th>4</th>\n",
       "      <td>Marvin</td>\n",
       "      <td>E</td>\n",
       "      <td>N</td>\n",
       "      <td>20</td>\n",
       "      <td>30.0</td>\n",
       "      <td>No</td>\n",
       "    </tr>\n",
       "    <tr>\n",
       "      <th>9</th>\n",
       "      <td>Chris</td>\n",
       "      <td>D</td>\n",
       "      <td>U</td>\n",
       "      <td>25</td>\n",
       "      <td>15.0</td>\n",
       "      <td>No</td>\n",
       "    </tr>\n",
       "    <tr>\n",
       "      <th>8</th>\n",
       "      <td>Judy</td>\n",
       "      <td>NaN</td>\n",
       "      <td>Y</td>\n",
       "      <td>25</td>\n",
       "      <td>NaN</td>\n",
       "      <td>No</td>\n",
       "    </tr>\n",
       "    <tr>\n",
       "      <th>6</th>\n",
       "      <td>Robert</td>\n",
       "      <td>B</td>\n",
       "      <td>Y</td>\n",
       "      <td>60</td>\n",
       "      <td>59.0</td>\n",
       "      <td>No</td>\n",
       "    </tr>\n",
       "    <tr>\n",
       "      <th>7</th>\n",
       "      <td>Trent</td>\n",
       "      <td>C</td>\n",
       "      <td>Y</td>\n",
       "      <td>75</td>\n",
       "      <td>33.0</td>\n",
       "      <td>No</td>\n",
       "    </tr>\n",
       "    <tr>\n",
       "      <th>3</th>\n",
       "      <td>Holmes</td>\n",
       "      <td>B</td>\n",
       "      <td>Y</td>\n",
       "      <td>75</td>\n",
       "      <td>71.0</td>\n",
       "      <td>No</td>\n",
       "    </tr>\n",
       "    <tr>\n",
       "      <th>1</th>\n",
       "      <td>John</td>\n",
       "      <td>C</td>\n",
       "      <td>N</td>\n",
       "      <td>85</td>\n",
       "      <td>51.0</td>\n",
       "      <td>Yes</td>\n",
       "    </tr>\n",
       "    <tr>\n",
       "      <th>0</th>\n",
       "      <td>Henry</td>\n",
       "      <td>A</td>\n",
       "      <td>Y</td>\n",
       "      <td>90</td>\n",
       "      <td>85.0</td>\n",
       "      <td>Yes</td>\n",
       "    </tr>\n",
       "    <tr>\n",
       "      <th>5</th>\n",
       "      <td>Simon</td>\n",
       "      <td>A</td>\n",
       "      <td>Y</td>\n",
       "      <td>92</td>\n",
       "      <td>79.0</td>\n",
       "      <td>Yes</td>\n",
       "    </tr>\n",
       "  </tbody>\n",
       "</table>\n",
       "</div>"
      ],
      "text/plain": [
       "     Name OverallGrade Obedient  ResearchScore  ProjectScore Recommend\n",
       "2   David            F        N             10          17.0        No\n",
       "4  Marvin            E        N             20          30.0        No\n",
       "9   Chris            D        U             25          15.0        No\n",
       "8    Judy          NaN        Y             25           NaN        No\n",
       "6  Robert            B        Y             60          59.0        No\n",
       "7   Trent            C        Y             75          33.0        No\n",
       "3  Holmes            B        Y             75          71.0        No\n",
       "1    John            C        N             85          51.0       Yes\n",
       "0   Henry            A        Y             90          85.0       Yes\n",
       "5   Simon            A        Y             92          79.0       Yes"
      ]
     },
     "execution_count": 159,
     "metadata": {},
     "output_type": "execute_result"
    }
   ],
   "source": [
    "x=df.sort_values(by=['ResearchScore','ProjectScore'])\n",
    "x"
   ]
  },
  {
   "cell_type": "code",
   "execution_count": 160,
   "metadata": {},
   "outputs": [
    {
     "data": {
      "text/html": [
       "<div>\n",
       "<style scoped>\n",
       "    .dataframe tbody tr th:only-of-type {\n",
       "        vertical-align: middle;\n",
       "    }\n",
       "\n",
       "    .dataframe tbody tr th {\n",
       "        vertical-align: top;\n",
       "    }\n",
       "\n",
       "    .dataframe thead th {\n",
       "        text-align: right;\n",
       "    }\n",
       "</style>\n",
       "<table border=\"1\" class=\"dataframe\">\n",
       "  <thead>\n",
       "    <tr style=\"text-align: right;\">\n",
       "      <th></th>\n",
       "      <th>Name</th>\n",
       "      <th>OverallGrade</th>\n",
       "      <th>Obedient</th>\n",
       "      <th>ResearchScore</th>\n",
       "      <th>ProjectScore</th>\n",
       "      <th>Recommend</th>\n",
       "    </tr>\n",
       "  </thead>\n",
       "  <tbody>\n",
       "    <tr>\n",
       "      <th>2</th>\n",
       "      <td>David</td>\n",
       "      <td>F</td>\n",
       "      <td>N</td>\n",
       "      <td>10</td>\n",
       "      <td>17.0</td>\n",
       "      <td>No</td>\n",
       "    </tr>\n",
       "    <tr>\n",
       "      <th>4</th>\n",
       "      <td>Marvin</td>\n",
       "      <td>E</td>\n",
       "      <td>N</td>\n",
       "      <td>20</td>\n",
       "      <td>30.0</td>\n",
       "      <td>No</td>\n",
       "    </tr>\n",
       "    <tr>\n",
       "      <th>9</th>\n",
       "      <td>Chris</td>\n",
       "      <td>D</td>\n",
       "      <td>U</td>\n",
       "      <td>25</td>\n",
       "      <td>15.0</td>\n",
       "      <td>No</td>\n",
       "    </tr>\n",
       "    <tr>\n",
       "      <th>8</th>\n",
       "      <td>Judy</td>\n",
       "      <td>NaN</td>\n",
       "      <td>Y</td>\n",
       "      <td>25</td>\n",
       "      <td>NaN</td>\n",
       "      <td>No</td>\n",
       "    </tr>\n",
       "    <tr>\n",
       "      <th>6</th>\n",
       "      <td>Robert</td>\n",
       "      <td>B</td>\n",
       "      <td>Y</td>\n",
       "      <td>60</td>\n",
       "      <td>59.0</td>\n",
       "      <td>No</td>\n",
       "    </tr>\n",
       "    <tr>\n",
       "      <th>7</th>\n",
       "      <td>Trent</td>\n",
       "      <td>C</td>\n",
       "      <td>Y</td>\n",
       "      <td>75</td>\n",
       "      <td>33.0</td>\n",
       "      <td>No</td>\n",
       "    </tr>\n",
       "    <tr>\n",
       "      <th>3</th>\n",
       "      <td>Holmes</td>\n",
       "      <td>B</td>\n",
       "      <td>Y</td>\n",
       "      <td>75</td>\n",
       "      <td>71.0</td>\n",
       "      <td>No</td>\n",
       "    </tr>\n",
       "    <tr>\n",
       "      <th>1</th>\n",
       "      <td>John</td>\n",
       "      <td>C</td>\n",
       "      <td>N</td>\n",
       "      <td>85</td>\n",
       "      <td>51.0</td>\n",
       "      <td>Yes</td>\n",
       "    </tr>\n",
       "    <tr>\n",
       "      <th>0</th>\n",
       "      <td>Henry</td>\n",
       "      <td>A</td>\n",
       "      <td>Y</td>\n",
       "      <td>90</td>\n",
       "      <td>85.0</td>\n",
       "      <td>Yes</td>\n",
       "    </tr>\n",
       "    <tr>\n",
       "      <th>5</th>\n",
       "      <td>Simon</td>\n",
       "      <td>A</td>\n",
       "      <td>Y</td>\n",
       "      <td>92</td>\n",
       "      <td>79.0</td>\n",
       "      <td>Yes</td>\n",
       "    </tr>\n",
       "  </tbody>\n",
       "</table>\n",
       "</div>"
      ],
      "text/plain": [
       "     Name OverallGrade Obedient  ResearchScore  ProjectScore Recommend\n",
       "2   David            F        N             10          17.0        No\n",
       "4  Marvin            E        N             20          30.0        No\n",
       "9   Chris            D        U             25          15.0        No\n",
       "8    Judy          NaN        Y             25           NaN        No\n",
       "6  Robert            B        Y             60          59.0        No\n",
       "7   Trent            C        Y             75          33.0        No\n",
       "3  Holmes            B        Y             75          71.0        No\n",
       "1    John            C        N             85          51.0       Yes\n",
       "0   Henry            A        Y             90          85.0       Yes\n",
       "5   Simon            A        Y             92          79.0       Yes"
      ]
     },
     "execution_count": 160,
     "metadata": {},
     "output_type": "execute_result"
    }
   ],
   "source": [
    "x"
   ]
  },
  {
   "cell_type": "code",
   "execution_count": 161,
   "id": "23778157",
   "metadata": {},
   "outputs": [
    {
     "data": {
      "text/html": [
       "<div>\n",
       "<style scoped>\n",
       "    .dataframe tbody tr th:only-of-type {\n",
       "        vertical-align: middle;\n",
       "    }\n",
       "\n",
       "    .dataframe tbody tr th {\n",
       "        vertical-align: top;\n",
       "    }\n",
       "\n",
       "    .dataframe thead th {\n",
       "        text-align: right;\n",
       "    }\n",
       "</style>\n",
       "<table border=\"1\" class=\"dataframe\">\n",
       "  <thead>\n",
       "    <tr style=\"text-align: right;\">\n",
       "      <th></th>\n",
       "      <th>Name</th>\n",
       "      <th>OverallGrade</th>\n",
       "      <th>Obedient</th>\n",
       "      <th>ResearchScore</th>\n",
       "      <th>ProjectScore</th>\n",
       "      <th>Recommend</th>\n",
       "    </tr>\n",
       "  </thead>\n",
       "  <tbody>\n",
       "    <tr>\n",
       "      <th>0</th>\n",
       "      <td>Henry</td>\n",
       "      <td>A</td>\n",
       "      <td>Y</td>\n",
       "      <td>90</td>\n",
       "      <td>85.0</td>\n",
       "      <td>Yes</td>\n",
       "    </tr>\n",
       "    <tr>\n",
       "      <th>1</th>\n",
       "      <td>John</td>\n",
       "      <td>C</td>\n",
       "      <td>N</td>\n",
       "      <td>85</td>\n",
       "      <td>51.0</td>\n",
       "      <td>Yes</td>\n",
       "    </tr>\n",
       "    <tr>\n",
       "      <th>2</th>\n",
       "      <td>David</td>\n",
       "      <td>F</td>\n",
       "      <td>N</td>\n",
       "      <td>10</td>\n",
       "      <td>17.0</td>\n",
       "      <td>No</td>\n",
       "    </tr>\n",
       "    <tr>\n",
       "      <th>3</th>\n",
       "      <td>Holmes</td>\n",
       "      <td>B</td>\n",
       "      <td>Y</td>\n",
       "      <td>75</td>\n",
       "      <td>71.0</td>\n",
       "      <td>No</td>\n",
       "    </tr>\n",
       "    <tr>\n",
       "      <th>4</th>\n",
       "      <td>Marvin</td>\n",
       "      <td>E</td>\n",
       "      <td>N</td>\n",
       "      <td>20</td>\n",
       "      <td>30.0</td>\n",
       "      <td>No</td>\n",
       "    </tr>\n",
       "    <tr>\n",
       "      <th>5</th>\n",
       "      <td>Simon</td>\n",
       "      <td>A</td>\n",
       "      <td>Y</td>\n",
       "      <td>92</td>\n",
       "      <td>79.0</td>\n",
       "      <td>Yes</td>\n",
       "    </tr>\n",
       "    <tr>\n",
       "      <th>6</th>\n",
       "      <td>Robert</td>\n",
       "      <td>B</td>\n",
       "      <td>Y</td>\n",
       "      <td>60</td>\n",
       "      <td>59.0</td>\n",
       "      <td>No</td>\n",
       "    </tr>\n",
       "    <tr>\n",
       "      <th>7</th>\n",
       "      <td>Trent</td>\n",
       "      <td>C</td>\n",
       "      <td>Y</td>\n",
       "      <td>75</td>\n",
       "      <td>33.0</td>\n",
       "      <td>No</td>\n",
       "    </tr>\n",
       "    <tr>\n",
       "      <th>8</th>\n",
       "      <td>Judy</td>\n",
       "      <td>NaN</td>\n",
       "      <td>Y</td>\n",
       "      <td>25</td>\n",
       "      <td>NaN</td>\n",
       "      <td>No</td>\n",
       "    </tr>\n",
       "    <tr>\n",
       "      <th>9</th>\n",
       "      <td>Chris</td>\n",
       "      <td>D</td>\n",
       "      <td>U</td>\n",
       "      <td>25</td>\n",
       "      <td>15.0</td>\n",
       "      <td>No</td>\n",
       "    </tr>\n",
       "  </tbody>\n",
       "</table>\n",
       "</div>"
      ],
      "text/plain": [
       "     Name OverallGrade Obedient  ResearchScore  ProjectScore Recommend\n",
       "0   Henry            A        Y             90          85.0       Yes\n",
       "1    John            C        N             85          51.0       Yes\n",
       "2   David            F        N             10          17.0        No\n",
       "3  Holmes            B        Y             75          71.0        No\n",
       "4  Marvin            E        N             20          30.0        No\n",
       "5   Simon            A        Y             92          79.0       Yes\n",
       "6  Robert            B        Y             60          59.0        No\n",
       "7   Trent            C        Y             75          33.0        No\n",
       "8    Judy          NaN        Y             25           NaN        No\n",
       "9   Chris            D        U             25          15.0        No"
      ]
     },
     "execution_count": 161,
     "metadata": {},
     "output_type": "execute_result"
    }
   ],
   "source": [
    "x.sort_index()                  # sort the DataFrame with respect to index"
   ]
  },
  {
   "cell_type": "markdown",
   "id": "0ca2bc6b",
   "metadata": {},
   "source": [
    "# Drop duplicates\n",
    "Pandas drop_duplicates() method helps in removing duplicates from the Pandas Dataframe In Python.\n",
    "\n",
    "DataFrame.drop(labels=None, axis=0, index=None, columns=None, level=None, inplace=False, errors='raise')\n",
    "\n",
    "Drop specified labels from rows or columns.\n",
    "\n",
    "Remove rows or columns by specifying label names and corresponding axis, or by specifying directly index or column names. When using a multi-index, labels on different levels can be removed by specifying the level. See the user guide <advanced.shown_levels> for more information about the now unused levels."
   ]
  },
  {
   "cell_type": "code",
   "execution_count": 168,
   "id": "f4b602b0",
   "metadata": {},
   "outputs": [
    {
     "data": {
      "text/html": [
       "<div>\n",
       "<style scoped>\n",
       "    .dataframe tbody tr th:only-of-type {\n",
       "        vertical-align: middle;\n",
       "    }\n",
       "\n",
       "    .dataframe tbody tr th {\n",
       "        vertical-align: top;\n",
       "    }\n",
       "\n",
       "    .dataframe thead th {\n",
       "        text-align: right;\n",
       "    }\n",
       "</style>\n",
       "<table border=\"1\" class=\"dataframe\">\n",
       "  <thead>\n",
       "    <tr style=\"text-align: right;\">\n",
       "      <th></th>\n",
       "      <th>brand</th>\n",
       "      <th>style</th>\n",
       "      <th>rating</th>\n",
       "    </tr>\n",
       "  </thead>\n",
       "  <tbody>\n",
       "    <tr>\n",
       "      <th>0</th>\n",
       "      <td>Yum Yum</td>\n",
       "      <td>cup</td>\n",
       "      <td>4.0</td>\n",
       "    </tr>\n",
       "    <tr>\n",
       "      <th>1</th>\n",
       "      <td>Yum Yum</td>\n",
       "      <td>cup</td>\n",
       "      <td>4.0</td>\n",
       "    </tr>\n",
       "    <tr>\n",
       "      <th>2</th>\n",
       "      <td>Indomie</td>\n",
       "      <td>cup</td>\n",
       "      <td>3.5</td>\n",
       "    </tr>\n",
       "    <tr>\n",
       "      <th>3</th>\n",
       "      <td>Indomie</td>\n",
       "      <td>pack</td>\n",
       "      <td>15.0</td>\n",
       "    </tr>\n",
       "    <tr>\n",
       "      <th>4</th>\n",
       "      <td>Indomie</td>\n",
       "      <td>pack</td>\n",
       "      <td>5.0</td>\n",
       "    </tr>\n",
       "  </tbody>\n",
       "</table>\n",
       "</div>"
      ],
      "text/plain": [
       "     brand style  rating\n",
       "0  Yum Yum   cup     4.0\n",
       "1  Yum Yum   cup     4.0\n",
       "2  Indomie   cup     3.5\n",
       "3  Indomie  pack    15.0\n",
       "4  Indomie  pack     5.0"
      ]
     },
     "execution_count": 168,
     "metadata": {},
     "output_type": "execute_result"
    }
   ],
   "source": [
    "df = pd.DataFrame({\n",
    "    'brand': ['Yum Yum', 'Yum Yum', 'Indomie', 'Indomie', 'Indomie'],\n",
    "    'style': ['cup', 'cup', 'cup', 'pack', 'pack'],\n",
    "    'rating': [4, 4, 3.5, 15, 5] \n",
    "    })\n",
    "df"
   ]
  },
  {
   "cell_type": "code",
   "execution_count": 166,
   "id": "3e3c9755",
   "metadata": {},
   "outputs": [
    {
     "data": {
      "text/html": [
       "<div>\n",
       "<style scoped>\n",
       "    .dataframe tbody tr th:only-of-type {\n",
       "        vertical-align: middle;\n",
       "    }\n",
       "\n",
       "    .dataframe tbody tr th {\n",
       "        vertical-align: top;\n",
       "    }\n",
       "\n",
       "    .dataframe thead th {\n",
       "        text-align: right;\n",
       "    }\n",
       "</style>\n",
       "<table border=\"1\" class=\"dataframe\">\n",
       "  <thead>\n",
       "    <tr style=\"text-align: right;\">\n",
       "      <th></th>\n",
       "      <th>brand</th>\n",
       "      <th>style</th>\n",
       "      <th>rating</th>\n",
       "    </tr>\n",
       "  </thead>\n",
       "  <tbody>\n",
       "    <tr>\n",
       "      <th>0</th>\n",
       "      <td>Yum Yum</td>\n",
       "      <td>cup</td>\n",
       "      <td>4.0</td>\n",
       "    </tr>\n",
       "    <tr>\n",
       "      <th>2</th>\n",
       "      <td>Indomie</td>\n",
       "      <td>cup</td>\n",
       "      <td>3.5</td>\n",
       "    </tr>\n",
       "    <tr>\n",
       "      <th>3</th>\n",
       "      <td>Indomie</td>\n",
       "      <td>pack</td>\n",
       "      <td>15.0</td>\n",
       "    </tr>\n",
       "    <tr>\n",
       "      <th>4</th>\n",
       "      <td>Indomie</td>\n",
       "      <td>pack</td>\n",
       "      <td>5.0</td>\n",
       "    </tr>\n",
       "  </tbody>\n",
       "</table>\n",
       "</div>"
      ],
      "text/plain": [
       "     brand style  rating\n",
       "0  Yum Yum   cup     4.0\n",
       "2  Indomie   cup     3.5\n",
       "3  Indomie  pack    15.0\n",
       "4  Indomie  pack     5.0"
      ]
     },
     "execution_count": 166,
     "metadata": {},
     "output_type": "execute_result"
    }
   ],
   "source": [
    "# By default, it removes duplicate rows based on all columns.\n",
    "df.drop_duplicates()"
   ]
  },
  {
   "cell_type": "code",
   "execution_count": 173,
   "id": "24dd937c",
   "metadata": {},
   "outputs": [
    {
     "data": {
      "text/html": [
       "<div>\n",
       "<style scoped>\n",
       "    .dataframe tbody tr th:only-of-type {\n",
       "        vertical-align: middle;\n",
       "    }\n",
       "\n",
       "    .dataframe tbody tr th {\n",
       "        vertical-align: top;\n",
       "    }\n",
       "\n",
       "    .dataframe thead th {\n",
       "        text-align: right;\n",
       "    }\n",
       "</style>\n",
       "<table border=\"1\" class=\"dataframe\">\n",
       "  <thead>\n",
       "    <tr style=\"text-align: right;\">\n",
       "      <th></th>\n",
       "      <th>brand</th>\n",
       "      <th>style</th>\n",
       "      <th>rating</th>\n",
       "    </tr>\n",
       "  </thead>\n",
       "  <tbody>\n",
       "    <tr>\n",
       "      <th>0</th>\n",
       "      <td>Yum Yum</td>\n",
       "      <td>cup</td>\n",
       "      <td>4.0</td>\n",
       "    </tr>\n",
       "    <tr>\n",
       "      <th>2</th>\n",
       "      <td>Indomie</td>\n",
       "      <td>cup</td>\n",
       "      <td>3.5</td>\n",
       "    </tr>\n",
       "  </tbody>\n",
       "</table>\n",
       "</div>"
      ],
      "text/plain": [
       "     brand style  rating\n",
       "0  Yum Yum   cup     4.0\n",
       "2  Indomie   cup     3.5"
      ]
     },
     "execution_count": 173,
     "metadata": {},
     "output_type": "execute_result"
    }
   ],
   "source": [
    "# To remove duplicates on specific column(s), use subset.\n",
    "\n",
    "df.drop_duplicates(subset=['brand'],keep='first')"
   ]
  },
  {
   "cell_type": "code",
   "execution_count": 170,
   "id": "e61c425e",
   "metadata": {},
   "outputs": [
    {
     "data": {
      "text/html": [
       "<div>\n",
       "<style scoped>\n",
       "    .dataframe tbody tr th:only-of-type {\n",
       "        vertical-align: middle;\n",
       "    }\n",
       "\n",
       "    .dataframe tbody tr th {\n",
       "        vertical-align: top;\n",
       "    }\n",
       "\n",
       "    .dataframe thead th {\n",
       "        text-align: right;\n",
       "    }\n",
       "</style>\n",
       "<table border=\"1\" class=\"dataframe\">\n",
       "  <thead>\n",
       "    <tr style=\"text-align: right;\">\n",
       "      <th></th>\n",
       "      <th>brand</th>\n",
       "      <th>style</th>\n",
       "      <th>rating</th>\n",
       "    </tr>\n",
       "  </thead>\n",
       "  <tbody>\n",
       "    <tr>\n",
       "      <th>1</th>\n",
       "      <td>Yum Yum</td>\n",
       "      <td>cup</td>\n",
       "      <td>4.0</td>\n",
       "    </tr>\n",
       "    <tr>\n",
       "      <th>2</th>\n",
       "      <td>Indomie</td>\n",
       "      <td>cup</td>\n",
       "      <td>3.5</td>\n",
       "    </tr>\n",
       "    <tr>\n",
       "      <th>4</th>\n",
       "      <td>Indomie</td>\n",
       "      <td>pack</td>\n",
       "      <td>5.0</td>\n",
       "    </tr>\n",
       "  </tbody>\n",
       "</table>\n",
       "</div>"
      ],
      "text/plain": [
       "     brand style  rating\n",
       "1  Yum Yum   cup     4.0\n",
       "2  Indomie   cup     3.5\n",
       "4  Indomie  pack     5.0"
      ]
     },
     "execution_count": 170,
     "metadata": {},
     "output_type": "execute_result"
    }
   ],
   "source": [
    "# To remove duplicates and keep last occurrences, use keep.\n",
    "\n",
    "df.drop_duplicates(subset=['brand', 'style'], keep='last')"
   ]
  }
 ],
 "metadata": {
  "celltoolbar": "Edit Metadata",
  "kernelspec": {
   "display_name": "Python 3 (ipykernel)",
   "language": "python",
   "name": "python3"
  },
  "language_info": {
   "codemirror_mode": {
    "name": "ipython",
    "version": 3
   },
   "file_extension": ".py",
   "mimetype": "text/x-python",
   "name": "python",
   "nbconvert_exporter": "python",
   "pygments_lexer": "ipython3",
   "version": "3.12.1"
  }
 },
 "nbformat": 4,
 "nbformat_minor": 5
}
