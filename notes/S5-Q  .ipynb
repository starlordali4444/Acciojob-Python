{
 "cells": [
  {
   "cell_type": "markdown",
   "id": "5196b317",
   "metadata": {},
   "source": [
    "# Sets"
   ]
  },
  {
   "cell_type": "markdown",
   "id": "65459103",
   "metadata": {},
   "source": [
    "A set is an unordered collection with no duplicate elements. Basic uses include membership testing and eliminating duplicate entries. Set objects also support mathematical operations like union, intersection, difference, and symmetric difference.\n",
    "\n",
    "Curly braces or the set() function can be used to create sets."
   ]
  },
  {
   "cell_type": "markdown",
   "id": "bf8c801d",
   "metadata": {},
   "source": [
    "Set and Set Methods"
   ]
  },
  {
   "cell_type": "code",
   "execution_count": 1,
   "id": "245b522a",
   "metadata": {},
   "outputs": [],
   "source": [
    "days={'Mon','Tue','Wed','Thur','Fri','Sat','Sun'}            # Create a set"
   ]
  },
  {
   "cell_type": "code",
   "execution_count": 2,
   "id": "d4af3e25",
   "metadata": {},
   "outputs": [
    {
     "data": {
      "text/plain": [
       "{'Fri', 'Mon', 'Sat', 'Sun', 'Thur', 'Tue', 'Wed'}"
      ]
     },
     "execution_count": 2,
     "metadata": {},
     "output_type": "execute_result"
    }
   ],
   "source": [
    "days                                                         # order will changed when we display"
   ]
  },
  {
   "cell_type": "code",
   "execution_count": 3,
   "id": "5d81e52d",
   "metadata": {},
   "outputs": [
    {
     "name": "stdout",
     "output_type": "stream",
     "text": [
      "{'Thur', 'Wed', 'Mon', 'Fri', 'Sun', 'Sat', 'Tue'}\n"
     ]
    }
   ],
   "source": [
    "print(days)                                                  # order will changed when we print"
   ]
  },
  {
   "cell_type": "code",
   "execution_count": 4,
   "id": "f69cd2b0",
   "metadata": {},
   "outputs": [],
   "source": [
    "days={'Mon','Tue','Wed','Thur','Fri','Sat','Sun','Mon'}       # set will not allow duplication"
   ]
  },
  {
   "cell_type": "code",
   "execution_count": 5,
   "id": "4cfc2f10",
   "metadata": {},
   "outputs": [
    {
     "data": {
      "text/plain": [
       "{'Fri', 'Mon', 'Sat', 'Sun', 'Thur', 'Tue', 'Wed'}"
      ]
     },
     "execution_count": 5,
     "metadata": {},
     "output_type": "execute_result"
    }
   ],
   "source": [
    "days"
   ]
  },
  {
   "cell_type": "code",
   "execution_count": null,
   "id": "e28074dc",
   "metadata": {},
   "outputs": [],
   "source": [
    "num=[1,2,3,5,9,2,6,9,4]"
   ]
  },
  {
   "cell_type": "code",
   "execution_count": 6,
   "id": "101bfc71",
   "metadata": {},
   "outputs": [],
   "source": [
    "# to find out unique even numbers in ascending order\n",
    "num=[1,2,3,5,9,2,6,9,4]\n",
    "even=[]\n",
    "for i in num:\n",
    "    if i%2==0:\n",
    "        even.append(i)"
   ]
  },
  {
   "cell_type": "code",
   "execution_count": 7,
   "id": "02a219b4",
   "metadata": {},
   "outputs": [
    {
     "data": {
      "text/plain": [
       "[2, 2, 6, 4]"
      ]
     },
     "execution_count": 7,
     "metadata": {},
     "output_type": "execute_result"
    }
   ],
   "source": [
    "even"
   ]
  },
  {
   "cell_type": "code",
   "execution_count": 8,
   "id": "80fa91d5",
   "metadata": {},
   "outputs": [],
   "source": [
    "even=set(even)"
   ]
  },
  {
   "cell_type": "code",
   "execution_count": 9,
   "id": "a7d6e039",
   "metadata": {},
   "outputs": [
    {
     "data": {
      "text/plain": [
       "{2, 4, 6}"
      ]
     },
     "execution_count": 9,
     "metadata": {},
     "output_type": "execute_result"
    }
   ],
   "source": [
    "even"
   ]
  },
  {
   "cell_type": "code",
   "execution_count": 10,
   "id": "82e65cf5",
   "metadata": {},
   "outputs": [],
   "source": [
    "even=list(even)"
   ]
  },
  {
   "cell_type": "code",
   "execution_count": 11,
   "id": "dfd5dbfb",
   "metadata": {},
   "outputs": [
    {
     "data": {
      "text/plain": [
       "[2, 4, 6]"
      ]
     },
     "execution_count": 11,
     "metadata": {},
     "output_type": "execute_result"
    }
   ],
   "source": [
    "even"
   ]
  },
  {
   "cell_type": "code",
   "execution_count": 12,
   "id": "6e2b9c54",
   "metadata": {},
   "outputs": [],
   "source": [
    "# Set Items - Data Types\n",
    "# Set items can be of any data type:\n",
    "\n",
    "\n",
    "set1 = {\"apple\", \"banana\", \"cherry\"}\n",
    "set2 = {1, 5, 7, 9, 3}\n",
    "set3 = {True, False, False}\n",
    "\n",
    "# A set can contain different data types:\n",
    "\n",
    "set1 = {\"abc\", 34, True, 40, \"male\"}"
   ]
  },
  {
   "cell_type": "code",
   "execution_count": 6,
   "id": "defe8c98",
   "metadata": {},
   "outputs": [],
   "source": [
    "set_num=set((1,20,13,4,15,6,1,15,20))"
   ]
  },
  {
   "cell_type": "code",
   "execution_count": 10,
   "id": "6764fdd0",
   "metadata": {},
   "outputs": [
    {
     "data": {
      "text/plain": [
       "{1, 4, 6, 13, 15, 20, 45}"
      ]
     },
     "execution_count": 10,
     "metadata": {},
     "output_type": "execute_result"
    }
   ],
   "source": [
    "set_num"
   ]
  },
  {
   "cell_type": "code",
   "execution_count": 9,
   "id": "589e345d",
   "metadata": {},
   "outputs": [],
   "source": [
    "set_num.add(45)"
   ]
  },
  {
   "cell_type": "code",
   "execution_count": null,
   "id": "64f70e35",
   "metadata": {
    "deletable": false,
    "editable": false
   },
   "outputs": [],
   "source": [
    "#You are given a value you need to convert into set and print disctinct value\n",
    "Set_A ={5,7,8,9,10,7,8}"
   ]
  },
  {
   "cell_type": "code",
   "execution_count": null,
   "id": "c2408e8f",
   "metadata": {
    "cellId": "q5",
    "deletable": false
   },
   "outputs": [],
   "source": [
    "#answer here"
   ]
  },
  {
   "cell_type": "code",
   "execution_count": 15,
   "id": "d4990eac",
   "metadata": {},
   "outputs": [],
   "source": [
    "set_num.add(21)             # to add a specific element in the set"
   ]
  },
  {
   "cell_type": "code",
   "execution_count": 11,
   "id": "f5b12acd",
   "metadata": {},
   "outputs": [
    {
     "data": {
      "text/plain": [
       "{1, 4, 6, 13, 15, 20, 45}"
      ]
     },
     "execution_count": 11,
     "metadata": {},
     "output_type": "execute_result"
    }
   ],
   "source": [
    "set_num"
   ]
  },
  {
   "cell_type": "code",
   "execution_count": 17,
   "id": "5f4dbafa",
   "metadata": {},
   "outputs": [
    {
     "data": {
      "text/plain": [
       "1"
      ]
     },
     "execution_count": 17,
     "metadata": {},
     "output_type": "execute_result"
    }
   ],
   "source": [
    "set_num.pop()             # to remove the random element from the set"
   ]
  },
  {
   "cell_type": "code",
   "execution_count": 12,
   "id": "3347b948",
   "metadata": {},
   "outputs": [
    {
     "ename": "TypeError",
     "evalue": "set.pop() takes no arguments (1 given)",
     "output_type": "error",
     "traceback": [
      "\u001b[1;31m---------------------------------------------------------------------------\u001b[0m",
      "\u001b[1;31mTypeError\u001b[0m                                 Traceback (most recent call last)",
      "\u001b[1;32ma:\\OneDrive\\work\\acciojob\\python\\accio\\S5-Q  .ipynb Cell 25\u001b[0m line \u001b[0;36m1\n\u001b[1;32m----> <a href='vscode-notebook-cell:/a%3A/OneDrive/work/acciojob/python/accio/S5-Q%20%20.ipynb#Y260sZmlsZQ%3D%3D?line=0'>1</a>\u001b[0m set_num\u001b[39m.\u001b[39;49mpop(\u001b[39m1\u001b[39;49m)\n",
      "\u001b[1;31mTypeError\u001b[0m: set.pop() takes no arguments (1 given)"
     ]
    }
   ],
   "source": [
    "set_num.pop()"
   ]
  },
  {
   "cell_type": "code",
   "execution_count": 18,
   "id": "39fe8322",
   "metadata": {},
   "outputs": [
    {
     "data": {
      "text/plain": [
       "{'Fri', 'Mon', 'Sat', 'Sun', 'Thur', 'Tue', 'Wed'}"
      ]
     },
     "execution_count": 18,
     "metadata": {},
     "output_type": "execute_result"
    }
   ],
   "source": [
    "days"
   ]
  },
  {
   "cell_type": "code",
   "execution_count": 19,
   "id": "3d2f9c08",
   "metadata": {},
   "outputs": [
    {
     "data": {
      "text/plain": [
       "'Thur'"
      ]
     },
     "execution_count": 19,
     "metadata": {},
     "output_type": "execute_result"
    }
   ],
   "source": [
    "days.pop()"
   ]
  },
  {
   "cell_type": "code",
   "execution_count": 20,
   "id": "4c848f73",
   "metadata": {},
   "outputs": [],
   "source": [
    "days.remove('Mon')              # to remove a specific element from the set"
   ]
  },
  {
   "cell_type": "code",
   "execution_count": 21,
   "id": "cb8b0116",
   "metadata": {},
   "outputs": [
    {
     "data": {
      "text/plain": [
       "{'Fri', 'Sat', 'Sun', 'Tue', 'Wed'}"
      ]
     },
     "execution_count": 21,
     "metadata": {},
     "output_type": "execute_result"
    }
   ],
   "source": [
    "days"
   ]
  },
  {
   "cell_type": "code",
   "execution_count": 22,
   "id": "88a2a75d",
   "metadata": {},
   "outputs": [],
   "source": [
    "my_set = {1, 3}"
   ]
  },
  {
   "cell_type": "code",
   "execution_count": 23,
   "id": "f7ae3290",
   "metadata": {},
   "outputs": [
    {
     "name": "stdout",
     "output_type": "stream",
     "text": [
      "{1, 2, 3, 4}\n"
     ]
    }
   ],
   "source": [
    "# add multiple elements\n",
    "my_set.update([2, 3, 4])\n",
    "print(my_set)"
   ]
  },
  {
   "cell_type": "code",
   "execution_count": 24,
   "id": "48084ded",
   "metadata": {},
   "outputs": [
    {
     "name": "stdout",
     "output_type": "stream",
     "text": [
      "{1, 2, 3, 4, 5, 6, 8}\n"
     ]
    }
   ],
   "source": [
    "# add list and set\n",
    "my_set.update([4, 5], {1, 6, 8})\n",
    "print(my_set)"
   ]
  },
  {
   "cell_type": "code",
   "execution_count": 25,
   "id": "82be8be3",
   "metadata": {},
   "outputs": [
    {
     "name": "stdout",
     "output_type": "stream",
     "text": [
      "{1, 2, 3, 5, 6, 8}\n"
     ]
    }
   ],
   "source": [
    "# discard an element\n",
    "my_set.discard(4)\n",
    "print(my_set)"
   ]
  },
  {
   "cell_type": "code",
   "execution_count": 26,
   "id": "b359f39f",
   "metadata": {},
   "outputs": [
    {
     "name": "stdout",
     "output_type": "stream",
     "text": [
      "{1, 2, 3, 5, 8}\n"
     ]
    }
   ],
   "source": [
    "# remove an element\n",
    "my_set.remove(6)\n",
    "print(my_set)"
   ]
  },
  {
   "cell_type": "code",
   "execution_count": 27,
   "id": "bd3f9a66",
   "metadata": {},
   "outputs": [
    {
     "name": "stdout",
     "output_type": "stream",
     "text": [
      "{1, 2, 3, 5, 8}\n"
     ]
    }
   ],
   "source": [
    "# discard an element\n",
    "# not present in my_set\n",
    "my_set.discard(6)\n",
    "print(my_set)"
   ]
  },
  {
   "cell_type": "code",
   "execution_count": 28,
   "id": "a25095f9",
   "metadata": {},
   "outputs": [
    {
     "ename": "KeyError",
     "evalue": "6",
     "output_type": "error",
     "traceback": [
      "\u001b[1;31m---------------------------------------------------------------------------\u001b[0m",
      "\u001b[1;31mKeyError\u001b[0m                                  Traceback (most recent call last)",
      "Input \u001b[1;32mIn [28]\u001b[0m, in \u001b[0;36m<cell line: 6>\u001b[1;34m()\u001b[0m\n\u001b[0;32m      1\u001b[0m \u001b[38;5;66;03m# remove an element\u001b[39;00m\n\u001b[0;32m      2\u001b[0m \u001b[38;5;66;03m# not present in my_set\u001b[39;00m\n\u001b[0;32m      3\u001b[0m \u001b[38;5;66;03m# you will get an error.\u001b[39;00m\n\u001b[0;32m      4\u001b[0m \u001b[38;5;66;03m# Output: KeyError\u001b[39;00m\n\u001b[1;32m----> 6\u001b[0m \u001b[43mmy_set\u001b[49m\u001b[38;5;241;43m.\u001b[39;49m\u001b[43mremove\u001b[49m\u001b[43m(\u001b[49m\u001b[38;5;241;43m6\u001b[39;49m\u001b[43m)\u001b[49m\n",
      "\u001b[1;31mKeyError\u001b[0m: 6"
     ]
    }
   ],
   "source": [
    "# remove an element\n",
    "# not present in my_set\n",
    "# you will get an error.\n",
    "# Output: KeyError\n",
    "\n",
    "my_set.remove(6)"
   ]
  },
  {
   "cell_type": "code",
   "execution_count": 29,
   "id": "0c079f55",
   "metadata": {},
   "outputs": [
    {
     "name": "stdout",
     "output_type": "stream",
     "text": [
      "set()\n"
     ]
    }
   ],
   "source": [
    "# clear my_set\n",
    "my_set.clear()\n",
    "print(my_set)"
   ]
  },
  {
   "cell_type": "code",
   "execution_count": null,
   "id": "47236204",
   "metadata": {
    "deletable": false,
    "editable": false
   },
   "outputs": [],
   "source": [
    "#what is the difference between discard and remove\n",
    "\n",
    "Set_B ={4,5,6,7}"
   ]
  },
  {
   "cell_type": "code",
   "execution_count": null,
   "id": "b32dc936",
   "metadata": {
    "cellId": "w5",
    "deletable": false
   },
   "outputs": [],
   "source": [
    "#answer here"
   ]
  },
  {
   "cell_type": "markdown",
   "id": "e677ff82",
   "metadata": {},
   "source": [
    "# Set Operations\n",
    "Sets can be used to carry out mathematical set operations like union, intersection, difference and symmetric difference. We can do this with operators or methods."
   ]
  },
  {
   "cell_type": "code",
   "execution_count": 13,
   "id": "9eba333c",
   "metadata": {},
   "outputs": [],
   "source": [
    "set_A={1,2,5,6}\n",
    "set_B={1,2,7,8}"
   ]
  },
  {
   "cell_type": "markdown",
   "id": "c0978b58",
   "metadata": {},
   "source": [
    "# Set Union\n",
    "Union of set_A and set_B is a set of all elements from both sets.\n",
    "\n",
    "Union is performed using | operator. Same can be accomplished using the union() method."
   ]
  },
  {
   "cell_type": "code",
   "execution_count": 14,
   "id": "62a2e33e",
   "metadata": {},
   "outputs": [
    {
     "data": {
      "text/plain": [
       "{1, 2, 5, 6, 7, 8}"
      ]
     },
     "execution_count": 14,
     "metadata": {},
     "output_type": "execute_result"
    }
   ],
   "source": [
    "set_A.union(set_B)"
   ]
  },
  {
   "cell_type": "code",
   "execution_count": 15,
   "id": "aa7aa809",
   "metadata": {},
   "outputs": [
    {
     "data": {
      "text/plain": [
       "{1, 2, 5, 6, 7, 8}"
      ]
     },
     "execution_count": 15,
     "metadata": {},
     "output_type": "execute_result"
    }
   ],
   "source": [
    "set_A | set_B # Union"
   ]
  },
  {
   "cell_type": "markdown",
   "id": "0849fdd2",
   "metadata": {},
   "source": [
    "# Set Intersection\n",
    "intersection of A and B is a set of elements that are common in both the sets.\n",
    "\n",
    "Intersection is performed using & operator. Same can be accomplished using the intersection() method."
   ]
  },
  {
   "cell_type": "code",
   "execution_count": 16,
   "id": "068c35b9",
   "metadata": {},
   "outputs": [
    {
     "data": {
      "text/plain": [
       "{1, 2}"
      ]
     },
     "execution_count": 16,
     "metadata": {},
     "output_type": "execute_result"
    }
   ],
   "source": [
    "set_A.intersection(set_B)\n"
   ]
  },
  {
   "cell_type": "code",
   "execution_count": 17,
   "id": "0ae04a6a",
   "metadata": {},
   "outputs": [
    {
     "data": {
      "text/plain": [
       "{1, 2}"
      ]
     },
     "execution_count": 17,
     "metadata": {},
     "output_type": "execute_result"
    }
   ],
   "source": [
    "set_A & set_B   # Intesection"
   ]
  },
  {
   "cell_type": "markdown",
   "id": "2b5ea253",
   "metadata": {},
   "source": [
    "# Set Difference\n",
    "Difference of the set B from set A(A - B) is a set of elements that are only in A but not in B. Similarly, B - A is a set of elements in B but not in A.\n",
    "\n",
    "Difference is performed using - operator. Same can be accomplished using the difference() method."
   ]
  },
  {
   "cell_type": "code",
   "execution_count": 18,
   "id": "9c8b9fde",
   "metadata": {},
   "outputs": [
    {
     "data": {
      "text/plain": [
       "{5, 6}"
      ]
     },
     "execution_count": 18,
     "metadata": {},
     "output_type": "execute_result"
    }
   ],
   "source": [
    "set_A.difference(set_B)"
   ]
  },
  {
   "cell_type": "code",
   "execution_count": 19,
   "id": "b47a5d0a",
   "metadata": {},
   "outputs": [
    {
     "data": {
      "text/plain": [
       "{7, 8}"
      ]
     },
     "execution_count": 19,
     "metadata": {},
     "output_type": "execute_result"
    }
   ],
   "source": [
    "set_B.difference(set_A)"
   ]
  },
  {
   "cell_type": "code",
   "execution_count": 38,
   "id": "8cc209fd",
   "metadata": {},
   "outputs": [
    {
     "data": {
      "text/plain": [
       "{5, 6}"
      ]
     },
     "execution_count": 38,
     "metadata": {},
     "output_type": "execute_result"
    }
   ],
   "source": [
    "set_A-(set_B)"
   ]
  },
  {
   "cell_type": "code",
   "execution_count": 39,
   "id": "b8dad21c",
   "metadata": {},
   "outputs": [
    {
     "data": {
      "text/plain": [
       "{7, 8}"
      ]
     },
     "execution_count": 39,
     "metadata": {},
     "output_type": "execute_result"
    }
   ],
   "source": [
    "set_B-(set_A)"
   ]
  },
  {
   "cell_type": "markdown",
   "id": "3de5d103",
   "metadata": {},
   "source": [
    "# Set Symmetric Difference\n",
    "Symmetric Difference of A and B is a set of elements in A and B but not in both (excluding the intersection).\n",
    "\n",
    "Symmetric difference is performed using ^ operator. Same can be accomplished using the method symmetric_difference()."
   ]
  },
  {
   "cell_type": "code",
   "execution_count": 40,
   "id": "bf6bd616",
   "metadata": {},
   "outputs": [
    {
     "data": {
      "text/plain": [
       "{5, 6, 7, 8}"
      ]
     },
     "execution_count": 40,
     "metadata": {},
     "output_type": "execute_result"
    }
   ],
   "source": [
    "set_A.symmetric_difference(set_B)"
   ]
  },
  {
   "cell_type": "code",
   "execution_count": 41,
   "id": "9bc65058",
   "metadata": {},
   "outputs": [
    {
     "data": {
      "text/plain": [
       "{5, 6, 7, 8}"
      ]
     },
     "execution_count": 41,
     "metadata": {},
     "output_type": "execute_result"
    }
   ],
   "source": [
    "set_A^(set_B)"
   ]
  },
  {
   "cell_type": "markdown",
   "id": "853debaa",
   "metadata": {},
   "source": [
    "# Tuple"
   ]
  },
  {
   "cell_type": "markdown",
   "id": "9eb74eaa",
   "metadata": {},
   "source": [
    "A tuple in Python is similar to a list. The difference between the two is that we cannot change the elements of a tuple once it is assigned whereas we can change the elements of a list.\n",
    "\n",
    "A tuple is created by placing all the items (elements) inside parentheses (), separated by commas. The parentheses are optional, however, it is a good practice to use them."
   ]
  },
  {
   "cell_type": "code",
   "execution_count": 43,
   "id": "51549c29",
   "metadata": {},
   "outputs": [],
   "source": [
    "a=()"
   ]
  },
  {
   "cell_type": "code",
   "execution_count": 44,
   "id": "c20f19bd",
   "metadata": {},
   "outputs": [
    {
     "data": {
      "text/plain": [
       "tuple"
      ]
     },
     "execution_count": 44,
     "metadata": {},
     "output_type": "execute_result"
    }
   ],
   "source": [
    "type(a)"
   ]
  },
  {
   "cell_type": "code",
   "execution_count": 45,
   "id": "f194f090",
   "metadata": {},
   "outputs": [
    {
     "data": {
      "text/plain": [
       "int"
      ]
     },
     "execution_count": 45,
     "metadata": {},
     "output_type": "execute_result"
    }
   ],
   "source": [
    "b=(1)\n",
    "type(b)"
   ]
  },
  {
   "cell_type": "code",
   "execution_count": 46,
   "id": "2bc31c7a",
   "metadata": {},
   "outputs": [
    {
     "data": {
      "text/plain": [
       "str"
      ]
     },
     "execution_count": 46,
     "metadata": {},
     "output_type": "execute_result"
    }
   ],
   "source": [
    "c=('hello')\n",
    "type(c)"
   ]
  },
  {
   "cell_type": "code",
   "execution_count": 47,
   "id": "b70f34ca",
   "metadata": {},
   "outputs": [
    {
     "data": {
      "text/plain": [
       "tuple"
      ]
     },
     "execution_count": 47,
     "metadata": {},
     "output_type": "execute_result"
    }
   ],
   "source": [
    "b=(1,)\n",
    "type(b)"
   ]
  },
  {
   "cell_type": "code",
   "execution_count": 48,
   "id": "6e11725d",
   "metadata": {},
   "outputs": [
    {
     "data": {
      "text/plain": [
       "tuple"
      ]
     },
     "execution_count": 48,
     "metadata": {},
     "output_type": "execute_result"
    }
   ],
   "source": [
    "c=('hello',)\n",
    "type(c)"
   ]
  },
  {
   "cell_type": "code",
   "execution_count": 49,
   "id": "34cc5afe",
   "metadata": {},
   "outputs": [
    {
     "data": {
      "text/plain": [
       "tuple"
      ]
     },
     "execution_count": 49,
     "metadata": {},
     "output_type": "execute_result"
    }
   ],
   "source": [
    "location=(56.5,78.9)    #Geographical Coordinates\n",
    "type(location)"
   ]
  },
  {
   "cell_type": "code",
   "execution_count": 50,
   "id": "42ca90a9",
   "metadata": {},
   "outputs": [
    {
     "data": {
      "text/plain": [
       "tuple"
      ]
     },
     "execution_count": 50,
     "metadata": {},
     "output_type": "execute_result"
    }
   ],
   "source": [
    "location1=56.5,78.9    # A tuple can also be created without using parentheses. This is known as tuple packing.\n",
    "type(location1)"
   ]
  },
  {
   "cell_type": "code",
   "execution_count": 51,
   "id": "6b7e855e",
   "metadata": {},
   "outputs": [
    {
     "name": "stdout",
     "output_type": "stream",
     "text": [
      "(1, 'Hello', 3.4)\n"
     ]
    }
   ],
   "source": [
    "# tuple with mixed datatypes\n",
    "my_tuple = (1, \"Hello\", 3.4)\n",
    "print(my_tuple)"
   ]
  },
  {
   "cell_type": "code",
   "execution_count": 52,
   "id": "35277d24",
   "metadata": {},
   "outputs": [
    {
     "data": {
      "text/plain": [
       "tuple"
      ]
     },
     "execution_count": 52,
     "metadata": {},
     "output_type": "execute_result"
    }
   ],
   "source": [
    " # Tuples may be nest \n",
    " t = 12345, 54321, 'hello!'\n",
    " u = t, (1, 2, 3, 4, 5)\n",
    " type(u)"
   ]
  },
  {
   "cell_type": "code",
   "execution_count": null,
   "id": "38c2ea66",
   "metadata": {
    "deletable": false,
    "editable": false
   },
   "outputs": [],
   "source": [
    "t=[1,2,4,5,6]\n",
    "#create a tuple for the giving values in the below cell"
   ]
  },
  {
   "cell_type": "code",
   "execution_count": null,
   "id": "eaeae975",
   "metadata": {
    "cellId": "e5",
    "deletable": false
   },
   "outputs": [],
   "source": [
    "#answer here "
   ]
  },
  {
   "cell_type": "markdown",
   "id": "8e7180f4",
   "metadata": {},
   "source": [
    "# Tuple slicing and tuple operations\n",
    "We can use the index operator [] to access an item in a tuple, where the index starts from 0.\n",
    "\n",
    "So, a tuple having 6 elements will have indices from 0 to 5. Trying to access an index outside of the tuple index range(6,7,... in this example) will raise an IndexError.\n",
    "\n",
    "The index must be an integer, so we cannot use float or other types. This will result in TypeError.\n",
    "\n",
    "Likewise, nested tuples are accessed using nested indexing,"
   ]
  },
  {
   "cell_type": "code",
   "execution_count": 53,
   "id": "9b8b634c",
   "metadata": {},
   "outputs": [],
   "source": [
    "color_code=(110,25,255)   #RGB color Codes"
   ]
  },
  {
   "cell_type": "code",
   "execution_count": 54,
   "id": "dbc6c5c6",
   "metadata": {},
   "outputs": [],
   "source": [
    "green_col_code=color_code[1]                    # Grabing an element with index"
   ]
  },
  {
   "cell_type": "code",
   "execution_count": 55,
   "id": "297e8402",
   "metadata": {},
   "outputs": [
    {
     "data": {
      "text/plain": [
       "25"
      ]
     },
     "execution_count": 55,
     "metadata": {},
     "output_type": "execute_result"
    }
   ],
   "source": [
    "green_col_code"
   ]
  },
  {
   "cell_type": "code",
   "execution_count": 56,
   "id": "71526b0f",
   "metadata": {},
   "outputs": [
    {
     "name": "stdout",
     "output_type": "stream",
     "text": [
      "(2, 3, 4, 5, 6, 7)\n"
     ]
    }
   ],
   "source": [
    "tuple = (1,2,3,4,5,6,7)  \n",
    "#element 1 to end  \n",
    "print(tuple[1:]) "
   ]
  },
  {
   "cell_type": "code",
   "execution_count": 57,
   "id": "e1fe9189",
   "metadata": {},
   "outputs": [
    {
     "name": "stdout",
     "output_type": "stream",
     "text": [
      "(4, 5, 6, 9)\n"
     ]
    }
   ],
   "source": [
    "x=(4,5,6,9,8,7)\n",
    "#element 0th index  to 3rd index element   \n",
    "print(x[:4])  \n"
   ]
  },
  {
   "cell_type": "code",
   "execution_count": 58,
   "id": "8a40c649",
   "metadata": {},
   "outputs": [
    {
     "name": "stdout",
     "output_type": "stream",
     "text": [
      "(5, 6, 9, 8)\n"
     ]
    }
   ],
   "source": [
    "#element 1st to 4th element  \n",
    "print(x[1:5]) "
   ]
  },
  {
   "cell_type": "code",
   "execution_count": 59,
   "id": "dddbae7d",
   "metadata": {},
   "outputs": [
    {
     "name": "stdout",
     "output_type": "stream",
     "text": [
      "(55, 85, 102, 650)\n"
     ]
    }
   ],
   "source": [
    "x=(55,66,85,98,102,210,650,980,780,650)\n",
    "# element 0th index to 6th index and take step of 2  \n",
    "print(x[0:7:2]) "
   ]
  },
  {
   "cell_type": "code",
   "execution_count": 60,
   "id": "0e8d6eac",
   "metadata": {},
   "outputs": [
    {
     "data": {
      "text/plain": [
       "5"
      ]
     },
     "execution_count": 60,
     "metadata": {},
     "output_type": "execute_result"
    }
   ],
   "source": [
    "tuple1 = (1, 2, 3,\"Mango\", 4, 5)    \n",
    "# Negative indexing for accessing tuple elements\n",
    "tuple1[-1]"
   ]
  },
  {
   "cell_type": "code",
   "execution_count": 61,
   "id": "31c5e8c5",
   "metadata": {},
   "outputs": [
    {
     "data": {
      "text/plain": [
       "('Mango', 4, 5)"
      ]
     },
     "execution_count": 61,
     "metadata": {},
     "output_type": "execute_result"
    }
   ],
   "source": [
    "tuple1[-3:]  "
   ]
  },
  {
   "cell_type": "code",
   "execution_count": 62,
   "id": "6819210b",
   "metadata": {},
   "outputs": [
    {
     "data": {
      "text/plain": [
       "(1, 2, 3, 4)"
      ]
     },
     "execution_count": 62,
     "metadata": {},
     "output_type": "execute_result"
    }
   ],
   "source": [
    "a=(1,2)\n",
    "b=a+(3,4)\n",
    "b"
   ]
  },
  {
   "cell_type": "code",
   "execution_count": 63,
   "id": "b498adb6",
   "metadata": {},
   "outputs": [
    {
     "data": {
      "text/plain": [
       "(1, 2, 1, 2)"
      ]
     },
     "execution_count": 63,
     "metadata": {},
     "output_type": "execute_result"
    }
   ],
   "source": [
    "a*2"
   ]
  },
  {
   "cell_type": "code",
   "execution_count": 64,
   "id": "d1c864e2",
   "metadata": {},
   "outputs": [
    {
     "data": {
      "text/plain": [
       "(1, 2, 3, 4)"
      ]
     },
     "execution_count": 64,
     "metadata": {},
     "output_type": "execute_result"
    }
   ],
   "source": [
    "b"
   ]
  },
  {
   "cell_type": "code",
   "execution_count": 65,
   "id": "8e95293c",
   "metadata": {},
   "outputs": [
    {
     "data": {
      "text/plain": [
       "1"
      ]
     },
     "execution_count": 65,
     "metadata": {},
     "output_type": "execute_result"
    }
   ],
   "source": [
    "b.index(2)       # to check the index of the specific element in the tuple"
   ]
  },
  {
   "cell_type": "code",
   "execution_count": 66,
   "id": "f736d46f",
   "metadata": {},
   "outputs": [
    {
     "data": {
      "text/plain": [
       "1"
      ]
     },
     "execution_count": 66,
     "metadata": {},
     "output_type": "execute_result"
    }
   ],
   "source": [
    "b.count(3)        # to count the number of the occurances of the element"
   ]
  },
  {
   "cell_type": "code",
   "execution_count": 67,
   "id": "228add6f",
   "metadata": {},
   "outputs": [
    {
     "name": "stdout",
     "output_type": "stream",
     "text": [
      "Hello\n",
      "World\n",
      "!\n"
     ]
    }
   ],
   "source": [
    "# Iterating through the tuple\n",
    "a=(\"Hello\",\"World\",\"!\")\n",
    "for i in a:\n",
    "    print(i)"
   ]
  },
  {
   "cell_type": "markdown",
   "id": "15e9e000",
   "metadata": {},
   "source": [
    "# Dictionary"
   ]
  },
  {
   "cell_type": "markdown",
   "id": "619788a5",
   "metadata": {},
   "source": [
    "Python dictionary is an unordered collection of items. Each item of a dictionary has a key/value pair.\n",
    "\n",
    "Dictionaries are optimized to retrieve values when the key is known.\n",
    "\n",
    "Unlike sequences, which are indexed by a range of numbers, dictionaries are indexed by keys, which can be any immutable type; strings and numbers can always be keys.\n",
    "\n",
    "Tuples can be used as keys if they contain only strings, numbers, or tuples; if a tuple contains any mutable object either directly or indirectly, it cannot be used as a key.\n",
    "\n",
    "You can’t use lists as keys, since lists can be modified in place using index assignments, slice assignments, or methods like append( ) and extend( ).\n",
    "\n",
    "Creating a dictionary is as simple as placing items inside curly braces { } separated by commas."
   ]
  },
  {
   "cell_type": "code",
   "execution_count": 68,
   "id": "fd98f98c",
   "metadata": {},
   "outputs": [
    {
     "name": "stdout",
     "output_type": "stream",
     "text": [
      "{}\n",
      "<class 'dict'>\n"
     ]
    }
   ],
   "source": [
    "# empty dictionary\n",
    "my_dict = {}\n",
    "print(my_dict)\n",
    "print(type(my_dict))"
   ]
  },
  {
   "cell_type": "code",
   "execution_count": 69,
   "id": "22e4a62d",
   "metadata": {},
   "outputs": [
    {
     "name": "stdout",
     "output_type": "stream",
     "text": [
      "{1: 'apple', 2: 'ball'}\n"
     ]
    }
   ],
   "source": [
    "# dictionary with integer keys\n",
    "my_dict = {1: 'apple', 2: 'ball'}\n",
    "print(my_dict)"
   ]
  },
  {
   "cell_type": "code",
   "execution_count": null,
   "id": "bb9ed7c1",
   "metadata": {
    "deletable": false,
    "editable": false
   },
   "outputs": [],
   "source": [
    "#create a dictinory and add few key and pair values and print it in below cell"
   ]
  },
  {
   "cell_type": "code",
   "execution_count": null,
   "id": "423fea86",
   "metadata": {
    "cellId": "r5",
    "deletable": false
   },
   "outputs": [],
   "source": [
    "#answer here"
   ]
  },
  {
   "cell_type": "code",
   "execution_count": 70,
   "id": "0bd63391",
   "metadata": {},
   "outputs": [
    {
     "name": "stdout",
     "output_type": "stream",
     "text": [
      "{'name': 'John', 1: [2, 4, 3]}\n"
     ]
    }
   ],
   "source": [
    "# dictionary with mixed keys\n",
    "my_dict = {'name': 'John', 1: [2, 4, 3]}\n",
    "print(my_dict)"
   ]
  },
  {
   "cell_type": "code",
   "execution_count": 71,
   "id": "616a33f6",
   "metadata": {},
   "outputs": [],
   "source": [
    "input_list=[[\"T'shirt\",300],[\"Watch\",900],[\"Hat\",200]]\n",
    "price_lookup=dict(input_list)"
   ]
  },
  {
   "cell_type": "code",
   "execution_count": 72,
   "id": "612edba9",
   "metadata": {},
   "outputs": [
    {
     "data": {
      "text/plain": [
       "{\"T'shirt\": 300, 'Watch': 900, 'Hat': 200}"
      ]
     },
     "execution_count": 72,
     "metadata": {},
     "output_type": "execute_result"
    }
   ],
   "source": [
    "price_lookup"
   ]
  },
  {
   "cell_type": "markdown",
   "id": "681f7daa",
   "metadata": {},
   "source": [
    "# Accessing Elements from Dictionary\n",
    "While indexing is used with other data types to access values, a dictionary uses keys. Keys can be used either inside square brackets [] or with the get() method."
   ]
  },
  {
   "cell_type": "code",
   "execution_count": 73,
   "id": "103acfd7",
   "metadata": {},
   "outputs": [
    {
     "data": {
      "text/plain": [
       "200"
      ]
     },
     "execution_count": 73,
     "metadata": {},
     "output_type": "execute_result"
    }
   ],
   "source": [
    "price_lookup['Hat']"
   ]
  },
  {
   "cell_type": "code",
   "execution_count": 74,
   "id": "96185144",
   "metadata": {},
   "outputs": [
    {
     "data": {
      "text/plain": [
       "900"
      ]
     },
     "execution_count": 74,
     "metadata": {},
     "output_type": "execute_result"
    }
   ],
   "source": [
    "price_lookup['Watch']"
   ]
  },
  {
   "cell_type": "code",
   "execution_count": 75,
   "id": "4c85fb9d",
   "metadata": {},
   "outputs": [
    {
     "data": {
      "text/plain": [
       "900"
      ]
     },
     "execution_count": 75,
     "metadata": {},
     "output_type": "execute_result"
    }
   ],
   "source": [
    "price_lookup.get('Watch')"
   ]
  },
  {
   "cell_type": "markdown",
   "id": "1b1d8017",
   "metadata": {},
   "source": [
    "# Changing and Adding Dictionary elements\n",
    "Dictionaries are mutable. We can add new items or change the value of existing items using an assignment operator.\n",
    "\n",
    "If the key is already present, then the existing value gets updated. In case the key is not present, a new (key: value) pair is added to the dictionary."
   ]
  },
  {
   "cell_type": "code",
   "execution_count": 76,
   "id": "b652fef4",
   "metadata": {},
   "outputs": [],
   "source": [
    "price_lookup['Hat']=300"
   ]
  },
  {
   "cell_type": "code",
   "execution_count": 77,
   "id": "91b760e5",
   "metadata": {},
   "outputs": [
    {
     "data": {
      "text/plain": [
       "{\"T'shirt\": 300, 'Watch': 900, 'Hat': 300}"
      ]
     },
     "execution_count": 77,
     "metadata": {},
     "output_type": "execute_result"
    }
   ],
   "source": [
    "price_lookup"
   ]
  },
  {
   "cell_type": "code",
   "execution_count": 78,
   "id": "d6b9a0b5",
   "metadata": {},
   "outputs": [],
   "source": [
    "price_lookup['Shoes']=1500"
   ]
  },
  {
   "cell_type": "code",
   "execution_count": 79,
   "id": "ead75cf6",
   "metadata": {},
   "outputs": [
    {
     "data": {
      "text/plain": [
       "{\"T'shirt\": 300, 'Watch': 900, 'Hat': 300, 'Shoes': 1500}"
      ]
     },
     "execution_count": 79,
     "metadata": {},
     "output_type": "execute_result"
    }
   ],
   "source": [
    "price_lookup"
   ]
  },
  {
   "cell_type": "code",
   "execution_count": 80,
   "id": "eac3814c",
   "metadata": {},
   "outputs": [],
   "source": [
    "price_lookup.update({\"Shoes\":2000})        \n",
    "# update() method updates the dictionary with elements from a dictionary object or an iterable object of key/value pairs."
   ]
  },
  {
   "cell_type": "code",
   "execution_count": 81,
   "id": "b59a1d2c",
   "metadata": {},
   "outputs": [
    {
     "data": {
      "text/plain": [
       "{\"T'shirt\": 300, 'Watch': 900, 'Hat': 300, 'Shoes': 2000}"
      ]
     },
     "execution_count": 81,
     "metadata": {},
     "output_type": "execute_result"
    }
   ],
   "source": [
    "price_lookup"
   ]
  },
  {
   "cell_type": "markdown",
   "id": "b64b9b2a",
   "metadata": {},
   "source": [
    "# Dictionary Operations\n",
    "We can remove a particular item in a dictionary by using the pop() method. This method removes an item with the provided key and returns the value.\n",
    "\n",
    "The popitem() method can be used to remove and return an arbitrary (key, value) item pair from the dictionary. All the items can be removed at once, using the clear() method.\n",
    "\n",
    "We can also use the del keyword to remove individual items or the entire dictionary itself."
   ]
  },
  {
   "cell_type": "code",
   "execution_count": 82,
   "id": "7ee78947",
   "metadata": {},
   "outputs": [
    {
     "data": {
      "text/plain": [
       "{'fruit_1': 'banana', 'fruit_2': 'Orange', 'fruit_3': 'Mango'}"
      ]
     },
     "execution_count": 82,
     "metadata": {},
     "output_type": "execute_result"
    }
   ],
   "source": [
    "fruits=dict(fruit_1=\"banana\",fruit_2=\"Orange\",fruit_3=\"Mango\")  \n",
    "fruits"
   ]
  },
  {
   "cell_type": "code",
   "execution_count": 83,
   "id": "9c5409dc",
   "metadata": {},
   "outputs": [
    {
     "data": {
      "text/plain": [
       "{'fruit_1': 'banana', 'fruit_2': 'Orange', 'fruit_3': 'Mango'}"
      ]
     },
     "execution_count": 83,
     "metadata": {},
     "output_type": "execute_result"
    }
   ],
   "source": [
    "new_fruits=fruits.copy()\n",
    "new_fruits"
   ]
  },
  {
   "cell_type": "code",
   "execution_count": 84,
   "id": "442403ed",
   "metadata": {},
   "outputs": [
    {
     "data": {
      "text/plain": [
       "'Orange'"
      ]
     },
     "execution_count": 84,
     "metadata": {},
     "output_type": "execute_result"
    }
   ],
   "source": [
    "new_fruits.pop('fruit_2')"
   ]
  },
  {
   "cell_type": "code",
   "execution_count": 85,
   "id": "8395d020",
   "metadata": {},
   "outputs": [
    {
     "data": {
      "text/plain": [
       "{'fruit_1': 'banana', 'fruit_3': 'Mango'}"
      ]
     },
     "execution_count": 85,
     "metadata": {},
     "output_type": "execute_result"
    }
   ],
   "source": [
    "new_fruits"
   ]
  },
  {
   "cell_type": "code",
   "execution_count": 86,
   "id": "05075c27",
   "metadata": {},
   "outputs": [
    {
     "data": {
      "text/plain": [
       "('fruit_3', 'Mango')"
      ]
     },
     "execution_count": 86,
     "metadata": {},
     "output_type": "execute_result"
    }
   ],
   "source": [
    "new_fruits.popitem()"
   ]
  },
  {
   "cell_type": "code",
   "execution_count": 87,
   "id": "7affba85",
   "metadata": {},
   "outputs": [
    {
     "data": {
      "text/plain": [
       "{'fruit_1': 'banana'}"
      ]
     },
     "execution_count": 87,
     "metadata": {},
     "output_type": "execute_result"
    }
   ],
   "source": [
    "new_fruits"
   ]
  },
  {
   "cell_type": "code",
   "execution_count": 88,
   "id": "0efaefac",
   "metadata": {},
   "outputs": [],
   "source": [
    "new_fruits.clear()  "
   ]
  },
  {
   "cell_type": "code",
   "execution_count": 89,
   "id": "11049c84",
   "metadata": {},
   "outputs": [
    {
     "data": {
      "text/plain": [
       "{}"
      ]
     },
     "execution_count": 89,
     "metadata": {},
     "output_type": "execute_result"
    }
   ],
   "source": [
    "new_fruits"
   ]
  },
  {
   "cell_type": "code",
   "execution_count": 90,
   "id": "21f6dd9e",
   "metadata": {},
   "outputs": [],
   "source": [
    "new_fruits.update({\"fruit_4\":\"Lichi\",\"fruit_5\":\"Pinaaple\"})          # to add new dictionary in to old dictionary "
   ]
  },
  {
   "cell_type": "code",
   "execution_count": 91,
   "id": "27b6d05d",
   "metadata": {},
   "outputs": [
    {
     "data": {
      "text/plain": [
       "{'fruit_4': 'Lichi', 'fruit_5': 'Pinaaple'}"
      ]
     },
     "execution_count": 91,
     "metadata": {},
     "output_type": "execute_result"
    }
   ],
   "source": [
    "new_fruits"
   ]
  },
  {
   "cell_type": "code",
   "execution_count": 92,
   "id": "8222d5f9",
   "metadata": {},
   "outputs": [],
   "source": [
    "del new_fruits['fruit_4']                                           # to delete a specific k:v pair"
   ]
  },
  {
   "cell_type": "code",
   "execution_count": 93,
   "id": "9218cae2",
   "metadata": {},
   "outputs": [
    {
     "data": {
      "text/plain": [
       "{'fruit_5': 'Pinaaple'}"
      ]
     },
     "execution_count": 93,
     "metadata": {},
     "output_type": "execute_result"
    }
   ],
   "source": [
    "new_fruits"
   ]
  },
  {
   "cell_type": "code",
   "execution_count": 94,
   "id": "5ef8fa1c",
   "metadata": {},
   "outputs": [],
   "source": [
    "del new_fruits                                              # to delete a dictionary"
   ]
  },
  {
   "cell_type": "code",
   "execution_count": 95,
   "id": "a33020d6",
   "metadata": {},
   "outputs": [
    {
     "ename": "NameError",
     "evalue": "name 'new_fruits' is not defined",
     "output_type": "error",
     "traceback": [
      "\u001b[1;31m---------------------------------------------------------------------------\u001b[0m",
      "\u001b[1;31mNameError\u001b[0m                                 Traceback (most recent call last)",
      "Input \u001b[1;32mIn [95]\u001b[0m, in \u001b[0;36m<cell line: 1>\u001b[1;34m()\u001b[0m\n\u001b[1;32m----> 1\u001b[0m \u001b[43mnew_fruits\u001b[49m\n",
      "\u001b[1;31mNameError\u001b[0m: name 'new_fruits' is not defined"
     ]
    }
   ],
   "source": [
    "new_fruits"
   ]
  },
  {
   "cell_type": "code",
   "execution_count": 96,
   "id": "47b8e0ab",
   "metadata": {},
   "outputs": [
    {
     "data": {
      "text/plain": [
       "{'fruit_1': 'banana', 'fruit_2': 'Orange', 'fruit_3': 'Mango'}"
      ]
     },
     "execution_count": 96,
     "metadata": {},
     "output_type": "execute_result"
    }
   ],
   "source": [
    "fruits"
   ]
  },
  {
   "cell_type": "code",
   "execution_count": 97,
   "id": "4410bf12",
   "metadata": {},
   "outputs": [
    {
     "data": {
      "text/plain": [
       "dict_keys(['fruit_1', 'fruit_2', 'fruit_3'])"
      ]
     },
     "execution_count": 97,
     "metadata": {},
     "output_type": "execute_result"
    }
   ],
   "source": [
    "fruits.keys()"
   ]
  },
  {
   "cell_type": "code",
   "execution_count": 98,
   "id": "d03e762d",
   "metadata": {},
   "outputs": [
    {
     "data": {
      "text/plain": [
       "dict_values(['banana', 'Orange', 'Mango'])"
      ]
     },
     "execution_count": 98,
     "metadata": {},
     "output_type": "execute_result"
    }
   ],
   "source": [
    "fruits.values()"
   ]
  },
  {
   "cell_type": "code",
   "execution_count": 99,
   "id": "2dc40efe",
   "metadata": {},
   "outputs": [
    {
     "data": {
      "text/plain": [
       "dict_items([('fruit_1', 'banana'), ('fruit_2', 'Orange'), ('fruit_3', 'Mango')])"
      ]
     },
     "execution_count": 99,
     "metadata": {},
     "output_type": "execute_result"
    }
   ],
   "source": [
    "fruits.items()"
   ]
  },
  {
   "cell_type": "code",
   "execution_count": 100,
   "id": "5264bdc3",
   "metadata": {},
   "outputs": [
    {
     "name": "stdout",
     "output_type": "stream",
     "text": [
      "fruit_1\n",
      "fruit_2\n",
      "fruit_3\n"
     ]
    }
   ],
   "source": [
    "for i in fruits:\n",
    "    print(i)"
   ]
  },
  {
   "cell_type": "code",
   "execution_count": 101,
   "id": "0edab72a",
   "metadata": {},
   "outputs": [
    {
     "name": "stdout",
     "output_type": "stream",
     "text": [
      "banana\n",
      "Orange\n",
      "Mango\n"
     ]
    }
   ],
   "source": [
    "for i in fruits.values():\n",
    "    print(i)"
   ]
  },
  {
   "cell_type": "code",
   "execution_count": 102,
   "id": "ae7da88a",
   "metadata": {},
   "outputs": [
    {
     "name": "stdout",
     "output_type": "stream",
     "text": [
      "fruit_1\n",
      "fruit_2\n",
      "fruit_3\n"
     ]
    }
   ],
   "source": [
    "for i in fruits.keys():\n",
    "    print(i)"
   ]
  },
  {
   "cell_type": "code",
   "execution_count": 103,
   "id": "69d6fe92",
   "metadata": {},
   "outputs": [
    {
     "name": "stdout",
     "output_type": "stream",
     "text": [
      "('fruit_1', 'banana')\n",
      "('fruit_2', 'Orange')\n",
      "('fruit_3', 'Mango')\n"
     ]
    }
   ],
   "source": [
    "for i in fruits.items():\n",
    "    print(i)"
   ]
  },
  {
   "cell_type": "markdown",
   "id": "b293d663",
   "metadata": {},
   "source": [
    "# Array"
   ]
  },
  {
   "cell_type": "markdown",
   "id": "ef97e268",
   "metadata": {},
   "source": [
    "An array is a collection of items stored at contiguous memory locations. The idea is to store multiple items of the same type together. This makes it easier to calculate the position of each element by simply adding an offset to a base value, i.e., the memory location of the first element of the array (generally denoted by the name of the array).\n",
    "\n",
    "For simplicity, we can think of an array a fleet of stairs where on each step is placed a value (let’s say one of your friends). Here, you can identify the location of any of your friends by simply knowing the count of the step they are on.\n",
    "\n",
    "Array can be handled in Python by a module named array. They can be useful when we have to manipulate only a specific data type values.\n",
    "\n",
    "A user can treat lists as arrays. However, user cannot constraint the type of elements stored in a list.\n",
    "\n",
    "If you create arrays using the array module, all elements of the array must be of the same type."
   ]
  },
  {
   "cell_type": "code",
   "execution_count": 1,
   "id": "34c7a86f",
   "metadata": {},
   "outputs": [
    {
     "name": "stdout",
     "output_type": "stream",
     "text": [
      "array('i', [7, 2, 0, -8])\n",
      "<class 'array.array'>\n"
     ]
    }
   ],
   "source": [
    "# How to write an array\n",
    "import array                                # importing array module from python library\n",
    "\n",
    "arr = array.array('i', [7, 2, 0, -8])       # creating an array, mention the data type. here i is for integer\n",
    "print(arr)\n",
    "\n",
    "print(type(arr))"
   ]
  },
  {
   "cell_type": "code",
   "execution_count": 106,
   "id": "56909c06",
   "metadata": {},
   "outputs": [
    {
     "name": "stdout",
     "output_type": "stream",
     "text": [
      "array('f', [7.0, 2.0, 0.0, -8.0, 55.54999923706055])\n",
      "<class 'array.array'>\n"
     ]
    }
   ],
   "source": [
    "arr = array.array('f', [7, 2, 0, -8, 55.55])             # array doen't supprort different data types\n",
    "print(arr)                                               # f is for float\n",
    "\n",
    "print(type(arr))"
   ]
  },
  {
   "cell_type": "code",
   "execution_count": 107,
   "id": "14904bc7",
   "metadata": {},
   "outputs": [
    {
     "name": "stdout",
     "output_type": "stream",
     "text": [
      "6\n"
     ]
    }
   ],
   "source": [
    "# 1. Length => total number of elements inside the array\n",
    "# len(arrayName)\n",
    "\n",
    "a1 = array.array('i', [7,0,1,-6,-8,10])\n",
    "print(len(a1))"
   ]
  },
  {
   "cell_type": "code",
   "execution_count": 108,
   "id": "10526c34",
   "metadata": {},
   "outputs": [
    {
     "name": "stdout",
     "output_type": "stream",
     "text": [
      "1\n",
      "10\n"
     ]
    }
   ],
   "source": [
    "# 2. Indexing => Return the element at defined position number\n",
    "# arrName[pos]\n",
    "#\n",
    "a1 = array.array('i', [7,0,1,-6,-8,10])\n",
    "print(a1[2])\n",
    "print(a1[-1])"
   ]
  },
  {
   "cell_type": "code",
   "execution_count": 109,
   "id": "4ff5c2d4",
   "metadata": {},
   "outputs": [
    {
     "name": "stdout",
     "output_type": "stream",
     "text": [
      "array('i', [7, 0, 1, -6])\n"
     ]
    }
   ],
   "source": [
    "# 3. Slicing => Returns the chunk of array\n",
    "# arrName[start : end : step size]\n",
    "# start = 0\n",
    "# end = length of seq\n",
    "# step size = 1\n",
    "\n",
    "a1 = array.array('i', [7,0,1,-6,-8,10])\n",
    "print(a1[0 : 4])"
   ]
  },
  {
   "cell_type": "code",
   "execution_count": 110,
   "id": "af2fe6b3",
   "metadata": {},
   "outputs": [
    {
     "name": "stdout",
     "output_type": "stream",
     "text": [
      "array('i', [0, -6, 10])\n"
     ]
    }
   ],
   "source": [
    "# return the element at  odd pos only\n",
    "print(a1[1 : : 2])"
   ]
  },
  {
   "cell_type": "code",
   "execution_count": 111,
   "id": "32407688",
   "metadata": {},
   "outputs": [
    {
     "name": "stdout",
     "output_type": "stream",
     "text": [
      "array('i', [7, 0, 1, -6, -8, 10, 7, 0, 1, -6, -8, 10])\n",
      "array('f', [0.20000000298023224, 5.199999809265137, -6.800000190734863, 4.199999809265137, 0.20000000298023224, 5.199999809265137, -6.800000190734863, 4.199999809265137])\n"
     ]
    }
   ],
   "source": [
    "# 4. Concatenation (+)\n",
    "\n",
    "a1 = array.array('i', [7,0,1,-6,-8,10])\n",
    "a2 = array.array(\"f\", [0.2, 5.2, -6.8, 4.2])\n",
    "# # print(a1 + a2)\n",
    "#\n",
    "print(a1 + a1)\n",
    "print(a2 + a2)"
   ]
  },
  {
   "cell_type": "code",
   "execution_count": 112,
   "id": "437b4633",
   "metadata": {},
   "outputs": [
    {
     "name": "stdout",
     "output_type": "stream",
     "text": [
      "array('i', [7, 0, 1, -6, -8, 10, 7, 0, 1, -6, -8, 10, 7, 0, 1, -6, -8, 10, 7, 0, 1, -6, -8, 10, 7, 0, 1, -6, -8, 10])\n"
     ]
    }
   ],
   "source": [
    "# 5. Repitition (*)\n",
    "\n",
    "a1 = array.array('i', [7,0,1,-6,-8,10])\n",
    "print(a1 * 5)"
   ]
  },
  {
   "cell_type": "code",
   "execution_count": 113,
   "id": "fe06bedd",
   "metadata": {},
   "outputs": [
    {
     "name": "stdout",
     "output_type": "stream",
     "text": [
      "array('i', [7, -6, 7, -6, 7, -6, 7, -6, 7, -6, 7, -6, 7, -6, 7, -6])\n"
     ]
    }
   ],
   "source": [
    "# repeat the elements 8 times which are at position multiple of 3\n",
    "\n",
    "print(a1[0 : : 3] * 8)"
   ]
  },
  {
   "cell_type": "code",
   "execution_count": 114,
   "id": "c12b303a",
   "metadata": {},
   "outputs": [
    {
     "name": "stdout",
     "output_type": "stream",
     "text": [
      "False\n"
     ]
    }
   ],
   "source": [
    "# 6. Membership (in)\n",
    "# Return TRUE if element is present inside the array\n",
    "\n",
    "a1 = array.array('i', [7,0,1,-6,-8,10])\n",
    "print(900 in a1)\n",
    "# print(0 in a1)"
   ]
  },
  {
   "cell_type": "code",
   "execution_count": null,
   "id": "13d2b11a",
   "metadata": {},
   "outputs": [],
   "source": []
  }
 ],
 "metadata": {
  "celltoolbar": "Edit Metadata",
  "kernelspec": {
   "display_name": "Python 3 (ipykernel)",
   "language": "python",
   "name": "python3"
  },
  "language_info": {
   "codemirror_mode": {
    "name": "ipython",
    "version": 3
   },
   "file_extension": ".py",
   "mimetype": "text/x-python",
   "name": "python",
   "nbconvert_exporter": "python",
   "pygments_lexer": "ipython3",
   "version": "3.11.1"
  }
 },
 "nbformat": 4,
 "nbformat_minor": 5
}
