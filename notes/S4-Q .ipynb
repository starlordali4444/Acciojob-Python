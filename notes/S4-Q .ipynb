{
 "cells": [
  {
   "cell_type": "markdown",
   "id": "7d41d282",
   "metadata": {},
   "source": [
    "# Data Structures in Python"
   ]
  },
  {
   "cell_type": "markdown",
   "id": "dcc1769f",
   "metadata": {},
   "source": [
    "Data Structures are a way of organizing data so that it can be accessed more efficiently depending upon the situation. Data Structures are fundamentals of any programming language around which a program is built."
   ]
  },
  {
   "cell_type": "markdown",
   "id": "28a746b8",
   "metadata": {},
   "source": [
    "# List"
   ]
  },
  {
   "cell_type": "markdown",
   "id": "59a6ce29",
   "metadata": {},
   "source": [
    "Python Lists are just like the arrays, declared in other languages which is an ordered collection of data. It is very flexible as the items in a list do not need to be of the same type.\n",
    "\n",
    "A list is created by placing elements inside square brackets '[ ]' , separated by commas. A list can have any number of items and they may be of different types (integer, float, string, etc.). A list can also have another list as an item."
   ]
  },
  {
   "cell_type": "markdown",
   "id": "e67f4700",
   "metadata": {},
   "source": [
    "Access List Elements\n",
    "\n",
    "There are various ways in which we can access the elements of a list. List Index\n",
    "\n",
    "We can use the index operator '[ ]' to access an item in a list. In Python, indices start at 0. So, a list having 5 elements will have an index from 0 to 4.\n",
    "\n",
    "Trying to access indexes other than these will raise an IndexError. The index must be an integer. We can't use float or other types, this will result in TypeError.\n",
    "\n",
    "Nested lists are accessed using nested indexing."
   ]
  },
  {
   "cell_type": "markdown",
   "id": "4d92236c",
   "metadata": {},
   "source": [
    "Python allows negative indexing for its sequences. The index of -1 refers to the last item, -2 to the second last item and so on."
   ]
  },
  {
   "cell_type": "code",
   "execution_count": 2,
   "id": "699593ee",
   "metadata": {},
   "outputs": [],
   "source": [
    "a=[]            # Empty list"
   ]
  },
  {
   "cell_type": "code",
   "execution_count": 3,
   "id": "9e6ec8f6",
   "metadata": {},
   "outputs": [
    {
     "data": {
      "text/plain": [
       "list"
      ]
     },
     "execution_count": 3,
     "metadata": {},
     "output_type": "execute_result"
    }
   ],
   "source": [
    "type(a)"
   ]
  },
  {
   "cell_type": "code",
   "execution_count": 4,
   "id": "66373cda",
   "metadata": {},
   "outputs": [],
   "source": [
    "a.append('Ankit')       # to add element in the list use append()"
   ]
  },
  {
   "cell_type": "code",
   "execution_count": 5,
   "id": "ebf0187d",
   "metadata": {},
   "outputs": [
    {
     "data": {
      "text/plain": [
       "['Ankit']"
      ]
     },
     "execution_count": 5,
     "metadata": {},
     "output_type": "execute_result"
    }
   ],
   "source": [
    "a"
   ]
  },
  {
   "cell_type": "code",
   "execution_count": 6,
   "id": "b0d397fb",
   "metadata": {},
   "outputs": [],
   "source": [
    "a.append('Rakshita')"
   ]
  },
  {
   "cell_type": "code",
   "execution_count": 7,
   "id": "3e6f59c9",
   "metadata": {},
   "outputs": [
    {
     "data": {
      "text/plain": [
       "['Ankit', 'Rakshita']"
      ]
     },
     "execution_count": 7,
     "metadata": {},
     "output_type": "execute_result"
    }
   ],
   "source": [
    "a"
   ]
  },
  {
   "cell_type": "code",
   "execution_count": 8,
   "id": "e549e2ed",
   "metadata": {},
   "outputs": [],
   "source": [
    "a.append('Medhir')"
   ]
  },
  {
   "cell_type": "code",
   "execution_count": 9,
   "id": "3b9ec855",
   "metadata": {},
   "outputs": [
    {
     "data": {
      "text/plain": [
       "['Ankit', 'Rakshita', 'Medhir']"
      ]
     },
     "execution_count": 9,
     "metadata": {},
     "output_type": "execute_result"
    }
   ],
   "source": [
    "a"
   ]
  },
  {
   "cell_type": "code",
   "execution_count": 10,
   "id": "c5e009d9",
   "metadata": {},
   "outputs": [
    {
     "name": "stdout",
     "output_type": "stream",
     "text": [
      "['Ankit', 'Rakshita', 'Medhir']\n"
     ]
    }
   ],
   "source": [
    "print(a)"
   ]
  },
  {
   "cell_type": "code",
   "execution_count": 11,
   "id": "4300b372",
   "metadata": {},
   "outputs": [],
   "source": [
    "a=[]\n",
    "a.append('Shirt')"
   ]
  },
  {
   "cell_type": "code",
   "execution_count": 12,
   "id": "d11e5fbc",
   "metadata": {},
   "outputs": [
    {
     "data": {
      "text/plain": [
       "['Shirt']"
      ]
     },
     "execution_count": 12,
     "metadata": {},
     "output_type": "execute_result"
    }
   ],
   "source": [
    "a"
   ]
  },
  {
   "cell_type": "code",
   "execution_count": 13,
   "id": "bc19f2a9",
   "metadata": {},
   "outputs": [
    {
     "ename": "TypeError",
     "evalue": "can only concatenate list (not \"str\") to list",
     "output_type": "error",
     "traceback": [
      "\u001b[1;31m---------------------------------------------------------------------------\u001b[0m",
      "\u001b[1;31mTypeError\u001b[0m                                 Traceback (most recent call last)",
      "Input \u001b[1;32mIn [13]\u001b[0m, in \u001b[0;36m<cell line: 1>\u001b[1;34m()\u001b[0m\n\u001b[1;32m----> 1\u001b[0m a\u001b[38;5;241m=\u001b[39m\u001b[43ma\u001b[49m\u001b[38;5;241;43m+\u001b[39;49m\u001b[38;5;124;43m'\u001b[39;49m\u001b[38;5;124;43mPant\u001b[39;49m\u001b[38;5;124;43m'\u001b[39;49m\n",
      "\u001b[1;31mTypeError\u001b[0m: can only concatenate list (not \"str\") to list"
     ]
    }
   ],
   "source": [
    "a=a+'Pant'       # can't concatenate string to list"
   ]
  },
  {
   "cell_type": "code",
   "execution_count": 14,
   "id": "53066d67",
   "metadata": {},
   "outputs": [],
   "source": [
    "a=a+['Pant']           # concatenate list to the list"
   ]
  },
  {
   "cell_type": "code",
   "execution_count": 15,
   "id": "1520f3af",
   "metadata": {},
   "outputs": [
    {
     "data": {
      "text/plain": [
       "['Shirt', 'Pant']"
      ]
     },
     "execution_count": 15,
     "metadata": {},
     "output_type": "execute_result"
    }
   ],
   "source": [
    "a"
   ]
  },
  {
   "cell_type": "code",
   "execution_count": 16,
   "id": "feacb06b",
   "metadata": {},
   "outputs": [
    {
     "data": {
      "text/plain": [
       "['Shirt', 'Pant', 'Jeans']"
      ]
     },
     "execution_count": 16,
     "metadata": {},
     "output_type": "execute_result"
    }
   ],
   "source": [
    "a+['Jeans']"
   ]
  },
  {
   "cell_type": "code",
   "execution_count": 17,
   "id": "cd39e078",
   "metadata": {},
   "outputs": [
    {
     "data": {
      "text/plain": [
       "['Shirt', 'Pant']"
      ]
     },
     "execution_count": 17,
     "metadata": {},
     "output_type": "execute_result"
    }
   ],
   "source": [
    "a"
   ]
  },
  {
   "cell_type": "code",
   "execution_count": 18,
   "id": "5f1a44aa",
   "metadata": {},
   "outputs": [],
   "source": [
    "a=a+[\"Shoes\",\"Tshirt\"]"
   ]
  },
  {
   "cell_type": "code",
   "execution_count": 19,
   "id": "731ce051",
   "metadata": {},
   "outputs": [
    {
     "data": {
      "text/plain": [
       "['Shirt', 'Pant', 'Shoes', 'Tshirt']"
      ]
     },
     "execution_count": 19,
     "metadata": {},
     "output_type": "execute_result"
    }
   ],
   "source": [
    "a"
   ]
  },
  {
   "cell_type": "code",
   "execution_count": 20,
   "id": "2be35a72",
   "metadata": {},
   "outputs": [
    {
     "data": {
      "text/plain": [
       "'Tshirt'"
      ]
     },
     "execution_count": 20,
     "metadata": {},
     "output_type": "execute_result"
    }
   ],
   "source": [
    "a.pop()   # to remove the item from the end"
   ]
  },
  {
   "cell_type": "code",
   "execution_count": 21,
   "id": "5e68f05b",
   "metadata": {},
   "outputs": [
    {
     "data": {
      "text/plain": [
       "['Shirt', 'Pant', 'Shoes']"
      ]
     },
     "execution_count": 21,
     "metadata": {},
     "output_type": "execute_result"
    }
   ],
   "source": [
    "a"
   ]
  },
  {
   "cell_type": "code",
   "execution_count": 22,
   "id": "78a69080",
   "metadata": {},
   "outputs": [
    {
     "data": {
      "text/plain": [
       "'Shoes'"
      ]
     },
     "execution_count": 22,
     "metadata": {},
     "output_type": "execute_result"
    }
   ],
   "source": [
    "a.pop()"
   ]
  },
  {
   "cell_type": "code",
   "execution_count": 23,
   "id": "e3e09245",
   "metadata": {},
   "outputs": [
    {
     "data": {
      "text/plain": [
       "['Shirt', 'Pant']"
      ]
     },
     "execution_count": 23,
     "metadata": {},
     "output_type": "execute_result"
    }
   ],
   "source": [
    "a"
   ]
  },
  {
   "cell_type": "code",
   "execution_count": 24,
   "id": "a134045e",
   "metadata": {},
   "outputs": [],
   "source": [
    "a=a+[\"Shoes\",\"Tshirt\"]          # concatenate multiple elements in the list"
   ]
  },
  {
   "cell_type": "code",
   "execution_count": 25,
   "id": "fd72755e",
   "metadata": {},
   "outputs": [
    {
     "data": {
      "text/plain": [
       "['Shirt', 'Pant', 'Shoes', 'Tshirt']"
      ]
     },
     "execution_count": 25,
     "metadata": {},
     "output_type": "execute_result"
    }
   ],
   "source": [
    "a"
   ]
  },
  {
   "cell_type": "markdown",
   "id": "6d01b7dd",
   "metadata": {},
   "source": [
    "# List slicing and list operations"
   ]
  },
  {
   "cell_type": "code",
   "execution_count": 26,
   "id": "83c8bb94",
   "metadata": {},
   "outputs": [
    {
     "data": {
      "text/plain": [
       "'Shirt'"
      ]
     },
     "execution_count": 26,
     "metadata": {},
     "output_type": "execute_result"
    }
   ],
   "source": [
    "a[0]"
   ]
  },
  {
   "cell_type": "code",
   "execution_count": 27,
   "id": "26f0bed2",
   "metadata": {},
   "outputs": [
    {
     "data": {
      "text/plain": [
       "'Pant'"
      ]
     },
     "execution_count": 27,
     "metadata": {},
     "output_type": "execute_result"
    }
   ],
   "source": [
    "a[1]"
   ]
  },
  {
   "cell_type": "code",
   "execution_count": 28,
   "id": "0f7d2ce0",
   "metadata": {},
   "outputs": [
    {
     "data": {
      "text/plain": [
       "'Tshirt'"
      ]
     },
     "execution_count": 28,
     "metadata": {},
     "output_type": "execute_result"
    }
   ],
   "source": [
    "a[-1]"
   ]
  },
  {
   "cell_type": "code",
   "execution_count": null,
   "id": "0f286e3a",
   "metadata": {
    "deletable": false,
    "editable": false
   },
   "outputs": [],
   "source": [
    "\n",
    "#what will be value of a at index 3 give your answer in below cell"
   ]
  },
  {
   "cell_type": "code",
   "execution_count": null,
   "id": "61796774",
   "metadata": {
    "cellId": "q4",
    "deletable": false
   },
   "outputs": [],
   "source": [
    "#answer here"
   ]
  },
  {
   "cell_type": "code",
   "execution_count": 29,
   "id": "3a2ac9e0",
   "metadata": {},
   "outputs": [
    {
     "data": {
      "text/plain": [
       "['Pant', 'Shoes']"
      ]
     },
     "execution_count": 29,
     "metadata": {},
     "output_type": "execute_result"
    }
   ],
   "source": [
    "a[1:3]    # [start: end+1: step]"
   ]
  },
  {
   "cell_type": "code",
   "execution_count": 30,
   "id": "7fa6f4c3",
   "metadata": {},
   "outputs": [],
   "source": [
    "num=[1,2,3,6,9,8,7,4,5,2,1,4,5,6,9,8,7]"
   ]
  },
  {
   "cell_type": "code",
   "execution_count": 31,
   "id": "0c41365f",
   "metadata": {},
   "outputs": [
    {
     "data": {
      "text/plain": [
       "17"
      ]
     },
     "execution_count": 31,
     "metadata": {},
     "output_type": "execute_result"
    }
   ],
   "source": [
    "len(num)"
   ]
  },
  {
   "cell_type": "code",
   "execution_count": 32,
   "id": "4bc06143",
   "metadata": {},
   "outputs": [
    {
     "data": {
      "text/plain": [
       "[3, 6, 9, 8, 7, 4]"
      ]
     },
     "execution_count": 32,
     "metadata": {},
     "output_type": "execute_result"
    }
   ],
   "source": [
    "# Elements from 2nd to 7th item\n",
    "\n",
    "num[2:8]"
   ]
  },
  {
   "cell_type": "code",
   "execution_count": 33,
   "id": "e579ee8f",
   "metadata": {},
   "outputs": [
    {
     "data": {
      "text/plain": [
       "6"
      ]
     },
     "execution_count": 33,
     "metadata": {},
     "output_type": "execute_result"
    }
   ],
   "source": [
    "# 4th element from end\n",
    "num[-4]"
   ]
  },
  {
   "cell_type": "code",
   "execution_count": null,
   "id": "7b0bd75a",
   "metadata": {
    "deletable": false,
    "editable": false
   },
   "outputs": [],
   "source": [
    "#Find the element from 1 to 5th item in below cell"
   ]
  },
  {
   "cell_type": "code",
   "execution_count": null,
   "id": "36c610cd",
   "metadata": {
    "cellId": "w4",
    "deletable": false
   },
   "outputs": [],
   "source": [
    "#answer here"
   ]
  },
  {
   "cell_type": "code",
   "execution_count": 34,
   "id": "a3cd260c",
   "metadata": {},
   "outputs": [
    {
     "data": {
      "text/plain": [
       "[6, 9, 8, 7]"
      ]
     },
     "execution_count": 34,
     "metadata": {},
     "output_type": "execute_result"
    }
   ],
   "source": [
    "# 4th  from end to last element\n",
    "\n",
    "num[-4:]"
   ]
  },
  {
   "cell_type": "code",
   "execution_count": 35,
   "id": "6e6e784a",
   "metadata": {},
   "outputs": [],
   "source": [
    "# 4th  from end to last element\n",
    "\n",
    "num1=num[-4:][-2]"
   ]
  },
  {
   "cell_type": "code",
   "execution_count": 36,
   "id": "aa31e6d8",
   "metadata": {},
   "outputs": [
    {
     "data": {
      "text/plain": [
       "8"
      ]
     },
     "execution_count": 36,
     "metadata": {},
     "output_type": "execute_result"
    }
   ],
   "source": [
    "num1"
   ]
  },
  {
   "cell_type": "code",
   "execution_count": 37,
   "id": "6853f3ca",
   "metadata": {},
   "outputs": [
    {
     "data": {
      "text/plain": [
       "[1, 2, 3, 6, 9, 8, 7, 4, 5, 2, 1, 4, 5, 6, 9, 8, 7]"
      ]
     },
     "execution_count": 37,
     "metadata": {},
     "output_type": "execute_result"
    }
   ],
   "source": [
    "num"
   ]
  },
  {
   "cell_type": "code",
   "execution_count": 40,
   "id": "884a1aa7",
   "metadata": {},
   "outputs": [
    {
     "name": "stdout",
     "output_type": "stream",
     "text": [
      "2 6 8 4 2 4 6 8 "
     ]
    }
   ],
   "source": [
    "# find out the even numbers from the list\n",
    "\n",
    "for i in num:\n",
    "    if i%2==0:\n",
    "        print(i,end =' ')"
   ]
  },
  {
   "cell_type": "code",
   "execution_count": 41,
   "id": "60726c5e",
   "metadata": {},
   "outputs": [],
   "source": [
    "# find out the even numbers from the list\n",
    "even=[]\n",
    "for i in num:\n",
    "    if i%2==0:\n",
    "        even.append(i)"
   ]
  },
  {
   "cell_type": "code",
   "execution_count": 42,
   "id": "2f5ddb57",
   "metadata": {},
   "outputs": [
    {
     "data": {
      "text/plain": [
       "[2, 6, 8, 4, 2, 4, 6, 8]"
      ]
     },
     "execution_count": 42,
     "metadata": {},
     "output_type": "execute_result"
    }
   ],
   "source": [
    "even"
   ]
  },
  {
   "cell_type": "code",
   "execution_count": null,
   "id": "01dcd3f3",
   "metadata": {
    "deletable": false,
    "editable": false
   },
   "outputs": [],
   "source": [
    "# find out the unique even numbers from the list in the below cell\n",
    "num=[1,2,3,6,9,8,7,4,5,2,1,4,5,6,9,8,7]"
   ]
  },
  {
   "cell_type": "code",
   "execution_count": null,
   "id": "380928c7",
   "metadata": {
    "cellId": "E4",
    "deletable": false
   },
   "outputs": [],
   "source": [
    "#answer here"
   ]
  },
  {
   "cell_type": "code",
   "execution_count": 43,
   "id": "a82d75b1",
   "metadata": {},
   "outputs": [],
   "source": [
    "even.sort()       # to sort the list in ascending order"
   ]
  },
  {
   "cell_type": "code",
   "execution_count": 44,
   "id": "6b41401a",
   "metadata": {},
   "outputs": [
    {
     "data": {
      "text/plain": [
       "[2, 2, 4, 4, 6, 6, 8, 8]"
      ]
     },
     "execution_count": 44,
     "metadata": {},
     "output_type": "execute_result"
    }
   ],
   "source": [
    "even"
   ]
  },
  {
   "cell_type": "code",
   "execution_count": 45,
   "id": "f146f8f3",
   "metadata": {},
   "outputs": [],
   "source": [
    "even.sort(reverse=True)  # sort the list in the reverse "
   ]
  },
  {
   "cell_type": "code",
   "execution_count": 46,
   "id": "e9fefaf6",
   "metadata": {},
   "outputs": [
    {
     "data": {
      "text/plain": [
       "[8, 8, 6, 6, 4, 4, 2, 2]"
      ]
     },
     "execution_count": 46,
     "metadata": {},
     "output_type": "execute_result"
    }
   ],
   "source": [
    "even"
   ]
  },
  {
   "cell_type": "code",
   "execution_count": 47,
   "id": "eab27d87",
   "metadata": {},
   "outputs": [
    {
     "data": {
      "text/plain": [
       "[8, 8, 6, 6, 4, 4, 2, 2]"
      ]
     },
     "execution_count": 47,
     "metadata": {},
     "output_type": "execute_result"
    }
   ],
   "source": [
    "even"
   ]
  },
  {
   "cell_type": "code",
   "execution_count": 48,
   "id": "ef19f68c",
   "metadata": {},
   "outputs": [],
   "source": [
    "even.extend([10,12,14])"
   ]
  },
  {
   "cell_type": "code",
   "execution_count": 49,
   "id": "101f9f1f",
   "metadata": {},
   "outputs": [
    {
     "data": {
      "text/plain": [
       "[8, 8, 6, 6, 4, 4, 2, 2, 10, 12, 14]"
      ]
     },
     "execution_count": 49,
     "metadata": {},
     "output_type": "execute_result"
    }
   ],
   "source": [
    "even"
   ]
  },
  {
   "cell_type": "code",
   "execution_count": 50,
   "id": "bb5ca9d1",
   "metadata": {},
   "outputs": [
    {
     "data": {
      "text/plain": [
       "6"
      ]
     },
     "execution_count": 50,
     "metadata": {},
     "output_type": "execute_result"
    }
   ],
   "source": [
    "even.pop(2)   # remove element from specific index"
   ]
  },
  {
   "cell_type": "code",
   "execution_count": 51,
   "id": "9f635b8d",
   "metadata": {},
   "outputs": [],
   "source": [
    "even.remove(8)  # remove a specific element"
   ]
  },
  {
   "cell_type": "code",
   "execution_count": 52,
   "id": "0399ada3",
   "metadata": {},
   "outputs": [
    {
     "data": {
      "text/plain": [
       "[8, 6, 4, 4, 2, 2, 10, 12, 14]"
      ]
     },
     "execution_count": 52,
     "metadata": {},
     "output_type": "execute_result"
    }
   ],
   "source": [
    "even"
   ]
  },
  {
   "cell_type": "code",
   "execution_count": 53,
   "id": "69a49078",
   "metadata": {},
   "outputs": [],
   "source": [
    "even.insert(2,'Mango')      # to insert an element at specific elements"
   ]
  },
  {
   "cell_type": "code",
   "execution_count": 54,
   "id": "07a84a4b",
   "metadata": {},
   "outputs": [
    {
     "data": {
      "text/plain": [
       "[8, 6, 'Mango', 4, 4, 2, 2, 10, 12, 14]"
      ]
     },
     "execution_count": 54,
     "metadata": {},
     "output_type": "execute_result"
    }
   ],
   "source": [
    "even"
   ]
  },
  {
   "cell_type": "code",
   "execution_count": 55,
   "id": "932cceb7",
   "metadata": {},
   "outputs": [],
   "source": [
    "x=[1,2,3,4]\n",
    "y=x"
   ]
  },
  {
   "cell_type": "code",
   "execution_count": 56,
   "id": "ea4fd5bc",
   "metadata": {},
   "outputs": [
    {
     "data": {
      "text/plain": [
       "[1, 2, 3, 4]"
      ]
     },
     "execution_count": 56,
     "metadata": {},
     "output_type": "execute_result"
    }
   ],
   "source": [
    "y"
   ]
  },
  {
   "cell_type": "code",
   "execution_count": 57,
   "id": "3032f2a6",
   "metadata": {},
   "outputs": [],
   "source": [
    "z=y.copy()      # to copy the list "
   ]
  },
  {
   "cell_type": "code",
   "execution_count": 58,
   "id": "8714003f",
   "metadata": {},
   "outputs": [
    {
     "data": {
      "text/plain": [
       "[1, 2, 3, 4]"
      ]
     },
     "execution_count": 58,
     "metadata": {},
     "output_type": "execute_result"
    }
   ],
   "source": [
    "z"
   ]
  },
  {
   "cell_type": "code",
   "execution_count": 59,
   "id": "15ebe7b0",
   "metadata": {},
   "outputs": [],
   "source": [
    "z.clear()        # to clear the list completely"
   ]
  },
  {
   "cell_type": "code",
   "execution_count": 60,
   "id": "a5915126",
   "metadata": {},
   "outputs": [
    {
     "data": {
      "text/plain": [
       "[]"
      ]
     },
     "execution_count": 60,
     "metadata": {},
     "output_type": "execute_result"
    }
   ],
   "source": [
    "z"
   ]
  },
  {
   "cell_type": "code",
   "execution_count": 61,
   "id": "3f2ba84e",
   "metadata": {},
   "outputs": [],
   "source": [
    "del y          # to delete the list"
   ]
  },
  {
   "cell_type": "code",
   "execution_count": 62,
   "id": "b89a4255",
   "metadata": {},
   "outputs": [
    {
     "ename": "NameError",
     "evalue": "name 'y' is not defined",
     "output_type": "error",
     "traceback": [
      "\u001b[1;31m---------------------------------------------------------------------------\u001b[0m",
      "\u001b[1;31mNameError\u001b[0m                                 Traceback (most recent call last)",
      "Input \u001b[1;32mIn [62]\u001b[0m, in \u001b[0;36m<cell line: 1>\u001b[1;34m()\u001b[0m\n\u001b[1;32m----> 1\u001b[0m \u001b[43my\u001b[49m\n",
      "\u001b[1;31mNameError\u001b[0m: name 'y' is not defined"
     ]
    }
   ],
   "source": [
    "y"
   ]
  },
  {
   "cell_type": "code",
   "execution_count": 63,
   "id": "1e125eed",
   "metadata": {},
   "outputs": [
    {
     "data": {
      "text/plain": [
       "[1, 2, 3, 4]"
      ]
     },
     "execution_count": 63,
     "metadata": {},
     "output_type": "execute_result"
    }
   ],
   "source": [
    "x"
   ]
  },
  {
   "cell_type": "code",
   "execution_count": 64,
   "id": "eb241a47",
   "metadata": {},
   "outputs": [],
   "source": [
    "del x[1:3]        # to delete the portion of the list"
   ]
  },
  {
   "cell_type": "code",
   "execution_count": 65,
   "id": "e99ca50f",
   "metadata": {},
   "outputs": [
    {
     "data": {
      "text/plain": [
       "[1, 4]"
      ]
     },
     "execution_count": 65,
     "metadata": {},
     "output_type": "execute_result"
    }
   ],
   "source": [
    "x"
   ]
  },
  {
   "cell_type": "code",
   "execution_count": 66,
   "id": "3544f0ed",
   "metadata": {},
   "outputs": [],
   "source": [
    "e=[['mango','apple','cherry'],['Shirt','Pant','Tshirt']]          # to create list of the list"
   ]
  },
  {
   "cell_type": "code",
   "execution_count": 67,
   "id": "124ceff4",
   "metadata": {},
   "outputs": [
    {
     "data": {
      "text/plain": [
       "[['mango', 'apple', 'cherry'], ['Shirt', 'Pant', 'Tshirt']]"
      ]
     },
     "execution_count": 67,
     "metadata": {},
     "output_type": "execute_result"
    }
   ],
   "source": [
    "e"
   ]
  },
  {
   "cell_type": "code",
   "execution_count": 68,
   "id": "05213bd2",
   "metadata": {},
   "outputs": [],
   "source": [
    "fruit=e[0]"
   ]
  },
  {
   "cell_type": "code",
   "execution_count": 69,
   "id": "1baa07a6",
   "metadata": {},
   "outputs": [
    {
     "data": {
      "text/plain": [
       "['mango', 'apple', 'cherry']"
      ]
     },
     "execution_count": 69,
     "metadata": {},
     "output_type": "execute_result"
    }
   ],
   "source": [
    "fruit"
   ]
  },
  {
   "cell_type": "code",
   "execution_count": 70,
   "id": "bff50cce",
   "metadata": {},
   "outputs": [],
   "source": [
    "fashion=e[1]"
   ]
  },
  {
   "cell_type": "code",
   "execution_count": 71,
   "id": "40da9422",
   "metadata": {},
   "outputs": [
    {
     "data": {
      "text/plain": [
       "['Shirt', 'Pant', 'Tshirt']"
      ]
     },
     "execution_count": 71,
     "metadata": {},
     "output_type": "execute_result"
    }
   ],
   "source": [
    "fashion"
   ]
  },
  {
   "cell_type": "code",
   "execution_count": 72,
   "id": "ec986e78",
   "metadata": {},
   "outputs": [],
   "source": [
    "e[1][-1]='Shoes'"
   ]
  },
  {
   "cell_type": "code",
   "execution_count": 73,
   "id": "d4b5c4b9",
   "metadata": {},
   "outputs": [
    {
     "data": {
      "text/plain": [
       "[['mango', 'apple', 'cherry'], ['Shirt', 'Pant', 'Shoes']]"
      ]
     },
     "execution_count": 73,
     "metadata": {},
     "output_type": "execute_result"
    }
   ],
   "source": [
    "e"
   ]
  },
  {
   "cell_type": "markdown",
   "id": "79af2c41",
   "metadata": {},
   "source": [
    "# List comprehension"
   ]
  },
  {
   "cell_type": "markdown",
   "id": "123d0953",
   "metadata": {},
   "source": [
    "A Python list comprehension consists of brackets containing the expression, which is executed for each element along with the for loop to iterate over each element in the Python list.\n",
    "\n",
    "Python List comprehension provides a much more short syntax for creating a new list based on the values of an existing list.\n",
    "\n"
   ]
  },
  {
   "cell_type": "code",
   "execution_count": 74,
   "id": "c6aaa894",
   "metadata": {},
   "outputs": [
    {
     "data": {
      "text/plain": [
       "[2, 6, 8, 4, 2, 4, 6, 8]"
      ]
     },
     "execution_count": 74,
     "metadata": {},
     "output_type": "execute_result"
    }
   ],
   "source": [
    "num=[1,2,3,6,9,8,7,4,5,2,1,4,5,6,9,8,7]\n",
    "even=[]\n",
    "for i in num:\n",
    "    if i%2==0:\n",
    "        even.append(i)\n",
    "even\n"
   ]
  },
  {
   "cell_type": "code",
   "execution_count": 75,
   "id": "19399f26",
   "metadata": {},
   "outputs": [
    {
     "data": {
      "text/plain": [
       "[2, 6, 8, 4, 2, 4, 6, 8]"
      ]
     },
     "execution_count": 75,
     "metadata": {},
     "output_type": "execute_result"
    }
   ],
   "source": [
    "even1=[i for i in num if i%2==0]\n",
    "even1"
   ]
  },
  {
   "cell_type": "code",
   "execution_count": 76,
   "id": "4a5c2eb4",
   "metadata": {},
   "outputs": [],
   "source": [
    "even_square=[i**2 for i in num if i%2==0]"
   ]
  },
  {
   "cell_type": "code",
   "execution_count": 77,
   "id": "c01bc4e5",
   "metadata": {},
   "outputs": [
    {
     "data": {
      "text/plain": [
       "[4, 36, 64, 16, 4, 16, 36, 64]"
      ]
     },
     "execution_count": 77,
     "metadata": {},
     "output_type": "execute_result"
    }
   ],
   "source": [
    "even_square"
   ]
  },
  {
   "cell_type": "code",
   "execution_count": null,
   "id": "6d6762e3",
   "metadata": {},
   "outputs": [],
   "source": []
  },
  {
   "cell_type": "code",
   "execution_count": 78,
   "id": "d80a5c8b",
   "metadata": {},
   "outputs": [
    {
     "name": "stdout",
     "output_type": "stream",
     "text": [
      "[[0, 1, 2, 3], [0, 1, 2, 3], [0, 1, 2, 3]]\n"
     ]
    }
   ],
   "source": [
    "# Nested list comprehension\n",
    "list_list = [[j for j in range(4)] for i in range(3)]\n",
    " \n",
    "print(list_list)"
   ]
  },
  {
   "cell_type": "code",
   "execution_count": 79,
   "id": "299b9671",
   "metadata": {},
   "outputs": [
    {
     "name": "stdout",
     "output_type": "stream",
     "text": [
      "[0, 10, 20, 30, 40, 50, 60, 70, 80, 90]\n"
     ]
    }
   ],
   "source": [
    "# Nested IF with List Comprehension\n",
    "num_list = [y for y in range(100) if y % 2 == 0 if y % 5 == 0]\n",
    "print(num_list)"
   ]
  },
  {
   "cell_type": "code",
   "execution_count": 80,
   "id": "dae21e3e",
   "metadata": {},
   "outputs": [
    {
     "name": "stdout",
     "output_type": "stream",
     "text": [
      "['Even', 'Odd', 'Even', 'Odd', 'Even', 'Odd', 'Even', 'Odd', 'Even', 'Odd']\n"
     ]
    }
   ],
   "source": [
    "#  if...else With List Comprehension\n",
    "\n",
    "obj = [\"Even\" if i%2==0 else \"Odd\" for i in range(10)]\n",
    "print(obj)"
   ]
  },
  {
   "cell_type": "code",
   "execution_count": null,
   "id": "6574ee7b",
   "metadata": {},
   "outputs": [],
   "source": []
  }
 ],
 "metadata": {
  "celltoolbar": "Edit Metadata",
  "kernelspec": {
   "display_name": "Python 3 (ipykernel)",
   "language": "python",
   "name": "python3"
  },
  "language_info": {
   "codemirror_mode": {
    "name": "ipython",
    "version": 3
   },
   "file_extension": ".py",
   "mimetype": "text/x-python",
   "name": "python",
   "nbconvert_exporter": "python",
   "pygments_lexer": "ipython3",
   "version": "3.9.12"
  }
 },
 "nbformat": 4,
 "nbformat_minor": 5
}
