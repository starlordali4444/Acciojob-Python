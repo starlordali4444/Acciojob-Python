{
 "cells": [
  {
   "cell_type": "markdown",
   "id": "e6d92253",
   "metadata": {},
   "source": [
    "# Random Module in Python\n",
    "You can generate random numbers in Python by using random module.\n",
    "\n",
    "Python offers random module that can generate random numbers.\n",
    "\n",
    "These are pseudo-random number as the sequence of number generated depends on the seed.\n",
    "\n",
    "Almost all module functions depend on the basic function random(), which generates a random float uniformly in the semi-open range [0.0, 1.0)."
   ]
  },
  {
   "cell_type": "code",
   "execution_count": 1,
   "id": "5bfd1e8e",
   "metadata": {},
   "outputs": [
    {
     "name": "stdout",
     "output_type": "stream",
     "text": [
      "0.5160735747019332\n"
     ]
    }
   ],
   "source": [
    "import random        # import the random module from python\n",
    "print(random.random())    # use random from random module to generate any random number between 0 and 1"
   ]
  },
  {
   "cell_type": "code",
   "execution_count": 2,
   "id": "54caa066",
   "metadata": {},
   "outputs": [
    {
     "name": "stdout",
     "output_type": "stream",
     "text": [
      "0.9444781821421753\n"
     ]
    }
   ],
   "source": [
    "print(random.random()) "
   ]
  },
  {
   "cell_type": "markdown",
   "id": "f5505b7c",
   "metadata": {},
   "source": [
    "randint(a, b) -- Returns a random integer between a and b inclusive"
   ]
  },
  {
   "cell_type": "code",
   "execution_count": 3,
   "id": "2c888d8c",
   "metadata": {},
   "outputs": [
    {
     "data": {
      "text/plain": [
       "8"
      ]
     },
     "execution_count": 3,
     "metadata": {},
     "output_type": "execute_result"
    }
   ],
   "source": [
    "random.randint(1,20)"
   ]
  },
  {
   "cell_type": "code",
   "execution_count": 4,
   "id": "90567a81",
   "metadata": {},
   "outputs": [
    {
     "data": {
      "text/plain": [
       "30"
      ]
     },
     "execution_count": 4,
     "metadata": {},
     "output_type": "execute_result"
    }
   ],
   "source": [
    "random.randint(21,100)"
   ]
  },
  {
   "cell_type": "markdown",
   "id": "9ea69e8a",
   "metadata": {},
   "source": [
    "randrange(start, stop[, step]) -- Returns a random integer from the range"
   ]
  },
  {
   "cell_type": "code",
   "execution_count": 5,
   "id": "fe90a647",
   "metadata": {},
   "outputs": [
    {
     "data": {
      "text/plain": [
       "16"
      ]
     },
     "execution_count": 5,
     "metadata": {},
     "output_type": "execute_result"
    }
   ],
   "source": [
    "random.randrange(1,20,5)"
   ]
  },
  {
   "cell_type": "code",
   "execution_count": 6,
   "id": "89287452",
   "metadata": {},
   "outputs": [
    {
     "data": {
      "text/plain": [
       "110"
      ]
     },
     "execution_count": 6,
     "metadata": {},
     "output_type": "execute_result"
    }
   ],
   "source": [
    "random.randrange(0,200,10)"
   ]
  },
  {
   "cell_type": "markdown",
   "id": "6026bc44",
   "metadata": {},
   "source": [
    "choice(seq) -- Return a random element from the non-empty sequence"
   ]
  },
  {
   "cell_type": "code",
   "execution_count": 7,
   "id": "0d393793",
   "metadata": {},
   "outputs": [
    {
     "data": {
      "text/plain": [
       "'draw'"
      ]
     },
     "execution_count": 7,
     "metadata": {},
     "output_type": "execute_result"
    }
   ],
   "source": [
    "random.choice(['win', 'lose', 'draw'])"
   ]
  },
  {
   "cell_type": "code",
   "execution_count": 8,
   "id": "c1d5ed7d",
   "metadata": {},
   "outputs": [
    {
     "data": {
      "text/plain": [
       "'win'"
      ]
     },
     "execution_count": 8,
     "metadata": {},
     "output_type": "execute_result"
    }
   ],
   "source": [
    "random.choice(['win', 'lose', 'draw'])"
   ]
  },
  {
   "cell_type": "code",
   "execution_count": 9,
   "id": "790a27ed",
   "metadata": {},
   "outputs": [
    {
     "data": {
      "text/plain": [
       "'draw'"
      ]
     },
     "execution_count": 9,
     "metadata": {},
     "output_type": "execute_result"
    }
   ],
   "source": [
    "random.choice(['win', 'lose', 'draw'])"
   ]
  },
  {
   "cell_type": "code",
   "execution_count": null,
   "id": "fb05798f",
   "metadata": {
    "deletable": false,
    "editable": false
   },
   "outputs": [],
   "source": [
    "#fINd the random choice value from the below values in below cell\n",
    "([1,2,3,4,5,6,7,8,9])"
   ]
  },
  {
   "cell_type": "code",
   "execution_count": null,
   "id": "b84eb205",
   "metadata": {
    "cellId": "t8",
    "deletable": false
   },
   "outputs": [],
   "source": [
    "#answer here"
   ]
  },
  {
   "cell_type": "markdown",
   "id": "6bc1f696",
   "metadata": {},
   "source": [
    "# choices( )\n",
    "\n",
    "The choices( ) method returns a list with the randomly selected element from the specified sequence.\n",
    "\n",
    "You can weigh the possibility of each result with the weights parameter or the cum_weights parameter.\n",
    "\n",
    "The sequence can be a string, a range, a list, a tuple or any other kind of sequence."
   ]
  },
  {
   "cell_type": "markdown",
   "id": "9439cd2b",
   "metadata": {},
   "source": [
    "# sample()\n",
    "\n",
    "sample() is an inbuilt function of random module in Python that returns a particular length list of items chosen from the sequence i.e. list, tuple, string or set. Used for random sampling without replacement."
   ]
  },
  {
   "cell_type": "code",
   "execution_count": 10,
   "id": "4cc39fc8",
   "metadata": {},
   "outputs": [
    {
     "name": "stdout",
     "output_type": "stream",
     "text": [
      "[1, 5, 4]\n"
     ]
    }
   ],
   "source": [
    "# Prints list of random items of given length\n",
    "list1 = [1, 2, 3, 4, 5] \n",
    "  \n",
    "print(random.sample(list1,3))"
   ]
  },
  {
   "cell_type": "code",
   "execution_count": 11,
   "id": "3c38bcc0",
   "metadata": {},
   "outputs": [
    {
     "name": "stdout",
     "output_type": "stream",
     "text": [
      "With tuple: ['Pizza', 'ankit', 'btech', 'Amish']\n"
     ]
    }
   ],
   "source": [
    "# Prints list of random items of\n",
    "# length 4 from the given tuple.\n",
    "tuple1 = (\"ankit\", \"Amish\", \"computer\", \"science\",\"Pizza\", \"scientist\", \"btech\")\n",
    "print(\"With tuple:\", random.sample(tuple1, 4))"
   ]
  },
  {
   "cell_type": "code",
   "execution_count": 12,
   "id": "39a165c3",
   "metadata": {},
   "outputs": [
    {
     "name": "stdout",
     "output_type": "stream",
     "text": [
      "With set: ['e', 'b', 'd']\n"
     ]
    },
    {
     "name": "stderr",
     "output_type": "stream",
     "text": [
      "C:\\Users\\neels\\AppData\\Local\\Temp\\ipykernel_319780\\768775303.py:4: DeprecationWarning: Sampling from a set deprecated\n",
      "since Python 3.9 and will be removed in a subsequent version.\n",
      "  print(\"With set:\", random.sample(set1, 3))\n"
     ]
    }
   ],
   "source": [
    "# Prints list of random items of\n",
    "# length 3 from the given set.\n",
    "set1 = {\"a\", \"b\", \"c\", \"d\", \"e\"}\n",
    "print(\"With set:\", random.sample(set1, 3))"
   ]
  },
  {
   "cell_type": "markdown",
   "id": "6593a989",
   "metadata": {},
   "source": [
    "# String Module in Python\n",
    "The string module contains a number of functions to process standard Python strings.\n",
    "\n",
    "Python String module contains some constants, utility function, and classes for string manipulation."
   ]
  },
  {
   "cell_type": "code",
   "execution_count": 13,
   "id": "633a886c",
   "metadata": {},
   "outputs": [
    {
     "name": "stdout",
     "output_type": "stream",
     "text": [
      "string.ascii_letters --->> abcdefghijklmnopqrstuvwxyzABCDEFGHIJKLMNOPQRSTUVWXYZ\n",
      "string.ascii_lowercase --->> abcdefghijklmnopqrstuvwxyz\n",
      "string.ascii_uppercase --->> ABCDEFGHIJKLMNOPQRSTUVWXYZ\n",
      "string.digits --->> 0123456789\n",
      "string.hexdigits --->> 0123456789abcdefABCDEF\n",
      "string.whitespace --->>  \t\n",
      "\u000b",
      "\f",
      "\n",
      "string.punctuation --->> !\"#$%&'()*+,-./:;<=>?@[\\]^_`{|}~\n"
     ]
    }
   ],
   "source": [
    "import string\n",
    "\n",
    "# string module constants\n",
    "# 1. The set of all letters, essentially a union of ascii_lowercase and ascii_uppercase.\n",
    "print('string.ascii_letters --->>',string.ascii_letters) \n",
    "\n",
    "# 2. The lowercase letters in the ASCII character set: 'abcdefghijklmnopqrstuvwxyz'.\n",
    "print('string.ascii_lowercase --->>', string.ascii_lowercase)\n",
    "\n",
    "# 3. The uppercase letters in the ASCII character set: 'ABCDEFGHIJKLMNOPQRSTUVWXYZ'\n",
    "print('string.ascii_uppercase --->>', string.ascii_uppercase)\n",
    "\n",
    "# 4. The digits used to make decimal numbers: '0123456789'\n",
    "print('string.digits --->>', string.digits)\n",
    "\n",
    "# 5. The digits used to make hexadecimal numbers: '0123456789abcdefABCDEF'\n",
    "print('string.hexdigits --->>', string.hexdigits)\n",
    "\n",
    "# 6. A collection of characters that cause spacing to happen. For ASCII this is '\\t\\n\\x0b\\x0c\\r '\n",
    "print('string.whitespace --->>', string.whitespace)  # ' \\t\\n\\r\\x0b\\x0c'\n",
    "\n",
    "\n",
    "# 7. All punctuation in the ASCII character set, this is '!\"#$%&\\'()*+,-./:;<=>?@[\\\\]^_`{|}~'\n",
    "print('string.punctuation --->>', string.punctuation)"
   ]
  },
  {
   "cell_type": "code",
   "execution_count": 14,
   "id": "8c5afb7a",
   "metadata": {},
   "outputs": [
    {
     "name": "stdout",
     "output_type": "stream",
     "text": [
      "m1CXkz\n"
     ]
    }
   ],
   "source": [
    "# generate strong random passwords of given size.\n",
    "# Importing random to generate\n",
    "# random string sequence\n",
    "import random\n",
    "# Importing string library function\n",
    "import string\n",
    "  \n",
    "def rand_pass(size):\n",
    "    # Takes random choices from\n",
    "    # ascii_letters and digits\n",
    "    generate_pass = ''.join([random.choice(\n",
    "                        string.ascii_letters + string.digits)\n",
    "                        for n in range(size)])\n",
    "                          \n",
    "    return generate_pass\n",
    "  \n",
    "# Driver Code \n",
    "password = rand_pass(6)\n",
    "print(password)"
   ]
  },
  {
   "cell_type": "markdown",
   "id": "a5aca5c8",
   "metadata": {},
   "source": [
    "# Lambda( )\n",
    "\n",
    "\n",
    "In Python, an anonymous function is a function that is defined without a name.\n",
    "\n",
    "While normal functions are defined using the def keyword in Python, anonymous functions are defined using the lambda keyword.\n",
    "\n",
    "Hence, anonymous functions are also called lambda functions."
   ]
  },
  {
   "cell_type": "code",
   "execution_count": 15,
   "id": "0afff049",
   "metadata": {},
   "outputs": [],
   "source": [
    "def double_number(number):\n",
    "    y=number*2\n",
    "    return y"
   ]
  },
  {
   "cell_type": "code",
   "execution_count": 16,
   "id": "e27892b1",
   "metadata": {},
   "outputs": [
    {
     "data": {
      "text/plain": [
       "31.0"
      ]
     },
     "execution_count": 16,
     "metadata": {},
     "output_type": "execute_result"
    }
   ],
   "source": [
    "double_number(15.5)"
   ]
  },
  {
   "cell_type": "code",
   "execution_count": 17,
   "id": "9b6496c2",
   "metadata": {},
   "outputs": [
    {
     "name": "stdout",
     "output_type": "stream",
     "text": [
      "301.0\n"
     ]
    }
   ],
   "source": [
    "# Program to show the use of lambda functions\n",
    "double = lambda x: x * 2\n",
    "\n",
    "print(double(150.5))"
   ]
  },
  {
   "cell_type": "markdown",
   "id": "cb1c4572",
   "metadata": {},
   "source": [
    "We use lambda functions when we require a nameless function for a short period of time.\n",
    "\n",
    "In Python, we generally use it as an argument to a higher-order function (a function that takes in other functions as arguments). Lambda functions are used along with built-in functions like filter(), map() etc."
   ]
  },
  {
   "cell_type": "markdown",
   "id": "0c3d491e",
   "metadata": {},
   "source": [
    "The filter() function in Python takes in a function and a list as arguments.\n",
    "\n",
    "The function is called with all the items in the list and a new list is returned which contains items for which the function evaluates to True.\n",
    "\n",
    "Here is an example use of filter() function to filter out only even numbers from a list."
   ]
  },
  {
   "cell_type": "code",
   "execution_count": 19,
   "id": "c59f1742",
   "metadata": {},
   "outputs": [
    {
     "name": "stdout",
     "output_type": "stream",
     "text": [
      "[4, 6, 8, 12]\n"
     ]
    }
   ],
   "source": [
    "# Program to filter out only the even items from a list\n",
    "my_list = [1, 5, 4, 6, 8, 11, 3, 12]\n",
    "\n",
    "# Filter syntax\n",
    "# fliter(lambda function,iterable)\n",
    "\n",
    "new_list = list(filter(lambda x: (x%2 == 0) , my_list))\n",
    "\n",
    "print(new_list)"
   ]
  },
  {
   "cell_type": "code",
   "execution_count": 20,
   "id": "054f8d7a",
   "metadata": {},
   "outputs": [
    {
     "name": "stdout",
     "output_type": "stream",
     "text": [
      "[2, 10, 8, 12, 16, 22, 6, 24]\n"
     ]
    }
   ],
   "source": [
    "# Program to double each item in a list using map()\n",
    "\n",
    "my_list = [1, 5, 4, 6, 8, 11, 3, 12]\n",
    "\n",
    "new_list = list(map(lambda x: x * 2 , my_list))\n",
    "\n",
    "print(new_list)"
   ]
  },
  {
   "cell_type": "code",
   "execution_count": null,
   "id": "cff03a15",
   "metadata": {
    "deletable": false,
    "editable": false
   },
   "outputs": [],
   "source": [
    "#program to triple each item in a list using map() in below cell"
   ]
  },
  {
   "cell_type": "code",
   "execution_count": null,
   "id": "8907452a",
   "metadata": {
    "cellId": "w8",
    "deletable": false
   },
   "outputs": [],
   "source": [
    "#answer here"
   ]
  }
 ],
 "metadata": {
  "celltoolbar": "Edit Metadata",
  "kernelspec": {
   "display_name": "Python 3 (ipykernel)",
   "language": "python",
   "name": "python3"
  },
  "language_info": {
   "codemirror_mode": {
    "name": "ipython",
    "version": 3
   },
   "file_extension": ".py",
   "mimetype": "text/x-python",
   "name": "python",
   "nbconvert_exporter": "python",
   "pygments_lexer": "ipython3",
   "version": "3.9.12"
  }
 },
 "nbformat": 4,
 "nbformat_minor": 5
}
