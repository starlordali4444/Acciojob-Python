{
 "cells": [
  {
   "cell_type": "markdown",
   "id": "f24b16da",
   "metadata": {},
   "source": [
    "# Exploratory Data Analysis (EDA) with Pandas in Banking"
   ]
  },
  {
   "cell_type": "markdown",
   "id": "c83ceb0b",
   "metadata": {},
   "source": [
    "The purpose of this project is to master the exploratory data analysis (EDA) in banking with Pandas framework.\n",
    "\n",
    "Goals of the Project:\n",
    "\n",
    "Explore a banking dataset with Pandas framework.\n",
    "Build pivot tables.\n",
    "Visualize the dataset with various plot types."
   ]
  },
  {
   "cell_type": "markdown",
   "id": "d7bdffb1",
   "metadata": {},
   "source": [
    "Importing the libraries necessary for this project. We can add some aliases to make the libraries easier to use in our code and set a default figure size for further plots."
   ]
  },
  {
   "cell_type": "code",
   "execution_count": null,
   "id": "392ca7bb",
   "metadata": {},
   "outputs": [],
   "source": [
    "import pandas as pd\n",
    "import matplotlib.pyplot as plt\n",
    "import numpy as np\n",
    "\n",
    "%matplotlib inline\n",
    "plt.rcParams[\"figure.figsize\"] = (8, 6)\n",
    "\n",
    "import warnings\n",
    "warnings.filterwarnings('ignore')"
   ]
  },
  {
   "cell_type": "markdown",
   "id": "89f39f4c",
   "metadata": {},
   "source": [
    "# Dataset exploration\n",
    "In this section we will explore the sourse dataset.\n",
    "\n",
    "Let's read the data and look at the first 5 rows using the head method. The number of the output rows from the dataset is determined by the head method parameter."
   ]
  },
  {
   "cell_type": "code",
   "execution_count": null,
   "id": "550d61a9",
   "metadata": {},
   "outputs": [],
   "source": [
    "df = pd.read_csv(r'C:\\Users\\neels\\Downloads\\bank-additional (1).csv', sep = ';')\n",
    "df.head(5)"
   ]
  },
  {
   "cell_type": "markdown",
   "id": "9e8e7cf6",
   "metadata": {},
   "source": [
    "# Let's look at the dataset size, feature names and their types"
   ]
  },
  {
   "cell_type": "code",
   "execution_count": null,
   "id": "d171eda2",
   "metadata": {},
   "outputs": [],
   "source": [
    "df.shape\n",
    "df.tail(5)\n"
   ]
  },
  {
   "cell_type": "markdown",
   "id": "2b450825",
   "metadata": {},
   "source": [
    "The dataset contains 41188 objects (rows), for each of which 21 features are set (columns), including 1 target feature (y)."
   ]
  },
  {
   "cell_type": "markdown",
   "id": "c845e955",
   "metadata": {},
   "source": [
    "Attributing information\n",
    "Output the column (feature) names:"
   ]
  },
  {
   "cell_type": "code",
   "execution_count": null,
   "id": "46cf1eff",
   "metadata": {},
   "outputs": [],
   "source": [
    "df.columns"
   ]
  },
  {
   "cell_type": "markdown",
   "id": "5876f859",
   "metadata": {},
   "source": [
    "Input features (column names):\n",
    "\n",
    "* age - client's age in years (numeric)\n",
    "* job - type of job (categorical: admin., blue-collar, entrepreneur, housemaid, management, retired, self-employed, services, student, technician, unemployed, unknown)\n",
    "* marital - marital status (categorical: divorced, married, single, unknown)\n",
    "* education - client's education (categorical: basic.4y, basic.6y, basic.9y, high.school, illiterate, professional.course, university.degree, unknown)\n",
    "* default - has credit in default? (categorical: no, yes, unknown)\n",
    "* housing - has housing loan? (categorical: no, yes, unknown)\n",
    "* loan - has personal loan? (categorical: no, yes, unknown)\n",
    "* contact - contact communication type (categorical: cellular, telephone)\n",
    "* month - last contact month of the year (categorical: jan, feb, mar, ..., nov, dec)\n",
    "* day_of_week - last contact day of the week (categorical: mon, tue, wed, thu, fri)\n",
    "* duration - last contact duration, in seconds (numeric).\n",
    "* campaign - number of contacts performed and for this client during this campaign (numeric, includes the last contact)\n",
    "* pdays - number of days that have passed after the client was last contacted from the previous campaign (numeric; 999 means the client has not been previously contacted)\n",
    "* previous - number of contacts performed for this client before this campaign (numeric)\n",
    "* poutcome - outcome of the previous marketing campaign (categorical: failure, nonexistent, success)\n",
    "* emp.var.rate - employment variation rate, quarterly indicator (numeric)\n",
    "* cons.price.idx - consumer price index, monthly indicator (numeric)\n",
    "* cons.conf.idx - consumer confidence index, monthly indicator (numeric)\n",
    "* euribor3m - euribor 3 month rate, daily indicator (numeric)\n",
    "* nr.employed - number of employees, quarterly indicator (numeric)\n",
    "* Output feature (desired target):\n",
    "\n",
    "* y - has the client subscribed a term deposit? (binary: yes,no)\n",
    "To see the general information on all the DataFrame features (columns), we use the info method:"
   ]
  },
  {
   "cell_type": "code",
   "execution_count": null,
   "id": "6e9426f7",
   "metadata": {},
   "outputs": [],
   "source": [
    "print(df.info())"
   ]
  },
  {
   "cell_type": "markdown",
   "id": "18d3e054",
   "metadata": {},
   "source": [
    "Method describe shows the main statistical characteristics of the dataset for each numerical feature (int64 and float64 types): the existing values number, mean, standard deviation, range, min & max, 0.25, 0.5 and 0.75 quartiles."
   ]
  },
  {
   "cell_type": "code",
   "execution_count": null,
   "id": "3be84ea0",
   "metadata": {},
   "outputs": [],
   "source": [
    "df.describe()"
   ]
  },
  {
   "cell_type": "code",
   "execution_count": null,
   "id": "9212e717",
   "metadata": {},
   "outputs": [],
   "source": [
    "df.describe(include = [\"object\"])"
   ]
  },
  {
   "cell_type": "code",
   "execution_count": null,
   "id": "1d995a14",
   "metadata": {},
   "outputs": [],
   "source": [
    "df[\"y\"].value_counts()"
   ]
  },
  {
   "cell_type": "markdown",
   "id": "adb15ed6",
   "metadata": {},
   "source": [
    "4640 clients (11.3%) of 41188 issued a term deposit, the value of the variable y equals yes.\n",
    "\n",
    "Let's look at the client distribution by the variable marital. Specify the value of the normalize = True parameter to view relative frequencies, but not absolute."
   ]
  },
  {
   "cell_type": "code",
   "execution_count": null,
   "id": "ebc56b06",
   "metadata": {},
   "outputs": [],
   "source": [
    "df[\"marital\"].value_counts(normalize = True)"
   ]
  },
  {
   "cell_type": "markdown",
   "id": "74fa05d1",
   "metadata": {},
   "source": [
    "# Sorting\n",
    "A DataFrame can be sorted by a few feature values. In our case, for example, by duration (ascending = False for sorting in descending order):"
   ]
  },
  {
   "cell_type": "code",
   "execution_count": null,
   "id": "1aef4e0d",
   "metadata": {},
   "outputs": [],
   "source": [
    "df.sort_values(by = \"duration\", ascending = False).head()"
   ]
  },
  {
   "cell_type": "markdown",
   "id": "89dd8429",
   "metadata": {},
   "source": [
    "The sorting results show that the longest calls exceed one hour, as the value duration is more than 3600 seconds or 1 hour. At the same time, it usually was on Mondays and Thursdays (day_of_week) and, especially, in November and August (month).\n",
    "\n",
    "Sort by the column group:"
   ]
  },
  {
   "cell_type": "code",
   "execution_count": null,
   "id": "ee6018d2",
   "metadata": {},
   "outputs": [],
   "source": [
    "df.sort_values(by = [\"age\", \"duration\"], ascending = [True, False]).head(10)"
   ]
  },
  {
   "cell_type": "markdown",
   "id": "48c738c6",
   "metadata": {},
   "source": [
    "We see that the youngest customers are at the age of 17, and the call duration exceeded 3 minutes only for three clients, which indicates the ineffectiveness of long-term interaction with such clients."
   ]
  },
  {
   "cell_type": "markdown",
   "id": "12947faf",
   "metadata": {},
   "source": [
    "Application of functions: apply, map etc.\n",
    "Apply the function to each column:"
   ]
  },
  {
   "cell_type": "code",
   "execution_count": null,
   "id": "88895b23",
   "metadata": {},
   "outputs": [],
   "source": [
    "df.apply(np.max)\n"
   ]
  },
  {
   "cell_type": "markdown",
   "id": "bbeb72af",
   "metadata": {},
   "source": [
    "The oldest client is 98 years old (age = 98), and the number of contacts with one of the customers reached 56 (campaign = 56).\n",
    "\n",
    "Apply the function to each column cell\n",
    "\n",
    "The map can also be used for the values ​​replacement in a column by passing it as an argument dictionary in form of {old_value: new_value}."
   ]
  },
  {
   "cell_type": "code",
   "execution_count": null,
   "id": "27738424",
   "metadata": {},
   "outputs": [],
   "source": [
    "d = {\"no\": 0, \"yes\": 1}\n",
    "df[\"y\"] = df[\"y\"].map(d)\n",
    "df.head()"
   ]
  },
  {
   "cell_type": "markdown",
   "id": "2aba6df5",
   "metadata": {},
   "source": [
    "Indexing and extracting data\n",
    "A DataFrame can be indexed in many ways. In this regard, consider various ways of indexing and extracting data from the DataFrame with simple question examples.\n",
    "\n",
    "We can use the code dataframe ['name'] to extract a separate column. We use this to answer the question: What is the share of clients attracted in our DataFrame?"
   ]
  },
  {
   "cell_type": "code",
   "execution_count": null,
   "id": "b1ec7078",
   "metadata": {},
   "outputs": [],
   "source": [
    "print(\"Share of attracted clients =\", '{:.1%}'.format(df[\"y\"].sum()))"
   ]
  },
  {
   "cell_type": "markdown",
   "id": "3fa0f99b",
   "metadata": {},
   "source": [
    "11,3% is a rather bad indicator for a bank, with such a percentage of attracted customers a business can collapse.\n",
    "\n",
    "Logical indexation by one column of a DataFrame is very convenient. It looks like this: df [p(df['Name']], wherep is a certain logical condition that is checked for each element of the Name column. The result of such an indexation is a DataFrame consisting only of the rows satisfying the condition p by the Name column.\n",
    "\n",
    "We use this to answer the question: What are the mean values ​​of numerical features among the attracted clients?"
   ]
  },
  {
   "cell_type": "code",
   "execution_count": null,
   "id": "29d6b845",
   "metadata": {},
   "outputs": [],
   "source": [
    "df[df[\"y\"] == 1].mean() "
   ]
  },
  {
   "cell_type": "markdown",
   "id": "98b55ba7",
   "metadata": {},
   "source": [
    "Thus, the average age of the attracted clients is about 40 (age = 40.91), and 2 calls were required to attract them (campaign = 2.05).\n",
    "\n",
    "Combining two previous types of indexation, we will answer the question: What is the average call duration for the attracted clients?"
   ]
  },
  {
   "cell_type": "code",
   "execution_count": null,
   "id": "10054f2e",
   "metadata": {},
   "outputs": [],
   "source": [
    "acd = round(df[df[\"y\"] == 1][\"duration\"].mean(), 2)\n",
    "acd_in_min = acd // 60\n",
    "print(\"Average call duration for attracted clients =\", acd_in_min, \"min\", int(acd) % 60, \"sec\")"
   ]
  },
  {
   "cell_type": "markdown",
   "id": "3f4d0e54",
   "metadata": {},
   "source": [
    "Average call duration for attracted clients = 9.0 min 13 sec\n",
    "So, the average duration of a successful call is almost 553 seconds, that is, nearly 10 minutes.\n",
    "\n",
    "What is the average age of attracted (y == 1) and unmarried ('marital' == 'single') clients?"
   ]
  },
  {
   "cell_type": "code",
   "execution_count": null,
   "id": "8fc85144",
   "metadata": {},
   "outputs": [],
   "source": [
    "print(\"Average age of attracted clients =\", int(df[(df[\"y\"] == 1) & (df[\"marital\"] == \"single\")][\"age\"].mean()), \"years\")"
   ]
  },
  {
   "cell_type": "markdown",
   "id": "9cf3955a",
   "metadata": {},
   "source": [
    "Average age of attracted clients = 31 years\n",
    "The average age of unmarried attracted clients is 31, which should be considered when working with such clients.\n",
    "\n",
    "If we need to get the first or last line of the DataFrame, we can use the code df[:1] or df[-1:]:"
   ]
  },
  {
   "cell_type": "code",
   "execution_count": null,
   "id": "7da3f339",
   "metadata": {},
   "outputs": [],
   "source": [
    "df[-1:]"
   ]
  },
  {
   "cell_type": "markdown",
   "id": "8941084d",
   "metadata": {},
   "source": [
    "Pivot tables\n",
    "Suppose we want to see how observations in our sample are distributed in the context of two features - y and marital. To do this, we can build cross tabulation by the crosstab method."
   ]
  },
  {
   "cell_type": "code",
   "execution_count": null,
   "id": "5bb844e0",
   "metadata": {},
   "outputs": [],
   "source": [
    "pd.crosstab(df[\"y\"], df[\"marital\"])\n"
   ]
  },
  {
   "cell_type": "markdown",
   "id": "45e848ec",
   "metadata": {},
   "source": [
    "The result shows that the number of attracted married clients is 2532 (y = 1 for married) from the total number."
   ]
  },
  {
   "cell_type": "code",
   "execution_count": null,
   "id": "5270f81d",
   "metadata": {},
   "outputs": [],
   "source": [
    "pd.crosstab(df[\"y\"],\n",
    "            df[\"marital\"],\n",
    "            normalize = 'index')"
   ]
  },
  {
   "cell_type": "markdown",
   "id": "ba07bd5b",
   "metadata": {},
   "source": [
    "We see that more than half of the clients (61%, column married) are married and have not issued a deposit.\n",
    "\n",
    "In Pandas, pivot tables are implemented by the method pivot_table with such parameters:\n",
    "\n",
    "values – a list of variables to calculate the necessary statistics,\n",
    "index – a list of variables to group data,\n",
    "aggfunc — values that we actually need to count by groups - the amount, average, maximum, minimum or something else.\n",
    "Let's find the average age and the call duration for different types of client employment job:"
   ]
  },
  {
   "cell_type": "code",
   "execution_count": null,
   "id": "3d967d81",
   "metadata": {},
   "outputs": [],
   "source": [
    "df.pivot_table(\n",
    "    [\"age\", \"duration\"],\n",
    "    [\"job\"],\n",
    "    aggfunc = \"mean\",\n",
    ").head(10)"
   ]
  },
  {
   "cell_type": "markdown",
   "id": "0c81bfb0",
   "metadata": {},
   "source": [
    "# Visualization in Pandas\n",
    "Method scatter_matrix allows you to visualize the pairwise dependencies between the features (as well as the distribution of each feature on the diagonal). We will do it for numerical features."
   ]
  },
  {
   "cell_type": "markdown",
   "metadata": {},
   "source": [
    "    pandas\n",
    "    parent  -   matplotlib\n",
    "    child   -   seaborn"
   ]
  },
  {
   "cell_type": "code",
   "execution_count": null,
   "id": "3fd7f6f4",
   "metadata": {},
   "outputs": [],
   "source": [
    "pd.plotting.scatter_matrix(\n",
    "    df[[\"age\", \"duration\", \"campaign\"]],\n",
    "    figsize = (15, 15),\n",
    "    diagonal = \"kde\")\n",
    "plt.show()"
   ]
  },
  {
   "cell_type": "markdown",
   "id": "d6264fae",
   "metadata": {},
   "source": [
    "A scatter matrix (pairs plot) compactly plots all the numeric variables we have in a dataset against each other. The plots on the main diagonal allow you to visually define the type of data distribution: the distribution is similar to normal for age, and for a call duration and the number of contacts, the geometric distribution is more suitable.\n",
    "\n",
    "Now We will build a separate histogram for age feature:"
   ]
  },
  {
   "cell_type": "code",
   "execution_count": null,
   "id": "388cbd01",
   "metadata": {},
   "outputs": [],
   "source": [
    "df[\"age\"].hist()"
   ]
  },
  {
   "cell_type": "markdown",
   "id": "61ba10f5",
   "metadata": {},
   "source": [
    "The histogram shows that most of our clients are between the ages of 25 and 50, which corresponds to the actively working part of the population."
   ]
  },
  {
   "cell_type": "code",
   "execution_count": null,
   "id": "8f1be9e3",
   "metadata": {},
   "outputs": [],
   "source": [
    "df.hist(color = \"k\",\n",
    "        bins = 30,\n",
    "        figsize = (15, 10))\n",
    "plt.show()"
   ]
  },
  {
   "cell_type": "markdown",
   "id": "e6ef1045",
   "metadata": {},
   "source": [
    "A visual analysis of the histograms presented allows us to make preliminary assumptions about the variability of the source data.\n",
    "\n",
    "Now we will use Box Plot. It will allow us to compactly visualize the main characteristics of the feature distribution (the median, lower and upper quartile, minimal and maximum, outliers)."
   ]
  },
  {
   "cell_type": "code",
   "execution_count": null,
   "id": "67ef7cac",
   "metadata": {},
   "outputs": [],
   "source": [
    "df.boxplot(column = \"age\",\n",
    "           by = \"marital\")\n",
    "plt.show()"
   ]
  },
  {
   "cell_type": "markdown",
   "id": "3627f8aa",
   "metadata": {},
   "source": [
    "The plot shows that unmarried people are on average younger than divorced and married ones. For the last two groups, there is an outlier zone over 70 years old, and for unmarried - over 50."
   ]
  },
  {
   "cell_type": "markdown",
   "id": "18ed1ffa",
   "metadata": {},
   "source": [
    "# Now we will try to do this by data grouping on other features:"
   ]
  },
  {
   "cell_type": "code",
   "execution_count": null,
   "id": "0f8008b3",
   "metadata": {},
   "outputs": [],
   "source": [
    "df.boxplot(column = \"age\",\n",
    "           by = [\"marital\", \"housing\"],\n",
    "           figsize = (20, 20))\n",
    "plt.show()"
   ]
  },
  {
   "cell_type": "markdown",
   "id": "42794003",
   "metadata": {},
   "source": [
    "# Tasks\n",
    "In this section, we will solve some tasks with the source bank dataset."
   ]
  },
  {
   "cell_type": "markdown",
   "id": "adadd30d",
   "metadata": {},
   "source": [
    "# Question 1\n",
    "List of 10 clients with the largest number of contacts."
   ]
  },
  {
   "cell_type": "code",
   "execution_count": null,
   "id": "4de7a32f",
   "metadata": {},
   "outputs": [],
   "source": [
    "df.sort_values(by = \"campaign\", ascending = False).head(10)\n"
   ]
  },
  {
   "cell_type": "markdown",
   "id": "47371849",
   "metadata": {},
   "source": [
    "# Question 2\n",
    "Determine the median age and the number of contacts for different levels of client education."
   ]
  },
  {
   "cell_type": "code",
   "execution_count": null,
   "id": "97439ad8",
   "metadata": {},
   "outputs": [],
   "source": [
    "df.pivot_table(\n",
    "    [\"age\", \"campaign\"],\n",
    "    [\"education\"],\n",
    "    aggfunc = [\"mean\", \"count\"],\n",
    ")"
   ]
  },
  {
   "cell_type": "markdown",
   "id": "d3267064",
   "metadata": {},
   "source": [
    "# Question 3\n",
    "Output box plot to analyze the client age distribution by their education level."
   ]
  },
  {
   "cell_type": "code",
   "execution_count": null,
   "id": "4e323b66",
   "metadata": {},
   "outputs": [],
   "source": [
    "df.boxplot(column = \"age\",\n",
    "  by = \"education\",\n",
    "  figsize = (15, 15))\n",
    "plt.show()"
   ]
  }
 ],
 "metadata": {
  "kernelspec": {
   "display_name": "Python 3 (ipykernel)",
   "language": "python",
   "name": "python3"
  },
  "language_info": {
   "codemirror_mode": {
    "name": "ipython",
    "version": 3
   },
   "file_extension": ".py",
   "mimetype": "text/x-python",
   "name": "python",
   "nbconvert_exporter": "python",
   "pygments_lexer": "ipython3",
   "version": "3.11.1"
  }
 },
 "nbformat": 4,
 "nbformat_minor": 5
}
