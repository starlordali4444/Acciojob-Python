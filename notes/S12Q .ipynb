{
 "cells": [
  {
   "cell_type": "markdown",
   "id": "5f98b273",
   "metadata": {},
   "source": [
    "# Use Case:\n",
    "The data scientists at BigMart have collected 2013 sales data for 1559 products across 10 stores in different cities. Also, certain attributes of each product and store have been defined. The aim is to build a predictive model and predict the sales of each product at a particular outlet.\n",
    "\n",
    "Using this model, BigMart will try to understand the properties of products and outlets which play a key role in increasing sales.\n",
    "\n",
    "Please note that the data may have missing values as some stores might not report all the data due to technical glitches. Hence, it will be required to treat them accordingly."
   ]
  },
  {
   "cell_type": "markdown",
   "id": "796dfba2",
   "metadata": {},
   "source": [
    "# Data Dictionary\n",
    "\n",
    "We have train (8523) and test (5681) data set, train data set has both input and output variable(s). You need to predict the sales for test data set.\n",
    "\n",
    "CSV containing the item outlet information with sales value"
   ]
  },
  {
   "cell_type": "code",
   "execution_count": 1,
   "id": "22ae8279",
   "metadata": {},
   "outputs": [],
   "source": [
    "import pandas as pd\n",
    "import numpy as np\n",
    "\n",
    "data_BM =pd.read_csv ('../accio/bigmart_data.csv')"
   ]
  },
  {
   "cell_type": "code",
   "execution_count": null,
   "metadata": {},
   "outputs": [],
   "source": [
    "data_BM.info()"
   ]
  },
  {
   "cell_type": "code",
   "execution_count": null,
   "metadata": {},
   "outputs": [],
   "source": [
    "data_BM.describe()"
   ]
  },
  {
   "cell_type": "code",
   "execution_count": null,
   "id": "aa1db959",
   "metadata": {
    "deletable": false,
    "editable": false
   },
   "outputs": [],
   "source": [
    "#Try to import numpy & Pandas library also try to fetch data from any csv file in below cell\n"
   ]
  },
  {
   "cell_type": "code",
   "execution_count": null,
   "id": "8f7da7b8",
   "metadata": {
    "cellId": "e12",
    "deletable": false
   },
   "outputs": [],
   "source": [
    "#answer here"
   ]
  },
  {
   "cell_type": "code",
   "execution_count": null,
   "id": "d2a65719",
   "metadata": {},
   "outputs": [],
   "source": [
    "data_BM.isnull()  "
   ]
  },
  {
   "cell_type": "code",
   "execution_count": null,
   "id": "894eaece",
   "metadata": {},
   "outputs": [],
   "source": [
    "data_BM.isna()"
   ]
  },
  {
   "cell_type": "code",
   "execution_count": null,
   "id": "5b1d4225",
   "metadata": {},
   "outputs": [],
   "source": [
    "data_BM.isna().sum()"
   ]
  },
  {
   "cell_type": "code",
   "execution_count": null,
   "id": "0c95003b",
   "metadata": {},
   "outputs": [],
   "source": [
    "data_BM.shape"
   ]
  },
  {
   "cell_type": "code",
   "execution_count": null,
   "id": "80b79507",
   "metadata": {},
   "outputs": [],
   "source": [
    "data_BM.shape[0]"
   ]
  },
  {
   "cell_type": "code",
   "execution_count": null,
   "id": "8f35965c",
   "metadata": {},
   "outputs": [],
   "source": [
    "data_BM.isna().sum()/data_BM.shape[0]"
   ]
  },
  {
   "cell_type": "code",
   "execution_count": null,
   "id": "b0a844d1",
   "metadata": {},
   "outputs": [],
   "source": [
    "round(data_BM.isna().sum()*100/data_BM.shape[0],2)"
   ]
  },
  {
   "cell_type": "code",
   "execution_count": null,
   "id": "a779ed2c",
   "metadata": {},
   "outputs": [],
   "source": [
    "# drop the null values\n",
    "data_BM = data_BM.dropna()\n",
    "# reset index after dropping\n",
    "data_BM.head()\n",
    "# view the top results"
   ]
  },
  {
   "cell_type": "code",
   "execution_count": null,
   "metadata": {},
   "outputs": [],
   "source": [
    "data_BM.shape"
   ]
  },
  {
   "cell_type": "code",
   "execution_count": null,
   "id": "9269e0c1",
   "metadata": {},
   "outputs": [],
   "source": [
    "data_BM.reset_index(inplace=True)\n",
    "\n",
    "# data_BM=data_BM.reset_index(drop=True)"
   ]
  },
  {
   "cell_type": "code",
   "execution_count": null,
   "id": "b873ac4b",
   "metadata": {},
   "outputs": [],
   "source": [
    "data_BM.head()"
   ]
  },
  {
   "cell_type": "code",
   "execution_count": null,
   "id": "d01711b1",
   "metadata": {},
   "outputs": [],
   "source": [
    "data_BM=data_BM.drop('index',axis=1)"
   ]
  },
  {
   "cell_type": "code",
   "execution_count": null,
   "id": "421c27e4",
   "metadata": {},
   "outputs": [],
   "source": [
    "data_BM.info()"
   ]
  },
  {
   "cell_type": "markdown",
   "id": "25a05852",
   "metadata": {},
   "source": [
    "# Apply function\n",
    "Apply function can be used to perform pre-processing/data-manipulation on your data both row wise and column wise.\n",
    "It is a faster method than simply using a for loop over your dataframe.\n",
    "Almost every time I need to iterate over a dataframe or it's rows/columns, I will think of using the apply.\n",
    "Hence, it is widely used in feature engineering code."
   ]
  },
  {
   "cell_type": "code",
   "execution_count": null,
   "metadata": {},
   "outputs": [],
   "source": [
    "df = pd.DataFrame({\n",
    "    'brand': ['Yum Yum', 'Yum Yum', 'Indomie', 'Indomie', 'Indomie'],\n",
    "    'style': ['cup', 'cup', 'cup', 'pack', 'pack'],\n",
    "    'rating': [4, 4, 3.5, 15, 5] \n",
    "    })\n",
    "df"
   ]
  },
  {
   "cell_type": "code",
   "execution_count": null,
   "metadata": {},
   "outputs": [],
   "source": [
    "df.shape[0]"
   ]
  },
  {
   "cell_type": "code",
   "execution_count": null,
   "metadata": {},
   "outputs": [],
   "source": [
    "for i in range(data_BM.shape[0]):\n",
    "    print(df[:i])"
   ]
  },
  {
   "cell_type": "code",
   "execution_count": null,
   "id": "693c8095",
   "metadata": {},
   "outputs": [],
   "source": [
    "# accessing row wise\n",
    "data_BM.apply(lambda x: x)"
   ]
  },
  {
   "cell_type": "code",
   "execution_count": null,
   "id": "b0e96dd5",
   "metadata": {},
   "outputs": [],
   "source": [
    "# access first row\n",
    "data_BM.apply(lambda x: x[0],axis=0)"
   ]
  },
  {
   "cell_type": "code",
   "execution_count": null,
   "id": "98edcb8a",
   "metadata": {},
   "outputs": [],
   "source": [
    "# accessing column wise\n",
    "data_BM.apply(lambda x: x, axis=1)"
   ]
  },
  {
   "cell_type": "code",
   "execution_count": null,
   "id": "773cac7b",
   "metadata": {},
   "outputs": [],
   "source": [
    "# access first column by index\n",
    "data_BM.apply(lambda x: x[0], axis=1)"
   ]
  },
  {
   "cell_type": "code",
   "execution_count": null,
   "id": "def8fb4e",
   "metadata": {},
   "outputs": [],
   "source": [
    "# access by column name\n",
    "data_BM.apply(lambda x: x[\"Item_Fat_Content\"], axis=1)"
   ]
  },
  {
   "cell_type": "markdown",
   "id": "4eaf331d",
   "metadata": {},
   "source": [
    "- You can also use `apply` to implement a **condition** individually on every row/column of your dataframe.\n",
    "- Suppose you want to clip Item_MRP to 200 and not consider any value greater than that.\n",
    "```python\n",
    "def clip_price(price):\n",
    "    if price > 200:\n",
    "        price = 200\n",
    "    return price"
   ]
  },
  {
   "cell_type": "code",
   "execution_count": null,
   "id": "3bc0f43d",
   "metadata": {},
   "outputs": [],
   "source": [
    "# before clipping\n",
    "data_BM[\"Item_MRP\"][:5]"
   ]
  },
  {
   "cell_type": "code",
   "execution_count": null,
   "id": "a9738b7f",
   "metadata": {},
   "outputs": [],
   "source": [
    "# clip price if it is greater than 200\n",
    "def clip_price(price):\n",
    "    if price > 200:\n",
    "        price = 200\n",
    "    return price\n",
    "\n",
    "# after clipping\n",
    "data_BM[\"Item_MRP\"].apply(lambda x: clip_price(x))"
   ]
  },
  {
   "cell_type": "code",
   "execution_count": null,
   "metadata": {},
   "outputs": [],
   "source": [
    "data_BM[\"Outlet_Location_Type\"].value_counts()"
   ]
  },
  {
   "cell_type": "code",
   "execution_count": null,
   "id": "716cc69e",
   "metadata": {},
   "outputs": [],
   "source": [
    "# label encode city type\n",
    "def label_encode(city):\n",
    "    if city == 'Tier 1':\n",
    "        label = 0\n",
    "    elif city == 'Tier 2':\n",
    "        label = 1\n",
    "    else:\n",
    "        label = 2\n",
    "    return label\n",
    "\n",
    "# operate label_encode on every row of Outlet_Location_Type\n",
    "data_BM[\"Outlet_Location_Type\"] = data_BM[\"Outlet_Location_Type\"].apply(label_encode)"
   ]
  },
  {
   "cell_type": "code",
   "execution_count": null,
   "metadata": {},
   "outputs": [],
   "source": [
    "data_BM[\"Outlet_Location_Type\"] = data_BM[\"Outlet_Location_Type\"].apply(lambda x :label_encode(x))"
   ]
  },
  {
   "cell_type": "code",
   "execution_count": null,
   "id": "03f96bef",
   "metadata": {},
   "outputs": [],
   "source": [
    "# after label encoding\n",
    "data_BM[\"Outlet_Location_Type\"][:5]"
   ]
  },
  {
   "cell_type": "code",
   "execution_count": null,
   "metadata": {},
   "outputs": [],
   "source": [
    "data_BM['Item_Fat_Content']"
   ]
  },
  {
   "cell_type": "code",
   "execution_count": null,
   "metadata": {},
   "outputs": [],
   "source": [
    "data_BM.Item_Fat_Content"
   ]
  },
  {
   "cell_type": "code",
   "execution_count": null,
   "id": "6ea3abb1",
   "metadata": {},
   "outputs": [],
   "source": [
    "data_BM.head() "
   ]
  },
  {
   "cell_type": "code",
   "execution_count": null,
   "id": "6537f02e",
   "metadata": {
    "deletable": false,
    "editable": false
   },
   "outputs": [],
   "source": [
    "#using given path create data.head in below cell"
   ]
  },
  {
   "cell_type": "code",
   "execution_count": null,
   "id": "d2176e35",
   "metadata": {
    "cellId": "r12",
    "deletable": false
   },
   "outputs": [],
   "source": [
    "#answer here"
   ]
  },
  {
   "cell_type": "markdown",
   "id": "9585ff2f",
   "metadata": {},
   "source": [
    "Pandas library of python is very useful for the manipulation of mathematical data and is widely used in the field of machine learning.It comprises many methods for its proper functioning. loc() and iloc() are one of those methods. These are used in slicing data from the Pandas DataFrame.\n",
    "\n",
    "The loc() function is label based data selecting method which means that we have to pass the name of the row or column which we want to select. This method includes the last element of the range passed in it, unlike iloc(). loc() can accept the boolean data unlike iloc(). Many operations can be performed using the loc() method"
   ]
  },
  {
   "cell_type": "code",
   "execution_count": null,
   "id": "2252fd65",
   "metadata": {},
   "outputs": [],
   "source": [
    "data_BM = pd.read_csv('../accio/bigmart_data.csv')\n",
    "data_BM"
   ]
  },
  {
   "cell_type": "code",
   "execution_count": null,
   "id": "585e7722",
   "metadata": {},
   "outputs": [],
   "source": [
    "dairy=data_BM.loc[data_BM['Item_Type']=='Dairy']"
   ]
  },
  {
   "cell_type": "code",
   "execution_count": null,
   "id": "aa7a22d5",
   "metadata": {},
   "outputs": [],
   "source": [
    "dairy"
   ]
  },
  {
   "cell_type": "code",
   "execution_count": null,
   "id": "2cd9f0d7",
   "metadata": {},
   "outputs": [],
   "source": [
    "dairy_medium1=data_BM.loc[(data_BM['Item_Type']=='Dairy') & (data_BM['Outlet_Size']=='Medium')]\n",
    "dairy_medium1"
   ]
  },
  {
   "cell_type": "code",
   "execution_count": null,
   "id": "3300258a",
   "metadata": {},
   "outputs": [],
   "source": [
    "dairy_medium=data_BM.loc[(data_BM['Item_Type']=='Dairy') & (data_BM['Outlet_Size']=='Medium')]"
   ]
  },
  {
   "cell_type": "code",
   "execution_count": null,
   "id": "518d35fc",
   "metadata": {},
   "outputs": [],
   "source": [
    "dairy_medium=data_BM.loc[(data_BM['Item_Type']=='Dairy') & (data_BM['Outlet_Size']=='Medium')]"
   ]
  },
  {
   "cell_type": "code",
   "execution_count": null,
   "id": "71094322",
   "metadata": {},
   "outputs": [],
   "source": [
    "dairy_medium"
   ]
  },
  {
   "cell_type": "code",
   "execution_count": null,
   "id": "4de66f55",
   "metadata": {},
   "outputs": [],
   "source": [
    "dairy_medium['Outlet_Establishment_Year'].unique()"
   ]
  },
  {
   "cell_type": "code",
   "execution_count": null,
   "id": "bb029323",
   "metadata": {},
   "outputs": [],
   "source": [
    "dairy_medium_99=data_BM.loc[(data_BM['Item_Type']=='Dairy') & (data_BM['Outlet_Size']=='Medium') & (data_BM['Outlet_Establishment_Year']>1999)]\n",
    "dairy_medium_99"
   ]
  },
  {
   "cell_type": "code",
   "execution_count": null,
   "id": "7d47539d",
   "metadata": {},
   "outputs": [],
   "source": [
    "dairy_medium_99_150=dairy_medium_99[dairy_medium_99['Item_MRP']>150]\n",
    "dairy_medium_99_150"
   ]
  },
  {
   "cell_type": "code",
   "execution_count": null,
   "id": "90fa4ccd",
   "metadata": {},
   "outputs": [],
   "source": [
    "dairy_medium_99_150.reset_index(drop=True,inplace=True)"
   ]
  },
  {
   "cell_type": "code",
   "execution_count": null,
   "id": "b3524ce5",
   "metadata": {},
   "outputs": [],
   "source": [
    "dairy_medium_99_150"
   ]
  },
  {
   "cell_type": "code",
   "execution_count": null,
   "metadata": {},
   "outputs": [],
   "source": [
    "display(dairy_medium_99_150.iloc[:5])"
   ]
  },
  {
   "cell_type": "code",
   "execution_count": null,
   "id": "a3a9760e",
   "metadata": {},
   "outputs": [],
   "source": [
    "# selecting 0th, 2th, 4th, and 7th index rows\n",
    "display(dairy_medium_99_150.iloc[[0, 2, 4, 7]])"
   ]
  },
  {
   "cell_type": "code",
   "execution_count": null,
   "id": "33e08c90",
   "metadata": {},
   "outputs": [],
   "source": [
    "# selecting rows from 1 to 4 and columns from 2 to 4\n",
    "display(dairy_medium_99_150.iloc[1: 5, 2: 5])"
   ]
  },
  {
   "cell_type": "markdown",
   "id": "adae5da9",
   "metadata": {},
   "source": [
    "# Merging dataframes\n",
    "Joining and merging DataFrames is the core process to start with data analysis and machine learning tasks.\n",
    "It is one of the toolkits which every Data Analyst or Data Scientist should master because in almost all the cases data comes from multiple source and files.\n",
    "Pandas has two useful functions for merging dataframes:\n",
    "concat()\n",
    "merge()\n",
    "Creating dummy data"
   ]
  },
  {
   "cell_type": "code",
   "execution_count": null,
   "id": "6226a84c",
   "metadata": {},
   "outputs": [],
   "source": [
    "# create dummy data\n",
    "df1 = pd.DataFrame({'A': ['A0', 'A1', 'A2', 'A3'],\n",
    "                     'B': ['B0', 'B1', 'B2', 'B3'],\n",
    "                     'C': ['C0', 'C1', 'C2', 'C3'],\n",
    "                     'D': ['D0', 'D1', 'D2', 'D3']},\n",
    "                    index=[0, 1, 2, 3])\n",
    " \n",
    "\n",
    "df2 = pd.DataFrame({'A': ['A4', 'A5', 'A6', 'A7'],\n",
    "                     'B': ['B4', 'B5', 'B6', 'B7'],\n",
    "                     'C': ['C4', 'C5', 'C6', 'C7'],\n",
    "                     'D': ['D4', 'D5', 'D6', 'D7']},\n",
    "                    index=[4, 5, 6, 7])\n",
    " \n",
    "\n",
    "df3 = pd.DataFrame({'A': ['A8', 'A9', 'A10', 'A11'],\n",
    "                     'B': ['B8', 'B9', 'B10', 'B11'],\n",
    "                     'C': ['C8', 'C9', 'C10', 'C11'],\n",
    "                     'D': ['D8', 'D9', 'D10', 'D11']},\n",
    "                    index=[8, 9, 10, 11])"
   ]
  },
  {
   "cell_type": "code",
   "execution_count": null,
   "metadata": {},
   "outputs": [],
   "source": [
    "df1,df2,df3"
   ]
  },
  {
   "cell_type": "code",
   "execution_count": null,
   "id": "95d768fb",
   "metadata": {
    "deletable": false,
    "editable": false
   },
   "outputs": [],
   "source": [
    "#create a dataframe in below cell using sample 4 different values"
   ]
  },
  {
   "cell_type": "code",
   "execution_count": null,
   "id": "c4dfba83",
   "metadata": {
    "cellId": "t12",
    "deletable": false
   },
   "outputs": [],
   "source": [
    "#answer here"
   ]
  },
  {
   "cell_type": "markdown",
   "id": "9bd48dde",
   "metadata": {},
   "source": [
    "# a. concat() for combining dataframes"
   ]
  },
  {
   "cell_type": "markdown",
   "id": "764f9a3b",
   "metadata": {},
   "source": [
    "Suppose you have the following three dataframes: df1, df2 and df3 and you want to combine them \"row-wise\".\n",
    "\n",
    "You can use concat() here. You will have to pass the names of the DataFrames in a list as the argument to the concat()"
   ]
  },
  {
   "cell_type": "code",
   "execution_count": null,
   "id": "f4cdd804",
   "metadata": {},
   "outputs": [],
   "source": [
    "# combine dataframes\n",
    "result = pd.concat([df1, df2, df3])\n",
    "result"
   ]
  },
  {
   "cell_type": "code",
   "execution_count": null,
   "id": "595648db",
   "metadata": {
    "deletable": false,
    "editable": false
   },
   "outputs": [],
   "source": [
    "#create a 3 different dataframe and concate them and make single dataframe in below cell"
   ]
  },
  {
   "cell_type": "code",
   "execution_count": null,
   "id": "841655a7",
   "metadata": {},
   "outputs": [],
   "source": [
    "#answer here"
   ]
  },
  {
   "cell_type": "code",
   "execution_count": null,
   "id": "25dfa5e6",
   "metadata": {},
   "outputs": [],
   "source": [
    "# combine dataframes\n",
    "result = pd.concat([df1, df2, df3], keys=['x', 'y', 'z'])\n",
    "result"
   ]
  },
  {
   "cell_type": "code",
   "execution_count": null,
   "id": "329088ce",
   "metadata": {},
   "outputs": [],
   "source": [
    "# get second dataframe\n",
    "result.loc['z']"
   ]
  },
  {
   "cell_type": "code",
   "execution_count": null,
   "metadata": {},
   "outputs": [],
   "source": [
    "df4 = pd.DataFrame({'B': ['B2', 'B3', 'B6', 'B7'],\n",
    "                        'D': ['D2', 'D3', 'D6', 'D7'],\n",
    "                        'F': ['F2', 'F3', 'F6', 'F7']},\n",
    "                       index=[2, 3, 6, 7])"
   ]
  },
  {
   "cell_type": "code",
   "execution_count": null,
   "metadata": {},
   "outputs": [],
   "source": [
    "df1, df4"
   ]
  },
  {
   "cell_type": "code",
   "execution_count": null,
   "id": "a7c62705",
   "metadata": {},
   "outputs": [],
   "source": [
    "\n",
    "    \n",
    "\n",
    "result = pd.concat([df1, df4], axis=1, sort=False)\n",
    "result"
   ]
  },
  {
   "cell_type": "code",
   "execution_count": null,
   "id": "246a4249",
   "metadata": {},
   "outputs": [],
   "source": [
    "result = pd.concat([df1, df4], axis=1, join='inner')\n",
    "result"
   ]
  },
  {
   "cell_type": "code",
   "execution_count": null,
   "id": "8915f00a",
   "metadata": {},
   "outputs": [],
   "source": [
    "result = pd.concat([df1, df4], axis=1).reindex(df4.index)\n",
    "result"
   ]
  },
  {
   "cell_type": "markdown",
   "id": "88368236",
   "metadata": {},
   "source": [
    "b. merge() for combining dataframes using SQL like joins\n",
    "Another ubiquitous operation related to DataFrames is the merging operation.\n",
    "Two DataFrames might hold different kinds of information about the same entity and linked by some common feature/column.\n",
    "We can use merge() to combine such dataframes in pandas.\n",
    "Creating dummy data"
   ]
  },
  {
   "cell_type": "code",
   "execution_count": null,
   "id": "f760cc97",
   "metadata": {},
   "outputs": [],
   "source": [
    "# create dummy data\n",
    "df_a = pd.DataFrame({\n",
    "        'subject_id': ['1', '2', '3', '4', '5'],\n",
    "        'first_name': ['Alex', 'Amy', 'Allen', 'Alice', 'Ayoung'], \n",
    "        'last_name': ['Anderson', 'Ackerman', 'Ali', 'Aoni', 'Atiches']})\n",
    "\n",
    "df_b = pd.DataFrame({\n",
    "        'subject_id': ['4', '5', '6', '7', '8'],\n",
    "        'first_name': ['Billy', 'Brian', 'Bran', 'Bryce', 'Betty'], \n",
    "        'last_name': ['Bonder', 'Black', 'Balwner', 'Brice', 'Btisan']})\n",
    "\n",
    "df_c = pd.DataFrame({\n",
    "        'subject_id': ['1', '2', '3', '4', '5', '7', '8', '9', '10', '11'],\n",
    "        'test_id': [51, 15, 15, 61, 16, 14, 15, 1, 61, 16]})"
   ]
  },
  {
   "cell_type": "code",
   "execution_count": null,
   "metadata": {},
   "outputs": [],
   "source": [
    "df_a,df_b,df_c"
   ]
  },
  {
   "cell_type": "code",
   "execution_count": null,
   "id": "f4f22883",
   "metadata": {},
   "outputs": [],
   "source": [
    "pd.merge(df_a, df_c, on='subject_id',how='inner')"
   ]
  },
  {
   "cell_type": "markdown",
   "id": "b11bc542",
   "metadata": {},
   "source": [
    "Merge with outer join\n",
    "“Full outer join produces the set of all records in Table A and Table B, with matching records from both sides where available. If there is no match, the missing side will contain null.” "
   ]
  },
  {
   "cell_type": "code",
   "execution_count": null,
   "id": "c39aa0fc",
   "metadata": {},
   "outputs": [],
   "source": [
    "pd.merge(df_a, df_c, on='subject_id', how='outer')"
   ]
  },
  {
   "cell_type": "markdown",
   "id": "24daf62f",
   "metadata": {},
   "source": [
    "Merge with inner join\n",
    "“Inner join produces only the set of records that match in both Table A and Table B.”"
   ]
  },
  {
   "cell_type": "code",
   "execution_count": null,
   "id": "5d98d656",
   "metadata": {},
   "outputs": [],
   "source": [
    "pd.merge(df_a, df_c, on='subject_id', how='inner')"
   ]
  },
  {
   "cell_type": "markdown",
   "id": "7f13be34",
   "metadata": {},
   "source": [
    "# Merge with right join\n",
    "“Right outer join produces a complete set of records from Table B, with the matching records (where available) in Table A. If there is no match, the left side will contain null.”"
   ]
  },
  {
   "cell_type": "code",
   "execution_count": null,
   "id": "b67ad1ca",
   "metadata": {},
   "outputs": [],
   "source": [
    "pd.merge(df_a, df_b, on='subject_id', how='right')"
   ]
  },
  {
   "cell_type": "markdown",
   "id": "c0464704",
   "metadata": {},
   "source": [
    "# Merge with left join\n",
    "“Left outer join produces a complete set of records from Table A, with the matching records (where available) in Table B. If there is no match, the right side will contain null.”"
   ]
  },
  {
   "cell_type": "code",
   "execution_count": null,
   "id": "d4dce074",
   "metadata": {},
   "outputs": [],
   "source": [
    "pd.merge(df_a, df_b, on='subject_id', how='left')"
   ]
  },
  {
   "cell_type": "markdown",
   "id": "d22b39a2",
   "metadata": {},
   "source": [
    "# Merge OR Concat : Which to use when?\n",
    "After learning both of the functions in detail, chances are that you might be confused which to use when.\n",
    "One major difference is that merge() is used to combine dataframes on the basis of values of common columns. Whileconcat() is used to append dataframes one below the other (or sideways, depending on whether the axis option is set to 0 or 1).\n",
    "Exact usage depends upon the kind of data you have and analysis you want to perform."
   ]
  },
  {
   "cell_type": "markdown",
   "id": "a744af65",
   "metadata": {},
   "source": [
    "# Aggregating data\n",
    "There are multiple functions that can be used to perform useful aggregations on data in pandas:\n",
    "\n",
    "groupby\n",
    "crosstab\n",
    "pivottable\n",
    "a. What is the mean price for each item type? : groupby\n",
    "In the given data set, I want to find out what is the mean price for each item type?\n",
    "You can use groupby() to achieve this.\n",
    "The first step would be to group the data by Item_Type column"
   ]
  },
  {
   "cell_type": "code",
   "execution_count": null,
   "metadata": {},
   "outputs": [],
   "source": [
    "cols=data_BM.describe().columns\n",
    "cols"
   ]
  },
  {
   "cell_type": "code",
   "execution_count": null,
   "metadata": {},
   "outputs": [],
   "source": [
    "data_BM[cols].mean()"
   ]
  },
  {
   "cell_type": "code",
   "execution_count": null,
   "metadata": {},
   "outputs": [],
   "source": [
    "data_BM.sum()"
   ]
  },
  {
   "cell_type": "code",
   "execution_count": null,
   "metadata": {},
   "outputs": [],
   "source": [
    "data_BM.info()"
   ]
  },
  {
   "cell_type": "code",
   "execution_count": null,
   "id": "3254395a",
   "metadata": {},
   "outputs": [],
   "source": [
    "import pandas as pd\n",
    "import numpy as np\n",
    "\n",
    "# read the dataset\n",
    "data_BM = pd.read_csv('bigmart_data.csv')\n",
    "# drop the null values\n",
    "data_BM = data_BM.dropna(how=\"any\")\n",
    "# reset index after dropping\n",
    "data_BM = data_BM.reset_index(drop=True)\n",
    "# view the top results\n",
    "data_BM.head()"
   ]
  },
  {
   "cell_type": "markdown",
   "id": "d0bfb004",
   "metadata": {},
   "source": [
    "# Group By\n",
    "Pandas groupby is used for grouping the data according to the categories and apply a function to the categories. It also helps to aggregate data efficiently.\n",
    "\n",
    "Pandas dataframe.groupby() function is used to split the data into groups based on some criteria. pandas objects can be split on any of their axes. The abstract definition of grouping is to provide a mapping of labels to group names."
   ]
  },
  {
   "cell_type": "code",
   "execution_count": 4,
   "id": "b5e5f052",
   "metadata": {},
   "outputs": [
    {
     "data": {
      "text/html": [
       "<div>\n",
       "<style scoped>\n",
       "    .dataframe tbody tr th:only-of-type {\n",
       "        vertical-align: middle;\n",
       "    }\n",
       "\n",
       "    .dataframe tbody tr th {\n",
       "        vertical-align: top;\n",
       "    }\n",
       "\n",
       "    .dataframe thead th {\n",
       "        text-align: right;\n",
       "    }\n",
       "</style>\n",
       "<table border=\"1\" class=\"dataframe\">\n",
       "  <thead>\n",
       "    <tr style=\"text-align: right;\">\n",
       "      <th></th>\n",
       "      <th>Item_Type</th>\n",
       "      <th>Item_MRP</th>\n",
       "    </tr>\n",
       "  </thead>\n",
       "  <tbody>\n",
       "    <tr>\n",
       "      <th>0</th>\n",
       "      <td>Baking Goods</td>\n",
       "      <td>126.380766</td>\n",
       "    </tr>\n",
       "    <tr>\n",
       "      <th>1</th>\n",
       "      <td>Breads</td>\n",
       "      <td>140.952669</td>\n",
       "    </tr>\n",
       "    <tr>\n",
       "      <th>2</th>\n",
       "      <td>Breakfast</td>\n",
       "      <td>141.788151</td>\n",
       "    </tr>\n",
       "    <tr>\n",
       "      <th>3</th>\n",
       "      <td>Canned</td>\n",
       "      <td>139.763832</td>\n",
       "    </tr>\n",
       "    <tr>\n",
       "      <th>4</th>\n",
       "      <td>Dairy</td>\n",
       "      <td>148.499208</td>\n",
       "    </tr>\n",
       "    <tr>\n",
       "      <th>5</th>\n",
       "      <td>Frozen Foods</td>\n",
       "      <td>138.503366</td>\n",
       "    </tr>\n",
       "    <tr>\n",
       "      <th>6</th>\n",
       "      <td>Fruits and Vegetables</td>\n",
       "      <td>144.581235</td>\n",
       "    </tr>\n",
       "    <tr>\n",
       "      <th>7</th>\n",
       "      <td>Hard Drinks</td>\n",
       "      <td>137.077928</td>\n",
       "    </tr>\n",
       "    <tr>\n",
       "      <th>8</th>\n",
       "      <td>Health and Hygiene</td>\n",
       "      <td>130.818921</td>\n",
       "    </tr>\n",
       "    <tr>\n",
       "      <th>9</th>\n",
       "      <td>Household</td>\n",
       "      <td>149.424753</td>\n",
       "    </tr>\n",
       "    <tr>\n",
       "      <th>10</th>\n",
       "      <td>Meat</td>\n",
       "      <td>139.882032</td>\n",
       "    </tr>\n",
       "    <tr>\n",
       "      <th>11</th>\n",
       "      <td>Others</td>\n",
       "      <td>132.851430</td>\n",
       "    </tr>\n",
       "    <tr>\n",
       "      <th>12</th>\n",
       "      <td>Seafood</td>\n",
       "      <td>141.841719</td>\n",
       "    </tr>\n",
       "    <tr>\n",
       "      <th>13</th>\n",
       "      <td>Snack Foods</td>\n",
       "      <td>146.194934</td>\n",
       "    </tr>\n",
       "    <tr>\n",
       "      <th>14</th>\n",
       "      <td>Soft Drinks</td>\n",
       "      <td>131.492506</td>\n",
       "    </tr>\n",
       "    <tr>\n",
       "      <th>15</th>\n",
       "      <td>Starchy Foods</td>\n",
       "      <td>147.838023</td>\n",
       "    </tr>\n",
       "  </tbody>\n",
       "</table>\n",
       "</div>"
      ],
      "text/plain": [
       "                Item_Type    Item_MRP\n",
       "0            Baking Goods  126.380766\n",
       "1                  Breads  140.952669\n",
       "2               Breakfast  141.788151\n",
       "3                  Canned  139.763832\n",
       "4                   Dairy  148.499208\n",
       "5            Frozen Foods  138.503366\n",
       "6   Fruits and Vegetables  144.581235\n",
       "7             Hard Drinks  137.077928\n",
       "8      Health and Hygiene  130.818921\n",
       "9               Household  149.424753\n",
       "10                   Meat  139.882032\n",
       "11                 Others  132.851430\n",
       "12                Seafood  141.841719\n",
       "13            Snack Foods  146.194934\n",
       "14            Soft Drinks  131.492506\n",
       "15          Starchy Foods  147.838023"
      ]
     },
     "execution_count": 4,
     "metadata": {},
     "output_type": "execute_result"
    }
   ],
   "source": [
    "# group price based on item type # mean price by item \n",
    "price_by_item = data_BM.groupby('Item_Type')['Item_MRP'].mean()\n",
    "\n",
    "# display first few rows\n",
    "price_by_item.reset_index()  "
   ]
  },
  {
   "cell_type": "markdown",
   "id": "ea1e33f5",
   "metadata": {},
   "source": [
    "Now that you have grouped by Item_Type, the next step would be to calculate the mean of Item_MRP.\n",
    "You can use groupby with multiple columns of the dataset too.\n",
    "In this case, if you want to group first based on the Item_Type and then Item_MRP you can simply pass a list of column names."
   ]
  },
  {
   "cell_type": "code",
   "execution_count": 10,
   "metadata": {},
   "outputs": [
    {
     "data": {
      "text/html": [
       "<div>\n",
       "<style scoped>\n",
       "    .dataframe tbody tr th:only-of-type {\n",
       "        vertical-align: middle;\n",
       "    }\n",
       "\n",
       "    .dataframe tbody tr th {\n",
       "        vertical-align: top;\n",
       "    }\n",
       "\n",
       "    .dataframe thead th {\n",
       "        text-align: right;\n",
       "    }\n",
       "</style>\n",
       "<table border=\"1\" class=\"dataframe\">\n",
       "  <thead>\n",
       "    <tr style=\"text-align: right;\">\n",
       "      <th></th>\n",
       "      <th>Item_Identifier</th>\n",
       "      <th>Item_Weight</th>\n",
       "      <th>Item_Fat_Content</th>\n",
       "      <th>Item_Visibility</th>\n",
       "      <th>Item_Type</th>\n",
       "      <th>Item_MRP</th>\n",
       "      <th>Outlet_Identifier</th>\n",
       "      <th>Outlet_Establishment_Year</th>\n",
       "      <th>Outlet_Size</th>\n",
       "      <th>Outlet_Location_Type</th>\n",
       "      <th>Outlet_Type</th>\n",
       "      <th>Item_Outlet_Sales</th>\n",
       "    </tr>\n",
       "  </thead>\n",
       "  <tbody>\n",
       "    <tr>\n",
       "      <th>0</th>\n",
       "      <td>FDA15</td>\n",
       "      <td>9.300</td>\n",
       "      <td>Low Fat</td>\n",
       "      <td>0.016047</td>\n",
       "      <td>Dairy</td>\n",
       "      <td>249.8092</td>\n",
       "      <td>OUT049</td>\n",
       "      <td>1999</td>\n",
       "      <td>Medium</td>\n",
       "      <td>Tier 1</td>\n",
       "      <td>Supermarket Type1</td>\n",
       "      <td>3735.1380</td>\n",
       "    </tr>\n",
       "    <tr>\n",
       "      <th>1</th>\n",
       "      <td>DRC01</td>\n",
       "      <td>5.920</td>\n",
       "      <td>Regular</td>\n",
       "      <td>0.019278</td>\n",
       "      <td>Soft Drinks</td>\n",
       "      <td>48.2692</td>\n",
       "      <td>OUT018</td>\n",
       "      <td>2009</td>\n",
       "      <td>Medium</td>\n",
       "      <td>Tier 3</td>\n",
       "      <td>Supermarket Type2</td>\n",
       "      <td>443.4228</td>\n",
       "    </tr>\n",
       "    <tr>\n",
       "      <th>2</th>\n",
       "      <td>FDN15</td>\n",
       "      <td>17.500</td>\n",
       "      <td>Low Fat</td>\n",
       "      <td>0.016760</td>\n",
       "      <td>Meat</td>\n",
       "      <td>141.6180</td>\n",
       "      <td>OUT049</td>\n",
       "      <td>1999</td>\n",
       "      <td>Medium</td>\n",
       "      <td>Tier 1</td>\n",
       "      <td>Supermarket Type1</td>\n",
       "      <td>2097.2700</td>\n",
       "    </tr>\n",
       "    <tr>\n",
       "      <th>3</th>\n",
       "      <td>FDX07</td>\n",
       "      <td>19.200</td>\n",
       "      <td>Regular</td>\n",
       "      <td>0.000000</td>\n",
       "      <td>Fruits and Vegetables</td>\n",
       "      <td>182.0950</td>\n",
       "      <td>OUT010</td>\n",
       "      <td>1998</td>\n",
       "      <td>NaN</td>\n",
       "      <td>Tier 3</td>\n",
       "      <td>Grocery Store</td>\n",
       "      <td>732.3800</td>\n",
       "    </tr>\n",
       "    <tr>\n",
       "      <th>4</th>\n",
       "      <td>NCD19</td>\n",
       "      <td>8.930</td>\n",
       "      <td>Low Fat</td>\n",
       "      <td>0.000000</td>\n",
       "      <td>Household</td>\n",
       "      <td>53.8614</td>\n",
       "      <td>OUT013</td>\n",
       "      <td>1987</td>\n",
       "      <td>High</td>\n",
       "      <td>Tier 3</td>\n",
       "      <td>Supermarket Type1</td>\n",
       "      <td>994.7052</td>\n",
       "    </tr>\n",
       "    <tr>\n",
       "      <th>...</th>\n",
       "      <td>...</td>\n",
       "      <td>...</td>\n",
       "      <td>...</td>\n",
       "      <td>...</td>\n",
       "      <td>...</td>\n",
       "      <td>...</td>\n",
       "      <td>...</td>\n",
       "      <td>...</td>\n",
       "      <td>...</td>\n",
       "      <td>...</td>\n",
       "      <td>...</td>\n",
       "      <td>...</td>\n",
       "    </tr>\n",
       "    <tr>\n",
       "      <th>8518</th>\n",
       "      <td>FDF22</td>\n",
       "      <td>6.865</td>\n",
       "      <td>Low Fat</td>\n",
       "      <td>0.056783</td>\n",
       "      <td>Snack Foods</td>\n",
       "      <td>214.5218</td>\n",
       "      <td>OUT013</td>\n",
       "      <td>1987</td>\n",
       "      <td>High</td>\n",
       "      <td>Tier 3</td>\n",
       "      <td>Supermarket Type1</td>\n",
       "      <td>2778.3834</td>\n",
       "    </tr>\n",
       "    <tr>\n",
       "      <th>8519</th>\n",
       "      <td>FDS36</td>\n",
       "      <td>8.380</td>\n",
       "      <td>Regular</td>\n",
       "      <td>0.046982</td>\n",
       "      <td>Baking Goods</td>\n",
       "      <td>108.1570</td>\n",
       "      <td>OUT045</td>\n",
       "      <td>2002</td>\n",
       "      <td>NaN</td>\n",
       "      <td>Tier 2</td>\n",
       "      <td>Supermarket Type1</td>\n",
       "      <td>549.2850</td>\n",
       "    </tr>\n",
       "    <tr>\n",
       "      <th>8520</th>\n",
       "      <td>NCJ29</td>\n",
       "      <td>10.600</td>\n",
       "      <td>Low Fat</td>\n",
       "      <td>0.035186</td>\n",
       "      <td>Health and Hygiene</td>\n",
       "      <td>85.1224</td>\n",
       "      <td>OUT035</td>\n",
       "      <td>2004</td>\n",
       "      <td>Small</td>\n",
       "      <td>Tier 2</td>\n",
       "      <td>Supermarket Type1</td>\n",
       "      <td>1193.1136</td>\n",
       "    </tr>\n",
       "    <tr>\n",
       "      <th>8521</th>\n",
       "      <td>FDN46</td>\n",
       "      <td>7.210</td>\n",
       "      <td>Regular</td>\n",
       "      <td>0.145221</td>\n",
       "      <td>Snack Foods</td>\n",
       "      <td>103.1332</td>\n",
       "      <td>OUT018</td>\n",
       "      <td>2009</td>\n",
       "      <td>Medium</td>\n",
       "      <td>Tier 3</td>\n",
       "      <td>Supermarket Type2</td>\n",
       "      <td>1845.5976</td>\n",
       "    </tr>\n",
       "    <tr>\n",
       "      <th>8522</th>\n",
       "      <td>DRG01</td>\n",
       "      <td>14.800</td>\n",
       "      <td>Low Fat</td>\n",
       "      <td>0.044878</td>\n",
       "      <td>Soft Drinks</td>\n",
       "      <td>75.4670</td>\n",
       "      <td>OUT046</td>\n",
       "      <td>1997</td>\n",
       "      <td>Small</td>\n",
       "      <td>Tier 1</td>\n",
       "      <td>Supermarket Type1</td>\n",
       "      <td>765.6700</td>\n",
       "    </tr>\n",
       "  </tbody>\n",
       "</table>\n",
       "<p>8523 rows × 12 columns</p>\n",
       "</div>"
      ],
      "text/plain": [
       "     Item_Identifier  Item_Weight Item_Fat_Content  Item_Visibility  \\\n",
       "0              FDA15        9.300          Low Fat         0.016047   \n",
       "1              DRC01        5.920          Regular         0.019278   \n",
       "2              FDN15       17.500          Low Fat         0.016760   \n",
       "3              FDX07       19.200          Regular         0.000000   \n",
       "4              NCD19        8.930          Low Fat         0.000000   \n",
       "...              ...          ...              ...              ...   \n",
       "8518           FDF22        6.865          Low Fat         0.056783   \n",
       "8519           FDS36        8.380          Regular         0.046982   \n",
       "8520           NCJ29       10.600          Low Fat         0.035186   \n",
       "8521           FDN46        7.210          Regular         0.145221   \n",
       "8522           DRG01       14.800          Low Fat         0.044878   \n",
       "\n",
       "                  Item_Type  Item_MRP Outlet_Identifier  \\\n",
       "0                     Dairy  249.8092            OUT049   \n",
       "1               Soft Drinks   48.2692            OUT018   \n",
       "2                      Meat  141.6180            OUT049   \n",
       "3     Fruits and Vegetables  182.0950            OUT010   \n",
       "4                 Household   53.8614            OUT013   \n",
       "...                     ...       ...               ...   \n",
       "8518            Snack Foods  214.5218            OUT013   \n",
       "8519           Baking Goods  108.1570            OUT045   \n",
       "8520     Health and Hygiene   85.1224            OUT035   \n",
       "8521            Snack Foods  103.1332            OUT018   \n",
       "8522            Soft Drinks   75.4670            OUT046   \n",
       "\n",
       "      Outlet_Establishment_Year Outlet_Size Outlet_Location_Type  \\\n",
       "0                          1999      Medium               Tier 1   \n",
       "1                          2009      Medium               Tier 3   \n",
       "2                          1999      Medium               Tier 1   \n",
       "3                          1998         NaN               Tier 3   \n",
       "4                          1987        High               Tier 3   \n",
       "...                         ...         ...                  ...   \n",
       "8518                       1987        High               Tier 3   \n",
       "8519                       2002         NaN               Tier 2   \n",
       "8520                       2004       Small               Tier 2   \n",
       "8521                       2009      Medium               Tier 3   \n",
       "8522                       1997       Small               Tier 1   \n",
       "\n",
       "            Outlet_Type  Item_Outlet_Sales  \n",
       "0     Supermarket Type1          3735.1380  \n",
       "1     Supermarket Type2           443.4228  \n",
       "2     Supermarket Type1          2097.2700  \n",
       "3         Grocery Store           732.3800  \n",
       "4     Supermarket Type1           994.7052  \n",
       "...                 ...                ...  \n",
       "8518  Supermarket Type1          2778.3834  \n",
       "8519  Supermarket Type1           549.2850  \n",
       "8520  Supermarket Type1          1193.1136  \n",
       "8521  Supermarket Type2          1845.5976  \n",
       "8522  Supermarket Type1           765.6700  \n",
       "\n",
       "[8523 rows x 12 columns]"
      ]
     },
     "execution_count": 10,
     "metadata": {},
     "output_type": "execute_result"
    }
   ],
   "source": [
    "data_BM"
   ]
  },
  {
   "cell_type": "code",
   "execution_count": 14,
   "metadata": {},
   "outputs": [
    {
     "data": {
      "text/html": [
       "<div>\n",
       "<style scoped>\n",
       "    .dataframe tbody tr th:only-of-type {\n",
       "        vertical-align: middle;\n",
       "    }\n",
       "\n",
       "    .dataframe tbody tr th {\n",
       "        vertical-align: top;\n",
       "    }\n",
       "\n",
       "    .dataframe thead th {\n",
       "        text-align: right;\n",
       "    }\n",
       "</style>\n",
       "<table border=\"1\" class=\"dataframe\">\n",
       "  <thead>\n",
       "    <tr style=\"text-align: right;\">\n",
       "      <th></th>\n",
       "      <th></th>\n",
       "      <th>Item_MRP</th>\n",
       "      <th>Item_Weight</th>\n",
       "    </tr>\n",
       "    <tr>\n",
       "      <th>Item_Type</th>\n",
       "      <th>Item_Fat_Content</th>\n",
       "      <th></th>\n",
       "      <th></th>\n",
       "    </tr>\n",
       "  </thead>\n",
       "  <tbody>\n",
       "    <tr>\n",
       "      <th rowspan=\"2\" valign=\"top\">Baking Goods</th>\n",
       "      <th>Low Fat</th>\n",
       "      <td>107.6938</td>\n",
       "      <td>NaN</td>\n",
       "    </tr>\n",
       "    <tr>\n",
       "      <th>Regular</th>\n",
       "      <td>144.5444</td>\n",
       "      <td>10.395</td>\n",
       "    </tr>\n",
       "    <tr>\n",
       "      <th>Breakfast</th>\n",
       "      <th>Regular</th>\n",
       "      <td>56.3614</td>\n",
       "      <td>9.000</td>\n",
       "    </tr>\n",
       "    <tr>\n",
       "      <th rowspan=\"2\" valign=\"top\">Dairy</th>\n",
       "      <th>Low Fat</th>\n",
       "      <td>249.8092</td>\n",
       "      <td>13.350</td>\n",
       "    </tr>\n",
       "    <tr>\n",
       "      <th>Regular</th>\n",
       "      <td>144.1102</td>\n",
       "      <td>18.500</td>\n",
       "    </tr>\n",
       "    <tr>\n",
       "      <th>Frozen Foods</th>\n",
       "      <th>Regular</th>\n",
       "      <td>187.8214</td>\n",
       "      <td>19.200</td>\n",
       "    </tr>\n",
       "    <tr>\n",
       "      <th rowspan=\"2\" valign=\"top\">Fruits and Vegetables</th>\n",
       "      <th>Low Fat</th>\n",
       "      <td>196.4426</td>\n",
       "      <td>16.350</td>\n",
       "    </tr>\n",
       "    <tr>\n",
       "      <th>Regular</th>\n",
       "      <td>182.0950</td>\n",
       "      <td>19.200</td>\n",
       "    </tr>\n",
       "    <tr>\n",
       "      <th>Hard Drinks</th>\n",
       "      <th>Low Fat</th>\n",
       "      <td>113.2834</td>\n",
       "      <td>NaN</td>\n",
       "    </tr>\n",
       "    <tr>\n",
       "      <th>Health and Hygiene</th>\n",
       "      <th>Low Fat</th>\n",
       "      <td>115.3492</td>\n",
       "      <td>11.800</td>\n",
       "    </tr>\n",
       "    <tr>\n",
       "      <th>Household</th>\n",
       "      <th>Low Fat</th>\n",
       "      <td>196.5084</td>\n",
       "      <td>14.600</td>\n",
       "    </tr>\n",
       "    <tr>\n",
       "      <th>Meat</th>\n",
       "      <th>Low Fat</th>\n",
       "      <td>141.6180</td>\n",
       "      <td>17.500</td>\n",
       "    </tr>\n",
       "    <tr>\n",
       "      <th rowspan=\"2\" valign=\"top\">Snack Foods</th>\n",
       "      <th>Low Fat</th>\n",
       "      <td>107.7622</td>\n",
       "      <td>NaN</td>\n",
       "    </tr>\n",
       "    <tr>\n",
       "      <th>Regular</th>\n",
       "      <td>250.8724</td>\n",
       "      <td>18.850</td>\n",
       "    </tr>\n",
       "    <tr>\n",
       "      <th>Soft Drinks</th>\n",
       "      <th>Regular</th>\n",
       "      <td>48.2692</td>\n",
       "      <td>5.920</td>\n",
       "    </tr>\n",
       "  </tbody>\n",
       "</table>\n",
       "</div>"
      ],
      "text/plain": [
       "                                        Item_MRP  Item_Weight\n",
       "Item_Type             Item_Fat_Content                       \n",
       "Baking Goods          Low Fat           107.6938          NaN\n",
       "                      Regular           144.5444       10.395\n",
       "Breakfast             Regular            56.3614        9.000\n",
       "Dairy                 Low Fat           249.8092       13.350\n",
       "                      Regular           144.1102       18.500\n",
       "Frozen Foods          Regular           187.8214       19.200\n",
       "Fruits and Vegetables Low Fat           196.4426       16.350\n",
       "                      Regular           182.0950       19.200\n",
       "Hard Drinks           Low Fat           113.2834          NaN\n",
       "Health and Hygiene    Low Fat           115.3492       11.800\n",
       "Household             Low Fat           196.5084       14.600\n",
       "Meat                  Low Fat           141.6180       17.500\n",
       "Snack Foods           Low Fat           107.7622          NaN\n",
       "                      Regular           250.8724       18.850\n",
       "Soft Drinks           Regular            48.2692        5.920"
      ]
     },
     "execution_count": 14,
     "metadata": {},
     "output_type": "execute_result"
    }
   ],
   "source": [
    "multiple_groups = data_BM[:25].groupby(['Item_Type', 'Item_Fat_Content'])[['Item_MRP','Item_Weight']].max()\n",
    "multiple_groups"
   ]
  },
  {
   "cell_type": "code",
   "execution_count": null,
   "id": "fba5c5e4",
   "metadata": {},
   "outputs": [],
   "source": [
    "# group on multiple columns\n",
    "multiple_groups = data_BM[:25].groupby(['Item_Type', 'Item_Fat_Content']).max()\n",
    "multiple_groups.reset_index()"
   ]
  },
  {
   "cell_type": "code",
   "execution_count": null,
   "metadata": {},
   "outputs": [],
   "source": [
    "pd.pivot_table()"
   ]
  },
  {
   "cell_type": "code",
   "execution_count": 16,
   "metadata": {},
   "outputs": [
    {
     "data": {
      "text/html": [
       "<div>\n",
       "<style scoped>\n",
       "    .dataframe tbody tr th:only-of-type {\n",
       "        vertical-align: middle;\n",
       "    }\n",
       "\n",
       "    .dataframe tbody tr th {\n",
       "        vertical-align: top;\n",
       "    }\n",
       "\n",
       "    .dataframe thead th {\n",
       "        text-align: right;\n",
       "    }\n",
       "</style>\n",
       "<table border=\"1\" class=\"dataframe\">\n",
       "  <thead>\n",
       "    <tr style=\"text-align: right;\">\n",
       "      <th></th>\n",
       "      <th>Item_Outlet_Sales</th>\n",
       "    </tr>\n",
       "    <tr>\n",
       "      <th>Outlet_Establishment_Year</th>\n",
       "      <th></th>\n",
       "    </tr>\n",
       "  </thead>\n",
       "  <tbody>\n",
       "    <tr>\n",
       "      <th>1985</th>\n",
       "      <td>2483.677474</td>\n",
       "    </tr>\n",
       "    <tr>\n",
       "      <th>1987</th>\n",
       "      <td>2298.995256</td>\n",
       "    </tr>\n",
       "    <tr>\n",
       "      <th>1997</th>\n",
       "      <td>2277.844267</td>\n",
       "    </tr>\n",
       "    <tr>\n",
       "      <th>1998</th>\n",
       "      <td>339.351662</td>\n",
       "    </tr>\n",
       "    <tr>\n",
       "      <th>1999</th>\n",
       "      <td>2348.354635</td>\n",
       "    </tr>\n",
       "    <tr>\n",
       "      <th>2002</th>\n",
       "      <td>2192.384798</td>\n",
       "    </tr>\n",
       "    <tr>\n",
       "      <th>2004</th>\n",
       "      <td>2438.841866</td>\n",
       "    </tr>\n",
       "    <tr>\n",
       "      <th>2007</th>\n",
       "      <td>2340.675263</td>\n",
       "    </tr>\n",
       "    <tr>\n",
       "      <th>2009</th>\n",
       "      <td>1995.498739</td>\n",
       "    </tr>\n",
       "  </tbody>\n",
       "</table>\n",
       "</div>"
      ],
      "text/plain": [
       "                           Item_Outlet_Sales\n",
       "Outlet_Establishment_Year                   \n",
       "1985                             2483.677474\n",
       "1987                             2298.995256\n",
       "1997                             2277.844267\n",
       "1998                              339.351662\n",
       "1999                             2348.354635\n",
       "2002                             2192.384798\n",
       "2004                             2438.841866\n",
       "2007                             2340.675263\n",
       "2009                             1995.498739"
      ]
     },
     "execution_count": 16,
     "metadata": {},
     "output_type": "execute_result"
    }
   ],
   "source": [
    "# create pivot table\n",
    "pd.pivot_table(\n",
    "    data_BM, \n",
    "    index=['Outlet_Establishment_Year'],\n",
    "    values= \"Item_Outlet_Sales\")"
   ]
  },
  {
   "cell_type": "code",
   "execution_count": null,
   "metadata": {},
   "outputs": [],
   "source": [
    "# create pivot table\n",
    "pd.pivot_table(\n",
    "    data_BM, \n",
    "    columns=['Outlet_Establishment_Year'],\n",
    "    index=['Item_Type'], \n",
    "    values= [\"Item_Outlet_Sales\",'Item_MRP'],\n",
    "    aggfunc={\"Item_Outlet_Sales\":'sum','Item_MRP':'mean'})"
   ]
  },
  {
   "cell_type": "code",
   "execution_count": 27,
   "id": "6a565242",
   "metadata": {},
   "outputs": [],
   "source": [
    "# create pivot table\n",
    "pd.pivot_table(\n",
    "    data_BM, \n",
    "    columns=['Outlet_Establishment_Year'],\n",
    "    index=['Item_Type'], \n",
    "    values= [\"Item_Outlet_Sales\",'Item_MRP'],\n",
    "    aggfunc={\"Item_Outlet_Sales\":'sum','Item_MRP':'mean'}).to_csv('../data/csv/pivot_2.csv')"
   ]
  },
  {
   "cell_type": "code",
   "execution_count": null,
   "id": "2995bd37",
   "metadata": {},
   "outputs": [],
   "source": [
    "# create pivot table\n",
    "pd.pivot_table(data_BM, index=['Outlet_Establishment_Year', 'Outlet_Location_Type', 'Outlet_Size'], \n",
    "               values= \"Item_Outlet_Sales\")"
   ]
  }
 ],
 "metadata": {
  "celltoolbar": "Edit Metadata",
  "kernelspec": {
   "display_name": "Python 3 (ipykernel)",
   "language": "python",
   "name": "python3"
  },
  "language_info": {
   "codemirror_mode": {
    "name": "ipython",
    "version": 3
   },
   "file_extension": ".py",
   "mimetype": "text/x-python",
   "name": "python",
   "nbconvert_exporter": "python",
   "pygments_lexer": "ipython3",
   "version": "3.11.1"
  }
 },
 "nbformat": 4,
 "nbformat_minor": 5
}
