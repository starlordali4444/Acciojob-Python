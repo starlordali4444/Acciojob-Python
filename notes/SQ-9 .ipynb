{
 "cells": [
  {
   "cell_type": "markdown",
   "id": "c47fa406",
   "metadata": {},
   "source": [
    "# Introduction to NumPy"
   ]
  },
  {
   "cell_type": "markdown",
   "id": "c9629ae5",
   "metadata": {},
   "source": [
    "NumPy is a library written for scientific computing and data analysis. It stands for numerical python.\n",
    "\n",
    "The most basic object in NumPy is the array, which is homogenous in nature. By homogenous, we mean that all the elements in a numpy array have to be of the same data type, which is commonly numeric (float or integer)."
   ]
  },
  {
   "cell_type": "markdown",
   "id": "5579d98e",
   "metadata": {},
   "source": [
    "Creating NumPy Arrays\n",
    "There are multiple ways to create numpy arrays, the most commmon ones being:\n",
    "\n",
    "Convert lists or tuples to arrays using np.array()\n",
    "Initialise arrays of fixed size (when the size is known)"
   ]
  },
  {
   "cell_type": "code",
   "execution_count": null,
   "id": "dcfc15ac",
   "metadata": {},
   "outputs": [],
   "source": [
    "! pip install numpy         # to insatall numpy in notebook"
   ]
  },
  {
   "cell_type": "code",
   "execution_count": null,
   "id": "39a29edc",
   "metadata": {},
   "outputs": [],
   "source": [
    "# Import the numpy library\n",
    "# np is simply an alias, you may use any other alias, though np is quite standard\n",
    "import numpy as np\n",
    "print(np.__version__)    # check the version of the numpy library"
   ]
  },
  {
   "cell_type": "markdown",
   "id": "4a762024",
   "metadata": {},
   "source": [
    "    numpy array"
   ]
  },
  {
   "cell_type": "code",
   "execution_count": null,
   "id": "75c695b3",
   "metadata": {},
   "outputs": [],
   "source": [
    "numbers=[1,2,3]  # list of the numbers\n",
    "arr=np.array(numbers)    # creates a numpy array\n",
    "print('list:',numbers)\n",
    "print(type(numbers))\n",
    "print('-----------------------------------------')\n",
    "print('numpy array:',arr)\n",
    "print(type(arr))"
   ]
  },
  {
   "cell_type": "markdown",
   "id": "b23c86d2",
   "metadata": {},
   "source": [
    "# Numpy vs Lists"
   ]
  },
  {
   "cell_type": "code",
   "execution_count": null,
   "id": "5fc37f2b",
   "metadata": {},
   "outputs": [],
   "source": [
    "# intialise a list with the following elements: 1, 2, 3, 4, 5\n",
    "list_1=[1,2,3,4,5]\n",
    "\n",
    "# try to multiply 2.5 directly to the created list\n",
    "\n",
    "list_1*2.5"
   ]
  },
  {
   "cell_type": "markdown",
   "id": "67c9f192",
   "metadata": {},
   "source": [
    "Lists cannot operate over the entire data together. You need to run map or lambda functions to multiply each element with 2.5."
   ]
  },
  {
   "cell_type": "code",
   "execution_count": null,
   "id": "416b4e75",
   "metadata": {},
   "outputs": [],
   "source": [
    "def mul(x):\n",
    "    return x*2.5\n",
    "print(list(map(mul,list_1)))"
   ]
  },
  {
   "cell_type": "code",
   "execution_count": null,
   "id": "ae524586",
   "metadata": {},
   "outputs": [],
   "source": [
    "list_2=list(map(lambda x: x*2.5,list_1))"
   ]
  },
  {
   "cell_type": "code",
   "execution_count": null,
   "id": "e3b16218",
   "metadata": {},
   "outputs": [],
   "source": [
    "print(list_2)"
   ]
  },
  {
   "cell_type": "code",
   "execution_count": null,
   "id": "31d3084c",
   "metadata": {},
   "outputs": [],
   "source": [
    "list_1*2         # if we multiply list with an integer it will perform repetition"
   ]
  },
  {
   "cell_type": "markdown",
   "id": "288025af",
   "metadata": {},
   "source": [
    "Let's try to perform the same using a NumPy array."
   ]
  },
  {
   "cell_type": "code",
   "execution_count": null,
   "id": "fcba8c00",
   "metadata": {},
   "outputs": [],
   "source": [
    "# Creating a 1-D array using a list\n",
    "# np.array() takes in a list or a tuple as argument, and converts into an array\n",
    "\n",
    "np_list = np.array(list_1)"
   ]
  },
  {
   "cell_type": "code",
   "execution_count": null,
   "id": "d5c67b99",
   "metadata": {},
   "outputs": [],
   "source": [
    "np_list"
   ]
  },
  {
   "cell_type": "code",
   "execution_count": null,
   "id": "aa0caa18",
   "metadata": {},
   "outputs": [],
   "source": [
    "# Multiply each element with 2.5 \n",
    "\n",
    "np_list*2.5"
   ]
  },
  {
   "cell_type": "code",
   "execution_count": null,
   "id": "3f7ad748",
   "metadata": {},
   "outputs": [],
   "source": [
    "# Print the result using the print command. Compare the structure of list and array.\n",
    "print(np_list,list_1)"
   ]
  },
  {
   "cell_type": "markdown",
   "id": "ed5d87b7",
   "metadata": {},
   "source": [
    "# Creating 1D numpy array using different data types"
   ]
  },
  {
   "cell_type": "code",
   "execution_count": null,
   "id": "6288d559",
   "metadata": {},
   "outputs": [],
   "source": [
    "# Create a 1-D array using with the elements (1, abc, True)\n",
    "\n",
    "np.array([1,\"abc\",True])"
   ]
  },
  {
   "cell_type": "code",
   "execution_count": null,
   "id": "ec0fa762",
   "metadata": {},
   "outputs": [],
   "source": [
    "# Create a 1-D array using with the elements (1, abc, True)\n",
    "\n",
    "a=np.array([1,\"abc\",True])\n",
    "print(a)"
   ]
  },
  {
   "cell_type": "markdown",
   "id": "098aa3cb",
   "metadata": {},
   "source": [
    "All the elements in a numpy array have the same data type. You can check the data type of an array using the .dtype\n",
    "\n",
    "The type of the data can be described by type attribute as .dtype.type"
   ]
  },
  {
   "cell_type": "code",
   "execution_count": null,
   "id": "e180f6a3",
   "metadata": {},
   "outputs": [],
   "source": [
    "print('type(a): ',type(a))                  # check the data type of the array\n",
    "print('a.dtype: ',a.dtype)                  # check the data type of the elements of the array\n",
    "print('a.dtype.type: ',a.dtype.type)        # check the data type of the elements of the array"
   ]
  },
  {
   "cell_type": "code",
   "execution_count": null,
   "id": "346f74dc",
   "metadata": {},
   "outputs": [],
   "source": [
    "list_1=[5,1,5,9]"
   ]
  },
  {
   "cell_type": "code",
   "execution_count": null,
   "id": "548d9609",
   "metadata": {},
   "outputs": [],
   "source": [
    "list_1=np.array(list_1)\n",
    "print(list_1.dtype)\n",
    "print(list_1.dtype.type)"
   ]
  },
  {
   "cell_type": "code",
   "execution_count": null,
   "id": "45a2f1a9",
   "metadata": {
    "deletable": false,
    "editable": false
   },
   "outputs": [],
   "source": [
    "list_2=[5,1.5,5,9]\n",
    "#Print the type of list in below cell"
   ]
  },
  {
   "cell_type": "code",
   "execution_count": null,
   "id": "71eee515",
   "metadata": {
    "cellId": "q9",
    "deletable": false
   },
   "outputs": [],
   "source": [
    "#answer here"
   ]
  },
  {
   "cell_type": "markdown",
   "id": "198b96df",
   "metadata": {},
   "source": [
    "# Checking shape, dimensions, size\n",
    "Numpy arrays can have any number of dimensions and different lengths along each dimension. We can inspect the length along each dimension using the .shapeproperty of an array.\n",
    "\n",
    "You can get the number of dimensions, and size (number of all elements) of the NumPy array with ndim and size attributes of numpy.ndarray. The built-in function len() returns the size of the first dimension.\n",
    "\n",
    "Number of dimensions of the NumPy array: .ndim\n",
    "\n",
    "Size of the NumPy array: .size\n",
    "\n",
    "Size of the first dimension of the NumPy array: len()"
   ]
  },
  {
   "cell_type": "code",
   "execution_count": null,
   "id": "c91f052e",
   "metadata": {},
   "outputs": [],
   "source": [
    "list_1=[5,1,5,9]\n",
    "arr=np.array(list_1)\n",
    "print('arr.shape',arr.shape)       # check the shape of the numpy array\n",
    "print('arr.ndim: ',arr.ndim)       # check the dimensions of the numpy array \n",
    "print('arr.size: ',arr.size)       # check the size of the numpy array\n",
    "print('len(arr): ',len(arr))"
   ]
  },
  {
   "cell_type": "code",
   "execution_count": null,
   "id": "603b2331",
   "metadata": {},
   "outputs": [],
   "source": [
    "# create a numpy array of the single element\n",
    "list_2=2\n",
    "list_2=np.array(list_2)\n",
    "print('list_2.ndim: ',list_2.ndim)\n",
    "print('list_2.shape: ',list_2.shape)\n",
    "print('type(list_2): ',type(list_2))\n",
    "print('list_2.dtype: ',list_2.dtype)"
   ]
  },
  {
   "cell_type": "markdown",
   "id": "03915cff",
   "metadata": {},
   "source": [
    "# Broadcasting"
   ]
  },
  {
   "cell_type": "markdown",
   "id": "8835472c",
   "metadata": {},
   "source": [
    "The term broadcasting describes how NumPy treats arrays with different shapes during arithmetic operations. Subject to certain constraints, the smaller array is “broadcast” across the larger array so that they have compatible shapes. Broadcasting provides a means of vectorizing array operations so that looping occurs in C instead of Python. It does this without making needless copies of data and usually leads to efficient algorithm implementations. There are, however, cases where broadcasting is a bad idea because it leads to inefficient use of memory that slows computation.\n",
    "\n",
    "for further reading refer: https://numpy.org/doc/stable/user/basics.broadcasting.html\n",
    "\n",
    "NumPy operations are usually done on pairs of arrays on an element-by-element basis. In the simplest case, the two arrays must have exactly the same shape, as in the following example:"
   ]
  },
  {
   "cell_type": "code",
   "execution_count": null,
   "id": "c8d026db",
   "metadata": {},
   "outputs": [],
   "source": [
    "a = np.array([1.0, 2.0, 3.0])\n",
    "b=2\n",
    "c=a*b\n",
    "print(c)"
   ]
  },
  {
   "cell_type": "markdown",
   "id": "6e6ec7f9",
   "metadata": {},
   "source": [
    "# Creating 2D and 3D array"
   ]
  },
  {
   "cell_type": "markdown",
   "id": "c1a2632e",
   "metadata": {},
   "source": [
    "Numpy is used to create multi dimensional arrays. For 2D array it is having sahpe along two axes axis 0 for rows and axis 1 for columns if we consider it as mxn matrix. Elements in 2D arrays are similar to list of lists. for example,[[1,2,3],[4,5,6]]. The given array will have shape (2,3).\n",
    "\n",
    "For 3D array it will have shape along axis 2 as depth, axis 0 as height and axis 1 as length of the cube. for example [[[1,2,3],[4,5,6],[7,8,9]]]. In this example the shape of the array is (1,3,3)"
   ]
  },
  {
   "cell_type": "code",
   "execution_count": null,
   "id": "a021725f",
   "metadata": {},
   "outputs": [],
   "source": [
    "# Creating a 2D array\n",
    "list_1=[1,2,3]\n",
    "arr1=np.array(list_1)\n",
    "print('arr1: \\n',arr1)\n",
    "print('arr1.shape: ',arr1.shape)\n",
    "print('arr1.ndim: ',arr1.ndim)\n",
    "print('arr1.size: ',arr1.size)"
   ]
  },
  {
   "cell_type": "code",
   "execution_count": null,
   "id": "f1fbaa03",
   "metadata": {},
   "outputs": [],
   "source": [
    "# Creating a 2D array\n",
    "list_1=[[1,2,3],[4,5,6]]\n",
    "arr1=np.array(list_1)\n",
    "print('arr1: \\n',arr1)\n",
    "print('arr1.shape: ',arr1.shape)\n",
    "print('arr1.ndim: ',arr1.ndim)\n",
    "print('arr1.size: ',arr1.size)"
   ]
  },
  {
   "cell_type": "code",
   "execution_count": null,
   "id": "7abd9d08",
   "metadata": {},
   "outputs": [],
   "source": [
    "# creating a 3D array\n",
    "list_2=[[[1,2,3],[4,5,6]]]\n",
    "arr2=np.array(list_2)\n",
    "print('arr12 \\n',arr2)\n",
    "print('arr2.shape: ',arr2.shape)\n",
    "print('arr2.ndim: ',arr2.ndim)\n",
    "print('arr2.size: ',arr2.size)"
   ]
  },
  {
   "cell_type": "code",
   "execution_count": null,
   "id": "40610c69",
   "metadata": {},
   "outputs": [],
   "source": [
    "list_x=np.array([[[1],[2],[3]],[[4],[5],[6]]])\n",
    "list_x.shape"
   ]
  },
  {
   "cell_type": "code",
   "execution_count": null,
   "id": "422466d1",
   "metadata": {},
   "outputs": [],
   "source": [
    "list_x=np.array([[[1],[2],[3]],[[4],[5],[6]],[[1],[2],[3]],[[4],[5],[6]]])\n",
    "list_x.shape"
   ]
  },
  {
   "cell_type": "markdown",
   "id": "c627f305",
   "metadata": {},
   "source": [
    "# Array slicing"
   ]
  },
  {
   "cell_type": "markdown",
   "id": "f97e6f04",
   "metadata": {},
   "source": [
    "Multidimensional arrays are indexed using as many indices as the number of dimensions or axes. For instance, to index a 2-D array, you need two indices - array[x, y]. Each axes has an index starting at 0."
   ]
  },
  {
   "cell_type": "code",
   "execution_count": null,
   "id": "5b821241",
   "metadata": {},
   "outputs": [],
   "source": [
    "# import numpy library\n",
    "\n",
    "import numpy as np\n",
    "# player information is provided in the lists - players, skills\n",
    "# players: list of tuples where 1st element is height in inches and the 2nd element is weight in lbs\n",
    "# skills: the skill of the player in the sport cricket"
   ]
  },
  {
   "cell_type": "code",
   "execution_count": null,
   "id": "9645ca04",
   "metadata": {},
   "outputs": [],
   "source": [
    "players = [(74, 180), (74, 215), (72, 210), (72, 210), (73, 188), (69, 176), (69, 209), (71, 200), (76, 231), (71, 180), (73, 188), (73, 180), (74, 185), (74, 160), (69, 180), (70, 185), (73, 189), (75, 185), (78, 219), (79, 230), (76, 205), (74, 230), (76, 195), (72, 180), (71, 192), (75, 225), (77, 203), (74, 195), (73, 182), (74, 188), (78, 200), (73, 180), (75, 200), (73, 200), (75, 245), (75, 240), (74, 215), (69, 185), (71, 175), (74, 199), (73, 200), (73, 215), (76, 200), (74, 205), (74, 206), (70, 186), (72, 188), (77, 220), (74, 210), (70, 195), (73, 200), (75, 200), (76, 212), (76, 224), (78, 210), (74, 205), (74, 220), (76, 195), (77, 200), (81, 260), (78, 228), (75, 270), (77, 200), (75, 210), (76, 190), (74, 220), (72, 180), (72, 205), (75, 210), (73, 220), (73, 211), (73, 200), (70, 180), (70, 190), (70, 170), (76, 230), (68, 155), (71, 185), (72, 185), (75, 200), (75, 225), (75, 225), (75, 220), (68, 160), (74, 205), (78, 235), (71, 250), (73, 210), (76, 190), (74, 160), (74, 200), (79, 205), (75, 222), (73, 195), (76, 205), (74, 220), (74, 220), (73, 170), (72, 185), (74, 195), (73, 220), (74, 230), (72, 180), (73, 220), (69, 180), (72, 180), (73, 170), (75, 210), (75, 215), (73, 200), (72, 213), (72, 180), (76, 192), (74, 235), (72, 185), (77, 235), (74, 210), (77, 222), (75, 210), (76, 230), (80, 220), (74, 180), (74, 190), (75, 200), (78, 210), (73, 194), (73, 180), (74, 190), (75, 240), (76, 200), (71, 198), (73, 200), (74, 195), (76, 210), (76, 220), (74, 190), (73, 210), (74, 225), (70, 180), (72, 185), (73, 170), (73, 185), (73, 185), (73, 180), (71, 178), (74, 175), (74, 200), (72, 204), (74, 211), (71, 190), (74, 210), (73, 190), (75, 190), (75, 185), (79, 290), (73, 175), (75, 185), (76, 200), (74, 220), (76, 170), (78, 220), (74, 190), (76, 220), (72, 205), (74, 200), (76, 250), (74, 225), (75, 215), (78, 210), (75, 215), (72, 195), (74, 200), (72, 194), (74, 220), (70, 180), (71, 180), (70, 170), (75, 195), (71, 180), (71, 170), (73, 206), (72, 205), (71, 200), (73, 225), (72, 201), (75, 225), (74, 233), (74, 180), (75, 225), (73, 180), (77, 220), (73, 180), (76, 237), (75, 215), (74, 190), (76, 235), (75, 190), (73, 180), (71, 165), (76, 195), (75, 200), (72, 190), (71, 190), (77, 185), (73, 185), (74, 205), (71, 190), (72, 205), (74, 206), (75, 220), (73, 208), (72, 170), (75, 195), (75, 210), (74, 190), (72, 211), (74, 230), (71, 170), (70, 185), (74, 185), (77, 241), (77, 225), (75, 210), (75, 175), (78, 230), (75, 200), (76, 215), (73, 198), (75, 226), (75, 278), (79, 215), (77, 230), (76, 240), (71, 184), (75, 219), (74, 170), (69, 218), (71, 190), (76, 225), (72, 220), (72, 176), (70, 190), (72, 197), (73, 204), (71, 167), (72, 180), (71, 195), (73, 220), (72, 215), (73, 185), (74, 190), (74, 205), (72, 205), (75, 200), (74, 210), (74, 215), (77, 200), (75, 205), (73, 211), (72, 190), (71, 208), (74, 200), (77, 210), (75, 232), (75, 230), (75, 210), (78, 220), (78, 210), (74, 202), (76, 212), (78, 225), (76, 170), (70, 190), (72, 200), (80, 237), (74, 220), (74, 170), (71, 193), (70, 190), (72, 150), (71, 220), (74, 200), (71, 190), (72, 185), (71, 185), (74, 200), (69, 172), (76, 220), (75, 225), (75, 190), (76, 195), (73, 219), (76, 190), (73, 197), (77, 200), (73, 195), (72, 210), (72, 177), (77, 220), (77, 235), (71, 180), (74, 195), (74, 195), (73, 190), (78, 230), (75, 190), (73, 200), (70, 190), (74, 190), (72, 200), (73, 200), (73, 184), (75, 200), (75, 180), (74, 219), (76, 187), (73, 200), (74, 220), (75, 205), (75, 190), (72, 170), (73, 160), (73, 215), (72, 175), (74, 205), (78, 200), (76, 214), (73, 200), (74, 190), (75, 180), (70, 205), (75, 220), (71, 190), (72, 215), (78, 235), (75, 191), (73, 200), (73, 181), (71, 200), (75, 210), (77, 240), (72, 185), (69, 165), (73, 190), (74, 185), (72, 175), (70, 155), (75, 210), (70, 170), (72, 175), (72, 220), (74, 210), (73, 205), (74, 200), (76, 205), (75, 195), (80, 240), (72, 150), (75, 200), (73, 215), (74, 202), (74, 200), (73, 190), (75, 205), (75, 190), (71, 160), (73, 215), (75, 185), (74, 200), (74, 190), (72, 210), (74, 185), (74, 220), (74, 190), (73, 202), (76, 205), (75, 220), (72, 175), (73, 160), (73, 190), (73, 200), (72, 229), (72, 206), (72, 220), (72, 180), (71, 195), (75, 175), (75, 188), (74, 230), (73, 190), (75, 200), (79, 190), (74, 219), (76, 235), (73, 180), (74, 180), (74, 180), (72, 200), (74, 234), (74, 185), (75, 220), (78, 223), (74, 200), (74, 210), (74, 200), (77, 210), (70, 190), (73, 177), (74, 227), (73, 180), (71, 195), (75, 199), (71, 175), (72, 185), (77, 240), (74, 210), (70, 180), (77, 194), (73, 225), (72, 180), (76, 205), (71, 193), (76, 230), (78, 230), (75, 220), (73, 200), (78, 249), (74, 190), (79, 208), (75, 245), (76, 250), (72, 160), (75, 192), (75, 220), (70, 170), (72, 197), (70, 155), (74, 190), (71, 200), (76, 220), (73, 210), (76, 228), (71, 190), (69, 160), (72, 184), (72, 180), (69, 180), (73, 200), (69, 176), (73, 160), (74, 222), (74, 211), (72, 195), (71, 200), (72, 175), (72, 206), (76, 240), (76, 185), (76, 260), (74, 185), (76, 221), (75, 205), (71, 200), (72, 170), (71, 201), (73, 205), (75, 185), (76, 205), (75, 245), (71, 220), (75, 210), (74, 220), (72, 185), (73, 175), (73, 170), (73, 180), (73, 200), (76, 210), (72, 175), (76, 220), (73, 206), (73, 180), (73, 210), (75, 195), (75, 200), (77, 200), (73, 164), (72, 180), (75, 220), (70, 195), (74, 205), (72, 170), (80, 240), (71, 210), (71, 195), (74, 200), (74, 205), (73, 192), (75, 190), (76, 170), (73, 240), (77, 200), (72, 205), (73, 175), (77, 250), (76, 220), (71, 224), (75, 210), (73, 195), (74, 180), (77, 245), (71, 175), (72, 180), (73, 215), (69, 175), (73, 180), (70, 195), (74, 230), (76, 230), (73, 205), (73, 215), (75, 195), (73, 180), (79, 205), (74, 180), (73, 190), (74, 180), (77, 190), (75, 190), (74, 220), (73, 210), (77, 255), (73, 190), (77, 230), (74, 200), (74, 205), (73, 210), (77, 225), (74, 215), (77, 220), (75, 205), (77, 200), (75, 220), (71, 197), (74, 225), (70, 187), (79, 245), (72, 185), (72, 185), (70, 175), (74, 200), (74, 180), (72, 188), (73, 225), (72, 200), (74, 210), (74, 245), (76, 213), (82, 231), (74, 165), (74, 228), (70, 210), (73, 250), (73, 191), (74, 190), (77, 200), (72, 215), (76, 254), (73, 232), (73, 180), (72, 215), (74, 220), (74, 180), (71, 200), (72, 170), (75, 195), (74, 210), (74, 200), (77, 220), (70, 165), (71, 180), (73, 200), (76, 200), (71, 170), (75, 224), (74, 220), (72, 180), (76, 198), (79, 240), (76, 239), (73, 185), (76, 210), (78, 220), (75, 200), (76, 195), (72, 220), (72, 230), (73, 170), (73, 220), (75, 230), (71, 165), (76, 205), (70, 192), (75, 210), (74, 205), (75, 200), (73, 210), (71, 185), (71, 195), (72, 202), (73, 205), (73, 195), (72, 180), (69, 200), (73, 185), (78, 240), (71, 185), (73, 220), (75, 205), (76, 205), (70, 180), (74, 201), (77, 190), (75, 208), (79, 240), (72, 180), (77, 230), (73, 195), (75, 215), (75, 190), (75, 195), (73, 215), (73, 215), (76, 220), (77, 220), (75, 230), (70, 195), (71, 190), (71, 195), (75, 209), (74, 204), (69, 170), (70, 185), (75, 205), (72, 175), (75, 210), (73, 190), (72, 180), (72, 180), (72, 160), (76, 235), (75, 200), (74, 210), (69, 180), (73, 190), (72, 197), (72, 203), (75, 205), (77, 170), (76, 200), (80, 250), (77, 200), (76, 220), (79, 200), (71, 190), (75, 170), (73, 190), (76, 220), (77, 215), (73, 206), (76, 215), (70, 185), (75, 235), (73, 188), (75, 230), (70, 195), (69, 168), (71, 190), (72, 160), (72, 200), (73, 200), (70, 189), (70, 180), (73, 190), (76, 200), (75, 220), (72, 187), (73, 240), (79, 190), (71, 180), (72, 185), (74, 210), (74, 220), (74, 219), (72, 190), (76, 193), (76, 175), (72, 180), (72, 215), (71, 210), (72, 200), (72, 190), (70, 185), (77, 220), (74, 170), (72, 195), (76, 205), (71, 195), (76, 210), (71, 190), (73, 190), (70, 180), (73, 220), (73, 190), (72, 186), (71, 185), (71, 190), (71, 180), (72, 190), (72, 170), (74, 210), (74, 240), (74, 220), (71, 180), (72, 210), (75, 210), (72, 195), (71, 160), (72, 180), (72, 205), (72, 200), (72, 185), (74, 245), (74, 190), (77, 210), (75, 200), (73, 200), (75, 222), (73, 215), (76, 240), (72, 170), (77, 220), (75, 156), (72, 190), (71, 202), (71, 221), (75, 200), (72, 190), (73, 210), (73, 190), (71, 200), (70, 165), (75, 190), (71, 185), (76, 230), (73, 208), (68, 209), (71, 175), (72, 180), (74, 200), (77, 205), (72, 200), (76, 250), (78, 210), (81, 230), (72, 244), (73, 202), (76, 240), (72, 200), (72, 215), (74, 177), (76, 210), (73, 170), (76, 215), (75, 217), (70, 198), (71, 200), (74, 220), (72, 170), (73, 200), (76, 230), (76, 231), (73, 183), (71, 192), (68, 167), (71, 190), (71, 180), (74, 180), (77, 215), (69, 160), (72, 205), (76, 223), (75, 175), (76, 170), (75, 190), (76, 240), (72, 175), (74, 230), (76, 223), (74, 196), (72, 167), (75, 195), (78, 190), (77, 250), (70, 190), (72, 190), (79, 190), (74, 170), (71, 160), (68, 150), (77, 225), (75, 220), (71, 209), (72, 210), (70, 176), (72, 260), (72, 195), (73, 190), (72, 184), (74, 180), (72, 195), (72, 195), (75, 219), (72, 225), (73, 212), (74, 202), (72, 185), (78, 200), (75, 209), (72, 200), (74, 195), (75, 228), (75, 210), (76, 190), (74, 212), (74, 190), (73, 218), (74, 220), (71, 190), (74, 235), (75, 210), (76, 200), (74, 188), (76, 210), (76, 235), (73, 188), (75, 215), (75, 216), (74, 220), (68, 180), (72, 185), (75, 200), (71, 210), (70, 220), (72, 185), (73, 231), (72, 210), (75, 195), (74, 200), (70, 205), (76, 200), (71, 190), (82, 250), (72, 185), (73, 180), (74, 170), (71, 180), (75, 208), (77, 235), (72, 215), (74, 244), (72, 220), (73, 185), (78, 230), (77, 190), (73, 200), (73, 180), (73, 190), (73, 196), (73, 180), (76, 230), (75, 224), (70, 160), (73, 178), (72, 205), (73, 185), (75, 210), (74, 180), (73, 190), (73, 200), (76, 257), (73, 190), (75, 220), (70, 165), (77, 205), (72, 200), (77, 208), (74, 185), (75, 215), (75, 170), (75, 235), (75, 210), (72, 170), (74, 180), (71, 170), (76, 190), (71, 150), (75, 230), (76, 203), (83, 260), (75, 246), (74, 186), (76, 210), (72, 198), (72, 210), (75, 215), (75, 180), (72, 200), (77, 245), (73, 200), (72, 192), (70, 192), (74, 200), (72, 192), (74, 205), (72, 190), (71, 186), (70, 170), (71, 197), (76, 219), (74, 200), (76, 220), (74, 207), (74, 225), (74, 207), (75, 212), (75, 225), (71, 170), (71, 190), (74, 210), (77, 230), (71, 210), (74, 200), (75, 238), (77, 234), (76, 222), (74, 200), (76, 190), (72, 170), (71, 220), (72, 223), (75, 210), (73, 215), (68, 196), (72, 175), (69, 175), (73, 189), (73, 205), (75, 210), (70, 180), (70, 180), (74, 197), (75, 220), (74, 228), (74, 190), (73, 204), (74, 165), (75, 216), (77, 220), (73, 208), (74, 210), (76, 215), (74, 195), (75, 200), (73, 215), (76, 229), (78, 240), (75, 207), (73, 205), (77, 208), (74, 185), (72, 190), (74, 170), (72, 208), (71, 225), (73, 190), (75, 225), (73, 185), (67, 180), (67, 165), (76, 240), (74, 220), (73, 212), (70, 163), (75, 215), (70, 175), (72, 205), (77, 210), (79, 205), (78, 208), (74, 215), (75, 180), (75, 200), (78, 230), (76, 211), (75, 230), (69, 190), (75, 220), (72, 180), (75, 205), (73, 190), (74, 180), (75, 205), (75, 190), (73, 195)]\n"
   ]
  },
  {
   "cell_type": "code",
   "execution_count": null,
   "id": "58cf1dea",
   "metadata": {},
   "outputs": [],
   "source": [
    "skills = np.array(['Keeper', 'Batsman', 'Bowler', 'Keeper-Batsman', 'Batsman', 'Keeper-Batsman', 'Batsman', 'Batsman', 'Batsman', 'Bowler', 'Batsman', 'Batsman', 'Bowler', 'Bowler', 'Bowler', 'Batsman', 'Keeper-Batsman', 'Bowler', 'Keeper-Batsman', 'Batsman', 'Keeper', 'Keeper-Batsman', 'Keeper-Batsman', 'Batsman', 'Batsman', 'Batsman', 'Batsman', 'Keeper-Batsman', 'Batsman', 'Keeper', 'Keeper-Batsman', 'Keeper', 'Keeper-Batsman', 'Keeper-Batsman', 'Batsman', 'Bowler', 'Batsman', 'Keeper-Batsman', 'Batsman', 'Keeper', 'Batsman', 'Keeper', 'Bowler', 'Keeper-Batsman', 'Keeper', 'Bowler', 'Keeper', 'Keeper', 'Keeper', 'Keeper', 'Bowler', 'Keeper-Batsman', 'Bowler', 'Keeper-Batsman', 'Keeper-Batsman', 'Batsman', 'Keeper-Batsman', 'Batsman', 'Keeper-Batsman', 'Keeper-Batsman', 'Keeper', 'Keeper', 'Keeper-Batsman', 'Batsman', 'Batsman', 'Keeper', 'Batsman', 'Keeper-Batsman', 'Batsman', 'Batsman', 'Keeper-Batsman', 'Keeper-Batsman', 'Batsman', 'Batsman', 'Keeper-Batsman', 'Bowler', 'Bowler', 'Batsman', 'Batsman', 'Batsman', 'Bowler', 'Keeper-Batsman', 'Keeper-Batsman', 'Bowler', 'Bowler', 'Batsman', 'Batsman', 'Batsman', 'Keeper-Batsman', 'Keeper-Batsman', 'Bowler', 'Bowler', 'Keeper-Batsman', 'Batsman', 'Batsman', 'Batsman', 'Keeper-Batsman', 'Batsman', 'Batsman', 'Keeper-Batsman', 'Batsman', 'Bowler', 'Batsman', 'Batsman', 'Keeper', 'Batsman', 'Keeper-Batsman', 'Batsman', 'Batsman', 'Keeper-Batsman', 'Batsman', 'Batsman', 'Bowler', 'Keeper', 'Keeper-Batsman', 'Batsman', 'Keeper', 'Batsman', 'Batsman', 'Batsman', 'Batsman', 'Keeper-Batsman', 'Keeper-Batsman', 'Batsman', 'Keeper-Batsman', 'Batsman', 'Keeper-Batsman', 'Batsman', 'Batsman', 'Bowler', 'Batsman', 'Keeper', 'Bowler', 'Batsman', 'Keeper-Batsman', 'Batsman', 'Keeper-Batsman', 'Keeper', 'Keeper-Batsman', 'Keeper-Batsman', 'Batsman', 'Bowler', 'Keeper', 'Batsman', 'Keeper-Batsman', 'Bowler', 'Keeper-Batsman', 'Bowler', 'Bowler', 'Batsman', 'Keeper-Batsman', 'Batsman', 'Bowler', 'Keeper', 'Keeper-Batsman', 'Batsman', 'Keeper', 'Bowler', 'Keeper-Batsman', 'Keeper-Batsman', 'Keeper-Batsman', 'Keeper', 'Keeper', 'Batsman', 'Keeper-Batsman', 'Keeper', 'Keeper-Batsman', 'Batsman', 'Keeper', 'Bowler', 'Keeper-Batsman', 'Keeper', 'Keeper', 'Keeper-Batsman', 'Batsman', 'Keeper', 'Keeper-Batsman', 'Keeper-Batsman', 'Keeper-Batsman', 'Batsman', 'Keeper-Batsman', 'Batsman', 'Keeper-Batsman', 'Keeper-Batsman', 'Bowler', 'Keeper-Batsman', 'Keeper-Batsman', 'Keeper-Batsman', 'Batsman', 'Batsman', 'Bowler', 'Keeper-Batsman', 'Batsman', 'Batsman', 'Keeper-Batsman', 'Batsman', 'Bowler', 'Bowler', 'Keeper-Batsman', 'Bowler', 'Keeper', 'Batsman', 'Bowler', 'Bowler', 'Keeper-Batsman', 'Keeper-Batsman', 'Bowler', 'Keeper-Batsman', 'Keeper', 'Keeper-Batsman', 'Batsman', 'Keeper-Batsman', 'Keeper-Batsman', 'Batsman', 'Batsman', 'Keeper', 'Keeper-Batsman', 'Batsman', 'Keeper', 'Keeper', 'Keeper-Batsman', 'Batsman', 'Keeper-Batsman', 'Keeper-Batsman', 'Batsman', 'Bowler', 'Keeper-Batsman', 'Keeper-Batsman', 'Batsman', 'Bowler', 'Bowler', 'Bowler', 'Bowler', 'Bowler', 'Batsman', 'Keeper-Batsman', 'Keeper-Batsman', 'Bowler', 'Batsman', 'Keeper', 'Batsman', 'Keeper', 'Bowler', 'Bowler', 'Keeper', 'Batsman', 'Keeper-Batsman', 'Batsman', 'Keeper-Batsman', 'Keeper-Batsman', 'Batsman', 'Batsman', 'Bowler', 'Bowler', 'Keeper-Batsman', 'Keeper-Batsman', 'Keeper-Batsman', 'Batsman', 'Batsman', 'Keeper', 'Keeper-Batsman', 'Batsman', 'Batsman', 'Keeper-Batsman', 'Keeper-Batsman', 'Keeper-Batsman', 'Batsman', 'Batsman', 'Batsman', 'Keeper-Batsman', 'Batsman', 'Bowler', 'Bowler', 'Keeper-Batsman', 'Keeper-Batsman', 'Batsman', 'Keeper', 'Bowler', 'Keeper-Batsman', 'Keeper-Batsman', 'Keeper-Batsman', 'Keeper', 'Keeper-Batsman', 'Batsman', 'Keeper-Batsman', 'Bowler', 'Bowler', 'Keeper', 'Bowler', 'Keeper-Batsman', 'Batsman', 'Batsman', 'Keeper', 'Bowler', 'Bowler', 'Batsman', 'Keeper-Batsman', 'Bowler', 'Batsman', 'Batsman', 'Batsman', 'Keeper-Batsman', 'Keeper-Batsman', 'Keeper-Batsman', 'Batsman', 'Keeper-Batsman', 'Bowler', 'Batsman', 'Batsman', 'Batsman', 'Bowler', 'Batsman', 'Batsman', 'Keeper-Batsman', 'Batsman', 'Keeper-Batsman', 'Batsman', 'Batsman', 'Bowler', 'Keeper-Batsman', 'Keeper-Batsman', 'Batsman', 'Bowler', 'Keeper-Batsman', 'Keeper-Batsman', 'Batsman', 'Batsman', 'Batsman', 'Keeper-Batsman', 'Batsman', 'Keeper-Batsman', 'Bowler', 'Keeper-Batsman', 'Keeper-Batsman', 'Batsman', 'Keeper-Batsman', 'Bowler', 'Keeper-Batsman', 'Keeper-Batsman', 'Keeper', 'Batsman', 'Batsman', 'Batsman', 'Keeper', 'Batsman', 'Bowler', 'Keeper-Batsman', 'Keeper-Batsman', 'Batsman', 'Bowler', 'Keeper', 'Batsman', 'Keeper-Batsman', 'Bowler', 'Batsman', 'Bowler', 'Bowler', 'Bowler', 'Batsman', 'Keeper', 'Bowler', 'Bowler', 'Batsman', 'Bowler', 'Keeper-Batsman', 'Keeper-Batsman', 'Keeper-Batsman', 'Bowler', 'Keeper', 'Keeper-Batsman', 'Keeper-Batsman', 'Keeper-Batsman', 'Keeper-Batsman', 'Keeper', 'Bowler', 'Keeper', 'Keeper-Batsman', 'Keeper-Batsman', 'Batsman', 'Keeper', 'Keeper-Batsman', 'Keeper-Batsman', 'Keeper-Batsman', 'Bowler', 'Keeper-Batsman', 'Keeper-Batsman', 'Keeper', 'Keeper-Batsman', 'Keeper-Batsman', 'Keeper-Batsman', 'Keeper', 'Keeper-Batsman', 'Keeper', 'Bowler', 'Batsman', 'Bowler', 'Batsman', 'Bowler', 'Keeper-Batsman', 'Keeper-Batsman', 'Keeper-Batsman', 'Keeper', 'Keeper', 'Keeper', 'Batsman', 'Bowler', 'Batsman', 'Keeper-Batsman', 'Batsman', 'Bowler', 'Keeper', 'Batsman', 'Keeper-Batsman', 'Batsman', 'Batsman', 'Keeper-Batsman', 'Bowler', 'Keeper', 'Batsman', 'Bowler', 'Keeper', 'Keeper', 'Batsman', 'Bowler', 'Bowler', 'Batsman', 'Keeper', 'Keeper', 'Keeper-Batsman', 'Batsman', 'Bowler', 'Keeper-Batsman', 'Bowler', 'Keeper-Batsman', 'Keeper-Batsman', 'Bowler', 'Keeper-Batsman', 'Batsman', 'Keeper-Batsman', 'Keeper-Batsman', 'Batsman', 'Keeper-Batsman', 'Bowler', 'Keeper', 'Keeper-Batsman', 'Keeper-Batsman', 'Keeper', 'Bowler', 'Keeper-Batsman', 'Keeper-Batsman', 'Keeper', 'Keeper-Batsman', 'Bowler', 'Batsman', 'Bowler', 'Bowler', 'Keeper', 'Keeper-Batsman', 'Bowler', 'Keeper-Batsman', 'Bowler', 'Keeper-Batsman', 'Keeper', 'Keeper-Batsman', 'Keeper-Batsman', 'Bowler', 'Bowler', 'Batsman', 'Bowler', 'Keeper', 'Batsman', 'Keeper-Batsman', 'Bowler', 'Keeper-Batsman', 'Batsman', 'Batsman', 'Keeper-Batsman', 'Batsman', 'Keeper', 'Keeper-Batsman', 'Batsman', 'Bowler', 'Bowler', 'Batsman', 'Batsman', 'Batsman', 'Keeper', 'Keeper', 'Keeper-Batsman', 'Bowler', 'Batsman', 'Keeper', 'Keeper-Batsman', 'Batsman', 'Keeper', 'Batsman', 'Batsman', 'Keeper', 'Batsman', 'Keeper-Batsman', 'Bowler', 'Keeper-Batsman', 'Batsman', 'Batsman', 'Bowler', 'Batsman', 'Keeper', 'Bowler', 'Keeper', 'Bowler', 'Batsman', 'Keeper', 'Keeper', 'Keeper-Batsman', 'Keeper-Batsman', 'Batsman', 'Batsman', 'Keeper-Batsman', 'Keeper', 'Bowler', 'Batsman', 'Keeper', 'Bowler', 'Keeper', 'Keeper-Batsman', 'Keeper-Batsman', 'Batsman', 'Batsman', 'Batsman', 'Keeper-Batsman', 'Batsman', 'Batsman', 'Keeper', 'Batsman', 'Keeper-Batsman', 'Batsman', 'Keeper-Batsman', 'Keeper', 'Batsman', 'Bowler', 'Keeper', 'Bowler', 'Batsman', 'Batsman', 'Bowler', 'Batsman', 'Batsman', 'Bowler', 'Bowler', 'Bowler', 'Batsman', 'Keeper', 'Keeper-Batsman', 'Keeper-Batsman', 'Batsman', 'Keeper-Batsman', 'Keeper', 'Keeper-Batsman', 'Batsman', 'Batsman', 'Batsman', 'Bowler', 'Keeper-Batsman', 'Bowler', 'Keeper-Batsman', 'Bowler', 'Batsman', 'Batsman', 'Keeper-Batsman', 'Batsman', 'Batsman', 'Keeper-Batsman', 'Keeper-Batsman', 'Keeper', 'Batsman', 'Bowler', 'Keeper', 'Bowler', 'Bowler', 'Batsman', 'Keeper-Batsman', 'Keeper', 'Keeper-Batsman', 'Batsman', 'Batsman', 'Keeper', 'Keeper', 'Keeper-Batsman', 'Keeper-Batsman', 'Batsman', 'Keeper-Batsman', 'Batsman', 'Batsman', 'Batsman', 'Batsman', 'Keeper', 'Batsman', 'Keeper-Batsman', 'Batsman', 'Keeper-Batsman', 'Keeper', 'Bowler', 'Batsman', 'Keeper-Batsman', 'Batsman', 'Bowler', 'Bowler', 'Keeper-Batsman', 'Keeper-Batsman', 'Keeper-Batsman', 'Batsman', 'Keeper', 'Keeper-Batsman', 'Bowler', 'Batsman', 'Keeper-Batsman', 'Bowler', 'Keeper', 'Batsman', 'Keeper-Batsman', 'Batsman', 'Keeper-Batsman', 'Bowler', 'Bowler', 'Batsman', 'Bowler', 'Keeper-Batsman', 'Keeper-Batsman', 'Batsman', 'Bowler', 'Batsman', 'Batsman', 'Bowler', 'Keeper-Batsman', 'Keeper', 'Bowler', 'Batsman', 'Keeper-Batsman', 'Batsman', 'Bowler', 'Keeper-Batsman', 'Keeper-Batsman', 'Keeper-Batsman', 'Keeper', 'Keeper-Batsman', 'Batsman', 'Keeper', 'Batsman', 'Batsman', 'Keeper', 'Batsman', 'Batsman', 'Keeper-Batsman', 'Batsman', 'Keeper-Batsman', 'Keeper-Batsman', 'Batsman', 'Keeper-Batsman', 'Bowler', 'Batsman', 'Keeper-Batsman', 'Keeper-Batsman', 'Keeper', 'Keeper-Batsman', 'Batsman', 'Batsman', 'Keeper', 'Keeper', 'Batsman', 'Keeper-Batsman', 'Keeper-Batsman', 'Bowler', 'Keeper', 'Keeper-Batsman', 'Keeper-Batsman', 'Keeper-Batsman', 'Keeper', 'Bowler', 'Bowler', 'Keeper-Batsman', 'Bowler', 'Keeper-Batsman', 'Batsman', 'Keeper-Batsman', 'Keeper-Batsman', 'Bowler', 'Batsman', 'Keeper', 'Keeper-Batsman', 'Batsman', 'Keeper-Batsman', 'Batsman', 'Bowler', 'Bowler', 'Keeper', 'Batsman', 'Keeper-Batsman', 'Bowler', 'Keeper-Batsman', 'Keeper-Batsman', 'Batsman', 'Bowler', 'Bowler', 'Keeper-Batsman', 'Batsman', 'Batsman', 'Keeper-Batsman', 'Bowler', 'Keeper-Batsman', 'Batsman', 'Bowler', 'Batsman', 'Keeper-Batsman', 'Keeper-Batsman', 'Keeper-Batsman', 'Bowler', 'Keeper', 'Keeper-Batsman', 'Keeper-Batsman', 'Batsman', 'Batsman', 'Bowler', 'Batsman', 'Bowler', 'Keeper-Batsman', 'Batsman', 'Bowler', 'Bowler', 'Keeper', 'Bowler', 'Keeper-Batsman', 'Bowler', 'Batsman', 'Bowler', 'Keeper-Batsman', 'Keeper-Batsman', 'Keeper-Batsman', 'Keeper', 'Bowler', 'Keeper-Batsman', 'Keeper-Batsman', 'Keeper-Batsman', 'Bowler', 'Bowler', 'Bowler', 'Batsman', 'Keeper', 'Keeper', 'Keeper-Batsman', 'Bowler', 'Keeper', 'Keeper-Batsman', 'Bowler', 'Batsman', 'Batsman', 'Keeper-Batsman', 'Keeper', 'Batsman', 'Bowler', 'Batsman', 'Keeper-Batsman', 'Batsman', 'Batsman', 'Batsman', 'Keeper-Batsman', 'Bowler', 'Keeper', 'Keeper', 'Keeper-Batsman', 'Batsman', 'Keeper-Batsman', 'Keeper-Batsman', 'Keeper-Batsman', 'Batsman', 'Keeper', 'Batsman', 'Keeper-Batsman', 'Keeper-Batsman', 'Keeper-Batsman', 'Bowler', 'Bowler', 'Keeper', 'Keeper-Batsman', 'Keeper-Batsman', 'Batsman', 'Batsman', 'Keeper-Batsman', 'Keeper-Batsman', 'Batsman', 'Batsman', 'Keeper-Batsman', 'Bowler', 'Batsman', 'Keeper-Batsman', 'Batsman', 'Batsman', 'Batsman', 'Bowler', 'Keeper', 'Keeper-Batsman', 'Keeper-Batsman', 'Keeper-Batsman', 'Bowler', 'Batsman', 'Batsman', 'Bowler', 'Batsman', 'Batsman', 'Keeper-Batsman', 'Batsman', 'Keeper-Batsman', 'Batsman', 'Bowler', 'Keeper-Batsman', 'Keeper-Batsman', 'Batsman', 'Batsman', 'Batsman', 'Keeper-Batsman', 'Batsman', 'Batsman', 'Keeper-Batsman', 'Batsman', 'Batsman', 'Batsman', 'Keeper-Batsman', 'Keeper-Batsman', 'Bowler', 'Keeper-Batsman', 'Bowler', 'Bowler', 'Keeper-Batsman', 'Keeper-Batsman', 'Batsman', 'Batsman', 'Bowler', 'Bowler', 'Keeper', 'Bowler', 'Keeper', 'Batsman', 'Batsman', 'Keeper', 'Keeper-Batsman', 'Keeper', 'Bowler', 'Keeper', 'Keeper-Batsman', 'Batsman', 'Keeper', 'Batsman', 'Keeper-Batsman', 'Keeper-Batsman', 'Keeper-Batsman', 'Keeper', 'Batsman', 'Keeper', 'Keeper-Batsman', 'Keeper-Batsman', 'Keeper-Batsman', 'Keeper-Batsman', 'Keeper', 'Bowler', 'Batsman', 'Batsman', 'Keeper-Batsman', 'Keeper', 'Keeper', 'Keeper', 'Keeper-Batsman', 'Keeper-Batsman', 'Batsman', 'Keeper-Batsman', 'Keeper-Batsman', 'Keeper', 'Keeper-Batsman', 'Bowler', 'Keeper-Batsman', 'Batsman', 'Keeper-Batsman', 'Keeper-Batsman', 'Keeper-Batsman', 'Batsman', 'Keeper-Batsman', 'Batsman', 'Keeper-Batsman', 'Batsman', 'Keeper-Batsman', 'Keeper-Batsman', 'Batsman', 'Batsman', 'Keeper-Batsman', 'Keeper-Batsman', 'Bowler', 'Batsman', 'Keeper-Batsman', 'Batsman', 'Bowler', 'Batsman', 'Keeper-Batsman', 'Bowler', 'Batsman', 'Keeper-Batsman', 'Keeper', 'Keeper-Batsman', 'Keeper-Batsman', 'Bowler', 'Keeper-Batsman', 'Batsman', 'Keeper-Batsman', 'Keeper', 'Bowler', 'Keeper-Batsman', 'Bowler', 'Batsman', 'Bowler', 'Bowler', 'Keeper', 'Keeper-Batsman', 'Batsman', 'Keeper-Batsman', 'Bowler', 'Keeper-Batsman', 'Bowler', 'Batsman', 'Batsman', 'Keeper-Batsman', 'Keeper-Batsman', 'Keeper-Batsman', 'Bowler', 'Keeper', 'Bowler', 'Keeper-Batsman', 'Batsman', 'Batsman', 'Batsman', 'Keeper-Batsman', 'Bowler', 'Bowler', 'Keeper-Batsman', 'Keeper-Batsman', 'Batsman', 'Keeper-Batsman', 'Keeper-Batsman', 'Keeper-Batsman', 'Keeper', 'Keeper-Batsman', 'Batsman', 'Keeper-Batsman', 'Keeper-Batsman', 'Bowler', 'Keeper-Batsman', 'Batsman', 'Batsman', 'Batsman', 'Batsman', 'Bowler', 'Batsman', 'Batsman', 'Keeper-Batsman', 'Bowler', 'Batsman', 'Keeper-Batsman', 'Batsman', 'Batsman', 'Batsman', 'Batsman', 'Batsman', 'Keeper', 'Keeper-Batsman', 'Batsman', 'Bowler', 'Keeper-Batsman', 'Keeper-Batsman', 'Batsman', 'Batsman', 'Batsman', 'Bowler', 'Batsman', 'Keeper', 'Bowler', 'Bowler', 'Keeper', 'Bowler', 'Bowler', 'Keeper', 'Batsman', 'Keeper-Batsman', 'Batsman', 'Keeper-Batsman', 'Bowler', 'Keeper-Batsman', 'Keeper-Batsman', 'Batsman', 'Keeper-Batsman', 'Batsman', 'Keeper-Batsman', 'Keeper-Batsman', 'Batsman', 'Keeper-Batsman', 'Keeper-Batsman', 'Bowler', 'Bowler', 'Bowler', 'Batsman', 'Bowler', 'Keeper-Batsman', 'Keeper-Batsman', 'Batsman', 'Bowler', 'Keeper', 'Keeper-Batsman', 'Batsman', 'Bowler', 'Keeper-Batsman'])\n"
   ]
  },
  {
   "cell_type": "code",
   "execution_count": null,
   "id": "12885ed0",
   "metadata": {},
   "outputs": [],
   "source": [
    "# Creating a 2-D array using the list of tuples\n",
    "np_players = np.array(players)\n",
    "\n",
    "# Checking the created array\n",
    "np_players"
   ]
  },
  {
   "cell_type": "code",
   "execution_count": null,
   "id": "63b35bca",
   "metadata": {},
   "outputs": [],
   "source": [
    "skills.ndim"
   ]
  },
  {
   "cell_type": "code",
   "execution_count": null,
   "id": "611b90d1",
   "metadata": {},
   "outputs": [],
   "source": [
    "skills.shape"
   ]
  },
  {
   "cell_type": "code",
   "execution_count": null,
   "id": "b9b19514",
   "metadata": {},
   "outputs": [],
   "source": [
    "skills.size"
   ]
  },
  {
   "cell_type": "code",
   "execution_count": null,
   "id": "aaeb067e",
   "metadata": {},
   "outputs": [],
   "source": [
    "skills[1014]"
   ]
  },
  {
   "cell_type": "code",
   "execution_count": null,
   "id": "ad537631",
   "metadata": {},
   "outputs": [],
   "source": [
    "cond_keeper_batter=skills=='Keeper-Batsman'"
   ]
  },
  {
   "cell_type": "code",
   "execution_count": null,
   "id": "7c998278",
   "metadata": {},
   "outputs": [],
   "source": [
    "len(skills[cond_keeper_batter])"
   ]
  },
  {
   "cell_type": "code",
   "execution_count": null,
   "id": "22a401be",
   "metadata": {},
   "outputs": [],
   "source": [
    "cond_keeper=skills=='Keeper'"
   ]
  },
  {
   "cell_type": "code",
   "execution_count": null,
   "id": "f69fa7ef",
   "metadata": {},
   "outputs": [],
   "source": [
    "len(skills[cond_keeper])"
   ]
  },
  {
   "cell_type": "code",
   "execution_count": null,
   "id": "b591d477",
   "metadata": {},
   "outputs": [],
   "source": [
    "players[0]"
   ]
  },
  {
   "cell_type": "code",
   "execution_count": null,
   "id": "2a04b4c2",
   "metadata": {},
   "outputs": [],
   "source": [
    "players[1000]"
   ]
  },
  {
   "cell_type": "markdown",
   "id": "9162744b",
   "metadata": {},
   "source": [
    "    np_players[][][][][]\n",
    "    np_players[,,,,,]"
   ]
  },
  {
   "cell_type": "code",
   "execution_count": null,
   "id": "33dc59d9",
   "metadata": {},
   "outputs": [],
   "source": [
    "# player 109 weight\n",
    "np_players[109,1]"
   ]
  },
  {
   "cell_type": "markdown",
   "id": "decde28e",
   "metadata": {},
   "source": [
    "    Only need height of all the players\n",
    "    <numpy_array_name>[<index of first dimension>,<index of second deimention>]"
   ]
  },
  {
   "cell_type": "code",
   "execution_count": null,
   "id": "9810aeee",
   "metadata": {},
   "outputs": [],
   "source": [
    "np_players[:,0]"
   ]
  },
  {
   "cell_type": "code",
   "execution_count": null,
   "id": "95f24a18",
   "metadata": {},
   "outputs": [],
   "source": [
    "np_players[:,1]"
   ]
  },
  {
   "cell_type": "code",
   "execution_count": null,
   "id": "8868cc64",
   "metadata": {},
   "outputs": [],
   "source": [
    "cond=np_players[:,0]>70"
   ]
  },
  {
   "cell_type": "code",
   "execution_count": null,
   "id": "0c7a8e9e",
   "metadata": {},
   "outputs": [],
   "source": [
    "np_players[cond,0]"
   ]
  },
  {
   "cell_type": "markdown",
   "id": "9f6db7c7",
   "metadata": {},
   "source": [
    "    We have a list of height of 50 players we want to filter only those which have height greater then 70  \n",
    "        Create a list of random values \n",
    "        use map/filter to filter the data"
   ]
  },
  {
   "cell_type": "code",
   "execution_count": null,
   "id": "d8cd1fc2",
   "metadata": {},
   "outputs": [],
   "source": [
    "players[:,0]"
   ]
  },
  {
   "cell_type": "code",
   "execution_count": null,
   "id": "f6907b4b",
   "metadata": {},
   "outputs": [],
   "source": [
    "# checking the type of created object\n",
    "type(np_players)"
   ]
  },
  {
   "cell_type": "code",
   "execution_count": null,
   "id": "b24b10e8",
   "metadata": {},
   "outputs": [],
   "source": [
    "# printing the number of columns and rows in the array\n",
    "np_players.shape"
   ]
  },
  {
   "cell_type": "code",
   "execution_count": null,
   "id": "2d5bceb4",
   "metadata": {},
   "outputs": [],
   "source": [
    "# printing the dimensions of the array\n",
    "np_players.ndim"
   ]
  },
  {
   "cell_type": "code",
   "execution_count": null,
   "id": "6d89ba38",
   "metadata": {},
   "outputs": [],
   "source": [
    "# printing the data type of the elements in the array\n",
    "np_players.dtype"
   ]
  },
  {
   "cell_type": "markdown",
   "id": "5cfa2bfb",
   "metadata": {},
   "source": [
    "# Slicing a 2D array"
   ]
  },
  {
   "cell_type": "code",
   "execution_count": null,
   "id": "ec533649",
   "metadata": {},
   "outputs": [],
   "source": [
    "# printing the entire second row of the 2-D array\n",
    "np_players[1]"
   ]
  },
  {
   "cell_type": "code",
   "execution_count": null,
   "id": "cc7ccc1f",
   "metadata": {},
   "outputs": [],
   "source": [
    "# printing the second column of the second row of the 2-D array\n",
    "np_players[1][1]"
   ]
  },
  {
   "cell_type": "code",
   "execution_count": null,
   "id": "4bf11413",
   "metadata": {},
   "outputs": [],
   "source": [
    "# printing the first column (height of the players) with all the rows of the 2-D array \n",
    "np_players[:,0]"
   ]
  },
  {
   "cell_type": "code",
   "execution_count": null,
   "id": "1d89db57",
   "metadata": {},
   "outputs": [],
   "source": [
    "# printing only those rows where height of the player is more than 75 inches\n",
    "np_players[np_players[:,0]>75]"
   ]
  },
  {
   "cell_type": "markdown",
   "id": "02594d74",
   "metadata": {},
   "source": [
    "# Manipulating Arrays"
   ]
  },
  {
   "cell_type": "markdown",
   "id": "93417545",
   "metadata": {},
   "source": [
    "Here are two techniques that can be used to change or manipulayte the structure of arrays:\n",
    "\n",
    "*Reshaping\n",
    "*Stacking\n",
    "*Concatenating\n",
    "*Sorting\n",
    "*Splitting"
   ]
  },
  {
   "cell_type": "markdown",
   "id": "088801b5",
   "metadata": {},
   "source": [
    "Reshaping"
   ]
  },
  {
   "cell_type": "code",
   "execution_count": null,
   "id": "aaa2403a",
   "metadata": {},
   "outputs": [],
   "source": [
    "import numpy as np"
   ]
  },
  {
   "cell_type": "code",
   "execution_count": null,
   "id": "43df9a34",
   "metadata": {},
   "outputs": [],
   "source": [
    "# Creating an array of first ten natural numbers\n",
    "arr_4 = np.arange(10)\n",
    "\n",
    "# Printing the created array\n",
    "arr_4,arr_4.shape"
   ]
  },
  {
   "cell_type": "code",
   "execution_count": null,
   "id": "b0b7f784",
   "metadata": {
    "deletable": false,
    "editable": false
   },
   "outputs": [],
   "source": [
    "# Reshaping the 1D array into a 2D array with 2 elements in five rows in below cell"
   ]
  },
  {
   "cell_type": "code",
   "execution_count": null,
   "id": "e2073f87",
   "metadata": {
    "cellId": "w9",
    "deletable": false
   },
   "outputs": [],
   "source": [
    "#answer here"
   ]
  },
  {
   "cell_type": "code",
   "execution_count": null,
   "id": "bea4b222",
   "metadata": {},
   "outputs": [],
   "source": [
    "# Creating a 2D array with 4 elements in five rows (elements from 20 to 39)\n",
    "arr_6 = np.arange(20,40).reshape(5,4)\n",
    "\n",
    "# Checking the rows and columns in the created array\n",
    "arr_6"
   ]
  },
  {
   "cell_type": "code",
   "execution_count": null,
   "id": "f48de6f0",
   "metadata": {},
   "outputs": [],
   "source": [
    "arr_6.shape"
   ]
  },
  {
   "cell_type": "code",
   "execution_count": null,
   "id": "3ec5db5f",
   "metadata": {},
   "outputs": [],
   "source": [
    "arr_7=arr_6.reshape(2,-1)\n",
    "arr_7.shape"
   ]
  },
  {
   "cell_type": "code",
   "execution_count": null,
   "id": "108a2540",
   "metadata": {},
   "outputs": [],
   "source": [
    "arr_6,arr_7"
   ]
  },
  {
   "cell_type": "code",
   "execution_count": null,
   "id": "532de29c",
   "metadata": {},
   "outputs": [],
   "source": [
    "arr_7.flatten()          # return 1D array"
   ]
  },
  {
   "cell_type": "markdown",
   "id": "a7f9e460",
   "metadata": {},
   "source": [
    "# Stacking"
   ]
  },
  {
   "cell_type": "code",
   "execution_count": null,
   "id": "f1fa1b17",
   "metadata": {},
   "outputs": [],
   "source": [
    "#importing the NumPy library\n",
    "import numpy as np\n",
    "\n",
    "# Creating two 1-D arrays with 5 elements using arange\n",
    "arr_1 = np.array([1, 2, 3,4,5,9])\n",
    "arr_2 = np.array([6,7,8,9,10,20])\n",
    "arr_1,arr_2"
   ]
  },
  {
   "cell_type": "code",
   "execution_count": null,
   "id": "28d973f9",
   "metadata": {},
   "outputs": [],
   "source": [
    "# Horizonal stacking - Appending the elements in the same row\n",
    "ar_h = np.hstack((arr_1, arr_2))\n",
    "# display the concatenated array\n",
    "print(ar_h)\n"
   ]
  },
  {
   "cell_type": "code",
   "execution_count": null,
   "id": "daf2fa08",
   "metadata": {},
   "outputs": [],
   "source": [
    "# Vertical stacking - Increasing the number of row\n",
    "\n",
    "ar_v = np.vstack((arr_1, arr_2,arr_2))\n",
    "# display the concatenated array\n",
    "print(ar_v)\n"
   ]
  },
  {
   "cell_type": "markdown",
   "id": "2689789b",
   "metadata": {},
   "source": [
    "# Concatenating"
   ]
  },
  {
   "cell_type": "code",
   "execution_count": 39,
   "id": "b96e3d68",
   "metadata": {},
   "outputs": [
    {
     "name": "stdout",
     "output_type": "stream",
     "text": [
      "[1 2 3 4 5 6]\n"
     ]
    }
   ],
   "source": [
    "import numpy as np\n",
    "\n",
    "arr1 = np.array([1, 2, 3])\n",
    "\n",
    "arr2 = np.array([4, 5, 6])\n",
    "\n",
    "arr = np.concatenate((arr1, arr2))\n",
    "\n",
    "print(arr)"
   ]
  },
  {
   "cell_type": "code",
   "execution_count": 40,
   "id": "a89153c6",
   "metadata": {},
   "outputs": [
    {
     "data": {
      "text/plain": [
       "(array([[1, 2],\n",
       "        [3, 4]]),\n",
       " array([[5, 6],\n",
       "        [7, 8]]))"
      ]
     },
     "execution_count": 40,
     "metadata": {},
     "output_type": "execute_result"
    }
   ],
   "source": [
    "import numpy as np\n",
    "\n",
    "arr1 = np.array([[1, 2], [3, 4]])\n",
    "\n",
    "arr2 = np.array([[5, 6], [7, 8]])\n",
    "arr1,arr2"
   ]
  },
  {
   "cell_type": "code",
   "execution_count": 43,
   "id": "a334e333",
   "metadata": {},
   "outputs": [
    {
     "name": "stdout",
     "output_type": "stream",
     "text": [
      "arr1\n",
      "[[1 2]\n",
      " [3 4]]\n",
      "arr2\n",
      "[[5 6]\n",
      " [7 8]]\n",
      "concatenated arr\n",
      "[[1 2]\n",
      " [3 4]\n",
      " [5 6]\n",
      " [7 8]]\n",
      "(4, 2)\n"
     ]
    }
   ],
   "source": [
    "arr = np.concatenate((arr1, arr2), axis=0)\n",
    "print('arr1')\n",
    "print(arr1)\n",
    "print('arr2')\n",
    "print(arr2)\n",
    "print('concatenated arr')\n",
    "print(arr)\n",
    "print(arr.shape)"
   ]
  },
  {
   "cell_type": "code",
   "execution_count": null,
   "id": "f7d28cff",
   "metadata": {},
   "outputs": [],
   "source": [
    "import numpy as np\n",
    "\n",
    "arr1 = np.array([[1, 2], [3, 4]])\n",
    "\n",
    "arr2 = np.array([[5, 6], [7, 8]])\n",
    "\n",
    "arr = np.concatenate((arr1, arr2))\n",
    "\n",
    "print('arr1')\n",
    "print(arr1)\n",
    "print('arr2')\n",
    "print(arr2)\n",
    "print('concatenated arr')\n",
    "print(arr)\n",
    "print(arr.shape)"
   ]
  },
  {
   "cell_type": "markdown",
   "id": "76d81e97",
   "metadata": {},
   "source": [
    "# Sort"
   ]
  },
  {
   "cell_type": "markdown",
   "id": "0c9b90a4",
   "metadata": {},
   "source": [
    "    Sort \n",
    "        axis => 0 -> column wise\n",
    "        axis => 1 -> row wise"
   ]
  },
  {
   "cell_type": "code",
   "execution_count": null,
   "id": "acb6aa56",
   "metadata": {},
   "outputs": [],
   "source": [
    "arr_8=np.array([3,5,4,9,8,7,4,5])\n",
    "np.sort(arr_8)"
   ]
  },
  {
   "cell_type": "code",
   "execution_count": 35,
   "id": "4d39c229",
   "metadata": {},
   "outputs": [
    {
     "data": {
      "text/plain": [
       "array([[12, 13,  8],\n",
       "       [12, 11,  7],\n",
       "       [12,  8, 11],\n",
       "       [ 6, 14,  9],\n",
       "       [ 6, 14, 12],\n",
       "       [ 7,  8, 10],\n",
       "       [ 7, 14, 15]])"
      ]
     },
     "execution_count": 35,
     "metadata": {},
     "output_type": "execute_result"
    }
   ],
   "source": [
    "arr_chk=np.array([\n",
    "    [12,13,8],\n",
    "    [12,11,7],\n",
    "    [12,8,11],\n",
    "    [6,14,9],\n",
    "    [6,14,12],\n",
    "    [7,8,10],\n",
    "    [7,14,15]\n",
    "])\n",
    "arr_chk"
   ]
  },
  {
   "cell_type": "code",
   "execution_count": 38,
   "id": "b8c783fb",
   "metadata": {},
   "outputs": [
    {
     "data": {
      "text/plain": [
       "array([[ 8, 12, 13],\n",
       "       [ 7, 11, 12],\n",
       "       [ 8, 11, 12],\n",
       "       [ 6,  9, 14],\n",
       "       [ 6, 12, 14],\n",
       "       [ 7,  8, 10],\n",
       "       [ 7, 14, 15]])"
      ]
     },
     "execution_count": 38,
     "metadata": {},
     "output_type": "execute_result"
    }
   ],
   "source": [
    "np.sort(arr_chk,axis=1)"
   ]
  },
  {
   "cell_type": "code",
   "execution_count": 36,
   "id": "5734644a",
   "metadata": {},
   "outputs": [
    {
     "data": {
      "text/plain": [
       "array([[ 6,  8,  7],\n",
       "       [ 6,  8,  8],\n",
       "       [ 7, 11,  9],\n",
       "       [ 7, 13, 10],\n",
       "       [12, 14, 11],\n",
       "       [12, 14, 12],\n",
       "       [12, 14, 15]])"
      ]
     },
     "execution_count": 36,
     "metadata": {},
     "output_type": "execute_result"
    }
   ],
   "source": [
    "np.sort(arr_chk,axis=0)"
   ]
  },
  {
   "cell_type": "code",
   "execution_count": null,
   "id": "e7409aac",
   "metadata": {},
   "outputs": [],
   "source": [
    "a = np.array([[4,10],[3,2],[3,1]])\n",
    "print(a)\n",
    "print('-----------')\n",
    "print(np.sort(a,axis=0)) # sort along the first axis\n",
    "print('-----------')\n",
    "print(np.sort(a,axis=1)) # sort along the last axis"
   ]
  },
  {
   "cell_type": "markdown",
   "id": "8bb8b4e1",
   "metadata": {},
   "source": [
    "# Splitting NumPy Arrays\n",
    "Splitting is reverse operation of Joining.\n",
    "\n",
    "Joining merges multiple arrays into one and Splitting breaks one array into multiple.\n",
    "\n",
    "We use array_split() for splitting arrays, we pass it the array we want to split and the number of splits."
   ]
  },
  {
   "cell_type": "code",
   "execution_count": null,
   "id": "08afc442",
   "metadata": {},
   "outputs": [],
   "source": [
    "import numpy as np\n",
    "\n",
    "arr = np.array([1, 2, 3, 4, 5, 6])\n",
    "\n",
    "newarr = np.array_split(arr, 3)\n",
    "\n",
    "print(newarr)"
   ]
  },
  {
   "cell_type": "code",
   "execution_count": null,
   "id": "54524b1e",
   "metadata": {},
   "outputs": [],
   "source": [
    "#Split the array in 4 parts:\n",
    "\n",
    "import numpy as np\n",
    "\n",
    "arr = np.array([1, 2, 3, 4, 5, 6])\n",
    "\n",
    "newarr = np.array_split(arr, 4)\n",
    "\n",
    "print(newarr)"
   ]
  },
  {
   "cell_type": "markdown",
   "id": "4496974c",
   "metadata": {},
   "source": [
    "# **Split Into Arrays**\n",
    "\n",
    "The return value of the array_split() method is an array containing each of the split as an array.\n",
    "\n",
    "If you split an array into 3 arrays, you can access them from the result just like any array element:"
   ]
  },
  {
   "cell_type": "code",
   "execution_count": null,
   "id": "b4518564",
   "metadata": {},
   "outputs": [],
   "source": [
    "#Access the splitted arrays:\n",
    "\n",
    "import numpy as np\n",
    "\n",
    "arr = np.array([1, 2, 3, 4, 5, 6])\n",
    "\n",
    "newarr = np.array_split(arr, 3)\n",
    "\n",
    "print(newarr)\n",
    "\n",
    "print(newarr[0])\n",
    "print(newarr[1])\n",
    "print(newarr[2])"
   ]
  },
  {
   "cell_type": "markdown",
   "id": "be2d530f",
   "metadata": {},
   "source": [
    "# **Splitting 2-D Arrays**\n",
    "\n",
    "Use the same syntax when splitting 2-D arrays.\n",
    "\n",
    "Use the array_split() method, pass in the array you want to split and the number of splits you want to do."
   ]
  },
  {
   "cell_type": "code",
   "execution_count": null,
   "id": "db980917",
   "metadata": {},
   "outputs": [],
   "source": [
    "#Split the 2-D array into three 2-D arrays.\n",
    "\n",
    "import numpy as np\n",
    "\n",
    "arr = np.array([[1, 2], [3, 4], [5, 6], [7, 8], [9, 10], [11, 12]])\n",
    "\n",
    "newarr = np.array_split(arr, 3)\n",
    "\n",
    "print(newarr)"
   ]
  },
  {
   "cell_type": "code",
   "execution_count": null,
   "id": "80e906cf",
   "metadata": {},
   "outputs": [],
   "source": [
    "#Split the 2-D array into three 2-D arrays.\n",
    "\n",
    "import numpy as np\n",
    "\n",
    "arr = np.array([[1, 2, 3], [4, 5, 6], [7, 8, 9], [10, 11, 12], [13, 14, 15], [16, 17, 18]])\n",
    "\n",
    "newarr = np.array_split(arr, 3)\n",
    "\n",
    "print(newarr)"
   ]
  },
  {
   "cell_type": "code",
   "execution_count": null,
   "id": "d80da581",
   "metadata": {},
   "outputs": [],
   "source": [
    "#Split the 2-D array into three 2-D arrays along rows.\n",
    "\n",
    "import numpy as np\n",
    "\n",
    "arr = np.array([[1, 2, 3], [4, 5, 6], [7, 8, 9], [10, 11, 12], [13, 14, 15], [16, 17, 18]])\n",
    "\n",
    "newarr = np.array_split(arr, 3, axis=1)\n",
    "\n",
    "print(newarr)"
   ]
  }
 ],
 "metadata": {
  "celltoolbar": "Edit Metadata",
  "kernelspec": {
   "display_name": "Python 3 (ipykernel)",
   "language": "python",
   "name": "python3"
  },
  "language_info": {
   "codemirror_mode": {
    "name": "ipython",
    "version": 3
   },
   "file_extension": ".py",
   "mimetype": "text/x-python",
   "name": "python",
   "nbconvert_exporter": "python",
   "pygments_lexer": "ipython3",
   "version": "3.11.1"
  }
 },
 "nbformat": 4,
 "nbformat_minor": 5
}
