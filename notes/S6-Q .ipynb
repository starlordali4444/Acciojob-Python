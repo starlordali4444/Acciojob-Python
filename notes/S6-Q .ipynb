{
 "cells": [
  {
   "cell_type": "markdown",
   "id": "9a2b144e",
   "metadata": {},
   "source": [
    "# Functions in Python"
   ]
  },
  {
   "cell_type": "markdown",
   "id": "f5e16960",
   "metadata": {},
   "source": [
    "In Python, a function is a group of related statements that performs a specific task.\n",
    "\n",
    "Functions help break our program into smaller and modular chunks. As our program grows larger and larger, functions make it more organized and manageable.\n",
    "\n",
    "Furthermore, it avoids repetition and makes the code reusable."
   ]
  },
  {
   "cell_type": "markdown",
   "id": "fb0f7306",
   "metadata": {},
   "source": [
    "# Creating and using functions"
   ]
  },
  {
   "cell_type": "markdown",
   "id": "f15ac208",
   "metadata": {},
   "source": [
    "A function is a reusable set of instructions that takes one or more inputs, performs some operations, and often returns an output. Python contains many in-built functions like print, len, etc., and provides the ability to define new ones."
   ]
  },
  {
   "cell_type": "code",
   "execution_count": 1,
   "id": "e96467dd",
   "metadata": {},
   "outputs": [
    {
     "name": "stdout",
     "output_type": "stream",
     "text": [
      "Today is Saturday\n"
     ]
    }
   ],
   "source": [
    "today = \"Saturday\"\n",
    "print(\"Today is\", today)"
   ]
  },
  {
   "cell_type": "markdown",
   "id": "97bbe11d",
   "metadata": {},
   "source": [
    "You can define a new function using the def keyword."
   ]
  },
  {
   "cell_type": "code",
   "execution_count": 2,
   "id": "fa4d69fe",
   "metadata": {},
   "outputs": [],
   "source": [
    "def say_hello():\n",
    "    print('Hello there!')\n",
    "    print('How are you?')"
   ]
  },
  {
   "cell_type": "markdown",
   "id": "95a99362",
   "metadata": {},
   "source": [
    "Note the round brackets or parentheses () and colon : after the function's name. Both are essential parts of the syntax. The function's body contains an indented block of statements. The statements inside a function's body are not executed when the function is defined. To execute the statements, we need to call or invoke the function."
   ]
  },
  {
   "cell_type": "code",
   "execution_count": 4,
   "id": "8f723aad",
   "metadata": {},
   "outputs": [
    {
     "name": "stdout",
     "output_type": "stream",
     "text": [
      "Hello  Yasin\n",
      "Hello  X\n",
      "Hello  James bond\n"
     ]
    }
   ],
   "source": [
    "def say_hello_to_name(name):\n",
    "    print(\"Hello \", name)\n",
    "    \n",
    "    \n",
    "say_hello_to_name(\"Yasin\")\n",
    "say_hello_to_name(\"X\")\n",
    "say_hello_to_name(\"James bond\")"
   ]
  },
  {
   "cell_type": "code",
   "execution_count": 5,
   "id": "109bc6b0",
   "metadata": {},
   "outputs": [
    {
     "name": "stdout",
     "output_type": "stream",
     "text": [
      "Hello there!\n",
      "How are you?\n",
      "Hello there!\n",
      "How are you?\n",
      "Hello there!\n",
      "How are you?\n",
      "Hello there!\n",
      "How are you?\n"
     ]
    }
   ],
   "source": [
    "say_hello()\n",
    "say_hello()\n",
    "say_hello() \n",
    "say_hello()"
   ]
  },
  {
   "cell_type": "markdown",
   "id": "048eb3d7",
   "metadata": {},
   "source": [
    "# Function arguments"
   ]
  },
  {
   "cell_type": "markdown",
   "id": "9366fd1f",
   "metadata": {},
   "source": [
    "Functions can accept zero or more values as inputs (also knows as arguments or parameters). Arguments help us write flexible functions that can perform the same operations on different values. Further, functions can return a result that can be stored in a variable or used in other expressions.\n",
    "\n",
    "Here's a function that filters out the even numbers from a list and returns a new list using the return keyword."
   ]
  },
  {
   "cell_type": "code",
   "execution_count": 6,
   "id": "c116bc99",
   "metadata": {},
   "outputs": [],
   "source": [
    "def filter_even(number_list):\n",
    "    result_list = []\n",
    "    for number in number_list:\n",
    "        if number % 2 == 0:\n",
    "            result_list.append(number)\n",
    "    return result_list"
   ]
  },
  {
   "cell_type": "markdown",
   "id": "b2345b95",
   "metadata": {},
   "source": [
    "Can you understand what the function does by looking at the code? If not, try executing each line of the function's body separately within a code cell with an actual list of numbers in place of number_list."
   ]
  },
  {
   "cell_type": "code",
   "execution_count": 7,
   "id": "f8732e90",
   "metadata": {},
   "outputs": [],
   "source": [
    "even_list = filter_even([1, 2, 3, 4, 5, 6, 7, 8, 101, 102])"
   ]
  },
  {
   "cell_type": "code",
   "execution_count": 8,
   "id": "e265d2aa",
   "metadata": {},
   "outputs": [
    {
     "data": {
      "text/plain": [
       "[2, 4, 6, 8, 102]"
      ]
     },
     "execution_count": 8,
     "metadata": {},
     "output_type": "execute_result"
    }
   ],
   "source": [
    "even_list"
   ]
  },
  {
   "cell_type": "markdown",
   "id": "d635d6cf",
   "metadata": {},
   "source": [
    "# Writing great functions in Python"
   ]
  },
  {
   "cell_type": "markdown",
   "id": "a20ecea2",
   "metadata": {},
   "source": [
    "As a programmer, you will spend most of your time writing and using functions. Python offers many features to make your functions powerful and flexible. Let's explore some of these by solving a problem:\n",
    "\n",
    "Radha is planning to buy a house that costs $1,260,000. She considering two options to finance her purchase:\n",
    "\n",
    "Option 1: Make an immediate down payment of $300,000, and take loan 8-year loan with an interest rate of 10% (compounded monthly) for the remaining amount.\n",
    "Option 2: Take a 10-year loan with an interest rate of 8% (compounded monthly) for the entire amount.\n",
    "Both these loans have to be paid back in equal monthly installments (EMIs). Which loan has a lower EMI among the two?\n",
    "\n",
    "Since we need to compare the EMIs for two loan options, defining a function to calculate the EMI for a loan would be a great idea. The inputs to the function would be cost of the house, the down payment, duration of the loan, rate of interest etc. We'll build this function step by step.\n",
    "\n",
    "First, let's write a simple function that calculates the EMI on the entire cost of the house, assuming that the loan must be paid back in one year, and there is no interest or down payment."
   ]
  },
  {
   "cell_type": "code",
   "execution_count": 10,
   "id": "fcc5e8ba",
   "metadata": {},
   "outputs": [],
   "source": [
    "def loan_emi(amount):\n",
    "    emi = amount / 12\n",
    "    print('The EMI is ${}'.format(emi))"
   ]
  },
  {
   "cell_type": "code",
   "execution_count": 11,
   "id": "6da371ae",
   "metadata": {},
   "outputs": [
    {
     "name": "stdout",
     "output_type": "stream",
     "text": [
      "The EMI is $105000.0\n"
     ]
    }
   ],
   "source": [
    "loan_emi(1260000)"
   ]
  },
  {
   "cell_type": "markdown",
   "id": "c74b62e0",
   "metadata": {},
   "source": [
    "# Local variables and scope\n",
    "Let's add a second argument to account for the duration of the loan in months."
   ]
  },
  {
   "cell_type": "code",
   "execution_count": 12,
   "id": "2df85dc8",
   "metadata": {},
   "outputs": [],
   "source": [
    "def loan_emi(amount, duration):\n",
    "    emi = amount / duration\n",
    "    print('The EMI is ${}'.format(emi))"
   ]
  },
  {
   "cell_type": "code",
   "execution_count": 13,
   "id": "df49598b",
   "metadata": {},
   "outputs": [
    {
     "name": "stdout",
     "output_type": "stream",
     "text": [
      "The EMI is $13125.0\n"
     ]
    }
   ],
   "source": [
    "loan_emi(1260000, 8*12)"
   ]
  },
  {
   "cell_type": "code",
   "execution_count": 14,
   "id": "45fdaedf",
   "metadata": {},
   "outputs": [],
   "source": [
    "def loan_emi(amount, duration, down_payment=50000):\n",
    "    loan_amount = amount - down_payment\n",
    "    emi = loan_amount / duration\n",
    "    return emi"
   ]
  },
  {
   "cell_type": "code",
   "execution_count": 15,
   "id": "8f16feaa",
   "metadata": {},
   "outputs": [],
   "source": [
    "emi1 = loan_emi(1260000, 8*12, 50000)"
   ]
  },
  {
   "cell_type": "code",
   "execution_count": 16,
   "id": "43b5ea63",
   "metadata": {},
   "outputs": [
    {
     "data": {
      "text/plain": [
       "12604.166666666666"
      ]
     },
     "execution_count": 16,
     "metadata": {},
     "output_type": "execute_result"
    }
   ],
   "source": [
    "emi1"
   ]
  },
  {
   "cell_type": "markdown",
   "id": "a23d2818",
   "metadata": {},
   "source": [
    "Next, let's add the interest calculation into the function. Here's the formula used to calculate the EMI for a loan:"
   ]
  },
  {
   "cell_type": "markdown",
   "id": "32c4c51e",
   "metadata": {},
   "source": [
    "where:\n",
    "\n",
    "P is the loan amount (principal)\n",
    "n is the no. of months\n",
    "r is the rate of interest per month"
   ]
  },
  {
   "cell_type": "code",
   "execution_count": 17,
   "id": "e5050b8c",
   "metadata": {},
   "outputs": [],
   "source": [
    "def loan_emi(amount, duration, rate, down_payment=0):\n",
    "    loan_amount = amount - down_payment\n",
    "    emi = loan_amount * rate * ((1+rate)**duration) / (((1+rate)**duration)-1)\n",
    "    return emi"
   ]
  },
  {
   "cell_type": "code",
   "execution_count": 18,
   "id": "f2ca9777",
   "metadata": {},
   "outputs": [
    {
     "data": {
      "text/plain": [
       "18360.738558343284"
      ]
     },
     "execution_count": 18,
     "metadata": {},
     "output_type": "execute_result"
    }
   ],
   "source": [
    "loan_emi(1260000, 8*12, 0.1/12, 50000)"
   ]
  },
  {
   "cell_type": "markdown",
   "id": "96032d7a",
   "metadata": {},
   "source": [
    "Q: Shaun is currently paying back a home loan for a house he bought a few years ago. The cost of the house was $800,000. Shaun made a down payment of 25% of the price. He financed the remaining amount using a 6-year loan with an interest rate of 7% per annum (compounded monthly). Shaun is now buying a car worth $60,000, which he is planning to finance using a 1-year loan with an interest rate of 12% per annum. Both loans are paid back in EMIs. What is the total monthly payment Shaun makes towards loan repayment?"
   ]
  },
  {
   "cell_type": "code",
   "execution_count": 19,
   "id": "4ad9c817",
   "metadata": {},
   "outputs": [
    {
     "data": {
      "text/plain": [
       "10229.403883181738"
      ]
     },
     "execution_count": 19,
     "metadata": {},
     "output_type": "execute_result"
    }
   ],
   "source": [
    "cost_of_house = 800000\n",
    "home_loan_duration = 6*12 # months\n",
    "home_loan_rate = 0.07/12 # monthly\n",
    "home_down_payment = .25 * 800000\n",
    "\n",
    "emi_house = loan_emi(amount=cost_of_house,\n",
    "                     duration=home_loan_duration,\n",
    "                     rate=home_loan_rate, \n",
    "                     down_payment=home_down_payment)\n",
    "\n",
    "emi_house"
   ]
  },
  {
   "cell_type": "code",
   "execution_count": 20,
   "id": "015d6374",
   "metadata": {},
   "outputs": [
    {
     "data": {
      "text/plain": [
       "5330.9273207005"
      ]
     },
     "execution_count": 20,
     "metadata": {},
     "output_type": "execute_result"
    }
   ],
   "source": [
    "cost_of_car = 60000\n",
    "car_loan_duration = 1*12 # months\n",
    "car_loan_rate = .12/12 # monthly\n",
    "\n",
    "emi_car = loan_emi(amount=cost_of_car, \n",
    "                   duration=car_loan_duration, \n",
    "                   rate=car_loan_rate)\n",
    "\n",
    "emi_car"
   ]
  },
  {
   "cell_type": "code",
   "execution_count": 21,
   "id": "7cdb3664",
   "metadata": {},
   "outputs": [
    {
     "name": "stdout",
     "output_type": "stream",
     "text": [
      "Shaun makes a total monthly payment of $15560.331203882237 towards loan repayments.\n"
     ]
    }
   ],
   "source": [
    "print(\"Shaun makes a total monthly payment of ${} towards loan repayments.\".format(emi_house+emi_car))"
   ]
  },
  {
   "cell_type": "code",
   "execution_count": null,
   "id": "1b3d3bfd",
   "metadata": {},
   "outputs": [],
   "source": []
  }
 ],
 "metadata": {
  "kernelspec": {
   "display_name": "Python 3 (ipykernel)",
   "language": "python",
   "name": "python3"
  },
  "language_info": {
   "codemirror_mode": {
    "name": "ipython",
    "version": 3
   },
   "file_extension": ".py",
   "mimetype": "text/x-python",
   "name": "python",
   "nbconvert_exporter": "python",
   "pygments_lexer": "ipython3",
   "version": "3.9.12"
  }
 },
 "nbformat": 4,
 "nbformat_minor": 5
}
