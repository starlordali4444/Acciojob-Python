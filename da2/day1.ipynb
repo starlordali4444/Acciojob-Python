{
 "cells": [
  {
   "cell_type": "markdown",
   "metadata": {},
   "source": [
    "    Interpreted\n",
    "    Easy\n",
    "    Opensource\n",
    "    High Level\n",
    "    Interactive\n",
    "    32 Keywords\n",
    "    Dynamic - Implicit Data Declaration\n",
    "    Broad Domain\n",
    "        Web Development\n",
    "        Game Development\n",
    "    Rich Libraries\n",
    "        Pandas\n",
    "        Numpy\n",
    "        Matplotlib\n",
    "        Seaborn\n",
    "        Tensorflow\n",
    "        etc\n",
    "    Indentation"
   ]
  },
  {
   "cell_type": "markdown",
   "metadata": {},
   "source": [
    "    IDE\n",
    "        Jupyter\n",
    "        Anaconda\n",
    "        VS Code\n",
    "        Pycharm\n",
    "        VIM\n",
    "        Atom\n",
    "        Sublime"
   ]
  },
  {
   "cell_type": "markdown",
   "metadata": {},
   "source": [
    "        Version\n",
    "            Python2\n",
    "            Python3\n",
    "                3.11.4"
   ]
  },
  {
   "cell_type": "markdown",
   "metadata": {},
   "source": [
    "    Developed in Python\n",
    "        Netflix\n",
    "        \n",
    "    Big Data\n",
    "        Volumne\n",
    "\n",
    "    Batch Data\n",
    "    Streaming Data"
   ]
  },
  {
   "cell_type": "markdown",
   "metadata": {},
   "source": [
    "    R\n",
    "    Scala\n",
    "    SAS\n",
    "    Python"
   ]
  },
  {
   "cell_type": "markdown",
   "metadata": {},
   "source": [
    "    Kafka\n",
    "    Hadoop\n",
    "    Spark\n",
    "\n",
    "    Python + Spark = pyspark + SQL\n",
    "    "
   ]
  },
  {
   "cell_type": "markdown",
   "metadata": {},
   "source": [
    "    We need python\n",
    "\n",
    "    File Extention\n",
    "        .py\n",
    "    \n",
    "    .ipynb - Jupyter Notebook"
   ]
  },
  {
   "cell_type": "markdown",
   "metadata": {},
   "source": [
    "    Loop\n",
    "    If statements\n",
    "    Function\n",
    "    Class\n",
    "    "
   ]
  },
  {
   "cell_type": "markdown",
   "metadata": {},
   "source": [
    "    Class 12A\n",
    "        Stu1\n",
    "        Stud2\n",
    "        Stud3\n",
    "    Class 12B\n",
    "    Class 12C"
   ]
  },
  {
   "cell_type": "markdown",
   "metadata": {},
   "source": [
    "    Python Core\n",
    "        Variable & Constant\n",
    "            Data Type\n",
    "                Primary\n",
    "                    Boolean\n",
    "                    int\n",
    "                    string\n",
    "                    float\n",
    "                Secondary\n",
    "                    List\n",
    "                    Tuple\n",
    "                    Array\n",
    "                    Dictionary\n",
    "                    Set\n",
    "        Operators\n",
    "            Arithematic\n",
    "            Logical\n",
    "            Comparison\n",
    "        Conditional Statements\n",
    "            Simple If\n",
    "            If - Else\n",
    "            Simple Elif \n",
    "            Elif ladder\n",
    "            Nested If            \n",
    "        Control Statements\n",
    "            While\n",
    "            For\n",
    "        Control Flow Statments\n",
    "            Break\n",
    "            Continue\n",
    "        Functions\n",
    "            Builtin\n",
    "                String Function\n",
    "                Statistical Function\n",
    "                Mathmatical Functions\n",
    "            User - Defined\n",
    "                Function Argument Return Type\n",
    "        Classes & Objects\n",
    "        Exception Handling\n",
    "        File Handling \n",
    "    Data Ingestion / Data Transformation\n",
    "        Pandas\n",
    "            Group by\n",
    "            Joins\n",
    "            Union\n",
    "            Window Function\n",
    "            SubQuery /CTE\n",
    "        Numpy\n",
    "    Data Visualization \n",
    "        Matplotlib\n",
    "        Seaborn\n",
    "        ggplot2\n",
    "    Machine Learning\n",
    "        \n"
   ]
  },
  {
   "cell_type": "markdown",
   "metadata": {},
   "source": [
    "    pip"
   ]
  }
 ],
 "metadata": {
  "language_info": {
   "name": "python"
  },
  "orig_nbformat": 4
 },
 "nbformat": 4,
 "nbformat_minor": 2
}
