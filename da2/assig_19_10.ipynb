{
 "cells": [
  {
   "cell_type": "markdown",
   "metadata": {},
   "source": [
    "    Removing Empty Tuples from a List in Python\n",
    "    You are given a list of tuples as input. Write a Python program to remove empty tuples from the given list of tuples and display the resulting list.\n",
    "\n",
    "    Input Format\n",
    "    The first line contains an integer N, representing the number of tuples in the list.\n",
    "\n",
    "    The next N lines contain space-separated strings, representing the elements of each tuple.\n",
    "\n",
    "    Output Format\n",
    "    Print the resulting list after removing the empty tuples.\n",
    "\n",
    "    Example 1\n",
    "    Input\n",
    "\n",
    "    7\n",
    "    () ('ram','15','8') () ('laxman','sita') ('krishna','akbar','45') ('','') ()\n",
    "    Output\n",
    "\n",
    "    [('ram', '15', '8'), ('laxman', 'sita'), ('krishna', 'akbar', '45'), ('', '')]"
   ]
  },
  {
   "cell_type": "code",
   "execution_count": 66,
   "metadata": {},
   "outputs": [
    {
     "name": "stdout",
     "output_type": "stream",
     "text": [
      "('()', \"('ram','15','8')\", '()', \"('laxman','sita')\", \"('krishna','akbar','45')\", \"('','')\", '()')\n"
     ]
    }
   ],
   "source": [
    "N = int(input())  # Read the number of tuples\n",
    "tuples = []\n",
    "\n",
    "for _ in range(N):\n",
    "    tuple_elements = input().split()  # Read the elements of the tuple\n",
    "    tuples.append(tuple(tuple_elements))  # Convert to tuple and append to the list\n",
    "\n",
    "result = [t for t in tuples if t]  # Remove empty tuples using list comprehension\n",
    "\n",
    "for t in result:\n",
    "    print(t)"
   ]
  },
  {
   "cell_type": "code",
   "execution_count": 20,
   "metadata": {},
   "outputs": [],
   "source": []
  },
  {
   "cell_type": "code",
   "execution_count": 21,
   "metadata": {},
   "outputs": [],
   "source": []
  },
  {
   "cell_type": "code",
   "execution_count": 19,
   "metadata": {},
   "outputs": [
    {
     "data": {
      "text/plain": [
       "[\"('ram','15','8')\",\n",
       " \"('laxman','sita')\",\n",
       " \"('krishna','akbar','45')\",\n",
       " \"('','')\"]"
      ]
     },
     "execution_count": 19,
     "metadata": {},
     "output_type": "execute_result"
    }
   ],
   "source": [
    "N=int(input())\n",
    "tuple_list=input().split()\n",
    "out_list=[]\n",
    "for i in tuple_list:\n",
    "    if i!='()':\n",
    "        out_list.append(i)\n",
    "out_list\n",
    "        "
   ]
  },
  {
   "cell_type": "code",
   "execution_count": 23,
   "metadata": {},
   "outputs": [],
   "source": [
    "s=[\n",
    "    [1,2,3],[4,5,6]\n",
    "]"
   ]
  },
  {
   "cell_type": "code",
   "execution_count": 24,
   "metadata": {},
   "outputs": [
    {
     "data": {
      "text/plain": [
       "1"
      ]
     },
     "execution_count": 24,
     "metadata": {},
     "output_type": "execute_result"
    }
   ],
   "source": [
    "s[0][0]"
   ]
  },
  {
   "cell_type": "code",
   "execution_count": 26,
   "metadata": {},
   "outputs": [],
   "source": [
    "updated_t_list=list(map(tuple,tuple_list))"
   ]
  },
  {
   "cell_type": "code",
   "execution_count": 27,
   "metadata": {},
   "outputs": [
    {
     "name": "stdout",
     "output_type": "stream",
     "text": [
      "('(', ')') <class 'tuple'>\n",
      "('(', \"'\", 'r', 'a', 'm', \"'\", ',', \"'\", '1', '5', \"'\", ',', \"'\", '8', \"'\", ')') <class 'tuple'>\n",
      "('(', ')') <class 'tuple'>\n",
      "('(', \"'\", 'l', 'a', 'x', 'm', 'a', 'n', \"'\", ',', \"'\", 's', 'i', 't', 'a', \"'\", ')') <class 'tuple'>\n",
      "('(', \"'\", 'k', 'r', 'i', 's', 'h', 'n', 'a', \"'\", ',', \"'\", 'a', 'k', 'b', 'a', 'r', \"'\", ',', \"'\", '4', '5', \"'\", ')') <class 'tuple'>\n",
      "('(', \"'\", \"'\", ',', \"'\", \"'\", ')') <class 'tuple'>\n",
      "('(', ')') <class 'tuple'>\n"
     ]
    }
   ],
   "source": [
    "for i in updated_t_list:\n",
    "    print(i,type(i))"
   ]
  },
  {
   "cell_type": "code",
   "execution_count": 40,
   "metadata": {},
   "outputs": [],
   "source": [
    "new_tu=[]\n",
    "for i in tuple_list:\n",
    "    new_tu.append(tuple(i[1:-1].replace(\"'\",\"\").split(',')))"
   ]
  },
  {
   "cell_type": "code",
   "execution_count": 43,
   "metadata": {},
   "outputs": [],
   "source": [
    "new_tu.append(tuple())"
   ]
  },
  {
   "cell_type": "code",
   "execution_count": 65,
   "metadata": {},
   "outputs": [
    {
     "name": "stdout",
     "output_type": "stream",
     "text": [
      "('',)\n",
      "('ram', '15', '8')\n",
      "ram\n",
      "15\n",
      "8\n",
      "('',)\n",
      "('laxman', 'sita')\n",
      "laxman\n",
      "sita\n",
      "('krishna', 'akbar', '45')\n",
      "krishna\n",
      "akbar\n",
      "45\n",
      "('', '')\n",
      "('',)\n",
      "()\n"
     ]
    }
   ],
   "source": [
    "for i in new_tu:    \n",
    "    print(i)  \n",
    "    for j in i:\n",
    "        if j=='':\n",
    "            break\n",
    "        else:\n",
    "            print(j)\n",
    "            "
   ]
  },
  {
   "cell_type": "code",
   "execution_count": 13,
   "metadata": {},
   "outputs": [
    {
     "data": {
      "text/plain": [
       "['()',\n",
       " \"('ram',\",\n",
       " \"'15',\",\n",
       " \"'8')\",\n",
       " '()',\n",
       " \"('laxman',\",\n",
       " \"'sita')\",\n",
       " \"('krishna',\",\n",
       " \"'akbar',\",\n",
       " \"'45')\",\n",
       " \"('','')\",\n",
       " '()']"
      ]
     },
     "execution_count": 13,
     "metadata": {},
     "output_type": "execute_result"
    }
   ],
   "source": [
    "tuple_list"
   ]
  }
 ],
 "metadata": {
  "kernelspec": {
   "display_name": "Python 3",
   "language": "python",
   "name": "python3"
  },
  "language_info": {
   "codemirror_mode": {
    "name": "ipython",
    "version": 3
   },
   "file_extension": ".py",
   "mimetype": "text/x-python",
   "name": "python",
   "nbconvert_exporter": "python",
   "pygments_lexer": "ipython3",
   "version": "3.11.1"
  }
 },
 "nbformat": 4,
 "nbformat_minor": 2
}
