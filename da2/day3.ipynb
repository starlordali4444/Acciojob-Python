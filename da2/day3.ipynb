{
 "cells": [
  {
   "cell_type": "code",
   "execution_count": 12,
   "metadata": {},
   "outputs": [
    {
     "data": {
      "text/plain": [
       "5"
      ]
     },
     "execution_count": 12,
     "metadata": {},
     "output_type": "execute_result"
    }
   ],
   "source": [
    "x=5\n",
    "x"
   ]
  },
  {
   "cell_type": "code",
   "execution_count": 13,
   "metadata": {},
   "outputs": [
    {
     "data": {
      "text/plain": [
       "6"
      ]
     },
     "execution_count": 13,
     "metadata": {},
     "output_type": "execute_result"
    }
   ],
   "source": [
    "x=x+1\n",
    "x"
   ]
  },
  {
   "cell_type": "markdown",
   "metadata": {},
   "source": [
    "    shorthand increment/decrement"
   ]
  },
  {
   "cell_type": "code",
   "execution_count": 16,
   "metadata": {},
   "outputs": [],
   "source": [
    "x+=1\n",
    "x=x+1"
   ]
  },
  {
   "cell_type": "code",
   "execution_count": 15,
   "metadata": {},
   "outputs": [
    {
     "data": {
      "text/plain": [
       "7"
      ]
     },
     "execution_count": 15,
     "metadata": {},
     "output_type": "execute_result"
    }
   ],
   "source": [
    "x"
   ]
  },
  {
   "cell_type": "markdown",
   "metadata": {},
   "source": [
    "    I have a variable y value of y is 10 i want to decrement by 2 using shorthand"
   ]
  },
  {
   "cell_type": "code",
   "execution_count": 17,
   "metadata": {},
   "outputs": [
    {
     "data": {
      "text/plain": [
       "10"
      ]
     },
     "execution_count": 17,
     "metadata": {},
     "output_type": "execute_result"
    }
   ],
   "source": [
    "y=10\n",
    "y"
   ]
  },
  {
   "cell_type": "code",
   "execution_count": 18,
   "metadata": {},
   "outputs": [],
   "source": [
    "y-=2"
   ]
  },
  {
   "cell_type": "code",
   "execution_count": 19,
   "metadata": {},
   "outputs": [
    {
     "data": {
      "text/plain": [
       "8"
      ]
     },
     "execution_count": 19,
     "metadata": {},
     "output_type": "execute_result"
    }
   ],
   "source": [
    "y"
   ]
  },
  {
   "cell_type": "markdown",
   "metadata": {},
   "source": [
    "    write a python program using while loop make a simple calculator which calculate addition,mul,division,subtraction and give output based on user requirement"
   ]
  },
  {
   "cell_type": "markdown",
   "metadata": {},
   "source": [
    "\n",
    "    while <condition> :"
   ]
  },
  {
   "cell_type": "code",
   "execution_count": 34,
   "metadata": {},
   "outputs": [
    {
     "name": "stdout",
     "output_type": "stream",
     "text": [
      "Welcome to Simple Calculator !!\n",
      "Select Options:-\n",
      "1. Addition\n",
      "2. Subtraction\n",
      "3. Multiplication\n",
      "4. Division\n",
      "5. Modulos\n",
      "6. Quit\n",
      "the result is 36.0\n",
      "Welcome to Simple Calculator !!\n",
      "Select Options:-\n",
      "1. Addition\n",
      "2. Subtraction\n",
      "3. Multiplication\n",
      "4. Division\n",
      "5. Modulos\n",
      "6. Quit\n",
      "Thank you for using Simple Calculator\n"
     ]
    }
   ],
   "source": [
    "while True:    \n",
    "    print(\"Welcome to Simple Calculator !!\")\n",
    "    print('Select Options:-')\n",
    "    print('1. Addition')\n",
    "    print('2. Subtraction')\n",
    "    print('3. Multiplication')\n",
    "    print('4. Division')\n",
    "    print('5. Modulos')\n",
    "    print('6. Quit')\n",
    "\n",
    "    opr=input('Enter operation :- ')        \n",
    "\n",
    "    if opr=='6':\n",
    "        print('Thank you for using Simple Calculator')\n",
    "        break\n",
    "    \n",
    "    no1=float(input('Enter First No :- '))\n",
    "    no2=float(input('Enter Second No :- '))\n",
    "        \n",
    "    if opr=='1':\n",
    "        print('The result is',no1+no2)\n",
    "    elif opr=='2':\n",
    "        print ('The result is ', no1-no2 )  \n",
    "    elif opr=='3':\n",
    "        print ( 'the result is' , no1*no2 )   \n",
    "    elif opr=='4':\n",
    "        print( \"the division of the given numbers is\", no1/no2 )    \n",
    "    elif opr=='5':\n",
    "        print(\"the remainder after dividing \",no1,\"by\" ,no2,\"is\",no1%no2)\n",
    "    else:\n",
    "        print (\"Invalid input\")"
   ]
  },
  {
   "cell_type": "markdown",
   "metadata": {},
   "source": [
    "    range(start_value,end_value,step)\n",
    "        step = 1\n",
    "    range(5) end_value\n",
    "    range(0,5,1)\n",
    "    range(0,0+1,1)"
   ]
  },
  {
   "cell_type": "code",
   "execution_count": 35,
   "metadata": {},
   "outputs": [
    {
     "name": "stdout",
     "output_type": "stream",
     "text": [
      "0\n",
      "1\n",
      "2\n",
      "3\n",
      "4\n"
     ]
    }
   ],
   "source": [
    "no=5\n",
    "for i in range(no):\n",
    "    print(i)\n",
    "    no+=1"
   ]
  },
  {
   "cell_type": "markdown",
   "metadata": {},
   "source": [
    "    Exception Handling\n",
    "    "
   ]
  },
  {
   "cell_type": "markdown",
   "metadata": {},
   "source": [
    "    try:\n",
    "        <where i can expect error >\n",
    "    except <Exception or error >:\n",
    "        print('Dont give Zero value for division')\n",
    "    except <Exception or error >:\n",
    "        print('Please provide numerical value')\n",
    "    else:\n",
    "        print('Some Error Occurred')\n",
    "    finally:\n",
    "        print('Welcome')"
   ]
  },
  {
   "cell_type": "code",
   "execution_count": 38,
   "metadata": {},
   "outputs": [
    {
     "ename": "ZeroDivisionError",
     "evalue": "division by zero",
     "output_type": "error",
     "traceback": [
      "\u001b[1;31m---------------------------------------------------------------------------\u001b[0m",
      "\u001b[1;31mZeroDivisionError\u001b[0m                         Traceback (most recent call last)",
      "\u001b[1;32ma:\\OneDrive\\work\\acciojob\\python\\da2\\day3.ipynb Cell 16\u001b[0m line \u001b[0;36m1\n\u001b[1;32m----> <a href='vscode-notebook-cell:/a%3A/OneDrive/work/acciojob/python/da2/day3.ipynb#X24sZmlsZQ%3D%3D?line=0'>1</a>\u001b[0m \u001b[39m5\u001b[39;49m\u001b[39m/\u001b[39;49m\u001b[39m0\u001b[39;49m\n\u001b[0;32m      <a href='vscode-notebook-cell:/a%3A/OneDrive/work/acciojob/python/da2/day3.ipynb#X24sZmlsZQ%3D%3D?line=1'>2</a>\u001b[0m \u001b[39mprint\u001b[39m(\u001b[39m'\u001b[39m\u001b[39mhello\u001b[39m\u001b[39m'\u001b[39m)\n",
      "\u001b[1;31mZeroDivisionError\u001b[0m: division by zero"
     ]
    }
   ],
   "source": [
    "5/0\n",
    "print('hello')"
   ]
  },
  {
   "cell_type": "code",
   "execution_count": 39,
   "metadata": {},
   "outputs": [
    {
     "ename": "SyntaxError",
     "evalue": "expected ':' (1348805435.py, line 1)",
     "output_type": "error",
     "traceback": [
      "\u001b[1;36m  Cell \u001b[1;32mIn[39], line 1\u001b[1;36m\u001b[0m\n\u001b[1;33m    if 1==1\u001b[0m\n\u001b[1;37m           ^\u001b[0m\n\u001b[1;31mSyntaxError\u001b[0m\u001b[1;31m:\u001b[0m expected ':'\n"
     ]
    }
   ],
   "source": [
    "if 1==1\n",
    "    print"
   ]
  },
  {
   "cell_type": "code",
   "execution_count": 37,
   "metadata": {},
   "outputs": [
    {
     "ename": "ValueError",
     "evalue": "invalid literal for int() with base 10: 's'",
     "output_type": "error",
     "traceback": [
      "\u001b[1;31m---------------------------------------------------------------------------\u001b[0m",
      "\u001b[1;31mValueError\u001b[0m                                Traceback (most recent call last)",
      "\u001b[1;32ma:\\OneDrive\\work\\acciojob\\python\\da2\\day3.ipynb Cell 17\u001b[0m line \u001b[0;36m1\n\u001b[1;32m----> <a href='vscode-notebook-cell:/a%3A/OneDrive/work/acciojob/python/da2/day3.ipynb#X25sZmlsZQ%3D%3D?line=0'>1</a>\u001b[0m \u001b[39mint\u001b[39;49m(\u001b[39minput\u001b[39;49m())\n",
      "\u001b[1;31mValueError\u001b[0m: invalid literal for int() with base 10: 's'"
     ]
    }
   ],
   "source": [
    "int(input())"
   ]
  },
  {
   "cell_type": "markdown",
   "metadata": {},
   "source": [
    "    Interpreted - code will execute line by line\n",
    "    Compiled - code will execute in one go"
   ]
  },
  {
   "cell_type": "code",
   "execution_count": 48,
   "metadata": {},
   "outputs": [
    {
     "name": "stdout",
     "output_type": "stream",
     "text": [
      "An Error Occured  division by zero\n",
      "Code Executed Successfully\n"
     ]
    }
   ],
   "source": [
    "try:\n",
    "    no1= int(input())\n",
    "    no2= int(input())\n",
    "    print(no1/no2)\n",
    "# except ZeroDivisionError:\n",
    "#     print(\"Cannot divide by zero\")\n",
    "# except ValueError:\n",
    "#     print(\"Proviod Integer values only\")\n",
    "except Exception as e:\n",
    "    print('An Error Occured ',e)\n",
    "finally:\n",
    "    print('Code Executed Successfully')"
   ]
  },
  {
   "cell_type": "markdown",
   "metadata": {},
   "source": [
    "    *\n",
    "    **\n",
    "    ***\n",
    "    ****\n",
    "    *****\n",
    "\n",
    "    *****\n",
    "    ****\n",
    "    ***\n",
    "    **\n",
    "    *\n",
    "\n",
    "        *\n",
    "       * *\n",
    "      * * *\n",
    "     * * * *\n",
    "    * * * * *\n"
   ]
  },
  {
   "cell_type": "code",
   "execution_count": 56,
   "metadata": {},
   "outputs": [
    {
     "name": "stdout",
     "output_type": "stream",
     "text": [
      "i =  0\n",
      "j - 0\n",
      "j - 1\n",
      "j - 2\n",
      "j - 3\n",
      "j - 4\n",
      "========================================\n",
      "i =  1\n",
      "j - 0\n",
      "j - 1\n",
      "j - 2\n",
      "j - 3\n",
      "j - 4\n",
      "========================================\n",
      "i =  2\n",
      "j - 0\n",
      "j - 1\n",
      "j - 2\n",
      "j - 3\n",
      "j - 4\n",
      "========================================\n",
      "i =  3\n",
      "j - 0\n",
      "j - 1\n",
      "j - 2\n",
      "j - 3\n",
      "j - 4\n",
      "========================================\n",
      "i =  4\n",
      "j - 0\n",
      "j - 1\n",
      "j - 2\n",
      "j - 3\n",
      "j - 4\n",
      "========================================\n"
     ]
    }
   ],
   "source": [
    "for i in range(5):\n",
    "    print(\"i = \",i)\n",
    "    for j in range(5):\n",
    "        print(\"j -\",j)\n",
    "    print('========================================')"
   ]
  },
  {
   "cell_type": "markdown",
   "metadata": {},
   "source": []
  },
  {
   "cell_type": "code",
   "execution_count": 75,
   "metadata": {},
   "outputs": [
    {
     "name": "stdout",
     "output_type": "stream",
     "text": [
      "*\n",
      "**\n",
      "***\n",
      "****\n",
      "*****\n"
     ]
    }
   ],
   "source": [
    "for i in range(5):\n",
    "    # print(f'Row {row} ==>  ', end='')\n",
    "    for j in range(i+1):\n",
    "        print('*',end='') # to print inner loop stars in same line\n",
    "    print(end='\\n') # for each inner loops iteration we want to change the line"
   ]
  },
  {
   "cell_type": "markdown",
   "metadata": {},
   "source": [
    "    First value of  i =0\n",
    "        range(0,0+1)"
   ]
  },
  {
   "cell_type": "code",
   "execution_count": 76,
   "metadata": {},
   "outputs": [
    {
     "name": "stdout",
     "output_type": "stream",
     "text": [
      "5\n",
      "4\n",
      "3\n",
      "2\n",
      "1\n"
     ]
    }
   ],
   "source": [
    "for i in range(5,0,-1):\n",
    "    print(i)"
   ]
  },
  {
   "cell_type": "code",
   "execution_count": 79,
   "metadata": {},
   "outputs": [
    {
     "name": "stdout",
     "output_type": "stream",
     "text": [
      "*****\n",
      "****\n",
      "***\n",
      "**\n",
      "*\n"
     ]
    }
   ],
   "source": [
    "for i in range(5,0,-1):\n",
    "    # print(f'Row {row} ==>  ', end='')\n",
    "    for j in range(i):\n",
    "        print('*',end='') # to print inner loop stars in same line\n",
    "    print(end='\\n') # for each inner loops iteration we want to change the line"
   ]
  },
  {
   "cell_type": "code",
   "execution_count": 86,
   "metadata": {},
   "outputs": [
    {
     "name": "stdout",
     "output_type": "stream",
     "text": [
      "    *\n",
      "   **\n",
      "  ***\n",
      " ****\n",
      "*****\n"
     ]
    }
   ],
   "source": [
    "for row in range(5):\n",
    "    # to manage space\n",
    "    for space in range(4-row): # range(0,4-0) 0 1 2 3 \n",
    "        print(\" \",end=\"\")    \n",
    "    # to manage star\n",
    "    for star in range(row+1):\n",
    "        print('*',end='') \n",
    "    print(end='\\n') "
   ]
  },
  {
   "cell_type": "code",
   "execution_count": 87,
   "metadata": {},
   "outputs": [
    {
     "name": "stdout",
     "output_type": "stream",
     "text": [
      "    * \n",
      "   * * \n",
      "  * * * \n",
      " * * * * \n",
      "* * * * * \n"
     ]
    }
   ],
   "source": [
    "for row in range(5):\n",
    "    # to manage space\n",
    "    for space in range(4-row): # range(0,4-0) 0 1 2 3 \n",
    "        print(\" \",end=\"\")    \n",
    "    # to manage star\n",
    "    for star in range(row+1):\n",
    "        print('* ',end='') \n",
    "    print(end='\\n') "
   ]
  },
  {
   "cell_type": "code",
   "execution_count": 88,
   "metadata": {},
   "outputs": [
    {
     "name": "stdout",
     "output_type": "stream",
     "text": [
      "      *\n",
      "     **\n",
      "    ***\n",
      "   ****\n",
      "  *****\n"
     ]
    }
   ],
   "source": [
    "n=5\n",
    "for i in range(n):\n",
    "    print((' '*(n-i+1))+('*')*(i+1))"
   ]
  }
 ],
 "metadata": {
  "kernelspec": {
   "display_name": "Python 3",
   "language": "python",
   "name": "python3"
  },
  "language_info": {
   "codemirror_mode": {
    "name": "ipython",
    "version": 3
   },
   "file_extension": ".py",
   "mimetype": "text/x-python",
   "name": "python",
   "nbconvert_exporter": "python",
   "pygments_lexer": "ipython3",
   "version": "3.11.1"
  },
  "orig_nbformat": 4
 },
 "nbformat": 4,
 "nbformat_minor": 2
}
