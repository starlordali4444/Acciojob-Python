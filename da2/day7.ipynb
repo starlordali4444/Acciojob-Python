{
 "cells": [
  {
   "cell_type": "markdown",
   "metadata": {},
   "source": [
    "    History of the python\n",
    "    Advantages of python\n",
    "\n",
    "\n",
    "    Constants\n",
    "    Variable\n",
    "        Datatypes\n",
    "            Primary\n",
    "                int\n",
    "                float\n",
    "                string\n",
    "                    r string\n",
    "                    f string\n",
    "                bool\n",
    "            Secondary \n",
    "                list\n",
    "                    list comprehension                    \n",
    "                tuple\n",
    "                    tuple comprehension - not possible\n",
    "                array\n",
    "                set\n",
    "                dictionary\n",
    "                    dict comprehension\n",
    "        Immutable\n",
    "            int\n",
    "            tuple\n",
    "            string\n",
    "                lower\n",
    "                upper\n",
    "                isupper\n",
    "                islower\n",
    "                len                \n",
    "            float\n",
    "            bool\n",
    "        Mutable\n",
    "            list             \n",
    "            array\n",
    "\n",
    "            set\n",
    "            dictionary\n",
    "\n",
    "        Indexed Data types\n",
    "            list\n",
    "            array\n",
    "            tuple\n",
    "            string\n",
    "        Mapped Data Type\n",
    "            Dictionary\n",
    "\n",
    "    Operators\n",
    "        Arithmatic\n",
    "        Logical\n",
    "        Comparison\n",
    "\n",
    "    print\n",
    "        escape character\n",
    "        format\n",
    "    input\n",
    "    split\n",
    "\n",
    "    Conditional Statements\n",
    "        Simple If\n",
    "        If -Else\n",
    "        Nested If\n",
    "        Elif Ladder\n",
    "        Tirnary operator - single line if\n",
    "\n",
    "    Control/ Control Flow Statements\n",
    "        Loops\n",
    "            Initialisation\n",
    "            condition\n",
    "            iteration\n",
    "        Type of loops\n",
    "            while - When we are not ware about the no of iterations\n",
    "            for   - When we are aware about the no of iterations\n",
    "        break\n",
    "        continue\n",
    "    shorthand increment decrement\n",
    "        i=i+1 => i+=1\n",
    "    Slicing / Updating\n",
    "        string\n",
    "        list\n",
    "        tuple\n",
    "        dictionary\n",
    "        \n",
    "    Functions\n",
    "        Inbuilt\n",
    "        User defined\n",
    "\n",
    "        On Basis of argument and return type\n",
    "            with argument with return\n",
    "            without argument with return\n",
    "            with argument without return\n",
    "            without argument without return\n",
    "        Types of arguments\n",
    "            positional\n",
    "            key words\n",
    "            default"
   ]
  },
  {
   "cell_type": "code",
   "execution_count": null,
   "metadata": {},
   "outputs": [],
   "source": [
    "emi = loan_amount * rate * ((1+rate)**duration) / (((1+rate)**duration)-1)"
   ]
  },
  {
   "cell_type": "markdown",
   "metadata": {},
   "source": [
    "Radha is planning to buy a house that costs $1,260,000. She considering two options to finance her purchase:\n",
    "\n",
    "Option 1: Make an immediate down payment of $300,000, and take loan 8-year loan with an interest rate of 10% (compounded monthly) for the remaining amount.\n",
    "\n",
    "Option 2: Take a 10-year loan with an interest rate of 8% (compounded monthly) for the entire amount.\n",
    "Both these loans have to be paid back in equal monthly installments (EMIs). Which loan has a lower EMI among the two?\n",
    "\n",
    "Since we need to compare the EMIs for two loan options, defining a function to calculate the EMI for a loan would be a great idea. The inputs to the function would be cost of the house, the down payment, duration of the loan, rate of interest etc. We'll build this function step by step.\n",
    "\n",
    "First, let's write a simple function that calculates the EMI on the entire cost of the house, assuming that the loan must be paid back in one year, and there is no interest or down payment."
   ]
  },
  {
   "cell_type": "code",
   "execution_count": null,
   "metadata": {},
   "outputs": [],
   "source": [
    "def first_emi_option(loan_amount,duration,rate,downpayment):\n",
    "    total_amount = (loan_amount-downpayment)*(1+(rate/12))**(12*duration)\n",
    "    interest = total_amount-(loan_amount-downpayment)\n",
    "    return round(interest,2)    "
   ]
  },
  {
   "cell_type": "code",
   "execution_count": null,
   "metadata": {},
   "outputs": [],
   "source": [
    "def second_emi_option(loan_amount,duration,rate):\n",
    "    total_amount = (loan_amount)*(1+(rate/12))**(12*duration)\n",
    "    interest = total_amount-loan_amount\n",
    "    return round(interest,2) "
   ]
  },
  {
   "cell_type": "code",
   "execution_count": null,
   "metadata": {},
   "outputs": [],
   "source": [
    "loan_amount=5000"
   ]
  },
  {
   "cell_type": "code",
   "execution_count": null,
   "metadata": {},
   "outputs": [],
   "source": [
    "def cal_emi(loan_amount,duration,rate,downpayment=0):    \n",
    "    total_amount = (loan_amount-downpayment)*(1+(rate/12))**(12*duration)\n",
    "    interest = total_amount-(loan_amount-downpayment)\n",
    "    return round(interest,2) \n",
    "    "
   ]
  },
  {
   "cell_type": "code",
   "execution_count": null,
   "metadata": {},
   "outputs": [],
   "source": [
    "print(first_emi_option(1260000,8,0.10,300000),second_emi_option(1260000,10,0.08))\n",
    "print(cal_emi(1260000,8,0.10,300000),cal_emi(1260000,10,0.08))"
   ]
  },
  {
   "cell_type": "code",
   "execution_count": null,
   "metadata": {},
   "outputs": [],
   "source": [
    "print(first_emi_option(float(input('Enter Principle Amount')),8,0.10,300000))"
   ]
  },
  {
   "cell_type": "code",
   "execution_count": null,
   "metadata": {},
   "outputs": [],
   "source": [
    "first_emi_option(duration=8,loan_amount=1260000,rate=0.10,downpayment=300000)"
   ]
  },
  {
   "cell_type": "markdown",
   "metadata": {},
   "source": [
    "    insert into table_name (col1,col2,col3) values(col1_value,col2_value,col3_value)\n",
    "    insert into table_name values(col1_value,col2_value,col3_value)\n",
    "    insert into table_name (col2,col3,col1) values(col2_value,col3_value,col1_value)"
   ]
  },
  {
   "cell_type": "markdown",
   "metadata": {},
   "source": [
    "    create tabel emp(\n",
    "        id int NOT NULL DEFAULT 'Not Available'\n",
    "        <column name> <data type> <contraints>\n",
    "            not null\n",
    "            primary\n",
    "            foreign\n",
    "            check id>15\n",
    "            unique\n",
    "            default NULL\n",
    "\n",
    "    )\n",
    "\n",
    "    create tabel emp(\n",
    "        id int primary,\n",
    "        name varchar (20) DEFAULT 'NA'\n",
    "\n",
    "    )\n",
    "\n",
    "    INSERT INTO EMP values(1)"
   ]
  },
  {
   "cell_type": "markdown",
   "metadata": {},
   "source": [
    "    range(5) 0 1 2 3 4 \n",
    "    range(4) 0 1 2 3\n",
    "    range(1,5) 1 2 3 4\n",
    "    range(start,stop,end)"
   ]
  },
  {
   "cell_type": "code",
   "execution_count": null,
   "metadata": {},
   "outputs": [],
   "source": []
  },
  {
   "cell_type": "code",
   "execution_count": null,
   "metadata": {},
   "outputs": [],
   "source": [
    "n=4\n",
    "for i in range(1,n+1):\n",
    "    for j in range(n-i): # handle the space\n",
    "        print('#',end='')\n",
    "    for k in range(i): # handle the star\n",
    "        print('*',end='')\n",
    "    print()"
   ]
  },
  {
   "cell_type": "markdown",
   "metadata": {},
   "source": [
    "    Functions\n",
    "    Variable Scope\n",
    "        Local => Rintu\n",
    "        Global => Shouvik"
   ]
  },
  {
   "cell_type": "markdown",
   "metadata": {},
   "source": [
    "    Function with immutable parameter"
   ]
  },
  {
   "cell_type": "code",
   "execution_count": null,
   "metadata": {},
   "outputs": [],
   "source": [
    "no=5\n",
    "\n",
    "def add(no):\n",
    "    print('No within function',no)\n",
    "    no=no+5\n",
    "    print('No within function after changing the value',no)\n",
    "    return no\n",
    "\n",
    "print('No outside the function ',no)\n",
    "num=add(no)\n",
    "no=no+7\n",
    "print('Returned Value',num)\n",
    "print('No outside the function after calling the funciton ',no)"
   ]
  },
  {
   "cell_type": "markdown",
   "metadata": {},
   "source": [
    "    Function with Mutable parameter"
   ]
  },
  {
   "cell_type": "code",
   "execution_count": null,
   "metadata": {},
   "outputs": [],
   "source": [
    "list=[i for i in range(1,6)]\n",
    "list"
   ]
  },
  {
   "cell_type": "code",
   "execution_count": null,
   "metadata": {},
   "outputs": [],
   "source": [
    "list=[i for i in range(1,6)]\n",
    "list\n",
    "def change_elments(data):\n",
    "    print('data before change',data)\n",
    "    data[0]='this element is changed'\n",
    "    print('data after change',data)\n",
    "    \n",
    "print('list before function call',list)\n",
    "change_elments(list)\n",
    "print('list after function call',list)"
   ]
  },
  {
   "cell_type": "markdown",
   "metadata": {},
   "source": [
    "    set \n",
    "    dictionary"
   ]
  },
  {
   "cell_type": "markdown",
   "metadata": {},
   "source": [
    "    list before function call [1, 2, 3, 4, 5]\n",
    "    data before change [1, 2, 3, 4, 5]\n",
    "    data after change ['this element is changed', 2, 3, 4, 5]\n",
    "    list after function call [1, 2, 3, 4, 5]"
   ]
  },
  {
   "cell_type": "markdown",
   "metadata": {},
   "source": [
    "    Data type we are passing\n",
    "        First \n",
    "            int\n",
    "            immutable\n",
    "        Second \n",
    "            list\n",
    "            mutable"
   ]
  },
  {
   "cell_type": "markdown",
   "metadata": {},
   "source": [
    "    Calling methods\n",
    "        call by value  - we pass the copy of the data - immutable\n",
    "        call by reference - we pass exact data - mutable"
   ]
  }
 ],
 "metadata": {
  "kernelspec": {
   "display_name": "Python 3",
   "language": "python",
   "name": "python3"
  },
  "language_info": {
   "codemirror_mode": {
    "name": "ipython",
    "version": 3
   },
   "file_extension": ".py",
   "mimetype": "text/x-python",
   "name": "python",
   "nbconvert_exporter": "python",
   "pygments_lexer": "ipython3",
   "version": "3.11.1"
  }
 },
 "nbformat": 4,
 "nbformat_minor": 2
}
